{
 "cells": [
  {
   "cell_type": "markdown",
   "metadata": {},
   "source": [
    "# CHI-31: Freetext Clustering Proof of Concept\n",
    "\n",
    "**Goal:** FreeTextAnalysis – some visualization of free text fields like ‘other comorbidities’, either by clustering or mapping to a category e.g. ICD code \n",
    "\n",
    "**Background**: Currently researchers have no visibility of free text fields. ICD code maybe longer term, more complex because ICD codes are tiered and some categories may not map well. A simple clustering approach is a better first bet\n",
    "\n",
    "**Value:** Surface to researchers the data contained in their free text fields, notably ‘other combordities’ or similar\n",
    "\n",
    "**Deliverables:** POC demo in feature branch, video sent to Esteban & Co for feedback\n",
    "\n",
    "**Stakeholders:** Esteban, Laura Merson\n",
    "\n",
    "**Blockers:** None, should go for something computationally simple and cheap in the first instance\n",
    "\n",
    "**Opportunities:**\n",
    "\n",
    "Notes:\n",
    "\n",
    "Omid lots of good ideas here:\n",
    "\n",
    "- Use BERTopic as resource to do clustering\n",
    "- Good framework level tool - we could potentially drop in Omid’s compact bert based models\n",
    "- could be an easy win for ISARIC - compact enough that we don’t need to hit an API or download a big model\n",
    "- if we then want to name the clusters that might be a heavier task, but no asbolute requirement for this in conversations with ISARIC to date\n",
    "\n",
    "\n",
    "## Plan\n",
    "1. Get dataset of short, clinical free text to experiment with\n",
    "2. Compile BERTopic modelling pipeline including:\n",
    "    * Omid lightweight clinical LLMs for encoding \n",
    "    * probably BERTopic defaults for other modular components\n",
    "3. Test on example dataset\n",
    "    * cluster free text\n",
    "    * visualize similar to how it might look on dashboard\n",
    "    * (probably don't integrate into Vertex due to data not appearing in example df - but I could stitch something in to maintain the cohesion of demos)"
   ]
  },
  {
   "cell_type": "code",
   "execution_count": 1,
   "metadata": {},
   "outputs": [
    {
     "name": "stderr",
     "output_type": "stream",
     "text": [
      "/home/worc6607/Projects/VERTEX-AI/.venv/lib/python3.10/site-packages/tqdm/auto.py:21: TqdmWarning: IProgress not found. Please update jupyter and ipywidgets. See https://ipywidgets.readthedocs.io/en/stable/user_install.html\n",
      "  from .autonotebook import tqdm as notebook_tqdm\n"
     ]
    }
   ],
   "source": [
    "import os\n",
    "import pandas as pd\n",
    "import numpy as np\n",
    "from transformers import AutoTokenizer, AutoModel, Pipeline\n",
    "import torch.nn.functional as F\n",
    "from typing import List, Union, Dict, Tuple"
   ]
  },
  {
   "cell_type": "code",
   "execution_count": null,
   "metadata": {},
   "outputs": [],
   "source": []
  },
  {
   "cell_type": "markdown",
   "metadata": {},
   "source": [
    "## 1. Example dataset\n",
    "\n",
    "Try MIMIC-IV demo dataset at https://physionet.org/content/mimic-iv-demo/2.2/\n",
    "\n",
    "Or ISARIC data sent from Omid - 'terms_training' unspecified, possibly cancer related? Better to use ICN publicly available"
   ]
  },
  {
   "cell_type": "code",
   "execution_count": 2,
   "metadata": {},
   "outputs": [
    {
     "data": {
      "text/html": [
       "<div>\n",
       "<style scoped>\n",
       "    .dataframe tbody tr th:only-of-type {\n",
       "        vertical-align: middle;\n",
       "    }\n",
       "\n",
       "    .dataframe tbody tr th {\n",
       "        vertical-align: top;\n",
       "    }\n",
       "\n",
       "    .dataframe thead th {\n",
       "        text-align: right;\n",
       "    }\n",
       "</style>\n",
       "<table border=\"1\" class=\"dataframe\">\n",
       "  <thead>\n",
       "    <tr style=\"text-align: right;\">\n",
       "      <th></th>\n",
       "      <th>FREE-TEXT TERM</th>\n",
       "      <th>CONTROLLED TERMS</th>\n",
       "    </tr>\n",
       "  </thead>\n",
       "  <tbody>\n",
       "    <tr>\n",
       "      <th>0</th>\n",
       "      <td>ppm insertion</td>\n",
       "      <td>NaN</td>\n",
       "    </tr>\n",
       "    <tr>\n",
       "      <th>1</th>\n",
       "      <td>c. diff</td>\n",
       "      <td>NaN</td>\n",
       "    </tr>\n",
       "    <tr>\n",
       "      <th>2</th>\n",
       "      <td>diseases of the respiratory system</td>\n",
       "      <td>NaN</td>\n",
       "    </tr>\n",
       "    <tr>\n",
       "      <th>3</th>\n",
       "      <td>under investigation for jerky movements at she...</td>\n",
       "      <td>NaN</td>\n",
       "    </tr>\n",
       "    <tr>\n",
       "      <th>4</th>\n",
       "      <td>cva hypothyrodism</td>\n",
       "      <td>NaN</td>\n",
       "    </tr>\n",
       "    <tr>\n",
       "      <th>...</th>\n",
       "      <td>...</td>\n",
       "      <td>...</td>\n",
       "    </tr>\n",
       "    <tr>\n",
       "      <th>5535</th>\n",
       "      <td>mestatic pancoast   tumor identified on ct</td>\n",
       "      <td>malignant neoplasm</td>\n",
       "    </tr>\n",
       "    <tr>\n",
       "      <th>5536</th>\n",
       "      <td>known aml</td>\n",
       "      <td>malignant neoplasm</td>\n",
       "    </tr>\n",
       "    <tr>\n",
       "      <th>5537</th>\n",
       "      <td>new lung cancer diagnosis</td>\n",
       "      <td>malignant neoplasm</td>\n",
       "    </tr>\n",
       "    <tr>\n",
       "      <th>5538</th>\n",
       "      <td>metastatic breast ca</td>\n",
       "      <td>malignant neoplasm</td>\n",
       "    </tr>\n",
       "    <tr>\n",
       "      <th>5539</th>\n",
       "      <td>acute lymphoblastic leukemia</td>\n",
       "      <td>malignant neoplasm</td>\n",
       "    </tr>\n",
       "  </tbody>\n",
       "</table>\n",
       "<p>5540 rows × 2 columns</p>\n",
       "</div>"
      ],
      "text/plain": [
       "                                         FREE-TEXT TERM    CONTROLLED TERMS\n",
       "0                                         ppm insertion                 NaN\n",
       "1                                               c. diff                 NaN\n",
       "2                    diseases of the respiratory system                 NaN\n",
       "3     under investigation for jerky movements at she...                 NaN\n",
       "4                                     cva hypothyrodism                 NaN\n",
       "...                                                 ...                 ...\n",
       "5535         mestatic pancoast   tumor identified on ct  malignant neoplasm\n",
       "5536                                          known aml  malignant neoplasm\n",
       "5537                          new lung cancer diagnosis  malignant neoplasm\n",
       "5538                               metastatic breast ca  malignant neoplasm\n",
       "5539                       acute lymphoblastic leukemia  malignant neoplasm\n",
       "\n",
       "[5540 rows x 2 columns]"
      ]
     },
     "execution_count": 2,
     "metadata": {},
     "output_type": "execute_result"
    }
   ],
   "source": [
    "# Download the ICN dataset to local from the following URL: \n",
    "# https://github.com/nlpie-research/Lightweight-Clinical-Transformers/blob/main/ICN/ISARIC%20Anonymised%20Clinical%20Terms%209AUG23.xlsx\n",
    "icn_url = \"https://github.com/nlpie-research/Lightweight-Clinical-Transformers/blob/main/ICN/ISARIC%20Anonymised%20Clinical%20Terms%209AUG23.xlsx?raw=true\"\n",
    "data_df = pd.read_excel(icn_url)\n",
    "data_df"
   ]
  },
  {
   "cell_type": "code",
   "execution_count": 3,
   "metadata": {},
   "outputs": [],
   "source": [
    "# # data_dir = \"../data/physionet.org/files/mimic-iv-demo/2.2/\"\n",
    "# data_dir = \"../data/omid_isaric/\"\n",
    "# # # try with diganoses tablae - descriptions of ICD categories\n",
    "# # filepath = \"hosp/d_icd_diagnoses.csv\"\n",
    "# filepath = \"terms_training.csv\"\n",
    "\n",
    "# # might be able to check validity of clusters later by looking at ICD super category?"
   ]
  },
  {
   "cell_type": "code",
   "execution_count": 4,
   "metadata": {},
   "outputs": [],
   "source": [
    "# d_icd_diagnoses_df = pd.read_csv(os.path.join(data_dir, filepath))\n",
    "# data_df = pd.read_csv(os.path.join(data_dir, filepath))"
   ]
  },
  {
   "cell_type": "code",
   "execution_count": 5,
   "metadata": {},
   "outputs": [
    {
     "data": {
      "text/plain": [
       "FREE-TEXT TERM      object\n",
       "CONTROLLED TERMS    object\n",
       "dtype: object"
      ]
     },
     "execution_count": 5,
     "metadata": {},
     "output_type": "execute_result"
    }
   ],
   "source": [
    "data_df.dtypes"
   ]
  },
  {
   "cell_type": "markdown",
   "metadata": {},
   "source": [
    "## 2. BERTopic modelling pipeline"
   ]
  },
  {
   "cell_type": "code",
   "execution_count": 6,
   "metadata": {},
   "outputs": [],
   "source": [
    "from bertopic import BERTopic\n",
    "from bertopic.representation import KeyBERTInspired, TextGeneration, MaximalMarginalRelevance\n",
    "from transformers.pipelines import pipeline\n",
    "import torch\n",
    "from typing import Tuple\n",
    "from flair.embeddings import TransformerDocumentEmbeddings"
   ]
  },
  {
   "cell_type": "code",
   "execution_count": 7,
   "metadata": {},
   "outputs": [
    {
     "data": {
      "text/html": [
       "<div>\n",
       "<style scoped>\n",
       "    .dataframe tbody tr th:only-of-type {\n",
       "        vertical-align: middle;\n",
       "    }\n",
       "\n",
       "    .dataframe tbody tr th {\n",
       "        vertical-align: top;\n",
       "    }\n",
       "\n",
       "    .dataframe thead th {\n",
       "        text-align: right;\n",
       "    }\n",
       "</style>\n",
       "<table border=\"1\" class=\"dataframe\">\n",
       "  <thead>\n",
       "    <tr style=\"text-align: right;\">\n",
       "      <th></th>\n",
       "      <th>FREE-TEXT TERM</th>\n",
       "      <th>CONTROLLED TERMS</th>\n",
       "    </tr>\n",
       "  </thead>\n",
       "  <tbody>\n",
       "    <tr>\n",
       "      <th>2209</th>\n",
       "      <td>respiratoryfailure</td>\n",
       "      <td>NaN</td>\n",
       "    </tr>\n",
       "    <tr>\n",
       "      <th>2109</th>\n",
       "      <td>possible hap</td>\n",
       "      <td>NaN</td>\n",
       "    </tr>\n",
       "    <tr>\n",
       "      <th>5405</th>\n",
       "      <td>multiple myeloma</td>\n",
       "      <td>malignant neoplasm</td>\n",
       "    </tr>\n",
       "    <tr>\n",
       "      <th>1891</th>\n",
       "      <td>moderate copd</td>\n",
       "      <td>NaN</td>\n",
       "    </tr>\n",
       "    <tr>\n",
       "      <th>3507</th>\n",
       "      <td>breast cancer july year redacted pallative sta...</td>\n",
       "      <td>malignant neoplasm</td>\n",
       "    </tr>\n",
       "    <tr>\n",
       "      <th>3947</th>\n",
       "      <td>progressive cancer symptoms</td>\n",
       "      <td>malignant neoplasm</td>\n",
       "    </tr>\n",
       "    <tr>\n",
       "      <th>2500</th>\n",
       "      <td>bibasilar consolidation</td>\n",
       "      <td>NaN</td>\n",
       "    </tr>\n",
       "    <tr>\n",
       "      <th>2282</th>\n",
       "      <td>alitism</td>\n",
       "      <td>NaN</td>\n",
       "    </tr>\n",
       "    <tr>\n",
       "      <th>840</th>\n",
       "      <td>billiary sepsis</td>\n",
       "      <td>NaN</td>\n",
       "    </tr>\n",
       "    <tr>\n",
       "      <th>373</th>\n",
       "      <td>acute retroperionteal hematoma with active ext...</td>\n",
       "      <td>NaN</td>\n",
       "    </tr>\n",
       "  </tbody>\n",
       "</table>\n",
       "</div>"
      ],
      "text/plain": [
       "                                         FREE-TEXT TERM    CONTROLLED TERMS\n",
       "2209                                 respiratoryfailure                 NaN\n",
       "2109                                       possible hap                 NaN\n",
       "5405                                   multiple myeloma  malignant neoplasm\n",
       "1891                                      moderate copd                 NaN\n",
       "3507  breast cancer july year redacted pallative sta...  malignant neoplasm\n",
       "3947                        progressive cancer symptoms  malignant neoplasm\n",
       "2500                            bibasilar consolidation                 NaN\n",
       "2282                                            alitism                 NaN\n",
       "840                                     billiary sepsis                 NaN\n",
       "373   acute retroperionteal hematoma with active ext...                 NaN"
      ]
     },
     "execution_count": 7,
     "metadata": {},
     "output_type": "execute_result"
    }
   ],
   "source": [
    "data_df.sample(10)"
   ]
  },
  {
   "cell_type": "code",
   "execution_count": 8,
   "metadata": {},
   "outputs": [],
   "source": [
    "# select subset of table\n",
    "freetext_col = \"FREE-TEXT TERM\"\n",
    "n = None\n",
    "if n:\n",
    "    data_subsample = data_df.sample(n=min(n, len(data_df)))\n",
    "else:\n",
    "    data_subsample = data_df\n",
    "docs = data_subsample[freetext_col].astype(str).tolist()"
   ]
  },
  {
   "cell_type": "code",
   "execution_count": 9,
   "metadata": {},
   "outputs": [
    {
     "data": {
      "text/plain": [
       "['ppm insertion',\n",
       " 'c. diff',\n",
       " 'diseases of the respiratory system',\n",
       " \"under investigation for jerky movements at sheffield children's hospital\",\n",
       " 'cva hypothyrodism',\n",
       " 'joint pain and swollen',\n",
       " 'uti urinary sepsis',\n",
       " 'consolidation on chest x-ray',\n",
       " 'cephalitis',\n",
       " 'hyponatremic',\n",
       " 'superficial thrombophlebitis of leg',\n",
       " 'constipated with overflow diarrhoea',\n",
       " 'seenotes',\n",
       " 'ppm and a cholecystectomy',\n",
       " 'fractured l2 spine',\n",
       " 'uti',\n",
       " 'depressive disorder nec',\n",
       " 'diagnosed with mild cognitive impairment',\n",
       " 'itching and burning sensation in the extremities',\n",
       " 'left sided pneumonia secondary to a recent chest injury',\n",
       " 'af with fast ventricular responses',\n",
       " 'restaurant worker',\n",
       " 'bronchiectasis',\n",
       " 'cholangitis due to deranged liver function tests. hypotension',\n",
       " 'under investugators for liver disease - not diagnosed at time of admission',\n",
       " 'hypokalaemia (diagnosis on discharge from uhnm)',\n",
       " 'he gets very cold',\n",
       " 'runny nose',\n",
       " 'left forefoot amputation(arterial clot)',\n",
       " 'erthymia',\n",
       " 'cholangitis',\n",
       " 'ticked no to kidney disease but pt did have hx of kidney stones. depression',\n",
       " 'hyponatremia',\n",
       " 'colonic polyp',\n",
       " 'recent admission laxative overdose & dehydration',\n",
       " 'peg feed/learning difficulties',\n",
       " 'diabetic ketoacidosis',\n",
       " 'rh negative - received anti-d',\n",
       " 're-intubation',\n",
       " 'stroke',\n",
       " 'hypoxic respiratory failure',\n",
       " 'pneumo-pentoreum',\n",
       " 'valvular disorder',\n",
       " 'flichs endothelial dystrophy',\n",
       " 'polychlonal hypergabbaglobulinaemia',\n",
       " 'hypotension and hydrocephalus',\n",
       " 'end stage renal disease',\n",
       " 'constipation. low mood',\n",
       " 'bilateral upper lung lesions',\n",
       " 'hyperbilirubinemia',\n",
       " 'thyroid lung mass (unclear aetiology)',\n",
       " 'anxiety symptoms',\n",
       " 'r knee amp',\n",
       " 'haemolytic anaemia',\n",
       " 'parkinsons',\n",
       " 'body swelling',\n",
       " 'loose stools',\n",
       " 'had cpap days 4-5',\n",
       " 'known mchc',\n",
       " 'hyponatraemia (resolved)',\n",
       " 'high bmi ( unsure of value) pts weight 118.7kg   osteoarthritis',\n",
       " 'perforated bowel - rectal resection & stoma',\n",
       " 'acute lung oedema',\n",
       " 'moderate hepatic cytolysis',\n",
       " 'clostridia',\n",
       " 'ingestion of glass',\n",
       " 'mixed connective tissue disorder',\n",
       " 'retroperitoneal haematoma',\n",
       " 'cough - whitish sputum',\n",
       " 'eosinophilic colitis',\n",
       " 'chronic kidney injury',\n",
       " 'heparin induced thrombocytapenia',\n",
       " 'stroke with post residual left sided weakness',\n",
       " 'decubitus stage 2 ulcer',\n",
       " 'bed bownd',\n",
       " 'grade 1 pressure sores to elbows',\n",
       " 'cholestasis',\n",
       " 'likely pims-ts',\n",
       " 'intestinal obstruction',\n",
       " 'dnar in situ',\n",
       " 'drug-eluting stent to left anterior descending artery',\n",
       " 'below knee amputation and bph',\n",
       " '6 x cerebrovascular accident',\n",
       " 'hipertensi√≥n',\n",
       " 'liver failure',\n",
       " 'pseudophakia (year redacted)',\n",
       " 'acute kidney injury grade 1',\n",
       " 'diabetic foot ulcer',\n",
       " 'confirmed stroke- left side weakness when gcs 8',\n",
       " 'multiple organ failure',\n",
       " '2nd degree skin burns',\n",
       " 'tracheobronchomalacia',\n",
       " 'admitted with covid 19. patient stated he had had a positive test',\n",
       " 'left-sided sinusitis',\n",
       " 'severe t2 respiratory failure',\n",
       " 'chronic etoh-pancreatitis',\n",
       " 'lower respiratory tract infection year redacted',\n",
       " 'newly diagnosed diabetes type 2',\n",
       " '. coeliac disease',\n",
       " 'lrt',\n",
       " 'stomach inflammation',\n",
       " 'no covid requirementss',\n",
       " 'loose stools',\n",
       " 'chronic infected leg ulcers',\n",
       " 'aps',\n",
       " 'decreased fluid intake',\n",
       " 'left atelectasis',\n",
       " 'covid19',\n",
       " 'biliary sepsis',\n",
       " 'shu',\n",
       " 'hypercholesteraimia',\n",
       " 'foot ganngrene',\n",
       " 'obstructive upper urinary tract infection',\n",
       " 'acute/subacute infarct on the frontal and parietal area',\n",
       " \"deranged lft's\",\n",
       " 'dperession',\n",
       " 'hypercholestorumia',\n",
       " 'loss of smell, taste and appetite.',\n",
       " 'hipernatremia',\n",
       " 'obsturctive sleep apnea',\n",
       " 'dvt lt arm',\n",
       " 'pain in ankle',\n",
       " 'pr blood',\n",
       " 'lung nodules identified > follow up',\n",
       " 'increased fussiness',\n",
       " 'type 2 renal failure - type 1 renal failure',\n",
       " 'varices',\n",
       " 'pneumonia with exacebation of copd',\n",
       " 'epidermal cyst',\n",
       " 'recent discharge ad 7th',\n",
       " 'smoker',\n",
       " 'congenital abnormality of gi affecting bowel',\n",
       " 'recurrent abdominal issues',\n",
       " 'lipoma',\n",
       " 'tb year redacted. non alcoholic steatosis of the liver',\n",
       " 'son covid positive 2 weeks prior',\n",
       " 'admitted with intracranial haemorrhage. clostridium difficile',\n",
       " 'ischaemic hepatitis',\n",
       " 'previous pe (pregnancy related)',\n",
       " 'hypertesion',\n",
       " 'heamaturia',\n",
       " 'bilateral pleural effusions 03/10/year redacted',\n",
       " 'acute chronic sdh',\n",
       " 'previous admission for e-coli and salmonella infection',\n",
       " 'moderately impaired lvsd + ltc',\n",
       " 'left arm and leg',\n",
       " 'via d deficiency',\n",
       " 'neutrogenic bladder',\n",
       " 'wegeners',\n",
       " 'cva no residual weakness',\n",
       " 'frailty & peripheral vascular disease',\n",
       " 'activity change',\n",
       " 'reduced feeding. baby',\n",
       " 'right hemicolectomy',\n",
       " 'lsv thrombus',\n",
       " 'pseudomonas exacerbation of copd',\n",
       " 'multiple system atrophy - ataxia',\n",
       " 'charots joints',\n",
       " 'hypothyroidism & hyperglyceamia',\n",
       " 'headaches',\n",
       " 'mrsa',\n",
       " 'an increase in lymph node cells was found genetic testing was performed - no mutations were found',\n",
       " 'traumatic sub arachoid haemorrage',\n",
       " 'insertion of drain',\n",
       " 'peripheral vascular disease- bilateral leg amputations',\n",
       " 'hyperuremia',\n",
       " 'infertile epileptic',\n",
       " 'assim como em p√©s',\n",
       " 'alcohol withdrawal syndrome',\n",
       " 'past history of cva stroke',\n",
       " 'delirium',\n",
       " 'leaving secondary hypothyroidism',\n",
       " 'right foot dermatitis',\n",
       " 'colitis ulcerosa',\n",
       " 'hyponatraemia/hypomagnesia',\n",
       " 'mild electrolyte derangement',\n",
       " 'and previous inferior stemi',\n",
       " 'peripheral retinopathy',\n",
       " 'aortic stenosis',\n",
       " 'appendicitis with a sealed perforation',\n",
       " 'previous stroke - residual left sided weakness',\n",
       " 'stoma following bowel resection',\n",
       " 'blood culture shows coagulase negative staphylococcus',\n",
       " 'right dhs (25/01)',\n",
       " 'unusual behaviour',\n",
       " 'history of tuberculosis with incomplete treatment',\n",
       " 'retention of urine',\n",
       " '1) gram negative sepsis with covid-19 pneumonia 2) decompensated right heart failure due to tricuspid regurgitation 3) af 4) ckd',\n",
       " '75 year old/post operative',\n",
       " 'covid positive in community 02/01/year redacted',\n",
       " 'aki',\n",
       " 'stoma',\n",
       " 'syndrome of inappropriate anti-diuretic hormone secretion',\n",
       " 'previous t.i.a',\n",
       " 'type 2 resp failure',\n",
       " 'bilateral leg amputation',\n",
       " 'chest pain',\n",
       " 'dizziness and collapsed at home',\n",
       " 'hemidiaphragm paresis',\n",
       " 'chestdiscomfort',\n",
       " 'inflammatory bowel syndrome',\n",
       " 'arthroplastie totale du genou',\n",
       " 'loose stool',\n",
       " 'l4/5 fusion',\n",
       " 'spinal stenosis scoliosis',\n",
       " 'oa. gout. peptic ulcer',\n",
       " 'aortic stenosis',\n",
       " 'post-traumatic stress disorder',\n",
       " 'and depressive disorders',\n",
       " 'unstable angina',\n",
       " 'previous splenectomy after trauma',\n",
       " 'haematuria - associated to anaemia',\n",
       " 'livid discolouration of the legs',\n",
       " 'hyperkalemia hiatus hernia multiple urosepsis episodes',\n",
       " 'refeeding syndrome',\n",
       " 'exacerbation of copd',\n",
       " 'r congenital arm',\n",
       " 'dyslipdaemia',\n",
       " 'poor appetite & fluid intake',\n",
       " 'previous whooping cough',\n",
       " 'ulcer osteomyelitis',\n",
       " 'hair loss',\n",
       " 'extreme frailty',\n",
       " 'right dns (dynamic hip screw) in year redacted',\n",
       " 'pulmonary aspergillosis',\n",
       " 'abdominal girth',\n",
       " 'fatigue',\n",
       " 'ic haemorrhage',\n",
       " 'subdural haematoma (evacuation 05/12/year redacted) - previous sarcoidosis',\n",
       " 'insertion of pacemaker 27/3/year redacted',\n",
       " 'tonsllitis',\n",
       " 'enterocutaneous fistula',\n",
       " 'fievre',\n",
       " 'eosinophilia',\n",
       " 'recurrent chect infections & hypersensitivity pneumonitis',\n",
       " 'unknown if it‚Äôs covid-associated or it‚Äôs due to liver surgery',\n",
       " 'severe osas',\n",
       " 'dvt (21/3/year redacted). apixaban increased',\n",
       " 'hyperventalating',\n",
       " 'dialysis 3/7 week',\n",
       " 'chest infection / ie copd',\n",
       " 'covid -19 / frailty',\n",
       " 'previous stroke with right hemi and knee fusion',\n",
       " 'chronic obstructive lung diseasel',\n",
       " 'dic',\n",
       " 'b/l leg amputee',\n",
       " 'above knee amputation of right leg year redacted',\n",
       " 'rectocolite hemorragique',\n",
       " 'chronice venons insufficiency',\n",
       " 'itp',\n",
       " 'hyponatraemia',\n",
       " 'anxiety & depresson',\n",
       " 'vhd',\n",
       " 'off base line mobility',\n",
       " 'pulmonary oedema and nephrotic syndrome',\n",
       " 'appendiceal abcess/peritonitis',\n",
       " 'acidosis',\n",
       " 'af . benign prostatic',\n",
       " 'transferred to acute hospital',\n",
       " 'depression',\n",
       " 'burning sensation when urinating',\n",
       " 'cpap',\n",
       " 'docdenal ulcer',\n",
       " 'left cfa endarterectomy',\n",
       " 'psoriaosis',\n",
       " 'partial pharyngectomy',\n",
       " 'hyperlipaedamia on sinvasta',\n",
       " \"recurrant uti's\",\n",
       " 'oral thrush and rt femer # this admission',\n",
       " 'spinal bifida',\n",
       " 'recurrent ut',\n",
       " 'dysphagia (peg fed)',\n",
       " 'loa',\n",
       " 'plerual plaques',\n",
       " 'hemiocolectomy',\n",
       " 'community aquired uti',\n",
       " 'fungal pneumonia',\n",
       " 'alcohol induced chronic pancreatitis',\n",
       " 'middle cerebral artery stroke',\n",
       " 'low hb',\n",
       " 'tachyarrhythmia',\n",
       " 'interstitial lung disease (marked above for pulmonary)',\n",
       " '3 toes previously amputated right foot',\n",
       " 'ccf (burinex)',\n",
       " 'multiorgan failure',\n",
       " 'bilateral lower leg lymphoedema',\n",
       " 'right hip hemiarthroplasty',\n",
       " 'psychosis - bowel surgery - muscular dystrophy',\n",
       " 'urine infection',\n",
       " 'congested nose',\n",
       " 'dehydration/vomiting',\n",
       " 'hydrocefalus spina bifida',\n",
       " 'single kidney nephrostomy in situ',\n",
       " 'pt developed epididimo-orchitis on 22/01/year redacted',\n",
       " 'covid 19',\n",
       " 'af.  msu positive eneterococcus',\n",
       " 'community acquired pneumonia',\n",
       " 'newly diagnosed hypertension',\n",
       " 'pneumonia',\n",
       " 'bilateral adnexal mass',\n",
       " 'evidence of atelectasis',\n",
       " 'dka / hhs',\n",
       " 'uti/lrti',\n",
       " 'mi',\n",
       " 'spinal cord compression year redacted',\n",
       " 'comatose',\n",
       " 'idiopathic gastroparesis',\n",
       " 'chronic neutropaenia',\n",
       " 'blood transfusion',\n",
       " 'angina pectoris',\n",
       " 'ischemic stroke',\n",
       " 'recent left hip fracture with surgery',\n",
       " 'dilated common bile duct',\n",
       " 'blocked nose ;hair loss',\n",
       " 'uncontrolled bp',\n",
       " 'former etoh user',\n",
       " 'stroke/ reduced gcs',\n",
       " 'paroxysmal atrial fibrillation',\n",
       " 'bedsores',\n",
       " 'c diff',\n",
       " 'pe',\n",
       " 'liver injury from paracetamol overdose',\n",
       " 'previous pre - term  / low weight live birth',\n",
       " \"previous uti's\",\n",
       " 'sacral sore / osteomyelitis',\n",
       " 'quadriplegic & bed bound. chronic pneumonia',\n",
       " 'nosocomial condition',\n",
       " 'lvsd+lvh',\n",
       " 'elevated liver enzymes',\n",
       " 'pulmonary hypertension and emboli',\n",
       " 'spinal decompression 10 to 15 years ago. morbid obesity waiting for surgery',\n",
       " 'muscular dystrophy and obstructive sleep apnoea. paracetamol toxicity o/d  hyperthyroid',\n",
       " 'ketosis. prescribed insulin whilst an inpatient',\n",
       " 'choc septique sur pavm',\n",
       " 'bipolar0 inpatient at psychiatric hospital',\n",
       " 'dysrythmia',\n",
       " 'stage 111 decubitus alcer',\n",
       " 'sepsis',\n",
       " 'previous seizures',\n",
       " 'eosinophilic pneumonia (nov year redacted)',\n",
       " 'ecg t inversion',\n",
       " 'steroid induced adrenal supression',\n",
       " 'picc line inserted',\n",
       " 'kidney transplantation year redacted',\n",
       " 'hypovitaminosis d',\n",
       " 'obstructive sleep apnea and depression',\n",
       " 'hyponatremia',\n",
       " 'mulitple recent hospital stays',\n",
       " 'sigmoid diverticular disease with mild to moderate inflammatory changes/lower respiratory tract infection',\n",
       " 'covid pneumonia',\n",
       " 'prev right femoral artery anyeurysm',\n",
       " 'hypodense lesions in liver',\n",
       " 'htn learning disability',\n",
       " 'rigors',\n",
       " 'recent tonsillectomy',\n",
       " 'shortness of breathe',\n",
       " 'long term dizziness',\n",
       " 'diverticular disease.  recent femur fracture. spinal stenosis',\n",
       " 'pace-maker in situ',\n",
       " 'spine arthritis',\n",
       " 'diabetic keto acidosis on admission',\n",
       " 'fungemia',\n",
       " 'previous hypermesis 34/ 40 weeks pregnant',\n",
       " 'barrets oesphagus and gord',\n",
       " 'varicose eczema',\n",
       " 'bronchiectasis dysphagia',\n",
       " 'anxiety and depressive syndrome',\n",
       " 'thromborytopnia',\n",
       " \"aki's\",\n",
       " 'prev stroke< haemarrage year redacted',\n",
       " 'rhabdomyolosis',\n",
       " 'right rib fractures 7-11',\n",
       " 'auto-immune pancytopenia',\n",
       " 'acute retroperionteal hematoma with active extravasation',\n",
       " 'asthma',\n",
       " 'rt nov year redacted',\n",
       " 'background',\n",
       " 'back pain',\n",
       " 'spiking temp (38.3c)',\n",
       " 'lap chole',\n",
       " 'agitiation',\n",
       " 'possible superadded bacterial infection',\n",
       " 'cholesterol,thyroid',\n",
       " 'svt episode',\n",
       " 'mr ef>55%',\n",
       " 't2 respiratory failure',\n",
       " 'confusion',\n",
       " 'multi organ failure- high inotropic support',\n",
       " 'low albumin dependent oedema cellulitis',\n",
       " 'regular paracentesis refactory ascitesdiuretic intolerant',\n",
       " 'hearing loss',\n",
       " 'tightness in the chest is still on and off',\n",
       " 'social circumstance due to death of partner',\n",
       " 'provoked right pulmonary embolism',\n",
       " 'fungal infection',\n",
       " 'high level troponin',\n",
       " '1 x stent',\n",
       " 'hiatus hernia. obstructive sleep apnoea',\n",
       " 'lhrs',\n",
       " 'hypokalaemia/ihd/stent/hypomagnesaemia',\n",
       " 'klebsiella uti',\n",
       " 'acute type 1 respiratory distress',\n",
       " 'large granular lymphocute syndrome',\n",
       " 'prev etoh excess',\n",
       " 'bacterial lower respiratory tract infection',\n",
       " 'g/enteritis',\n",
       " 'perforated hollow viscus',\n",
       " 'pulmonary embolism',\n",
       " 'inrerratic',\n",
       " 'haemopneumothorax',\n",
       " 'heparin induced thrpmbocytopenia',\n",
       " 'osteoarthritis of joints/shoulder',\n",
       " 'sirs response',\n",
       " 'cholodocholithiasis',\n",
       " 'hypoxic brain injury',\n",
       " 'abdominal aortic anerysm',\n",
       " 'choleystectomy/appendectomy',\n",
       " 'ab ingestis pneumonia',\n",
       " 'long standing low platelets',\n",
       " 'neurocirurgia pr√©via para retirada de tumor benigno',\n",
       " 'chronic hyponutreamia',\n",
       " 'nil co-morbidities',\n",
       " 'essential trombocythaemia',\n",
       " 'vit d definiency',\n",
       " 'crohn disease',\n",
       " 'angio-≈ìd√®me bradykinique',\n",
       " 'previous tia/bph/af',\n",
       " 'refusal of treatment',\n",
       " 'ethnicity',\n",
       " 'hap',\n",
       " 'fracture neck of femur',\n",
       " 'guillain-barre syndrome/hyperparathyroidism',\n",
       " 'troponin rise secondary to sepsis',\n",
       " 'hypokalemia',\n",
       " 'temporal arteritis',\n",
       " 'cxr showed right lower zone consolidation',\n",
       " 'previous temporal lobe surgery 20years ago',\n",
       " 'aki stage 1',\n",
       " 'angina.mi',\n",
       " 'nof#',\n",
       " 'hypoxaemia',\n",
       " 's/p vp shunt',\n",
       " 'nocturnal bipap',\n",
       " 'prostatitis, anaemia',\n",
       " 'htn and postural symptoms',\n",
       " 'huponatreamia',\n",
       " 'iron deficiency anaemia / previous tia',\n",
       " 'death - uti',\n",
       " 'pelvic abscess',\n",
       " 'possible pulmonary embolism',\n",
       " 'angina and gout',\n",
       " 'spinal abresi',\n",
       " 'hypercholesteremia',\n",
       " 'subclavian thrombus',\n",
       " 'raised cholesterol and tia',\n",
       " 'benign lentigo simplex',\n",
       " 'dry mouth,',\n",
       " 'paciente refere ter pin√ßamento em nervo ci√°tico',\n",
       " 'psot operative hernia',\n",
       " 'chronic eosinophilic pneumonia',\n",
       " 'lower abdomen ascites',\n",
       " 'c-difficile',\n",
       " 'hypothyroidism/ hyperlipidaemia',\n",
       " 'recent craniotomy for brain abscess',\n",
       " 'celullitis',\n",
       " 'nutritional depletion',\n",
       " 'pernicious anemia,  multiple sclerosis',\n",
       " 'cyanotic spell',\n",
       " 'sifilis tratada',\n",
       " 'diabetes retinopathy',\n",
       " 'acute pulmonary edema',\n",
       " 'hydrocephalus with a ventriculoperitoneal shunt',\n",
       " 'left hip replacemen  psoriasis',\n",
       " 'strokeyear redacted',\n",
       " 'oesophageal stent',\n",
       " 'bact√©ri√©mie, neuromyopathie de r√©a',\n",
       " 'stroke 10.04.year redacted',\n",
       " 'thrombocytopaenia',\n",
       " 'ibd and admission with major electrolyte imbalance',\n",
       " 'cyst left kidney',\n",
       " 'acute kidney injury (found on admission)',\n",
       " 'decubitus ulcer',\n",
       " 'shock from icd',\n",
       " 'cognitive impairment - undiagnosed dementia',\n",
       " 'on long term oxygen therapy',\n",
       " 'macular diesase',\n",
       " 'high cholestrol and pre diabetes',\n",
       " 'intracranial space occupying lesions',\n",
       " 'hypothyroidism - oa',\n",
       " 'niecopd',\n",
       " 'pancreatitis',\n",
       " 'hypotensive',\n",
       " 'schizoafrective disorder',\n",
       " 'feet and nose- likely covid induced vasculitis',\n",
       " 'eye discharge',\n",
       " 'postural drop',\n",
       " 'hb 59',\n",
       " 'previous p.e. (year redacted)',\n",
       " 'difficult airway grade 3 laryngoscopy view',\n",
       " 'bilateral necrotic toes',\n",
       " 'exposure keratitis',\n",
       " 'infection/sepsis from unknown source',\n",
       " 'type i respiratory failure',\n",
       " 'new type 2 diabetic',\n",
       " 'lower limb amputation',\n",
       " 'ising spondylitis',\n",
       " 'has not been taking anticogulants',\n",
       " 'pulmonary emboli',\n",
       " 'treated as suspected pe',\n",
       " 'mrsa',\n",
       " 'diarhoea',\n",
       " 'tested covid positive in community and family member hospitalised with covid',\n",
       " 'exercise induced childhood asthma',\n",
       " 'possible eviction',\n",
       " 'worsening covid',\n",
       " '1. gout  2. unclear history re  diabetes',\n",
       " 'troubles cognitifs non etiquetes',\n",
       " 'guillain-barr√© syndrome (aidp)',\n",
       " 'wound: lac/ incised / bite: face',\n",
       " 'weight gain',\n",
       " 'high cholesterol / oa',\n",
       " 'aorta thrombus',\n",
       " 'hospital acquired pneumonia',\n",
       " 'hypercholesterolaemia - year redacted',\n",
       " 'two borderline troponins. ecg showed lvh pattern. hypertensive',\n",
       " 'back pain 2/7 worsening due to iga kappa multile',\n",
       " 'hypoactivedelerium',\n",
       " 'sigmoid volvulus',\n",
       " 'fraility',\n",
       " 'moderate hepato-splenomegaly',\n",
       " 'rpeated admissions to hospital with fluid overload secondary to heart failure',\n",
       " 'urinary tract infection',\n",
       " 'contact with a covid + person',\n",
       " 'aspergillosis',\n",
       " 'ak1 stage 1',\n",
       " 'postural hypotention',\n",
       " 'decubitus ulcer',\n",
       " 'shortness of breath',\n",
       " 'hypertention',\n",
       " 'ruptured uterus. subtotal hysterectomy',\n",
       " \"history of pe's & dvt's\",\n",
       " 'fractured hip- hemiarthroplasty',\n",
       " 'polio as child',\n",
       " 'required physio rehabilitation due to weakness',\n",
       " 'selfharm',\n",
       " 'venous ulcer of leg',\n",
       " 'patient declined itu admission',\n",
       " 'hypoactive delirium',\n",
       " 'hypoxic brain injury from seizure',\n",
       " 'achilles tendon rupture year redacted',\n",
       " 'gastrostomy-peg fed',\n",
       " 'body pain from the waist downwards',\n",
       " 'kidney and urinary tract infection',\n",
       " 'dyspraxia',\n",
       " 'mi 3 years ago',\n",
       " 'intermittent pyrexia',\n",
       " 'anxiety',\n",
       " 'incontinent of faeces',\n",
       " 'normocytic anaemia',\n",
       " 'leucopenia',\n",
       " 'haematuring',\n",
       " 'oesteomyliltis',\n",
       " 'azheimers. diverticulitis. left ovarian cyst',\n",
       " 'admitted gluteal abscess leading to necrotizing fascitis',\n",
       " 'fractured femur',\n",
       " 'postural hpotension',\n",
       " 'bilateral leg lymphoedema',\n",
       " 'osteoarthritis/ rheumatoid arthritis',\n",
       " 'avc isch√©miques',\n",
       " 'new af mi - march year redacted bhp hypertension',\n",
       " 'diverticultitus',\n",
       " 'stent in heart',\n",
       " 'iatrogenic  fe',\n",
       " 'seizures tbi',\n",
       " 'copd exacerbation',\n",
       " 'previous urosepsis.  af.  pe  pacemaker',\n",
       " 'goitre',\n",
       " 'hap',\n",
       " 'history of recurrent pneumonia',\n",
       " 'moderate dehydration',\n",
       " 'advanced medial oa right knee',\n",
       " 'borderline personality disorder - currently under section 3 of the mental health act',\n",
       " 'type 1 respiratory failure',\n",
       " 'dvt',\n",
       " 'diagnosed during current admission with lvf',\n",
       " 'traumatic splenic rupture',\n",
       " 'hypernatraemia/ septic hyperkalaenia',\n",
       " 'aspiration pneumonia',\n",
       " 'cholestrol',\n",
       " 'hyponatremia (120)',\n",
       " 'hypoxic resp failure',\n",
       " 'broncho pneumonia - unspecified',\n",
       " 'constipation',\n",
       " 'type one respiratory failure',\n",
       " 'schizophrenia / learning disabilities',\n",
       " 'previous oesphegectomy',\n",
       " 'vitreous haemorrhage',\n",
       " 'emphysematous cystitis',\n",
       " 'non-verbal peripheral vascular disease (amputation limb year redacted)',\n",
       " 'hemiarthroplasty',\n",
       " 'hearing loss',\n",
       " 'cranial nerve root compression',\n",
       " 'learning disability (downs syndrome) and congestive heart failure',\n",
       " 'high d dimer',\n",
       " 'collapse likely postural drop',\n",
       " 'lumber spine degemerative disease',\n",
       " 'guillain barre syndrome year redacted',\n",
       " 'pernicious anemia',\n",
       " 'intercranial haemorrhage',\n",
       " 'dyslipedemia and depression',\n",
       " 'hiyperuricemia',\n",
       " 'zoster opthalmicus',\n",
       " 'lynch 2 factor',\n",
       " 'displaced left proximal humeral fracture august year redacted',\n",
       " 'in comments above',\n",
       " 'bmi 44',\n",
       " 'pulmonary emboli',\n",
       " 'fraility',\n",
       " 'resp failure on 100% ventilator',\n",
       " 'haematemasis',\n",
       " 'hypothyroidism. hysterectomy',\n",
       " 'osteomyelitis l stump nsrf',\n",
       " 'esrf(membranous nephropathy) on dialysis brent',\n",
       " 'herpes',\n",
       " 'delerium post op. urinary retention',\n",
       " 'cholecysectomy',\n",
       " 'aspiration pnuemonia',\n",
       " 'hypoalbuminemia',\n",
       " 'vitamin c treatment for raised pt',\n",
       " 'acute renal injury with hemodialysis',\n",
       " 'blood transfusions. no covid symptoms',\n",
       " 'malabsorption',\n",
       " 'ct pancreatic - no malignacy',\n",
       " 'developped radiculary syndrome l5 during hospital admission',\n",
       " 'food refusal',\n",
       " \"previous cva's - non verbal\",\n",
       " 'spasticity due to brain injury',\n",
       " 'severe shortness of breath',\n",
       " 'nephrolitihiasis',\n",
       " 'testicular pain',\n",
       " 'elevated bp',\n",
       " 'gender identity disorder',\n",
       " 'subtotal modibulectomy and free flap 03/11/year redacted',\n",
       " 'liver foci on ct',\n",
       " 'hypoactive delerium secondary to covid',\n",
       " 'lymphedema',\n",
       " 'vap infection',\n",
       " 'upper respiratory tract infection',\n",
       " 'severe covid pneumonia',\n",
       " 'urinary retention secondary to urinary tract infection',\n",
       " 'chronic loin pain pyelpast',\n",
       " 'diastolic dysfunction',\n",
       " 'admitted for increased discharge from perianal setons',\n",
       " 'mr & ar',\n",
       " 'lt dhs',\n",
       " 'hypomagnesia',\n",
       " 'enlarged spleen',\n",
       " 'home oxygen therapy',\n",
       " 'child recently hospitalised with fever/vomiting/diahorrea due to uti',\n",
       " 'chronic pancreatitis and pancreatic insufficiency',\n",
       " 'newly diagnosed diabetic',\n",
       " 'hypokaliemia',\n",
       " 'increased confusion',\n",
       " \"deraged lft's\",\n",
       " 'leg cellulitis',\n",
       " 'gord dementia',\n",
       " 'recurrant pulmonary embolisms and deep vein thrombosis',\n",
       " 'barraetts oesoph',\n",
       " 'mrsa positive',\n",
       " '(1.) bilateral pes (2.) primary hyperparathyroidism',\n",
       " 'now reported as recovered',\n",
       " 'bleeding pr',\n",
       " 'htn',\n",
       " 'bedbound with hoist transfer',\n",
       " 'pmh of liver absess -drained in year redacted',\n",
       " 'hemoptysis on 16/3/year redacted single episode',\n",
       " 'avi pr√©vio',\n",
       " 'possible inferior infarct and left atrial enlargment',\n",
       " 'necrosis to toes due to norad',\n",
       " 'admitted 23/04/year redacted-25/03/year redacted with sequalae of htn (dizziness',\n",
       " 'relapse and remitting ms',\n",
       " 'progressive dementia',\n",
       " 'bilateral chronic granulomatous panuveitis',\n",
       " 'clostridium difficile infection',\n",
       " 'acute cytolytic hepatitis',\n",
       " 'papiloedema',\n",
       " 'left shoulder impingement',\n",
       " 'prosthetic aortic valve',\n",
       " 'rt submanibular abcess and duct stone',\n",
       " 'pr bleed requiring blood transfusion',\n",
       " 'hap',\n",
       " 'post op  hip replacement',\n",
       " 'oesophageal perforation sept year redacted',\n",
       " 'tableau de pneumopathie r√©cidivante depuis 15 jours.  transfert apr√©s intubation',\n",
       " 'cspinal stenosis',\n",
       " 'housebound due to agoraphobia',\n",
       " 'post drain haemothorax',\n",
       " 'ihd+3 stents',\n",
       " 'type 1 respiratory failure',\n",
       " 'renal dysfunction and anaemia',\n",
       " 'decreased mobility (walking on arrival)',\n",
       " 'intra abdominal perforation secondary to diverticular disease',\n",
       " 'covid pneumonia',\n",
       " 'chest infections severe epilepsy +frequent chest infections',\n",
       " 'ischaemic colitis',\n",
       " 'colitis',\n",
       " 'typhoid',\n",
       " 'tbi+cva',\n",
       " 'nsetmi',\n",
       " 'intracerebral bleed diagnosed on admission',\n",
       " 'history of ptb(completed treatment)',\n",
       " 'basal pleural thickening',\n",
       " 'iron deficiency anaemia feb year redacted',\n",
       " 'more confusion since covid',\n",
       " 'hyperkalaemia',\n",
       " 'previous covid 19 in april year redacted',\n",
       " 'mineral bone disease',\n",
       " 'iliopsoas haematoma',\n",
       " 'not eating or drinking',\n",
       " 'antibitoic px fpr infected ulcer',\n",
       " 'pt is deaf & epileptic',\n",
       " 'af and copd',\n",
       " 'ongoing leg oedema',\n",
       " 'grastite',\n",
       " 'fractured pelvis year redacted - limited mobility',\n",
       " 'macrocytic anemia',\n",
       " 'asthenia',\n",
       " 'retinopathy of prematurity',\n",
       " 'ostearthiritis',\n",
       " 'admitted for ppm revision/replacement',\n",
       " 'previous pyloric stenois surgery',\n",
       " 'cmv retinitis',\n",
       " 'perforated oesophagus',\n",
       " 'pancreatic mass with billiary duct obstruction',\n",
       " 'pain during breathing',\n",
       " 'fracture the neck of femor (mar. year redacted)',\n",
       " 'infected leg ulcers',\n",
       " 'recurrent chest uinfections',\n",
       " 'esophageal atresia',\n",
       " 'pseudo-obstruction of bowel',\n",
       " '67 ng/l)',\n",
       " 'fracture of neck of femur 29/01/year redacted',\n",
       " 'neutropenic sepsis',\n",
       " 'stroke 5 12 yrs ago',\n",
       " 'new diagnosis of diabetes',\n",
       " 's√≠ndrome do c√≥lon irrit√°vel',\n",
       " 'anaemia was highlighted as compounding factor in death',\n",
       " 'hypercholesteramia',\n",
       " 'hydrocephalus with previously fenestrated pineal cyst and ventriculo-perotonial shunt',\n",
       " 'urinary infection',\n",
       " 'normal delivery with covid',\n",
       " 'high bms controlled by diet - not diagnosed diabetes',\n",
       " 'etoh in pregnancy',\n",
       " 'b12 deff',\n",
       " 'neutropenia',\n",
       " 'nose congestion',\n",
       " 'left facial droop and hypotension -excluded stroke',\n",
       " 'delirium',\n",
       " 'hypernatremia leading to possible brain damage',\n",
       " 'pyelonephritis (recurrent)',\n",
       " 'infective exacerbation of asthma second to covid pneumonitis',\n",
       " 'benign paroxysmal positional vertigo hypertension',\n",
       " 'celluclitis. atelectasis',\n",
       " 'vomiting',\n",
       " 'pleural congestion',\n",
       " 'leg cellulitis',\n",
       " 'muscularskeletal back pain',\n",
       " 'hypophosphateaemia',\n",
       " 'oropharynx bleeding',\n",
       " 'diverticular perforation',\n",
       " 'likely hyperparathyroidism',\n",
       " 'current pyelonephritis',\n",
       " 'urinary sepsis',\n",
       " 'anaemia',\n",
       " 'old healed pu to cleft and excoration on bilateral buttocks. previously diagnosed sclerosed uterine fibroid. bmi 26',\n",
       " 'l3 wedge fracture',\n",
       " 'mild hyponatraemia',\n",
       " 'irti',\n",
       " 'advanced osteoarthritis',\n",
       " 'ulcerative colitis',\n",
       " 'lumbar shingles',\n",
       " 'target organ damage',\n",
       " 'type 2 resp failure covid pneumonitis serum  6.6  08/03/year redacted',\n",
       " 'repoted covid april year redacted',\n",
       " 'infected ulcer',\n",
       " 'lrtl',\n",
       " 'rate control on nsvt',\n",
       " 'feeling bloated, excess farting',\n",
       " 'pressure sores',\n",
       " 'vascular insufficiency - chronic arterial ulcer',\n",
       " 'terminal ileum collection',\n",
       " 'blindness left eye',\n",
       " 'diagnosed with t2 diabetes while in hospital',\n",
       " 'l-nof fracture',\n",
       " 'moisture lesion on sacrum',\n",
       " 'pacemaker/patient was hyperthermic due to neglect',\n",
       " 'prev left nof',\n",
       " 'bleeding',\n",
       " 'hypotensive episodes',\n",
       " 'acute gastroenteritis',\n",
       " 'volume depletion',\n",
       " 'vein pain',\n",
       " 'prediabetes',\n",
       " 'dysgeusie',\n",
       " 'non specific abdominal pain',\n",
       " 'vitamin deficiency',\n",
       " 'limes disease',\n",
       " 'resp failure osa',\n",
       " 'cpt: 93460 / 93566 / 93318 / 36430 icd10: i48.9 / j18.9 / i10 / z11.5 / e88.0 / b37.9 / i95.9 / b96.1 / r00.1 / z99.2 / z51.3 / e83.4 / e83.3 / u07.1',\n",
       " 'refusal of dialysis and treatment',\n",
       " 'atelectasis',\n",
       " 'bilateral renal transplants',\n",
       " 'neuropsychiatric symptoms',\n",
       " 'renal stones superficial',\n",
       " 'cellulitis',\n",
       " 'right sided lower respiratory tract infection',\n",
       " 'ingurinal hernia',\n",
       " 'previous pe 2017',\n",
       " 'history of chrons disease with past episodes of sepsis',\n",
       " 'h/o tia + htn',\n",
       " 'esbl klebisella pneumonia',\n",
       " 'confusion - self resolved',\n",
       " 'rhinorrhoea',\n",
       " 'hernia depression',\n",
       " 'dvt',\n",
       " 'acute coronary synd route',\n",
       " 'delerium schizophrenia',\n",
       " \"previous bell's palsy\",\n",
       " 'seecomments',\n",
       " 'covid-19 pneumonia with type 1 respiratory failure. severe copd',\n",
       " 'ex prem 26+5. pulmonary hypertension. tracheostomy - on long term ventilation. ileal resection in neonatal period. colonised with resistant klebsiella (esbl) resp tract. presumed fungal infection - imaging of liver. pneumocystis prophylaxis',\n",
       " 'hibch deficiency',\n",
       " 'cholestasis of pregnancy (28/40)',\n",
       " 'psa 1.2 oct 19 - now under surveillance',\n",
       " 'ileostomy secondary to volvulus',\n",
       " 'hypercholesterglaemia',\n",
       " 'cerebellor ataxia',\n",
       " 'asthma',\n",
       " 'itchy throat, elevated blood pressure',\n",
       " 'bilateral knee osteoarthritis',\n",
       " 'billiary sepsis',\n",
       " 'haematuria and pr bleeding-has declined investigation',\n",
       " 'overnight cpap at home',\n",
       " 'crp',\n",
       " 'recurrent depressive disorder',\n",
       " 'polypose',\n",
       " 'newly diagnosed type 2 diabetic',\n",
       " 'cognitive impediment/chronic hyponatremia',\n",
       " 'hyponataemia',\n",
       " 'deranged liver function',\n",
       " 'collageous colitis',\n",
       " 'unknown height',\n",
       " 'treated for cellulitis',\n",
       " 'mva - right ankle open',\n",
       " 'borderline',\n",
       " '2-4 alcoholoc drinks per day',\n",
       " 'uncontrolled diabetes',\n",
       " 'psor√≠ase',\n",
       " 'myasthemia graives',\n",
       " 'chronic  skin changes (secondary to venous disease)  bacterial infection of leg ulcer ( cellulitis) developed blister on left big toe likely diabetic ulcer.  mobility off baseline',\n",
       " 'known drug abuse with heroin',\n",
       " 'light headed',\n",
       " 'prolonged qtc interval',\n",
       " 'previous total hip replacement leg ulcers and gout',\n",
       " 'hypopotuitarism',\n",
       " 'persistently high d-dimer',\n",
       " 'pulmonary edema',\n",
       " 'on chronic noac',\n",
       " 'swollen on both legs since 2 years ago',\n",
       " 'siadh',\n",
       " 'mouth ulcers',\n",
       " 'multiple organ dysfunction syndrome',\n",
       " 'pressured speech) resolved covid infection - pv bleeding + abdo pain 4 week history',\n",
       " 'urinary tract infection',\n",
       " 'previous pneumonia and icu admission',\n",
       " 'polmonite interstiziale, diabete misconosciuto, neuropatia agli arti',\n",
       " 'abnornmal clotting',\n",
       " 'tep bilateral',\n",
       " 'aki dd. acute on ckd stage v',\n",
       " 'intracranial bleed',\n",
       " 'noe nedsatt lungekapasitet.',\n",
       " 'persistent pneumothorax from stab back and covid',\n",
       " 'angina hypercholesteroleamia',\n",
       " 'ischaemic liver failure',\n",
       " 'sciatique',\n",
       " 'mirgraines',\n",
       " 'cefal√©ia',\n",
       " 'covid +ve finding but asymtomatic',\n",
       " 'pulmomary fibrosis',\n",
       " 'bipolar affective disorder manic relapse with psychotic symptoms',\n",
       " 'msk pain',\n",
       " 'ischaemia on admission',\n",
       " 'renal transplant year redacted russia',\n",
       " 'chronic limb ischaemia',\n",
       " 'comentario',\n",
       " 'etohm ex ivdu',\n",
       " 'overnight sleep apnea',\n",
       " 'sleep apnoea',\n",
       " 'derranged electrolytes',\n",
       " 'mild intellectual and developmental disability',\n",
       " 'nstenii',\n",
       " 'fast af. treated with digoxin',\n",
       " 'chronic pancreatitis  coeliav disease',\n",
       " 'abnormal ecg',\n",
       " 'prevention tia/stroke',\n",
       " 'liver transplant x2 year redacted and year redacted',\n",
       " 'bleeding from rectum - colonoscopy booked',\n",
       " 'hypoactive delirium and dvt r leg-on tinzaparin',\n",
       " 'hypercholestrolimia',\n",
       " 'confusion',\n",
       " 'paediatric inflammatory multisystem syndrome',\n",
       " 'osteoporosis vit d def',\n",
       " 'despite negative results',\n",
       " 'left shoulder impindgement and tearing of cuff',\n",
       " 'end stage kidney failure/ end of life',\n",
       " 'vit d very low',\n",
       " 'new leptomeningeal disease',\n",
       " 'raised d dimer',\n",
       " 'diplopia',\n",
       " 'head injury',\n",
       " 'occular hypertension cerebral onfarction',\n",
       " 'aki 1',\n",
       " 'operated for lower limb atherosclerosis - bilateral limbs amputation',\n",
       " 'thrombocytopenia and hypernatremia',\n",
       " 'recent cystoscopy nad',\n",
       " 'exacerbation of his asthma',\n",
       " 'previous l hemicolectomy for diverticular disease',\n",
       " 'folate deficiency',\n",
       " 'bilateral upper limb dvt',\n",
       " 'vit d def',\n",
       " 'ventilator associated lung injury with multiple cysts and bronchopleural fistulae',\n",
       " 'staphylococcus bacteremia',\n",
       " 'advanced progressive airway failure',\n",
       " 'thrombolysis',\n",
       " 'fractor right arm',\n",
       " 'osteoarthritis/ mild anaemia under haematology/ high cholesterol',\n",
       " 'recent hospital admission (d/c 24.04.year redacted) and in temporary stay at nh',\n",
       " 'chronic limb ischaemia',\n",
       " 'frail with multiple recent infections',\n",
       " 'pphn',\n",
       " 'acute coronary artery disease (stenosis and triple vessel disease) year redacted',\n",
       " 'low k+',\n",
       " 'superadded bacterial infection',\n",
       " 'alopecia; difficolt√† visiva',\n",
       " '(1.) previous tia. (2.) depression',\n",
       " 'horseshoe kidney',\n",
       " 'chest xray right ll consolidation',\n",
       " 'haemorrhagic corpus luteal cyst',\n",
       " 'igg4 related autoimmune pancreatitis',\n",
       " 'parosmia dysgeusia',\n",
       " 'cholacyectomy',\n",
       " '60',\n",
       " 'stroke/tias in the past',\n",
       " '38+1 gestation via emergenct c.section . neonatal jaundice. eczema',\n",
       " 'excision of atrial myxoma (year redacted)',\n",
       " 'acute hypokalaemia',\n",
       " 'qtprolongation',\n",
       " 'previous bilateral pes',\n",
       " 'death',\n",
       " 'ascities',\n",
       " 'hypercholestrolmia',\n",
       " 'chronic with restricted movement',\n",
       " 'sepsis',\n",
       " 'recent community test show renal impairment',\n",
       " 'pedal oedema',\n",
       " 'pre diabetes gp monitoring',\n",
       " 'manic disorder',\n",
       " \"confirmed alzheimer's disease\",\n",
       " 'covid related hepatitis',\n",
       " 'severe aki',\n",
       " 'end stage renal failure. on dialysis',\n",
       " 'hyperthyroidism/hiatus hernia',\n",
       " 'large haematoma in left thigh',\n",
       " 'admitted with cva',\n",
       " 'below knee amputation 11/year redacted',\n",
       " 'digestive system disease',\n",
       " 'intro abdominal',\n",
       " 'dry nose',\n",
       " 'right below knee amputee',\n",
       " 'ferritin',\n",
       " 'chronic urinary retention',\n",
       " 'covid pneumonitis',\n",
       " 'dialise',\n",
       " 'multiple thrombotic subacute infarcts',\n",
       " 'intesticial lung disease',\n",
       " '3 lamenectomies',\n",
       " 'epilepsy and depression',\n",
       " 'pe',\n",
       " 'tonsillitis',\n",
       " '(esrf)',\n",
       " 'previous postpartum haemorrhage',\n",
       " 'lactic acidosis during unresponsive episode',\n",
       " 'viral pneumonitis',\n",
       " 'possible benign head of pancreas lesion',\n",
       " 'cerebralamyloid angiopathu',\n",
       " 'history of mental health issues. anxiety and depression',\n",
       " \"uti's / previous etoh\",\n",
       " 'depressed immune system',\n",
       " 'community acquired pneaumonia',\n",
       " 'appendectomy',\n",
       " ...]"
      ]
     },
     "execution_count": 9,
     "metadata": {},
     "output_type": "execute_result"
    }
   ],
   "source": [
    "docs"
   ]
  },
  {
   "cell_type": "code",
   "execution_count": 10,
   "metadata": {},
   "outputs": [],
   "source": [
    "# try flair as simpler implementation\n",
    "distil_biobert = TransformerDocumentEmbeddings('nlpie/distil-biobert')"
   ]
  },
  {
   "cell_type": "code",
   "execution_count": 11,
   "metadata": {},
   "outputs": [],
   "source": [
    "# example using HF pipeline to create sentence embeddings - but presume bertopic does this under the hood anyway\n",
    "class SentenceEncoderPipeline(Pipeline):\n",
    "    def __init__(self, model, tokenizer, device=None, max_length=512):\n",
    "        \"\"\"\n",
    "        Initialize the sentence encoder pipeline.\n",
    "        \n",
    "        Args:\n",
    "            model: Pre-trained model\n",
    "            tokenizer: Associated tokenizer\n",
    "            device: Device to use ('cuda' or 'cpu')\n",
    "            max_length: Maximum sequence length\n",
    "        \"\"\"\n",
    "        super().__init__(\n",
    "            model=model,\n",
    "            tokenizer=tokenizer,\n",
    "            device=device if device is not None else -1,\n",
    "            max_length=max_length\n",
    "        )\n",
    "\n",
    "    def _sanitize_parameters(\n",
    "        self,\n",
    "        return_tensors=None,\n",
    "        normalize=None,\n",
    "        **kwargs\n",
    "    ) -> Tuple[Dict, Dict, Dict]:\n",
    "        \"\"\"\n",
    "        Sanitize and separate parameters for different pipeline stages.\n",
    "        \n",
    "        Returns:\n",
    "            tuple: (preprocess_params, forward_params, postprocess_params)\n",
    "        \"\"\"\n",
    "        preprocess_params = {}\n",
    "        forward_params = {}\n",
    "        postprocess_params = {}\n",
    "\n",
    "        # Handle return_tensors parameter\n",
    "        if return_tensors is not None:\n",
    "            postprocess_params[\"return_tensors\"] = return_tensors\n",
    "\n",
    "        # Handle normalize parameter\n",
    "        if normalize is not None:\n",
    "            forward_params[\"normalize\"] = normalize\n",
    "\n",
    "        return preprocess_params, forward_params, postprocess_params\n",
    "        \n",
    "    def _mean_pooling(self, model_output, attention_mask):\n",
    "        \"\"\"\n",
    "        Perform mean pooling on token embeddings.\n",
    "        \"\"\"\n",
    "        token_embeddings = model_output[0]\n",
    "        input_mask_expanded = attention_mask.unsqueeze(-1).expand(token_embeddings.size()).float()\n",
    "        return torch.sum(token_embeddings * input_mask_expanded, 1) / torch.clamp(input_mask_expanded.sum(1), min=1e-9)\n",
    "    \n",
    "    def preprocess(self, inputs, **kwargs):\n",
    "        \"\"\"\n",
    "        Preprocess the inputs before model forward pass.\n",
    "        \"\"\"\n",
    "        return self.tokenizer(\n",
    "            inputs,\n",
    "            padding=True,\n",
    "            truncation=True,\n",
    "            max_length=self.max_length,\n",
    "            return_tensors=\"pt\"\n",
    "        ).to(self.device)\n",
    "    \n",
    "    def _forward(self, model_inputs, **kwargs):\n",
    "        \"\"\"\n",
    "        Forward pass through the model.\n",
    "        \"\"\"\n",
    "        normalize = kwargs.get('normalize', True)\n",
    "        \n",
    "        with torch.no_grad():\n",
    "            outputs = self.model(**model_inputs)\n",
    "        \n",
    "        embeddings = self._mean_pooling(outputs, model_inputs['attention_mask'])\n",
    "        \n",
    "        if normalize:\n",
    "            embeddings = F.normalize(embeddings, p=2, dim=1)\n",
    "            \n",
    "        return {\"embeddings\": embeddings}\n",
    "    \n",
    "    def postprocess(self, model_outputs, **kwargs):\n",
    "        \"\"\"\n",
    "        Postprocess the model outputs.\n",
    "        \"\"\"\n",
    "        return model_outputs[\"embeddings\"].cpu().numpy()\n",
    "\n",
    "def create_sentence_encoder_pipeline(\n",
    "    model_name: str = 'bert-base-uncased',\n",
    "    device: int = -1,\n",
    "    max_length: int = 512,\n",
    "    **kwargs\n",
    ") -> SentenceEncoderPipeline:\n",
    "    \"\"\"\n",
    "    Create a sentence encoder pipeline.\n",
    "    \n",
    "    Args:\n",
    "        model_name: Name of the HuggingFace model to use\n",
    "        device: Device to use (-1 for CPU, 0+ for GPU)\n",
    "        max_length: Maximum sequence length\n",
    "        **kwargs: Additional arguments to pass to pipeline creation\n",
    "        \n",
    "    Returns:\n",
    "        SentenceEncoderPipeline instance\n",
    "    \"\"\"\n",
    "    tokenizer = AutoTokenizer.from_pretrained(model_name)\n",
    "    model = AutoModel.from_pretrained(model_name)\n",
    "    \n",
    "    return SentenceEncoderPipeline(\n",
    "        model=model,\n",
    "        tokenizer=tokenizer,\n",
    "        device=device,\n",
    "        max_length=max_length,\n",
    "        **kwargs\n",
    "    )"
   ]
  },
  {
   "cell_type": "code",
   "execution_count": 12,
   "metadata": {},
   "outputs": [],
   "source": [
    "# experiment with different models here\n",
    "\n",
    "# set device to gpu if available \n",
    "device = torch.device(\"cuda\" if torch.cuda.is_available() else \"cpu\")\n",
    "\n",
    "\n",
    "# ##### to embed documents\n",
    "# # embedding_model = pipeline(\"feature-extraction\", \n",
    "# #                            model=\"nlpie/distil-biobert\", \n",
    "# #                            device=device)\n",
    "\n",
    "embedding_model = create_sentence_encoder_pipeline(\n",
    "    model_name=\"nlpie/distil-biobert\",\n",
    "    device=device)\n",
    "\n",
    "# embedding_model = distil_biobert\n",
    "\n",
    "# ##### to describe clusters\n",
    "\n",
    "# representation_model = KeyBERTInspired()\n",
    "\n",
    "# try a huggingface model\n",
    "prompt = \"\"\"\n",
    "I have a topic that contains the following documents: \\n[DOCUMENTS]\n",
    "The topic is described by the following keywords: [KEYWORDS]\n",
    "\n",
    "Based on the above information, can you give a short label of the topic?\n",
    "\"\"\"\n",
    "\n",
    "# try an open source lightweight medical llm\n",
    "\n",
    "# Create your representation model\n",
    "generator = pipeline(\n",
    "                    # task='text2text-generation', \n",
    "                     model='google/flan-t5-base',\n",
    "                    # model='FreedomIntelligence/Apollo-0.5B',\n",
    "                    # model='facebook/MobileLLM-125M',\n",
    "                    # trust_remote_code=True,\n",
    "                    device=device)\n",
    "\n",
    "llm_one_word = TextGeneration(generator,\n",
    "                              prompt=prompt,\n",
    "                              )\n",
    "\n",
    "# representation_model = TextGeneration(generator)\n",
    "keybert_mmr = aspect_model2 = [KeyBERTInspired(), MaximalMarginalRelevance()]\n",
    "\n",
    "# try combining models:\n",
    "representation_model = {\n",
    "    \"Name\": llm_one_word,\n",
    "    \"Main\": keybert_mmr,\n",
    "}\n",
    "\n",
    "#### create model\n",
    "\n",
    "topic_model = BERTopic(\n",
    "    embedding_model=embedding_model,\n",
    "    representation_model=representation_model,\n",
    "    # nr_topics=\"auto\", # merge topics clustered together\n",
    "    nr_topics=9,\n",
    "    )"
   ]
  },
  {
   "cell_type": "code",
   "execution_count": 13,
   "metadata": {},
   "outputs": [
    {
     "data": {
      "text/plain": [
       "'\\nI have a topic that contains the following documents: \\n[DOCUMENTS]\\nThe topic is described by the following keywords: [KEYWORDS]\\n\\nBased on the above information, can you give a short label of the topic?\\n'"
      ]
     },
     "execution_count": 13,
     "metadata": {},
     "output_type": "execute_result"
    }
   ],
   "source": [
    "llm_one_word.prompt"
   ]
  },
  {
   "cell_type": "markdown",
   "metadata": {},
   "source": [
    "## 3. Fit model on example dataset"
   ]
  },
  {
   "cell_type": "code",
   "execution_count": 14,
   "metadata": {},
   "outputs": [],
   "source": [
    "topics, probs = topic_model.fit_transform(docs)"
   ]
  },
  {
   "cell_type": "code",
   "execution_count": 15,
   "metadata": {},
   "outputs": [
    {
     "data": {
      "text/html": [
       "<div>\n",
       "<style scoped>\n",
       "    .dataframe tbody tr th:only-of-type {\n",
       "        vertical-align: middle;\n",
       "    }\n",
       "\n",
       "    .dataframe tbody tr th {\n",
       "        vertical-align: top;\n",
       "    }\n",
       "\n",
       "    .dataframe thead th {\n",
       "        text-align: right;\n",
       "    }\n",
       "</style>\n",
       "<table border=\"1\" class=\"dataframe\">\n",
       "  <thead>\n",
       "    <tr style=\"text-align: right;\">\n",
       "      <th></th>\n",
       "      <th>Topic</th>\n",
       "      <th>Count</th>\n",
       "      <th>Name</th>\n",
       "      <th>Representation</th>\n",
       "      <th>Representative_Docs</th>\n",
       "    </tr>\n",
       "  </thead>\n",
       "  <tbody>\n",
       "    <tr>\n",
       "      <th>0</th>\n",
       "      <td>-1</td>\n",
       "      <td>953</td>\n",
       "      <td>[lung cancer with liver and pleural mets, , , ...</td>\n",
       "      <td>[cancer, tumour, carcinoma, lumpectomy, adenoc...</td>\n",
       "      <td>[lung cancer and lobectomy in year redacted, p...</td>\n",
       "    </tr>\n",
       "    <tr>\n",
       "      <th>1</th>\n",
       "      <td>0</td>\n",
       "      <td>2358</td>\n",
       "      <td>[metastatic prostate/lung cancer, , , , , , , ...</td>\n",
       "      <td>[cancer, carcinoma, tumor, tumour, metastasis,...</td>\n",
       "      <td>[breast cancer year redacted, breast cancer in...</td>\n",
       "    </tr>\n",
       "    <tr>\n",
       "      <th>2</th>\n",
       "      <td>1</td>\n",
       "      <td>1190</td>\n",
       "      <td>[diabetic ketoacidosis, , , , , , , , , ]</td>\n",
       "      <td>[pneumonitis, infection, covid, amputation, in...</td>\n",
       "      <td>[previous covid 19 in april year redacted, cov...</td>\n",
       "    </tr>\n",
       "    <tr>\n",
       "      <th>3</th>\n",
       "      <td>2</td>\n",
       "      <td>425</td>\n",
       "      <td>[pulmonary embolism, , , , , , , , , ]</td>\n",
       "      <td>[respiratory, pulmonary, lung, emphysema, apne...</td>\n",
       "      <td>[type 1 respiratory failure, pulmonary mets, p...</td>\n",
       "    </tr>\n",
       "    <tr>\n",
       "      <th>4</th>\n",
       "      <td>3</td>\n",
       "      <td>241</td>\n",
       "      <td>[cva, , , , , , , , , ]</td>\n",
       "      <td>[cva, dvt, pe, lvsd, pes, lvs, lvf, ckd, prev,...</td>\n",
       "      <td>[previous cva and mi, recurrent dvt's &amp; pe, pr...</td>\n",
       "    </tr>\n",
       "    <tr>\n",
       "      <th>5</th>\n",
       "      <td>4</td>\n",
       "      <td>150</td>\n",
       "      <td>[anxiety &amp; depression, , , , , , , , , ]</td>\n",
       "      <td>[anxiety, depressive, depression, psychiatric,...</td>\n",
       "      <td>[mixed anxiety disorder, anxiety and depressiv...</td>\n",
       "    </tr>\n",
       "    <tr>\n",
       "      <th>6</th>\n",
       "      <td>5</td>\n",
       "      <td>113</td>\n",
       "      <td>[uti, , , , , , , , , ]</td>\n",
       "      <td>[uti, ut, urinary, urinating, uropathy, kidney...</td>\n",
       "      <td>[uti, uti, uti]</td>\n",
       "    </tr>\n",
       "    <tr>\n",
       "      <th>7</th>\n",
       "      <td>6</td>\n",
       "      <td>99</td>\n",
       "      <td>[meningioma, , , , , , , , , ]</td>\n",
       "      <td>[meningioma, meningioma___, menigioma, meningi...</td>\n",
       "      <td>[meningioma, meningioma, meningioma]</td>\n",
       "    </tr>\n",
       "    <tr>\n",
       "      <th>8</th>\n",
       "      <td>7</td>\n",
       "      <td>11</td>\n",
       "      <td>[electrolyte imbalance, , , , , , , , , ]</td>\n",
       "      <td>[electrolyte, electrolytes, imbalance, dehydra...</td>\n",
       "      <td>[ibd and admission with major electrolyte imba...</td>\n",
       "    </tr>\n",
       "  </tbody>\n",
       "</table>\n",
       "</div>"
      ],
      "text/plain": [
       "   Topic  Count                                               Name  \\\n",
       "0     -1    953  [lung cancer with liver and pleural mets, , , ...   \n",
       "1      0   2358  [metastatic prostate/lung cancer, , , , , , , ...   \n",
       "2      1   1190          [diabetic ketoacidosis, , , , , , , , , ]   \n",
       "3      2    425             [pulmonary embolism, , , , , , , , , ]   \n",
       "4      3    241                            [cva, , , , , , , , , ]   \n",
       "5      4    150           [anxiety & depression, , , , , , , , , ]   \n",
       "6      5    113                            [uti, , , , , , , , , ]   \n",
       "7      6     99                     [meningioma, , , , , , , , , ]   \n",
       "8      7     11          [electrolyte imbalance, , , , , , , , , ]   \n",
       "\n",
       "                                      Representation  \\\n",
       "0  [cancer, tumour, carcinoma, lumpectomy, adenoc...   \n",
       "1  [cancer, carcinoma, tumor, tumour, metastasis,...   \n",
       "2  [pneumonitis, infection, covid, amputation, in...   \n",
       "3  [respiratory, pulmonary, lung, emphysema, apne...   \n",
       "4  [cva, dvt, pe, lvsd, pes, lvs, lvf, ckd, prev,...   \n",
       "5  [anxiety, depressive, depression, psychiatric,...   \n",
       "6  [uti, ut, urinary, urinating, uropathy, kidney...   \n",
       "7  [meningioma, meningioma___, menigioma, meningi...   \n",
       "8  [electrolyte, electrolytes, imbalance, dehydra...   \n",
       "\n",
       "                                 Representative_Docs  \n",
       "0  [lung cancer and lobectomy in year redacted, p...  \n",
       "1  [breast cancer year redacted, breast cancer in...  \n",
       "2  [previous covid 19 in april year redacted, cov...  \n",
       "3  [type 1 respiratory failure, pulmonary mets, p...  \n",
       "4  [previous cva and mi, recurrent dvt's & pe, pr...  \n",
       "5  [mixed anxiety disorder, anxiety and depressiv...  \n",
       "6                                    [uti, uti, uti]  \n",
       "7               [meningioma, meningioma, meningioma]  \n",
       "8  [ibd and admission with major electrolyte imba...  "
      ]
     },
     "execution_count": 15,
     "metadata": {},
     "output_type": "execute_result"
    }
   ],
   "source": [
    "topic_model.get_topic_info()"
   ]
  },
  {
   "cell_type": "code",
   "execution_count": 16,
   "metadata": {},
   "outputs": [
    {
     "data": {
      "text/plain": [
       "[('cancer', 0.61546826),\n",
       " ('carcinoma', 0.56458044),\n",
       " ('tumor', 0.55808854),\n",
       " ('tumour', 0.54486686),\n",
       " ('metastasis', 0.5371325),\n",
       " ('malignancy', 0.5318986),\n",
       " ('malignant', 0.5132815),\n",
       " ('metastases', 0.47693974),\n",
       " ('adenocarcinoma', 0.4607199),\n",
       " ('metastatic', 0.45346665)]"
      ]
     },
     "execution_count": 16,
     "metadata": {},
     "output_type": "execute_result"
    }
   ],
   "source": [
    "topic_model.get_topic(0)"
   ]
  },
  {
   "cell_type": "code",
   "execution_count": 17,
   "metadata": {},
   "outputs": [
    {
     "data": {
      "text/html": [
       "<div>\n",
       "<style scoped>\n",
       "    .dataframe tbody tr th:only-of-type {\n",
       "        vertical-align: middle;\n",
       "    }\n",
       "\n",
       "    .dataframe tbody tr th {\n",
       "        vertical-align: top;\n",
       "    }\n",
       "\n",
       "    .dataframe thead th {\n",
       "        text-align: right;\n",
       "    }\n",
       "</style>\n",
       "<table border=\"1\" class=\"dataframe\">\n",
       "  <thead>\n",
       "    <tr style=\"text-align: right;\">\n",
       "      <th></th>\n",
       "      <th>Document</th>\n",
       "      <th>Topic</th>\n",
       "      <th>Name</th>\n",
       "      <th>Representation</th>\n",
       "      <th>Representative_Docs</th>\n",
       "      <th>Top_n_words</th>\n",
       "      <th>Probability</th>\n",
       "      <th>Representative_document</th>\n",
       "    </tr>\n",
       "  </thead>\n",
       "  <tbody>\n",
       "    <tr>\n",
       "      <th>0</th>\n",
       "      <td>ppm insertion</td>\n",
       "      <td>3</td>\n",
       "      <td>[cva, , , , , , , , , ]</td>\n",
       "      <td>[cva, dvt, pe, lvsd, pes, lvs, lvf, ckd, prev,...</td>\n",
       "      <td>[previous cva and mi, recurrent dvt's &amp; pe, pr...</td>\n",
       "      <td>cva - dvt - pe - lvsd - pes - lvs - lvf - ckd ...</td>\n",
       "      <td>0.791406</td>\n",
       "      <td>False</td>\n",
       "    </tr>\n",
       "    <tr>\n",
       "      <th>1</th>\n",
       "      <td>c. diff</td>\n",
       "      <td>-1</td>\n",
       "      <td>[lung cancer with liver and pleural mets, , , ...</td>\n",
       "      <td>[cancer, tumour, carcinoma, lumpectomy, adenoc...</td>\n",
       "      <td>[lung cancer and lobectomy in year redacted, p...</td>\n",
       "      <td>cancer - tumour - carcinoma - lumpectomy - ade...</td>\n",
       "      <td>0.000000</td>\n",
       "      <td>False</td>\n",
       "    </tr>\n",
       "    <tr>\n",
       "      <th>2</th>\n",
       "      <td>diseases of the respiratory system</td>\n",
       "      <td>2</td>\n",
       "      <td>[pulmonary embolism, , , , , , , , , ]</td>\n",
       "      <td>[respiratory, pulmonary, lung, emphysema, apne...</td>\n",
       "      <td>[type 1 respiratory failure, pulmonary mets, p...</td>\n",
       "      <td>respiratory - pulmonary - lung - emphysema - a...</td>\n",
       "      <td>0.531045</td>\n",
       "      <td>False</td>\n",
       "    </tr>\n",
       "    <tr>\n",
       "      <th>3</th>\n",
       "      <td>under investigation for jerky movements at she...</td>\n",
       "      <td>-1</td>\n",
       "      <td>[lung cancer with liver and pleural mets, , , ...</td>\n",
       "      <td>[cancer, tumour, carcinoma, lumpectomy, adenoc...</td>\n",
       "      <td>[lung cancer and lobectomy in year redacted, p...</td>\n",
       "      <td>cancer - tumour - carcinoma - lumpectomy - ade...</td>\n",
       "      <td>0.000000</td>\n",
       "      <td>False</td>\n",
       "    </tr>\n",
       "    <tr>\n",
       "      <th>4</th>\n",
       "      <td>cva hypothyrodism</td>\n",
       "      <td>6</td>\n",
       "      <td>[meningioma, , , , , , , , , ]</td>\n",
       "      <td>[meningioma, meningioma___, menigioma, meningi...</td>\n",
       "      <td>[meningioma, meningioma, meningioma]</td>\n",
       "      <td>meningioma - meningioma___ - menigioma - menin...</td>\n",
       "      <td>0.691257</td>\n",
       "      <td>False</td>\n",
       "    </tr>\n",
       "    <tr>\n",
       "      <th>...</th>\n",
       "      <td>...</td>\n",
       "      <td>...</td>\n",
       "      <td>...</td>\n",
       "      <td>...</td>\n",
       "      <td>...</td>\n",
       "      <td>...</td>\n",
       "      <td>...</td>\n",
       "      <td>...</td>\n",
       "    </tr>\n",
       "    <tr>\n",
       "      <th>5535</th>\n",
       "      <td>mestatic pancoast   tumor identified on ct</td>\n",
       "      <td>0</td>\n",
       "      <td>[metastatic prostate/lung cancer, , , , , , , ...</td>\n",
       "      <td>[cancer, carcinoma, tumor, tumour, metastasis,...</td>\n",
       "      <td>[breast cancer year redacted, breast cancer in...</td>\n",
       "      <td>cancer - carcinoma - tumor - tumour - metastas...</td>\n",
       "      <td>0.364190</td>\n",
       "      <td>False</td>\n",
       "    </tr>\n",
       "    <tr>\n",
       "      <th>5536</th>\n",
       "      <td>known aml</td>\n",
       "      <td>3</td>\n",
       "      <td>[cva, , , , , , , , , ]</td>\n",
       "      <td>[cva, dvt, pe, lvsd, pes, lvs, lvf, ckd, prev,...</td>\n",
       "      <td>[previous cva and mi, recurrent dvt's &amp; pe, pr...</td>\n",
       "      <td>cva - dvt - pe - lvsd - pes - lvs - lvf - ckd ...</td>\n",
       "      <td>1.000000</td>\n",
       "      <td>False</td>\n",
       "    </tr>\n",
       "    <tr>\n",
       "      <th>5537</th>\n",
       "      <td>new lung cancer diagnosis</td>\n",
       "      <td>0</td>\n",
       "      <td>[metastatic prostate/lung cancer, , , , , , , ...</td>\n",
       "      <td>[cancer, carcinoma, tumor, tumour, metastasis,...</td>\n",
       "      <td>[breast cancer year redacted, breast cancer in...</td>\n",
       "      <td>cancer - carcinoma - tumor - tumour - metastas...</td>\n",
       "      <td>1.000000</td>\n",
       "      <td>False</td>\n",
       "    </tr>\n",
       "    <tr>\n",
       "      <th>5538</th>\n",
       "      <td>metastatic breast ca</td>\n",
       "      <td>-1</td>\n",
       "      <td>[lung cancer with liver and pleural mets, , , ...</td>\n",
       "      <td>[cancer, tumour, carcinoma, lumpectomy, adenoc...</td>\n",
       "      <td>[lung cancer and lobectomy in year redacted, p...</td>\n",
       "      <td>cancer - tumour - carcinoma - lumpectomy - ade...</td>\n",
       "      <td>0.000000</td>\n",
       "      <td>False</td>\n",
       "    </tr>\n",
       "    <tr>\n",
       "      <th>5539</th>\n",
       "      <td>acute lymphoblastic leukemia</td>\n",
       "      <td>0</td>\n",
       "      <td>[metastatic prostate/lung cancer, , , , , , , ...</td>\n",
       "      <td>[cancer, carcinoma, tumor, tumour, metastasis,...</td>\n",
       "      <td>[breast cancer year redacted, breast cancer in...</td>\n",
       "      <td>cancer - carcinoma - tumor - tumour - metastas...</td>\n",
       "      <td>1.000000</td>\n",
       "      <td>False</td>\n",
       "    </tr>\n",
       "  </tbody>\n",
       "</table>\n",
       "<p>5540 rows × 8 columns</p>\n",
       "</div>"
      ],
      "text/plain": [
       "                                               Document  Topic  \\\n",
       "0                                         ppm insertion      3   \n",
       "1                                               c. diff     -1   \n",
       "2                    diseases of the respiratory system      2   \n",
       "3     under investigation for jerky movements at she...     -1   \n",
       "4                                     cva hypothyrodism      6   \n",
       "...                                                 ...    ...   \n",
       "5535         mestatic pancoast   tumor identified on ct      0   \n",
       "5536                                          known aml      3   \n",
       "5537                          new lung cancer diagnosis      0   \n",
       "5538                               metastatic breast ca     -1   \n",
       "5539                       acute lymphoblastic leukemia      0   \n",
       "\n",
       "                                                   Name  \\\n",
       "0                               [cva, , , , , , , , , ]   \n",
       "1     [lung cancer with liver and pleural mets, , , ...   \n",
       "2                [pulmonary embolism, , , , , , , , , ]   \n",
       "3     [lung cancer with liver and pleural mets, , , ...   \n",
       "4                        [meningioma, , , , , , , , , ]   \n",
       "...                                                 ...   \n",
       "5535  [metastatic prostate/lung cancer, , , , , , , ...   \n",
       "5536                            [cva, , , , , , , , , ]   \n",
       "5537  [metastatic prostate/lung cancer, , , , , , , ...   \n",
       "5538  [lung cancer with liver and pleural mets, , , ...   \n",
       "5539  [metastatic prostate/lung cancer, , , , , , , ...   \n",
       "\n",
       "                                         Representation  \\\n",
       "0     [cva, dvt, pe, lvsd, pes, lvs, lvf, ckd, prev,...   \n",
       "1     [cancer, tumour, carcinoma, lumpectomy, adenoc...   \n",
       "2     [respiratory, pulmonary, lung, emphysema, apne...   \n",
       "3     [cancer, tumour, carcinoma, lumpectomy, adenoc...   \n",
       "4     [meningioma, meningioma___, menigioma, meningi...   \n",
       "...                                                 ...   \n",
       "5535  [cancer, carcinoma, tumor, tumour, metastasis,...   \n",
       "5536  [cva, dvt, pe, lvsd, pes, lvs, lvf, ckd, prev,...   \n",
       "5537  [cancer, carcinoma, tumor, tumour, metastasis,...   \n",
       "5538  [cancer, tumour, carcinoma, lumpectomy, adenoc...   \n",
       "5539  [cancer, carcinoma, tumor, tumour, metastasis,...   \n",
       "\n",
       "                                    Representative_Docs  \\\n",
       "0     [previous cva and mi, recurrent dvt's & pe, pr...   \n",
       "1     [lung cancer and lobectomy in year redacted, p...   \n",
       "2     [type 1 respiratory failure, pulmonary mets, p...   \n",
       "3     [lung cancer and lobectomy in year redacted, p...   \n",
       "4                  [meningioma, meningioma, meningioma]   \n",
       "...                                                 ...   \n",
       "5535  [breast cancer year redacted, breast cancer in...   \n",
       "5536  [previous cva and mi, recurrent dvt's & pe, pr...   \n",
       "5537  [breast cancer year redacted, breast cancer in...   \n",
       "5538  [lung cancer and lobectomy in year redacted, p...   \n",
       "5539  [breast cancer year redacted, breast cancer in...   \n",
       "\n",
       "                                            Top_n_words  Probability  \\\n",
       "0     cva - dvt - pe - lvsd - pes - lvs - lvf - ckd ...     0.791406   \n",
       "1     cancer - tumour - carcinoma - lumpectomy - ade...     0.000000   \n",
       "2     respiratory - pulmonary - lung - emphysema - a...     0.531045   \n",
       "3     cancer - tumour - carcinoma - lumpectomy - ade...     0.000000   \n",
       "4     meningioma - meningioma___ - menigioma - menin...     0.691257   \n",
       "...                                                 ...          ...   \n",
       "5535  cancer - carcinoma - tumor - tumour - metastas...     0.364190   \n",
       "5536  cva - dvt - pe - lvsd - pes - lvs - lvf - ckd ...     1.000000   \n",
       "5537  cancer - carcinoma - tumor - tumour - metastas...     1.000000   \n",
       "5538  cancer - tumour - carcinoma - lumpectomy - ade...     0.000000   \n",
       "5539  cancer - carcinoma - tumor - tumour - metastas...     1.000000   \n",
       "\n",
       "      Representative_document  \n",
       "0                       False  \n",
       "1                       False  \n",
       "2                       False  \n",
       "3                       False  \n",
       "4                       False  \n",
       "...                       ...  \n",
       "5535                    False  \n",
       "5536                    False  \n",
       "5537                    False  \n",
       "5538                    False  \n",
       "5539                    False  \n",
       "\n",
       "[5540 rows x 8 columns]"
      ]
     },
     "execution_count": 17,
     "metadata": {},
     "output_type": "execute_result"
    }
   ],
   "source": [
    "topic_model.get_document_info(docs)"
   ]
  },
  {
   "cell_type": "code",
   "execution_count": 18,
   "metadata": {},
   "outputs": [
    {
     "data": {
      "application/vnd.plotly.v1+json": {
       "config": {
        "plotlyServerURL": "https://plot.ly"
       },
       "data": [
        {
         "customdata": [
          [
           0,
           "cancer | carcinoma | tumor | tumour | metastasis",
           2358
          ],
          [
           1,
           "pneumonitis | infection | covid | amputation | infected",
           1190
          ],
          [
           2,
           "respiratory | pulmonary | lung | emphysema | apnea",
           425
          ],
          [
           3,
           "cva | dvt | pe | lvsd | pes",
           241
          ],
          [
           4,
           "anxiety | depressive | depression | psychiatric | disorders",
           150
          ],
          [
           5,
           "uti | ut | urinary | urinating | uropathy",
           113
          ],
          [
           6,
           "meningioma | meningioma___ | menigioma | meningiomal | hypothryoid",
           99
          ],
          [
           7,
           "electrolyte | electrolytes | imbalance | dehydration | iatrogene",
           11
          ]
         ],
         "hovertemplate": "<b>Topic %{customdata[0]}</b><br>%{customdata[1]}<br>Size: %{customdata[2]}",
         "legendgroup": "",
         "marker": {
          "color": "#B0BEC5",
          "line": {
           "color": "DarkSlateGrey",
           "width": 2
          },
          "size": [
           2358,
           1190,
           425,
           241,
           150,
           113,
           99,
           11
          ],
          "sizemode": "area",
          "sizeref": 1.47375,
          "symbol": "circle"
         },
         "mode": "markers",
         "name": "",
         "orientation": "v",
         "showlegend": false,
         "type": "scatter",
         "x": [
          5.254054546356201,
          4.585725784301758,
          5.7225446701049805,
          4.336771488189697,
          4.3564300537109375,
          4.978585243225098,
          5.636265754699707,
          3.5482559204101562
         ],
         "xaxis": "x",
         "y": [
          6.843263626098633,
          6.215777397155762,
          3.4739620685577393,
          5.7774200439453125,
          6.822501182556152,
          5.593450546264648,
          6.786478042602539,
          6.254298210144043
         ],
         "yaxis": "y"
        }
       ],
       "layout": {
        "annotations": [
         {
          "showarrow": false,
          "text": "D1",
          "x": 3.016017532348633,
          "y": 5.411310464143753,
          "yshift": 10
         },
         {
          "showarrow": false,
          "text": "D2",
          "x": 4.7984719514846805,
          "xshift": 10,
          "y": 7.869753170013428
         }
        ],
        "height": 650,
        "hoverlabel": {
         "bgcolor": "white",
         "font": {
          "family": "Rockwell",
          "size": 16
         }
        },
        "legend": {
         "itemsizing": "constant",
         "tracegroupgap": 0
        },
        "margin": {
         "t": 60
        },
        "shapes": [
         {
          "line": {
           "color": "#CFD8DC",
           "width": 2
          },
          "type": "line",
          "x0": 4.7984719514846805,
          "x1": 4.7984719514846805,
          "y0": 2.9528677582740785,
          "y1": 7.869753170013428
         },
         {
          "line": {
           "color": "#9E9E9E",
           "width": 2
          },
          "type": "line",
          "x0": 3.016017532348633,
          "x1": 6.580926370620728,
          "y0": 5.411310464143753,
          "y1": 5.411310464143753
         }
        ],
        "sliders": [
         {
          "active": 0,
          "pad": {
           "t": 50
          },
          "steps": [
           {
            "args": [
             {
              "marker.color": [
               [
                "red",
                "#B0BEC5",
                "#B0BEC5",
                "#B0BEC5",
                "#B0BEC5",
                "#B0BEC5",
                "#B0BEC5",
                "#B0BEC5"
               ]
              ]
             }
            ],
            "label": "Topic 0",
            "method": "update"
           },
           {
            "args": [
             {
              "marker.color": [
               [
                "#B0BEC5",
                "red",
                "#B0BEC5",
                "#B0BEC5",
                "#B0BEC5",
                "#B0BEC5",
                "#B0BEC5",
                "#B0BEC5"
               ]
              ]
             }
            ],
            "label": "Topic 1",
            "method": "update"
           },
           {
            "args": [
             {
              "marker.color": [
               [
                "#B0BEC5",
                "#B0BEC5",
                "red",
                "#B0BEC5",
                "#B0BEC5",
                "#B0BEC5",
                "#B0BEC5",
                "#B0BEC5"
               ]
              ]
             }
            ],
            "label": "Topic 2",
            "method": "update"
           },
           {
            "args": [
             {
              "marker.color": [
               [
                "#B0BEC5",
                "#B0BEC5",
                "#B0BEC5",
                "red",
                "#B0BEC5",
                "#B0BEC5",
                "#B0BEC5",
                "#B0BEC5"
               ]
              ]
             }
            ],
            "label": "Topic 3",
            "method": "update"
           },
           {
            "args": [
             {
              "marker.color": [
               [
                "#B0BEC5",
                "#B0BEC5",
                "#B0BEC5",
                "#B0BEC5",
                "red",
                "#B0BEC5",
                "#B0BEC5",
                "#B0BEC5"
               ]
              ]
             }
            ],
            "label": "Topic 4",
            "method": "update"
           },
           {
            "args": [
             {
              "marker.color": [
               [
                "#B0BEC5",
                "#B0BEC5",
                "#B0BEC5",
                "#B0BEC5",
                "#B0BEC5",
                "red",
                "#B0BEC5",
                "#B0BEC5"
               ]
              ]
             }
            ],
            "label": "Topic 5",
            "method": "update"
           },
           {
            "args": [
             {
              "marker.color": [
               [
                "#B0BEC5",
                "#B0BEC5",
                "#B0BEC5",
                "#B0BEC5",
                "#B0BEC5",
                "#B0BEC5",
                "red",
                "#B0BEC5"
               ]
              ]
             }
            ],
            "label": "Topic 6",
            "method": "update"
           },
           {
            "args": [
             {
              "marker.color": [
               [
                "#B0BEC5",
                "#B0BEC5",
                "#B0BEC5",
                "#B0BEC5",
                "#B0BEC5",
                "#B0BEC5",
                "#B0BEC5",
                "red"
               ]
              ]
             }
            ],
            "label": "Topic 7",
            "method": "update"
           }
          ]
         }
        ],
        "template": {
         "data": {
          "bar": [
           {
            "error_x": {
             "color": "rgb(36,36,36)"
            },
            "error_y": {
             "color": "rgb(36,36,36)"
            },
            "marker": {
             "line": {
              "color": "white",
              "width": 0.5
             },
             "pattern": {
              "fillmode": "overlay",
              "size": 10,
              "solidity": 0.2
             }
            },
            "type": "bar"
           }
          ],
          "barpolar": [
           {
            "marker": {
             "line": {
              "color": "white",
              "width": 0.5
             },
             "pattern": {
              "fillmode": "overlay",
              "size": 10,
              "solidity": 0.2
             }
            },
            "type": "barpolar"
           }
          ],
          "carpet": [
           {
            "aaxis": {
             "endlinecolor": "rgb(36,36,36)",
             "gridcolor": "white",
             "linecolor": "white",
             "minorgridcolor": "white",
             "startlinecolor": "rgb(36,36,36)"
            },
            "baxis": {
             "endlinecolor": "rgb(36,36,36)",
             "gridcolor": "white",
             "linecolor": "white",
             "minorgridcolor": "white",
             "startlinecolor": "rgb(36,36,36)"
            },
            "type": "carpet"
           }
          ],
          "choropleth": [
           {
            "colorbar": {
             "outlinewidth": 1,
             "tickcolor": "rgb(36,36,36)",
             "ticks": "outside"
            },
            "type": "choropleth"
           }
          ],
          "contour": [
           {
            "colorbar": {
             "outlinewidth": 1,
             "tickcolor": "rgb(36,36,36)",
             "ticks": "outside"
            },
            "colorscale": [
             [
              0,
              "#440154"
             ],
             [
              0.1111111111111111,
              "#482878"
             ],
             [
              0.2222222222222222,
              "#3e4989"
             ],
             [
              0.3333333333333333,
              "#31688e"
             ],
             [
              0.4444444444444444,
              "#26828e"
             ],
             [
              0.5555555555555556,
              "#1f9e89"
             ],
             [
              0.6666666666666666,
              "#35b779"
             ],
             [
              0.7777777777777778,
              "#6ece58"
             ],
             [
              0.8888888888888888,
              "#b5de2b"
             ],
             [
              1,
              "#fde725"
             ]
            ],
            "type": "contour"
           }
          ],
          "contourcarpet": [
           {
            "colorbar": {
             "outlinewidth": 1,
             "tickcolor": "rgb(36,36,36)",
             "ticks": "outside"
            },
            "type": "contourcarpet"
           }
          ],
          "heatmap": [
           {
            "colorbar": {
             "outlinewidth": 1,
             "tickcolor": "rgb(36,36,36)",
             "ticks": "outside"
            },
            "colorscale": [
             [
              0,
              "#440154"
             ],
             [
              0.1111111111111111,
              "#482878"
             ],
             [
              0.2222222222222222,
              "#3e4989"
             ],
             [
              0.3333333333333333,
              "#31688e"
             ],
             [
              0.4444444444444444,
              "#26828e"
             ],
             [
              0.5555555555555556,
              "#1f9e89"
             ],
             [
              0.6666666666666666,
              "#35b779"
             ],
             [
              0.7777777777777778,
              "#6ece58"
             ],
             [
              0.8888888888888888,
              "#b5de2b"
             ],
             [
              1,
              "#fde725"
             ]
            ],
            "type": "heatmap"
           }
          ],
          "heatmapgl": [
           {
            "colorbar": {
             "outlinewidth": 1,
             "tickcolor": "rgb(36,36,36)",
             "ticks": "outside"
            },
            "colorscale": [
             [
              0,
              "#440154"
             ],
             [
              0.1111111111111111,
              "#482878"
             ],
             [
              0.2222222222222222,
              "#3e4989"
             ],
             [
              0.3333333333333333,
              "#31688e"
             ],
             [
              0.4444444444444444,
              "#26828e"
             ],
             [
              0.5555555555555556,
              "#1f9e89"
             ],
             [
              0.6666666666666666,
              "#35b779"
             ],
             [
              0.7777777777777778,
              "#6ece58"
             ],
             [
              0.8888888888888888,
              "#b5de2b"
             ],
             [
              1,
              "#fde725"
             ]
            ],
            "type": "heatmapgl"
           }
          ],
          "histogram": [
           {
            "marker": {
             "line": {
              "color": "white",
              "width": 0.6
             }
            },
            "type": "histogram"
           }
          ],
          "histogram2d": [
           {
            "colorbar": {
             "outlinewidth": 1,
             "tickcolor": "rgb(36,36,36)",
             "ticks": "outside"
            },
            "colorscale": [
             [
              0,
              "#440154"
             ],
             [
              0.1111111111111111,
              "#482878"
             ],
             [
              0.2222222222222222,
              "#3e4989"
             ],
             [
              0.3333333333333333,
              "#31688e"
             ],
             [
              0.4444444444444444,
              "#26828e"
             ],
             [
              0.5555555555555556,
              "#1f9e89"
             ],
             [
              0.6666666666666666,
              "#35b779"
             ],
             [
              0.7777777777777778,
              "#6ece58"
             ],
             [
              0.8888888888888888,
              "#b5de2b"
             ],
             [
              1,
              "#fde725"
             ]
            ],
            "type": "histogram2d"
           }
          ],
          "histogram2dcontour": [
           {
            "colorbar": {
             "outlinewidth": 1,
             "tickcolor": "rgb(36,36,36)",
             "ticks": "outside"
            },
            "colorscale": [
             [
              0,
              "#440154"
             ],
             [
              0.1111111111111111,
              "#482878"
             ],
             [
              0.2222222222222222,
              "#3e4989"
             ],
             [
              0.3333333333333333,
              "#31688e"
             ],
             [
              0.4444444444444444,
              "#26828e"
             ],
             [
              0.5555555555555556,
              "#1f9e89"
             ],
             [
              0.6666666666666666,
              "#35b779"
             ],
             [
              0.7777777777777778,
              "#6ece58"
             ],
             [
              0.8888888888888888,
              "#b5de2b"
             ],
             [
              1,
              "#fde725"
             ]
            ],
            "type": "histogram2dcontour"
           }
          ],
          "mesh3d": [
           {
            "colorbar": {
             "outlinewidth": 1,
             "tickcolor": "rgb(36,36,36)",
             "ticks": "outside"
            },
            "type": "mesh3d"
           }
          ],
          "parcoords": [
           {
            "line": {
             "colorbar": {
              "outlinewidth": 1,
              "tickcolor": "rgb(36,36,36)",
              "ticks": "outside"
             }
            },
            "type": "parcoords"
           }
          ],
          "pie": [
           {
            "automargin": true,
            "type": "pie"
           }
          ],
          "scatter": [
           {
            "fillpattern": {
             "fillmode": "overlay",
             "size": 10,
             "solidity": 0.2
            },
            "type": "scatter"
           }
          ],
          "scatter3d": [
           {
            "line": {
             "colorbar": {
              "outlinewidth": 1,
              "tickcolor": "rgb(36,36,36)",
              "ticks": "outside"
             }
            },
            "marker": {
             "colorbar": {
              "outlinewidth": 1,
              "tickcolor": "rgb(36,36,36)",
              "ticks": "outside"
             }
            },
            "type": "scatter3d"
           }
          ],
          "scattercarpet": [
           {
            "marker": {
             "colorbar": {
              "outlinewidth": 1,
              "tickcolor": "rgb(36,36,36)",
              "ticks": "outside"
             }
            },
            "type": "scattercarpet"
           }
          ],
          "scattergeo": [
           {
            "marker": {
             "colorbar": {
              "outlinewidth": 1,
              "tickcolor": "rgb(36,36,36)",
              "ticks": "outside"
             }
            },
            "type": "scattergeo"
           }
          ],
          "scattergl": [
           {
            "marker": {
             "colorbar": {
              "outlinewidth": 1,
              "tickcolor": "rgb(36,36,36)",
              "ticks": "outside"
             }
            },
            "type": "scattergl"
           }
          ],
          "scattermapbox": [
           {
            "marker": {
             "colorbar": {
              "outlinewidth": 1,
              "tickcolor": "rgb(36,36,36)",
              "ticks": "outside"
             }
            },
            "type": "scattermapbox"
           }
          ],
          "scatterpolar": [
           {
            "marker": {
             "colorbar": {
              "outlinewidth": 1,
              "tickcolor": "rgb(36,36,36)",
              "ticks": "outside"
             }
            },
            "type": "scatterpolar"
           }
          ],
          "scatterpolargl": [
           {
            "marker": {
             "colorbar": {
              "outlinewidth": 1,
              "tickcolor": "rgb(36,36,36)",
              "ticks": "outside"
             }
            },
            "type": "scatterpolargl"
           }
          ],
          "scatterternary": [
           {
            "marker": {
             "colorbar": {
              "outlinewidth": 1,
              "tickcolor": "rgb(36,36,36)",
              "ticks": "outside"
             }
            },
            "type": "scatterternary"
           }
          ],
          "surface": [
           {
            "colorbar": {
             "outlinewidth": 1,
             "tickcolor": "rgb(36,36,36)",
             "ticks": "outside"
            },
            "colorscale": [
             [
              0,
              "#440154"
             ],
             [
              0.1111111111111111,
              "#482878"
             ],
             [
              0.2222222222222222,
              "#3e4989"
             ],
             [
              0.3333333333333333,
              "#31688e"
             ],
             [
              0.4444444444444444,
              "#26828e"
             ],
             [
              0.5555555555555556,
              "#1f9e89"
             ],
             [
              0.6666666666666666,
              "#35b779"
             ],
             [
              0.7777777777777778,
              "#6ece58"
             ],
             [
              0.8888888888888888,
              "#b5de2b"
             ],
             [
              1,
              "#fde725"
             ]
            ],
            "type": "surface"
           }
          ],
          "table": [
           {
            "cells": {
             "fill": {
              "color": "rgb(237,237,237)"
             },
             "line": {
              "color": "white"
             }
            },
            "header": {
             "fill": {
              "color": "rgb(217,217,217)"
             },
             "line": {
              "color": "white"
             }
            },
            "type": "table"
           }
          ]
         },
         "layout": {
          "annotationdefaults": {
           "arrowhead": 0,
           "arrowwidth": 1
          },
          "autotypenumbers": "strict",
          "coloraxis": {
           "colorbar": {
            "outlinewidth": 1,
            "tickcolor": "rgb(36,36,36)",
            "ticks": "outside"
           }
          },
          "colorscale": {
           "diverging": [
            [
             0,
             "rgb(103,0,31)"
            ],
            [
             0.1,
             "rgb(178,24,43)"
            ],
            [
             0.2,
             "rgb(214,96,77)"
            ],
            [
             0.3,
             "rgb(244,165,130)"
            ],
            [
             0.4,
             "rgb(253,219,199)"
            ],
            [
             0.5,
             "rgb(247,247,247)"
            ],
            [
             0.6,
             "rgb(209,229,240)"
            ],
            [
             0.7,
             "rgb(146,197,222)"
            ],
            [
             0.8,
             "rgb(67,147,195)"
            ],
            [
             0.9,
             "rgb(33,102,172)"
            ],
            [
             1,
             "rgb(5,48,97)"
            ]
           ],
           "sequential": [
            [
             0,
             "#440154"
            ],
            [
             0.1111111111111111,
             "#482878"
            ],
            [
             0.2222222222222222,
             "#3e4989"
            ],
            [
             0.3333333333333333,
             "#31688e"
            ],
            [
             0.4444444444444444,
             "#26828e"
            ],
            [
             0.5555555555555556,
             "#1f9e89"
            ],
            [
             0.6666666666666666,
             "#35b779"
            ],
            [
             0.7777777777777778,
             "#6ece58"
            ],
            [
             0.8888888888888888,
             "#b5de2b"
            ],
            [
             1,
             "#fde725"
            ]
           ],
           "sequentialminus": [
            [
             0,
             "#440154"
            ],
            [
             0.1111111111111111,
             "#482878"
            ],
            [
             0.2222222222222222,
             "#3e4989"
            ],
            [
             0.3333333333333333,
             "#31688e"
            ],
            [
             0.4444444444444444,
             "#26828e"
            ],
            [
             0.5555555555555556,
             "#1f9e89"
            ],
            [
             0.6666666666666666,
             "#35b779"
            ],
            [
             0.7777777777777778,
             "#6ece58"
            ],
            [
             0.8888888888888888,
             "#b5de2b"
            ],
            [
             1,
             "#fde725"
            ]
           ]
          },
          "colorway": [
           "#1F77B4",
           "#FF7F0E",
           "#2CA02C",
           "#D62728",
           "#9467BD",
           "#8C564B",
           "#E377C2",
           "#7F7F7F",
           "#BCBD22",
           "#17BECF"
          ],
          "font": {
           "color": "rgb(36,36,36)"
          },
          "geo": {
           "bgcolor": "white",
           "lakecolor": "white",
           "landcolor": "white",
           "showlakes": true,
           "showland": true,
           "subunitcolor": "white"
          },
          "hoverlabel": {
           "align": "left"
          },
          "hovermode": "closest",
          "mapbox": {
           "style": "light"
          },
          "paper_bgcolor": "white",
          "plot_bgcolor": "white",
          "polar": {
           "angularaxis": {
            "gridcolor": "rgb(232,232,232)",
            "linecolor": "rgb(36,36,36)",
            "showgrid": false,
            "showline": true,
            "ticks": "outside"
           },
           "bgcolor": "white",
           "radialaxis": {
            "gridcolor": "rgb(232,232,232)",
            "linecolor": "rgb(36,36,36)",
            "showgrid": false,
            "showline": true,
            "ticks": "outside"
           }
          },
          "scene": {
           "xaxis": {
            "backgroundcolor": "white",
            "gridcolor": "rgb(232,232,232)",
            "gridwidth": 2,
            "linecolor": "rgb(36,36,36)",
            "showbackground": true,
            "showgrid": false,
            "showline": true,
            "ticks": "outside",
            "zeroline": false,
            "zerolinecolor": "rgb(36,36,36)"
           },
           "yaxis": {
            "backgroundcolor": "white",
            "gridcolor": "rgb(232,232,232)",
            "gridwidth": 2,
            "linecolor": "rgb(36,36,36)",
            "showbackground": true,
            "showgrid": false,
            "showline": true,
            "ticks": "outside",
            "zeroline": false,
            "zerolinecolor": "rgb(36,36,36)"
           },
           "zaxis": {
            "backgroundcolor": "white",
            "gridcolor": "rgb(232,232,232)",
            "gridwidth": 2,
            "linecolor": "rgb(36,36,36)",
            "showbackground": true,
            "showgrid": false,
            "showline": true,
            "ticks": "outside",
            "zeroline": false,
            "zerolinecolor": "rgb(36,36,36)"
           }
          },
          "shapedefaults": {
           "fillcolor": "black",
           "line": {
            "width": 0
           },
           "opacity": 0.3
          },
          "ternary": {
           "aaxis": {
            "gridcolor": "rgb(232,232,232)",
            "linecolor": "rgb(36,36,36)",
            "showgrid": false,
            "showline": true,
            "ticks": "outside"
           },
           "baxis": {
            "gridcolor": "rgb(232,232,232)",
            "linecolor": "rgb(36,36,36)",
            "showgrid": false,
            "showline": true,
            "ticks": "outside"
           },
           "bgcolor": "white",
           "caxis": {
            "gridcolor": "rgb(232,232,232)",
            "linecolor": "rgb(36,36,36)",
            "showgrid": false,
            "showline": true,
            "ticks": "outside"
           }
          },
          "title": {
           "x": 0.05
          },
          "xaxis": {
           "automargin": true,
           "gridcolor": "rgb(232,232,232)",
           "linecolor": "rgb(36,36,36)",
           "showgrid": false,
           "showline": true,
           "ticks": "outside",
           "title": {
            "standoff": 15
           },
           "zeroline": false,
           "zerolinecolor": "rgb(36,36,36)"
          },
          "yaxis": {
           "automargin": true,
           "gridcolor": "rgb(232,232,232)",
           "linecolor": "rgb(36,36,36)",
           "showgrid": false,
           "showline": true,
           "ticks": "outside",
           "title": {
            "standoff": 15
           },
           "zeroline": false,
           "zerolinecolor": "rgb(36,36,36)"
          }
         }
        },
        "title": {
         "font": {
          "color": "Black",
          "size": 22
         },
         "text": "<b>Intertopic Distance Map</b>",
         "x": 0.5,
         "xanchor": "center",
         "y": 0.95,
         "yanchor": "top"
        },
        "width": 650,
        "xaxis": {
         "anchor": "y",
         "domain": [
          0,
          1
         ],
         "range": [
          3.016017532348633,
          6.580926370620728
         ],
         "title": {
          "text": ""
         },
         "visible": false
        },
        "yaxis": {
         "anchor": "x",
         "domain": [
          0,
          1
         ],
         "range": [
          2.9528677582740785,
          7.869753170013428
         ],
         "title": {
          "text": ""
         },
         "visible": false
        }
       }
      }
     },
     "metadata": {},
     "output_type": "display_data"
    }
   ],
   "source": [
    "topic_model.visualize_topics()\n"
   ]
  },
  {
   "cell_type": "code",
   "execution_count": 19,
   "metadata": {},
   "outputs": [
    {
     "data": {
      "text/plain": [
       "['lung cancer with liver and pleural mets<br>n=953',\n",
       " 'metastatic prostate/lung cancer<br>n=2358',\n",
       " 'diabetic ketoacidosis<br>n=1190',\n",
       " 'pulmonary embolism<br>n=425',\n",
       " 'cva<br>n=241',\n",
       " 'anxiety & depression<br>n=150',\n",
       " 'uti<br>n=113',\n",
       " 'meningioma<br>n=99',\n",
       " 'electrolyte imbalance<br>n=11']"
      ]
     },
     "execution_count": 19,
     "metadata": {},
     "output_type": "execute_result"
    }
   ],
   "source": [
    "custom_labels = list(topic_model.get_topic_info()['Name'].apply(lambda x: x[0]))\n",
    "counts = list(topic_model.get_topic_info()['Count'])\n",
    "custom_labels = [label + f\"<br>n={count}\" for label, count in zip(custom_labels, counts)]\n",
    "custom_labels"
   ]
  },
  {
   "cell_type": "code",
   "execution_count": 20,
   "metadata": {},
   "outputs": [],
   "source": [
    "topic_model.set_topic_labels(custom_labels)"
   ]
  },
  {
   "cell_type": "code",
   "execution_count": 21,
   "metadata": {},
   "outputs": [
    {
     "data": {
      "application/vnd.plotly.v1+json": {
       "config": {
        "plotlyServerURL": "https://plot.ly"
       },
       "data": [
        {
         "marker": {
          "color": "#D55E00"
         },
         "orientation": "h",
         "type": "bar",
         "x": [
          0.5371325016021729,
          0.5448668599128723,
          0.5580885410308838,
          0.5645804405212402,
          0.6154682636260986
         ],
         "xaxis": "x",
         "y": [
          "metastasis  ",
          "tumour  ",
          "tumor  ",
          "carcinoma  ",
          "cancer  "
         ],
         "yaxis": "y"
        },
        {
         "marker": {
          "color": "#0072B2"
         },
         "orientation": "h",
         "type": "bar",
         "x": [
          0.4093211889266968,
          0.4231354296207428,
          0.4748738706111908,
          0.502004861831665,
          0.5047401189804077
         ],
         "xaxis": "x2",
         "y": [
          "infected  ",
          "amputation  ",
          "covid  ",
          "infection  ",
          "pneumonitis  "
         ],
         "yaxis": "y2"
        },
        {
         "marker": {
          "color": "#CC79A7"
         },
         "orientation": "h",
         "type": "bar",
         "x": [
          0.5150361061096191,
          0.5291674137115479,
          0.5857927799224854,
          0.636563777923584,
          0.6505413055419922
         ],
         "xaxis": "x3",
         "y": [
          "apnea  ",
          "emphysema  ",
          "lung  ",
          "pulmonary  ",
          "respiratory  "
         ],
         "yaxis": "y3"
        },
        {
         "marker": {
          "color": "#E69F00"
         },
         "orientation": "h",
         "type": "bar",
         "x": [
          0.4054509997367859,
          0.4198801517486572,
          0.4557585120201111,
          0.5806030631065369,
          0.7359272837638855
         ],
         "xaxis": "x4",
         "y": [
          "pes  ",
          "lvsd  ",
          "pe  ",
          "dvt  ",
          "cva  "
         ],
         "yaxis": "y4"
        },
        {
         "marker": {
          "color": "#56B4E9"
         },
         "orientation": "h",
         "type": "bar",
         "x": [
          0.5826400518417358,
          0.616186797618866,
          0.619916558265686,
          0.6303350925445557,
          0.8838968873023987
         ],
         "xaxis": "x5",
         "y": [
          "disorders  ",
          "psychiatric  ",
          "depression  ",
          "depressive  ",
          "anxiety  "
         ],
         "yaxis": "y5"
        },
        {
         "marker": {
          "color": "#009E73"
         },
         "orientation": "h",
         "type": "bar",
         "x": [
          0.5640944242477417,
          0.5936871767044067,
          0.6263344883918762,
          0.6419233083724976,
          0.9735255241394043
         ],
         "xaxis": "x6",
         "y": [
          "uropathy  ",
          "urinating  ",
          "urinary  ",
          "ut  ",
          "uti  "
         ],
         "yaxis": "y6"
        },
        {
         "marker": {
          "color": "#F0E442"
         },
         "orientation": "h",
         "type": "bar",
         "x": [
          0.4241124391555786,
          0.904808759689331,
          0.9248080253601074,
          0.9613588452339172,
          1.000000238418579
         ],
         "xaxis": "x7",
         "y": [
          "hypothryoid  ",
          "meningiomal  ",
          "menigioma  ",
          "meningioma___  ",
          "meningioma  "
         ],
         "yaxis": "y7"
        },
        {
         "marker": {
          "color": "#D55E00"
         },
         "orientation": "h",
         "type": "bar",
         "x": [
          0.2633659243583679,
          0.38550877571105957,
          0.39146655797958374,
          0.7018439173698425,
          0.7397472858428955
         ],
         "xaxis": "x8",
         "y": [
          "iatrogene  ",
          "dehydration  ",
          "imbalance  ",
          "electrolytes  ",
          "electrolyte  "
         ],
         "yaxis": "y8"
        }
       ],
       "layout": {
        "annotations": [
         {
          "font": {
           "size": 16
          },
          "showarrow": false,
          "text": "metastatic prostate/lung cancer<br>n=2358",
          "x": 0.0875,
          "xanchor": "center",
          "xref": "paper",
          "y": 1,
          "yanchor": "bottom",
          "yref": "paper"
         },
         {
          "font": {
           "size": 16
          },
          "showarrow": false,
          "text": "diabetic ketoacidosis<br>n=1190",
          "x": 0.36250000000000004,
          "xanchor": "center",
          "xref": "paper",
          "y": 1,
          "yanchor": "bottom",
          "yref": "paper"
         },
         {
          "font": {
           "size": 16
          },
          "showarrow": false,
          "text": "pulmonary embolism<br>n=425",
          "x": 0.6375000000000001,
          "xanchor": "center",
          "xref": "paper",
          "y": 1,
          "yanchor": "bottom",
          "yref": "paper"
         },
         {
          "font": {
           "size": 16
          },
          "showarrow": false,
          "text": "cva<br>n=241",
          "x": 0.9125,
          "xanchor": "center",
          "xref": "paper",
          "y": 1,
          "yanchor": "bottom",
          "yref": "paper"
         },
         {
          "font": {
           "size": 16
          },
          "showarrow": false,
          "text": "anxiety & depression<br>n=150",
          "x": 0.0875,
          "xanchor": "center",
          "xref": "paper",
          "y": 0.4,
          "yanchor": "bottom",
          "yref": "paper"
         },
         {
          "font": {
           "size": 16
          },
          "showarrow": false,
          "text": "uti<br>n=113",
          "x": 0.36250000000000004,
          "xanchor": "center",
          "xref": "paper",
          "y": 0.4,
          "yanchor": "bottom",
          "yref": "paper"
         },
         {
          "font": {
           "size": 16
          },
          "showarrow": false,
          "text": "meningioma<br>n=99",
          "x": 0.6375000000000001,
          "xanchor": "center",
          "xref": "paper",
          "y": 0.4,
          "yanchor": "bottom",
          "yref": "paper"
         },
         {
          "font": {
           "size": 16
          },
          "showarrow": false,
          "text": "electrolyte imbalance<br>n=11",
          "x": 0.9125,
          "xanchor": "center",
          "xref": "paper",
          "y": 0.4,
          "yanchor": "bottom",
          "yref": "paper"
         },
         {
          "showarrow": false,
          "text": "c-TF-IDF score",
          "x": 0.5,
          "xref": "paper",
          "y": -0.15,
          "yref": "paper"
         }
        ],
        "height": 500,
        "hoverlabel": {
         "bgcolor": "white",
         "font": {
          "family": "Rockwell",
          "size": 16
         }
        },
        "showlegend": false,
        "template": {
         "data": {
          "bar": [
           {
            "error_x": {
             "color": "#2a3f5f"
            },
            "error_y": {
             "color": "#2a3f5f"
            },
            "marker": {
             "line": {
              "color": "white",
              "width": 0.5
             },
             "pattern": {
              "fillmode": "overlay",
              "size": 10,
              "solidity": 0.2
             }
            },
            "type": "bar"
           }
          ],
          "barpolar": [
           {
            "marker": {
             "line": {
              "color": "white",
              "width": 0.5
             },
             "pattern": {
              "fillmode": "overlay",
              "size": 10,
              "solidity": 0.2
             }
            },
            "type": "barpolar"
           }
          ],
          "carpet": [
           {
            "aaxis": {
             "endlinecolor": "#2a3f5f",
             "gridcolor": "#C8D4E3",
             "linecolor": "#C8D4E3",
             "minorgridcolor": "#C8D4E3",
             "startlinecolor": "#2a3f5f"
            },
            "baxis": {
             "endlinecolor": "#2a3f5f",
             "gridcolor": "#C8D4E3",
             "linecolor": "#C8D4E3",
             "minorgridcolor": "#C8D4E3",
             "startlinecolor": "#2a3f5f"
            },
            "type": "carpet"
           }
          ],
          "choropleth": [
           {
            "colorbar": {
             "outlinewidth": 0,
             "ticks": ""
            },
            "type": "choropleth"
           }
          ],
          "contour": [
           {
            "colorbar": {
             "outlinewidth": 0,
             "ticks": ""
            },
            "colorscale": [
             [
              0,
              "#0d0887"
             ],
             [
              0.1111111111111111,
              "#46039f"
             ],
             [
              0.2222222222222222,
              "#7201a8"
             ],
             [
              0.3333333333333333,
              "#9c179e"
             ],
             [
              0.4444444444444444,
              "#bd3786"
             ],
             [
              0.5555555555555556,
              "#d8576b"
             ],
             [
              0.6666666666666666,
              "#ed7953"
             ],
             [
              0.7777777777777778,
              "#fb9f3a"
             ],
             [
              0.8888888888888888,
              "#fdca26"
             ],
             [
              1,
              "#f0f921"
             ]
            ],
            "type": "contour"
           }
          ],
          "contourcarpet": [
           {
            "colorbar": {
             "outlinewidth": 0,
             "ticks": ""
            },
            "type": "contourcarpet"
           }
          ],
          "heatmap": [
           {
            "colorbar": {
             "outlinewidth": 0,
             "ticks": ""
            },
            "colorscale": [
             [
              0,
              "#0d0887"
             ],
             [
              0.1111111111111111,
              "#46039f"
             ],
             [
              0.2222222222222222,
              "#7201a8"
             ],
             [
              0.3333333333333333,
              "#9c179e"
             ],
             [
              0.4444444444444444,
              "#bd3786"
             ],
             [
              0.5555555555555556,
              "#d8576b"
             ],
             [
              0.6666666666666666,
              "#ed7953"
             ],
             [
              0.7777777777777778,
              "#fb9f3a"
             ],
             [
              0.8888888888888888,
              "#fdca26"
             ],
             [
              1,
              "#f0f921"
             ]
            ],
            "type": "heatmap"
           }
          ],
          "heatmapgl": [
           {
            "colorbar": {
             "outlinewidth": 0,
             "ticks": ""
            },
            "colorscale": [
             [
              0,
              "#0d0887"
             ],
             [
              0.1111111111111111,
              "#46039f"
             ],
             [
              0.2222222222222222,
              "#7201a8"
             ],
             [
              0.3333333333333333,
              "#9c179e"
             ],
             [
              0.4444444444444444,
              "#bd3786"
             ],
             [
              0.5555555555555556,
              "#d8576b"
             ],
             [
              0.6666666666666666,
              "#ed7953"
             ],
             [
              0.7777777777777778,
              "#fb9f3a"
             ],
             [
              0.8888888888888888,
              "#fdca26"
             ],
             [
              1,
              "#f0f921"
             ]
            ],
            "type": "heatmapgl"
           }
          ],
          "histogram": [
           {
            "marker": {
             "pattern": {
              "fillmode": "overlay",
              "size": 10,
              "solidity": 0.2
             }
            },
            "type": "histogram"
           }
          ],
          "histogram2d": [
           {
            "colorbar": {
             "outlinewidth": 0,
             "ticks": ""
            },
            "colorscale": [
             [
              0,
              "#0d0887"
             ],
             [
              0.1111111111111111,
              "#46039f"
             ],
             [
              0.2222222222222222,
              "#7201a8"
             ],
             [
              0.3333333333333333,
              "#9c179e"
             ],
             [
              0.4444444444444444,
              "#bd3786"
             ],
             [
              0.5555555555555556,
              "#d8576b"
             ],
             [
              0.6666666666666666,
              "#ed7953"
             ],
             [
              0.7777777777777778,
              "#fb9f3a"
             ],
             [
              0.8888888888888888,
              "#fdca26"
             ],
             [
              1,
              "#f0f921"
             ]
            ],
            "type": "histogram2d"
           }
          ],
          "histogram2dcontour": [
           {
            "colorbar": {
             "outlinewidth": 0,
             "ticks": ""
            },
            "colorscale": [
             [
              0,
              "#0d0887"
             ],
             [
              0.1111111111111111,
              "#46039f"
             ],
             [
              0.2222222222222222,
              "#7201a8"
             ],
             [
              0.3333333333333333,
              "#9c179e"
             ],
             [
              0.4444444444444444,
              "#bd3786"
             ],
             [
              0.5555555555555556,
              "#d8576b"
             ],
             [
              0.6666666666666666,
              "#ed7953"
             ],
             [
              0.7777777777777778,
              "#fb9f3a"
             ],
             [
              0.8888888888888888,
              "#fdca26"
             ],
             [
              1,
              "#f0f921"
             ]
            ],
            "type": "histogram2dcontour"
           }
          ],
          "mesh3d": [
           {
            "colorbar": {
             "outlinewidth": 0,
             "ticks": ""
            },
            "type": "mesh3d"
           }
          ],
          "parcoords": [
           {
            "line": {
             "colorbar": {
              "outlinewidth": 0,
              "ticks": ""
             }
            },
            "type": "parcoords"
           }
          ],
          "pie": [
           {
            "automargin": true,
            "type": "pie"
           }
          ],
          "scatter": [
           {
            "fillpattern": {
             "fillmode": "overlay",
             "size": 10,
             "solidity": 0.2
            },
            "type": "scatter"
           }
          ],
          "scatter3d": [
           {
            "line": {
             "colorbar": {
              "outlinewidth": 0,
              "ticks": ""
             }
            },
            "marker": {
             "colorbar": {
              "outlinewidth": 0,
              "ticks": ""
             }
            },
            "type": "scatter3d"
           }
          ],
          "scattercarpet": [
           {
            "marker": {
             "colorbar": {
              "outlinewidth": 0,
              "ticks": ""
             }
            },
            "type": "scattercarpet"
           }
          ],
          "scattergeo": [
           {
            "marker": {
             "colorbar": {
              "outlinewidth": 0,
              "ticks": ""
             }
            },
            "type": "scattergeo"
           }
          ],
          "scattergl": [
           {
            "marker": {
             "colorbar": {
              "outlinewidth": 0,
              "ticks": ""
             }
            },
            "type": "scattergl"
           }
          ],
          "scattermapbox": [
           {
            "marker": {
             "colorbar": {
              "outlinewidth": 0,
              "ticks": ""
             }
            },
            "type": "scattermapbox"
           }
          ],
          "scatterpolar": [
           {
            "marker": {
             "colorbar": {
              "outlinewidth": 0,
              "ticks": ""
             }
            },
            "type": "scatterpolar"
           }
          ],
          "scatterpolargl": [
           {
            "marker": {
             "colorbar": {
              "outlinewidth": 0,
              "ticks": ""
             }
            },
            "type": "scatterpolargl"
           }
          ],
          "scatterternary": [
           {
            "marker": {
             "colorbar": {
              "outlinewidth": 0,
              "ticks": ""
             }
            },
            "type": "scatterternary"
           }
          ],
          "surface": [
           {
            "colorbar": {
             "outlinewidth": 0,
             "ticks": ""
            },
            "colorscale": [
             [
              0,
              "#0d0887"
             ],
             [
              0.1111111111111111,
              "#46039f"
             ],
             [
              0.2222222222222222,
              "#7201a8"
             ],
             [
              0.3333333333333333,
              "#9c179e"
             ],
             [
              0.4444444444444444,
              "#bd3786"
             ],
             [
              0.5555555555555556,
              "#d8576b"
             ],
             [
              0.6666666666666666,
              "#ed7953"
             ],
             [
              0.7777777777777778,
              "#fb9f3a"
             ],
             [
              0.8888888888888888,
              "#fdca26"
             ],
             [
              1,
              "#f0f921"
             ]
            ],
            "type": "surface"
           }
          ],
          "table": [
           {
            "cells": {
             "fill": {
              "color": "#EBF0F8"
             },
             "line": {
              "color": "white"
             }
            },
            "header": {
             "fill": {
              "color": "#C8D4E3"
             },
             "line": {
              "color": "white"
             }
            },
            "type": "table"
           }
          ]
         },
         "layout": {
          "annotationdefaults": {
           "arrowcolor": "#2a3f5f",
           "arrowhead": 0,
           "arrowwidth": 1
          },
          "autotypenumbers": "strict",
          "coloraxis": {
           "colorbar": {
            "outlinewidth": 0,
            "ticks": ""
           }
          },
          "colorscale": {
           "diverging": [
            [
             0,
             "#8e0152"
            ],
            [
             0.1,
             "#c51b7d"
            ],
            [
             0.2,
             "#de77ae"
            ],
            [
             0.3,
             "#f1b6da"
            ],
            [
             0.4,
             "#fde0ef"
            ],
            [
             0.5,
             "#f7f7f7"
            ],
            [
             0.6,
             "#e6f5d0"
            ],
            [
             0.7,
             "#b8e186"
            ],
            [
             0.8,
             "#7fbc41"
            ],
            [
             0.9,
             "#4d9221"
            ],
            [
             1,
             "#276419"
            ]
           ],
           "sequential": [
            [
             0,
             "#0d0887"
            ],
            [
             0.1111111111111111,
             "#46039f"
            ],
            [
             0.2222222222222222,
             "#7201a8"
            ],
            [
             0.3333333333333333,
             "#9c179e"
            ],
            [
             0.4444444444444444,
             "#bd3786"
            ],
            [
             0.5555555555555556,
             "#d8576b"
            ],
            [
             0.6666666666666666,
             "#ed7953"
            ],
            [
             0.7777777777777778,
             "#fb9f3a"
            ],
            [
             0.8888888888888888,
             "#fdca26"
            ],
            [
             1,
             "#f0f921"
            ]
           ],
           "sequentialminus": [
            [
             0,
             "#0d0887"
            ],
            [
             0.1111111111111111,
             "#46039f"
            ],
            [
             0.2222222222222222,
             "#7201a8"
            ],
            [
             0.3333333333333333,
             "#9c179e"
            ],
            [
             0.4444444444444444,
             "#bd3786"
            ],
            [
             0.5555555555555556,
             "#d8576b"
            ],
            [
             0.6666666666666666,
             "#ed7953"
            ],
            [
             0.7777777777777778,
             "#fb9f3a"
            ],
            [
             0.8888888888888888,
             "#fdca26"
            ],
            [
             1,
             "#f0f921"
            ]
           ]
          },
          "colorway": [
           "#636efa",
           "#EF553B",
           "#00cc96",
           "#ab63fa",
           "#FFA15A",
           "#19d3f3",
           "#FF6692",
           "#B6E880",
           "#FF97FF",
           "#FECB52"
          ],
          "font": {
           "color": "#2a3f5f"
          },
          "geo": {
           "bgcolor": "white",
           "lakecolor": "white",
           "landcolor": "white",
           "showlakes": true,
           "showland": true,
           "subunitcolor": "#C8D4E3"
          },
          "hoverlabel": {
           "align": "left"
          },
          "hovermode": "closest",
          "mapbox": {
           "style": "light"
          },
          "paper_bgcolor": "white",
          "plot_bgcolor": "white",
          "polar": {
           "angularaxis": {
            "gridcolor": "#EBF0F8",
            "linecolor": "#EBF0F8",
            "ticks": ""
           },
           "bgcolor": "white",
           "radialaxis": {
            "gridcolor": "#EBF0F8",
            "linecolor": "#EBF0F8",
            "ticks": ""
           }
          },
          "scene": {
           "xaxis": {
            "backgroundcolor": "white",
            "gridcolor": "#DFE8F3",
            "gridwidth": 2,
            "linecolor": "#EBF0F8",
            "showbackground": true,
            "ticks": "",
            "zerolinecolor": "#EBF0F8"
           },
           "yaxis": {
            "backgroundcolor": "white",
            "gridcolor": "#DFE8F3",
            "gridwidth": 2,
            "linecolor": "#EBF0F8",
            "showbackground": true,
            "ticks": "",
            "zerolinecolor": "#EBF0F8"
           },
           "zaxis": {
            "backgroundcolor": "white",
            "gridcolor": "#DFE8F3",
            "gridwidth": 2,
            "linecolor": "#EBF0F8",
            "showbackground": true,
            "ticks": "",
            "zerolinecolor": "#EBF0F8"
           }
          },
          "shapedefaults": {
           "line": {
            "color": "#2a3f5f"
           }
          },
          "ternary": {
           "aaxis": {
            "gridcolor": "#DFE8F3",
            "linecolor": "#A2B1C6",
            "ticks": ""
           },
           "baxis": {
            "gridcolor": "#DFE8F3",
            "linecolor": "#A2B1C6",
            "ticks": ""
           },
           "bgcolor": "white",
           "caxis": {
            "gridcolor": "#DFE8F3",
            "linecolor": "#A2B1C6",
            "ticks": ""
           }
          },
          "title": {
           "x": 0.05
          },
          "xaxis": {
           "automargin": true,
           "gridcolor": "#EBF0F8",
           "linecolor": "#EBF0F8",
           "ticks": "",
           "title": {
            "standoff": 15
           },
           "zerolinecolor": "#EBF0F8",
           "zerolinewidth": 2
          },
          "yaxis": {
           "automargin": true,
           "gridcolor": "#EBF0F8",
           "linecolor": "#EBF0F8",
           "ticks": "",
           "title": {
            "standoff": 15
           },
           "zerolinecolor": "#EBF0F8",
           "zerolinewidth": 2
          }
         }
        },
        "title": {
         "font": {
          "color": "Black",
          "size": 22
         },
         "text": "Topics and keywords <br>",
         "x": 0.5,
         "xanchor": "center",
         "yanchor": "top"
        },
        "width": 1000,
        "xaxis": {
         "anchor": "y",
         "domain": [
          0,
          0.175
         ],
         "showgrid": true
        },
        "xaxis2": {
         "anchor": "y2",
         "domain": [
          0.275,
          0.45
         ],
         "showgrid": true
        },
        "xaxis3": {
         "anchor": "y3",
         "domain": [
          0.55,
          0.7250000000000001
         ],
         "showgrid": true
        },
        "xaxis4": {
         "anchor": "y4",
         "domain": [
          0.825,
          1
         ],
         "showgrid": true
        },
        "xaxis5": {
         "anchor": "y5",
         "domain": [
          0,
          0.175
         ],
         "showgrid": true
        },
        "xaxis6": {
         "anchor": "y6",
         "domain": [
          0.275,
          0.45
         ],
         "showgrid": true
        },
        "xaxis7": {
         "anchor": "y7",
         "domain": [
          0.55,
          0.7250000000000001
         ],
         "showgrid": true
        },
        "xaxis8": {
         "anchor": "y8",
         "domain": [
          0.825,
          1
         ],
         "showgrid": true
        },
        "yaxis": {
         "anchor": "x",
         "domain": [
          0.6000000000000001,
          1
         ],
         "showgrid": true
        },
        "yaxis2": {
         "anchor": "x2",
         "domain": [
          0.6000000000000001,
          1
         ],
         "showgrid": true
        },
        "yaxis3": {
         "anchor": "x3",
         "domain": [
          0.6000000000000001,
          1
         ],
         "showgrid": true
        },
        "yaxis4": {
         "anchor": "x4",
         "domain": [
          0.6000000000000001,
          1
         ],
         "showgrid": true
        },
        "yaxis5": {
         "anchor": "x5",
         "domain": [
          0,
          0.4
         ],
         "showgrid": true
        },
        "yaxis6": {
         "anchor": "x6",
         "domain": [
          0,
          0.4
         ],
         "showgrid": true
        },
        "yaxis7": {
         "anchor": "x7",
         "domain": [
          0,
          0.4
         ],
         "showgrid": true
        },
        "yaxis8": {
         "anchor": "x8",
         "domain": [
          0,
          0.4
         ],
         "showgrid": true
        }
       }
      }
     },
     "metadata": {},
     "output_type": "display_data"
    }
   ],
   "source": [
    "# topic_model.set_topic_labels\n",
    "fig = topic_model.visualize_barchart(custom_labels=True,\n",
    "                               title=\"Topics and keywords <br>\")\n",
    "\n",
    "# Add a \"master\" x-axis title as an annotation\n",
    "fig.add_annotation(\n",
    "        dict(\n",
    "            text=\"c-TF-IDF score\",  # Text for the shared x-axis\n",
    "            x=0.5,  # Position at the center\n",
    "            y=-0.15,  # Position below the bottom subplot\n",
    "            xref=\"paper\",\n",
    "            yref=\"paper\",\n",
    "            showarrow=False,\n",
    "            # font=dict(size=16)\n",
    "        )\n",
    "    \n",
    ")\n",
    "# fig.show()\n"
   ]
  },
  {
   "cell_type": "code",
   "execution_count": 22,
   "metadata": {},
   "outputs": [],
   "source": [
    "# dummy visualizing over time - create some synthetic timestamps\n",
    "\n",
    "# Define the start and end dates\n",
    "start_date = \"2021-01-01\"\n",
    "end_date = \"2023-12-31\"\n",
    "\n",
    "# Generate random dates between the start and end dates\n",
    "n = len(docs)  # Number of random dates to generate\n",
    "date_range = pd.date_range(start=start_date, end=end_date)\n",
    "random_dates = np.random.choice(date_range, n)\n",
    "\n",
    "# add to docs \n",
    "topics_over_time = topic_model.topics_over_time(docs, random_dates, nr_bins=20)"
   ]
  },
  {
   "cell_type": "code",
   "execution_count": 23,
   "metadata": {},
   "outputs": [
    {
     "data": {
      "application/vnd.plotly.v1+json": {
       "config": {
        "plotlyServerURL": "https://plot.ly"
       },
       "data": [
        {
         "hoverinfo": "text",
         "hovertext": [
          "<b>Topic 0</b><br>Words: cancer, carcinoma, tumor, tumour, malignancy",
          "<b>Topic 0</b><br>Words: cancer, tumor, carcinoma, tumour, malignancy",
          "<b>Topic 0</b><br>Words: cancer, tumor, carcinoma, malignancy, tumour",
          "<b>Topic 0</b><br>Words: cancer, carcinoma, tumor, malignancy, tumour",
          "<b>Topic 0</b><br>Words: cancer, carcinoma, tumor, malignancy, tumour",
          "<b>Topic 0</b><br>Words: cancer, tumor, carcinoma, malignancy, tumour",
          "<b>Topic 0</b><br>Words: cancer, carcinoma, tumor, tumour, malignancy",
          "<b>Topic 0</b><br>Words: cancer, tumor, carcinoma, tumour, malignancy",
          "<b>Topic 0</b><br>Words: cancer, carcinoma, tumor, tumour, malignancy",
          "<b>Topic 0</b><br>Words: cancer, carcinoma, tumor, tumour, malignancy",
          "<b>Topic 0</b><br>Words: cancer, tumor, carcinoma, malignancy, tumour",
          "<b>Topic 0</b><br>Words: cancer, carcinoma, tumor, tumour, malignancy",
          "<b>Topic 0</b><br>Words: cancer, carcinoma, tumor, tumour, malignancy",
          "<b>Topic 0</b><br>Words: cancer, tumor, carcinoma, malignancy, tumour",
          "<b>Topic 0</b><br>Words: cancer, carcinoma, tumor, malignancy, tumour",
          "<b>Topic 0</b><br>Words: cancer, carcinoma, tumor, tumour, malignancy",
          "<b>Topic 0</b><br>Words: cancer, tumor, carcinoma, tumour, malignancy",
          "<b>Topic 0</b><br>Words: cancer, metastasis, carcinoma, tumour, malignancy",
          "<b>Topic 0</b><br>Words: cancer, carcinoma, tumor, tumour, malignancy",
          "<b>Topic 0</b><br>Words: cancer, metastasis, tumor, carcinoma, metastatic"
         ],
         "marker": {
          "color": "#E69F00"
         },
         "mode": "lines",
         "name": "metastatic prostate/lung cancer<br>n=2358",
         "type": "scatter",
         "x": [
          "2020-12-30T21:44:38.400000",
          "2021-02-24T16:48:00",
          "2021-04-20T09:36:00",
          "2021-06-14T02:24:00",
          "2021-08-07T19:12:00",
          "2021-10-01T12:00:00",
          "2021-11-25T04:48:00",
          "2022-01-18T21:36:00",
          "2022-03-14T14:24:00",
          "2022-05-08T07:12:00",
          "2022-07-02T00:00:00",
          "2022-08-25T16:48:00",
          "2022-10-19T09:36:00",
          "2022-12-13T02:24:00",
          "2023-02-05T19:12:00",
          "2023-04-01T12:00:00",
          "2023-05-26T04:48:00",
          "2023-07-19T21:36:00",
          "2023-09-12T14:24:00",
          "2023-11-06T07:12:00"
         ],
         "y": [
          115,
          101,
          132,
          140,
          119,
          112,
          123,
          121,
          131,
          119,
          129,
          99,
          133,
          115,
          139,
          97,
          114,
          97,
          106,
          116
         ]
        },
        {
         "hoverinfo": "text",
         "hovertext": [
          "<b>Topic 1</b><br>Words: pneumonitis, diagnosed, diverticulitis, disease, hyponatremia",
          "<b>Topic 1</b><br>Words: infection, pneumonitis, covid, patients, disease",
          "<b>Topic 1</b><br>Words: ulcers, leg, diabetic, arthritis, osteoarthirtis",
          "<b>Topic 1</b><br>Words: amputation, neutropenia, prothrombosis, deficiency, ulcer",
          "<b>Topic 1</b><br>Words: cerebral, stroke, pneumonitis, dystonia, anaemia",
          "<b>Topic 1</b><br>Words: ulcer, gastritis, bowel, ulcers, colitis",
          "<b>Topic 1</b><br>Words: infection, blepharitis, sepsis, cellulitis, disease",
          "<b>Topic 1</b><br>Words: covid, infected, pneumonitis, disease, hyperkalaemia",
          "<b>Topic 1</b><br>Words: cellulitis, hemiarthroplasy, hemiarthroplasty, amputation, hyperkalaemia",
          "<b>Topic 1</b><br>Words: diverticulitis, polymyositis, infection, cellulitis, pneumonitis",
          "<b>Topic 1</b><br>Words: amputation, sepsis, injury, stroke, fracture",
          "<b>Topic 1</b><br>Words: covid, vasculitis, covid19, pneumonitis, sepsis",
          "<b>Topic 1</b><br>Words: covid, infectedleft, disease, sepsis, gastroenteritis",
          "<b>Topic 1</b><br>Words: transfusion, blood, anemia, anaemia, hypercoagulation",
          "<b>Topic 1</b><br>Words: disease, neutropenia, dyslipidemia, dyslipdaemia, neuropathie",
          "<b>Topic 1</b><br>Words: spinal, scoliosis, decompressed, postural, decompression",
          "<b>Topic 1</b><br>Words: fracture, femur, leg, knee, wrist",
          "<b>Topic 1</b><br>Words: fracture, fasciitis, constipation, arthritis, cellulitis",
          "<b>Topic 1</b><br>Words: pneumothorax, ulcer, ulcers, gastritis, barre",
          "<b>Topic 1</b><br>Words: covid, infection, pneumonitis, pneumonitus, viral"
         ],
         "marker": {
          "color": "#56B4E9"
         },
         "mode": "lines",
         "name": "diabetic ketoacidosis<br>n=1190",
         "type": "scatter",
         "x": [
          "2020-12-30T21:44:38.400000",
          "2021-02-24T16:48:00",
          "2021-04-20T09:36:00",
          "2021-06-14T02:24:00",
          "2021-08-07T19:12:00",
          "2021-10-01T12:00:00",
          "2021-11-25T04:48:00",
          "2022-01-18T21:36:00",
          "2022-03-14T14:24:00",
          "2022-05-08T07:12:00",
          "2022-07-02T00:00:00",
          "2022-08-25T16:48:00",
          "2022-10-19T09:36:00",
          "2022-12-13T02:24:00",
          "2023-02-05T19:12:00",
          "2023-04-01T12:00:00",
          "2023-05-26T04:48:00",
          "2023-07-19T21:36:00",
          "2023-09-12T14:24:00",
          "2023-11-06T07:12:00"
         ],
         "y": [
          70,
          69,
          64,
          67,
          54,
          48,
          62,
          66,
          70,
          65,
          59,
          52,
          68,
          71,
          46,
          56,
          53,
          58,
          51,
          41
         ]
        },
        {
         "hoverinfo": "text",
         "hovertext": [
          "<b>Topic 2</b><br>Words: respiratory, apnea, pulmonary, emphysema, lung",
          "<b>Topic 2</b><br>Words: pneumonia, pulmonary, emphysema, apnea, lung",
          "<b>Topic 2</b><br>Words: respiratory, emphysema, breathing, apnea, lung",
          "<b>Topic 2</b><br>Words: embolism, embolisms, pulmonary, thrombosis, emboli",
          "<b>Topic 2</b><br>Words: aortic, pulmonary, apnea, pneumonia, lung",
          "<b>Topic 2</b><br>Words: pneumonia, pulmonary, lung, respiratoryfailure, respiratory",
          "<b>Topic 2</b><br>Words: aortic, apnea, hypoxicrespiratoryfailure, ventricular, respiratory",
          "<b>Topic 2</b><br>Words: emphysema, apnea, embolism, pulmonary, oxygen",
          "<b>Topic 2</b><br>Words: pulmonary, respiratory, lung, apnea, bronchiectasis",
          "<b>Topic 2</b><br>Words: pulmonary, embolism, lung, pneumonia, fibrosis",
          "<b>Topic 2</b><br>Words: stent, stenosis, aortic, tracheostomy, artery",
          "<b>Topic 2</b><br>Words: liver, lung, mets, emphysema, pulmonary",
          "<b>Topic 2</b><br>Words: pneumonia, pulmonary, lung, respiratory, bronchiectasis",
          "<b>Topic 2</b><br>Words: pneumonia, infection, pulmonary, lung, hospital",
          "<b>Topic 2</b><br>Words: apnea, atrial, emphysema, cpap, tachyarrhythmia",
          "<b>Topic 2</b><br>Words: respiratory, pulmonary, lung, pneumonia, asthma",
          "<b>Topic 2</b><br>Words: pulmonaryembolismhyponatraemia, pulmonary, emphysema, atrialfibrilation, embolism",
          "<b>Topic 2</b><br>Words: fibrosis, pulmonary, emphysema, pneumonia, copd",
          "<b>Topic 2</b><br>Words: respiratory, pulmonary, lungs, emphysema, lung",
          "<b>Topic 2</b><br>Words: apnea, embolism, emphysema, pneumonia, xarelto"
         ],
         "marker": {
          "color": "#009E73"
         },
         "mode": "lines",
         "name": "pulmonary embolism<br>n=425",
         "type": "scatter",
         "x": [
          "2020-12-30T21:44:38.400000",
          "2021-02-24T16:48:00",
          "2021-04-20T09:36:00",
          "2021-06-14T02:24:00",
          "2021-08-07T19:12:00",
          "2021-10-01T12:00:00",
          "2021-11-25T04:48:00",
          "2022-01-18T21:36:00",
          "2022-03-14T14:24:00",
          "2022-05-08T07:12:00",
          "2022-07-02T00:00:00",
          "2022-08-25T16:48:00",
          "2022-10-19T09:36:00",
          "2022-12-13T02:24:00",
          "2023-02-05T19:12:00",
          "2023-04-01T12:00:00",
          "2023-05-26T04:48:00",
          "2023-07-19T21:36:00",
          "2023-09-12T14:24:00",
          "2023-11-06T07:12:00"
         ],
         "y": [
          26,
          19,
          18,
          17,
          25,
          21,
          24,
          17,
          20,
          31,
          18,
          28,
          17,
          16,
          23,
          17,
          21,
          19,
          31,
          17
         ]
        },
        {
         "hoverinfo": "text",
         "hovertext": [
          "<b>Topic 3</b><br>Words: pe, previous, bghx, pes, recent",
          "<b>Topic 3</b><br>Words: cva, ckd, admitted, pe, pes",
          "<b>Topic 3</b><br>Words: dvt, cva, cpt, lvsd, lvf",
          "<b>Topic 3</b><br>Words: mchc, pt, t2dm, gbs, gbm",
          "<b>Topic 3</b><br>Words: pe, pes, pr, bph, previous",
          "<b>Topic 3</b><br>Words: lvf, ccf, hpt, ltc, avc",
          "<b>Topic 3</b><br>Words: lvsd, dvt, lvh, lvf, sirs",
          "<b>Topic 3</b><br>Words: pe, bilateral, pes, tep, adl",
          "<b>Topic 3</b><br>Words: mds, htn, hhs, cmmol, cml",
          "<b>Topic 3</b><br>Words: mds, cml, dd, dhs, acute",
          "<b>Topic 3</b><br>Words: insuffisance, ßamento, organes, appareillee, de",
          "<b>Topic 3</b><br>Words: cva, stroke, lvf, lvsd, dvt",
          "<b>Topic 3</b><br>Words: cva, dvt, vet, lvsd, pe",
          "<b>Topic 3</b><br>Words: g6pd, ralentissement, inrerratic, como, 60",
          "<b>Topic 3</b><br>Words: lrti, bijnierschorsinsuffici, avc, cva, abdomen",
          "<b>Topic 3</b><br>Words: pe, cva, lrtt, pes, saos",
          "<b>Topic 3</b><br>Words: svt, nedsatt, htn, lungekapasitet, siadh",
          "<b>Topic 3</b><br>Words: ascitesdiuretic, paracentesis, severe, aki2, avi",
          "<b>Topic 3</b><br>Words: pe, pes, aki, dhs, ccf",
          "<b>Topic 3</b><br>Words: aki, arm, irti, af, apixaban"
         ],
         "marker": {
          "color": "#F0E442"
         },
         "mode": "lines",
         "name": "cva<br>n=241",
         "type": "scatter",
         "x": [
          "2020-12-30T21:44:38.400000",
          "2021-02-24T16:48:00",
          "2021-04-20T09:36:00",
          "2021-06-14T02:24:00",
          "2021-08-07T19:12:00",
          "2021-10-01T12:00:00",
          "2021-11-25T04:48:00",
          "2022-01-18T21:36:00",
          "2022-03-14T14:24:00",
          "2022-05-08T07:12:00",
          "2022-07-02T00:00:00",
          "2022-08-25T16:48:00",
          "2022-10-19T09:36:00",
          "2022-12-13T02:24:00",
          "2023-02-05T19:12:00",
          "2023-04-01T12:00:00",
          "2023-05-26T04:48:00",
          "2023-07-19T21:36:00",
          "2023-09-12T14:24:00",
          "2023-11-06T07:12:00"
         ],
         "y": [
          8,
          11,
          14,
          10,
          15,
          7,
          11,
          12,
          14,
          19,
          13,
          14,
          12,
          17,
          14,
          11,
          10,
          11,
          6,
          12
         ]
        },
        {
         "hoverinfo": "text",
         "hovertext": [
          "<b>Topic 4</b><br>Words: alchohol, alcoholism, depressive, psychiatric, alcohol",
          "<b>Topic 4</b><br>Words: depressive, disorders, depression, psychiatric, anxiety",
          "<b>Topic 4</b><br>Words: delirium, dementia, alzheimers, psychiatric, depressive",
          "<b>Topic 4</b><br>Words: bipolar, psychiatric, agitation, antidepressents, depression",
          "<b>Topic 4</b><br>Words: disorders, psychiatric, depression, depressive, disorder",
          "<b>Topic 4</b><br>Words: alcoholism, addiction, disorders, psychiatric, depression",
          "<b>Topic 4</b><br>Words: disorder, anxiety, restless, psychiatric, disorders",
          "<b>Topic 4</b><br>Words: dementia, alzheimer, disorders, psychiatric, alzheimers",
          "<b>Topic 4</b><br>Words: depressive, impairment, dementia, anxiety, depression",
          "<b>Topic 4</b><br>Words: delirium, anxiety, dementia, alzheimer, antidepressents",
          "<b>Topic 4</b><br>Words: psychosis, schizophrenia, psychiatric, disorders, disorder",
          "<b>Topic 4</b><br>Words: bipolar, psychiatric, disorders, schizophrenia, disorder",
          "<b>Topic 4</b><br>Words: delirium, neuropsychiatric, anxiety, depression, psychiatric",
          "<b>Topic 4</b><br>Words: psychotic, psychactive, psychiatric, psychosis, schizophrenia",
          "<b>Topic 4</b><br>Words: dementia, alzheimer, alzheimers, alcoholism, psychiatric",
          "<b>Topic 4</b><br>Words: symdrome, amnesia, psychosis, disorder, agitation",
          "<b>Topic 4</b><br>Words: delirium, dementia, alzheimers, impairment, overdose",
          "<b>Topic 4</b><br>Words: alcohol, psychiatric, disorders, disorder, depression",
          "<b>Topic 4</b><br>Words: bipolar, psychiatric, bipolar0, depression, psychosis",
          "<b>Topic 4</b><br>Words: anxiety, psychiatric, depressive, antidepressents, depression"
         ],
         "marker": {
          "color": "#D55E00"
         },
         "mode": "lines",
         "name": "anxiety & depression<br>n=150",
         "type": "scatter",
         "x": [
          "2020-12-30T21:44:38.400000",
          "2021-02-24T16:48:00",
          "2021-04-20T09:36:00",
          "2021-06-14T02:24:00",
          "2021-08-07T19:12:00",
          "2021-10-01T12:00:00",
          "2021-11-25T04:48:00",
          "2022-01-18T21:36:00",
          "2022-03-14T14:24:00",
          "2022-05-08T07:12:00",
          "2022-07-02T00:00:00",
          "2022-08-25T16:48:00",
          "2022-10-19T09:36:00",
          "2022-12-13T02:24:00",
          "2023-02-05T19:12:00",
          "2023-04-01T12:00:00",
          "2023-05-26T04:48:00",
          "2023-07-19T21:36:00",
          "2023-09-12T14:24:00",
          "2023-11-06T07:12:00"
         ],
         "y": [
          5,
          12,
          8,
          4,
          8,
          12,
          5,
          9,
          8,
          9,
          4,
          9,
          4,
          10,
          6,
          2,
          10,
          8,
          10,
          7
         ]
        },
        {
         "hoverinfo": "text",
         "hovertext": [
          "<b>Topic 5</b><br>Words: transplant, transplants, kidney, renal, uti",
          "<b>Topic 5</b><br>Words: uti, urinary, pyelonephritis, renal, uropathy",
          "<b>Topic 5</b><br>Words: uti, renal, nephropathy, uropathy, kidney",
          "<b>Topic 5</b><br>Words: renal, kidney, transplantation, transplant, urinary",
          "<b>Topic 5</b><br>Words: renal, pyelonephritis, kidney, dialysis, nephropathy",
          "<b>Topic 5</b><br>Words: uti, kidney, renal, urinary, dialise",
          "<b>Topic 5</b><br>Words: uti, renal, kidney, uropathy, urinary",
          "<b>Topic 5</b><br>Words: dialysis, renal, kidney, transplantation, urinary",
          "<b>Topic 5</b><br>Words: renal, uti, dialysis, urinary, kidney",
          "<b>Topic 5</b><br>Words: transplantation, transplant, lung, transplants, redacted",
          "<b>Topic 5</b><br>Words: uti, urinary, uropathy, urinating, urosepsis",
          "<b>Topic 5</b><br>Words: renal, kidney, dialysis, bladder, urinary",
          "<b>Topic 5</b><br>Words: renal, kidney, nephropathy, urinary, uti",
          "<b>Topic 5</b><br>Words: urosepsis, pacemaker, uropathy, urea, urospesis",
          "<b>Topic 5</b><br>Words: uti, urinary, urinating, pyelonephritis, uropathy",
          "<b>Topic 5</b><br>Words: uti, pyelonephritis, urinary, coli, bacteraemia",
          "<b>Topic 5</b><br>Words: dialysis, renal, kidney, transplantation, nephropathy",
          "<b>Topic 5</b><br>Words: uti, urinary, uropathy, pyelonephritis, urinating",
          "<b>Topic 5</b><br>Words: transplantation, renal, transplant, kidney, transplants",
          "<b>Topic 5</b><br>Words: urosepsis, urinary, urinating, uropathy, uti"
         ],
         "marker": {
          "color": "#0072B2"
         },
         "mode": "lines",
         "name": "uti<br>n=113",
         "type": "scatter",
         "x": [
          "2020-12-30T21:44:38.400000",
          "2021-02-24T16:48:00",
          "2021-04-20T09:36:00",
          "2021-06-14T02:24:00",
          "2021-08-07T19:12:00",
          "2021-10-01T12:00:00",
          "2021-11-25T04:48:00",
          "2022-01-18T21:36:00",
          "2022-03-14T14:24:00",
          "2022-05-08T07:12:00",
          "2022-07-02T00:00:00",
          "2022-08-25T16:48:00",
          "2022-10-19T09:36:00",
          "2022-12-13T02:24:00",
          "2023-02-05T19:12:00",
          "2023-04-01T12:00:00",
          "2023-05-26T04:48:00",
          "2023-07-19T21:36:00",
          "2023-09-12T14:24:00",
          "2023-11-06T07:12:00"
         ],
         "y": [
          10,
          5,
          2,
          6,
          6,
          4,
          10,
          5,
          4,
          1,
          10,
          5,
          4,
          1,
          6,
          9,
          9,
          4,
          7,
          5
         ]
        },
        {
         "hoverinfo": "text",
         "hovertext": [
          "<b>Topic 6</b><br>Words: meningioma, meningioma___, menigioma, meningiomal, hypothryoid",
          "<b>Topic 6</b><br>Words: meningioma, meningioma___, meningiomal, menigioma, hypothyroidismtrisomy",
          "<b>Topic 6</b><br>Words: hypothyroidism, hypothyroidismtrisomy, hypothyroidisn, hypothyrodism, hypothyroidsim",
          "<b>Topic 6</b><br>Words: thyroidcarcinoma, thyroidectomy, thyroid, hyperparathyroidism, hyp0thyroidism",
          "<b>Topic 6</b><br>Words: hypothyroidism, hypothyroidisn, hypothyroidismtrisomy, hypoparathyroidism, hypothyrodism",
          "<b>Topic 6</b><br>Words: thyroid, thyroidectomy, hypothyroidism, hypothyroidismtrisomy, thyroidcarcinoma",
          "<b>Topic 6</b><br>Words: thyroidcarcinoma, meningioma, meningioma___, thyroid, menigioma",
          "<b>Topic 6</b><br>Words: meningioma, meningioma___, menigioma, meningiomal, thyroidcarcinoma",
          "<b>Topic 6</b><br>Words: hypothyroidismtrisomy, hypothyroidism, hypothyroidisn, meningioma, hypoparathyroidism",
          "<b>Topic 6</b><br>Words: hypothyroidism, hypothyroidismtrisomy, hypothyroidisn, hypothyroidsim, hypoparathyroidism",
          "<b>Topic 6</b><br>Words: hypothyroidismtrisomy, hypothyroidism, hypothyroidisn, meningioma, hypoparathyroidism",
          "<b>Topic 6</b><br>Words: meningioma, meningioma___, meningiomal, menigioma, hypothyroidismtrisomy",
          "<b>Topic 6</b><br>Words: meningioma, thyroidectomy, meningioma___, menigioma, thyroidcarcinoma",
          "<b>Topic 6</b><br>Words: hypothyroidism, hypothyroidismtrisomy, hypothyroidisn, hypoparathyroidism, thyroid",
          "<b>Topic 6</b><br>Words: meningioma, meningiomal, meningioma___, menigioma, thyroidcarcinoma",
          "<b>Topic 6</b><br>Words: meningioma, meningioma___, menigioma, meningiomal, hypothyroidismtrisomy",
          "<b>Topic 6</b><br>Words: meningioma, meningioma___, menigioma, meningiomal, thyroidectomy",
          "<b>Topic 6</b><br>Words: meningioma, meningiomal, meningioma___, menigioma, hypoparathyroidism",
          "<b>Topic 6</b><br>Words: meningioma, meningioma___, menigioma, meningiomal, hypothyroidismtrisomy",
          "<b>Topic 6</b><br>Words: hypothyroidismtrisomy, hypothyroidism, hypothyroidisn, hypoparathyroidism, hypothyroidsim"
         ],
         "marker": {
          "color": "#CC79A7"
         },
         "mode": "lines",
         "name": "meningioma<br>n=99",
         "type": "scatter",
         "x": [
          "2020-12-30T21:44:38.400000",
          "2021-02-24T16:48:00",
          "2021-04-20T09:36:00",
          "2021-06-14T02:24:00",
          "2021-08-07T19:12:00",
          "2021-10-01T12:00:00",
          "2021-11-25T04:48:00",
          "2022-01-18T21:36:00",
          "2022-03-14T14:24:00",
          "2022-05-08T07:12:00",
          "2022-07-02T00:00:00",
          "2022-08-25T16:48:00",
          "2022-10-19T09:36:00",
          "2022-12-13T02:24:00",
          "2023-02-05T19:12:00",
          "2023-04-01T12:00:00",
          "2023-05-26T04:48:00",
          "2023-07-19T21:36:00",
          "2023-09-12T14:24:00",
          "2023-11-06T07:12:00"
         ],
         "y": [
          1,
          7,
          3,
          4,
          1,
          7,
          7,
          3,
          5,
          7,
          6,
          9,
          2,
          4,
          7,
          5,
          5,
          4,
          7,
          5
         ]
        },
        {
         "hoverinfo": "text",
         "hovertext": [
          "<b>Topic 7</b><br>Words: imbalance, eletroyltye, iatrogene, overvulling, disturbance",
          "<b>Topic 7</b><br>Words: electrolytes, electrolyte, imbalance, derranged, dehydration",
          "<b>Topic 7</b><br>Words: electrolyte, derangement, electrolytes, derranged, mild",
          "<b>Topic 7</b><br>Words: derangement, electrolyte, electrolytes, derranged, eviction",
          "<b>Topic 7</b><br>Words: dehydration, iatrogene, electrolyte, imbalance, electrolytes",
          "<b>Topic 7</b><br>Words: eviction, derangement, derranged, possible, disturbance",
          "<b>Topic 7</b><br>Words: electrolyte, electrolytes, disturbance, eletroyltye, dehydration",
          "<b>Topic 7</b><br>Words: electrolyte, electrolytes, disturbance, eletroyltye, dehydration",
          "<b>Topic 7</b><br>Words: ibd, electrolyte, electrolytes, imbalance, admission"
         ],
         "marker": {
          "color": "#E69F00"
         },
         "mode": "lines",
         "name": "electrolyte imbalance<br>n=11",
         "type": "scatter",
         "x": [
          "2020-12-30T21:44:38.400000",
          "2021-04-20T09:36:00",
          "2021-06-14T02:24:00",
          "2021-08-07T19:12:00",
          "2021-10-01T12:00:00",
          "2022-03-14T14:24:00",
          "2022-07-02T00:00:00",
          "2022-12-13T02:24:00",
          "2023-02-05T19:12:00"
         ],
         "y": [
          1,
          2,
          1,
          1,
          2,
          1,
          1,
          1,
          1
         ]
        }
       ],
       "layout": {
        "height": 450,
        "hoverlabel": {
         "bgcolor": "white",
         "font": {
          "family": "Rockwell",
          "size": 16
         }
        },
        "legend": {
         "title": {
          "text": "<b>Global Topic Representation"
         }
        },
        "template": {
         "data": {
          "bar": [
           {
            "error_x": {
             "color": "rgb(36,36,36)"
            },
            "error_y": {
             "color": "rgb(36,36,36)"
            },
            "marker": {
             "line": {
              "color": "white",
              "width": 0.5
             },
             "pattern": {
              "fillmode": "overlay",
              "size": 10,
              "solidity": 0.2
             }
            },
            "type": "bar"
           }
          ],
          "barpolar": [
           {
            "marker": {
             "line": {
              "color": "white",
              "width": 0.5
             },
             "pattern": {
              "fillmode": "overlay",
              "size": 10,
              "solidity": 0.2
             }
            },
            "type": "barpolar"
           }
          ],
          "carpet": [
           {
            "aaxis": {
             "endlinecolor": "rgb(36,36,36)",
             "gridcolor": "white",
             "linecolor": "white",
             "minorgridcolor": "white",
             "startlinecolor": "rgb(36,36,36)"
            },
            "baxis": {
             "endlinecolor": "rgb(36,36,36)",
             "gridcolor": "white",
             "linecolor": "white",
             "minorgridcolor": "white",
             "startlinecolor": "rgb(36,36,36)"
            },
            "type": "carpet"
           }
          ],
          "choropleth": [
           {
            "colorbar": {
             "outlinewidth": 1,
             "tickcolor": "rgb(36,36,36)",
             "ticks": "outside"
            },
            "type": "choropleth"
           }
          ],
          "contour": [
           {
            "colorbar": {
             "outlinewidth": 1,
             "tickcolor": "rgb(36,36,36)",
             "ticks": "outside"
            },
            "colorscale": [
             [
              0,
              "#440154"
             ],
             [
              0.1111111111111111,
              "#482878"
             ],
             [
              0.2222222222222222,
              "#3e4989"
             ],
             [
              0.3333333333333333,
              "#31688e"
             ],
             [
              0.4444444444444444,
              "#26828e"
             ],
             [
              0.5555555555555556,
              "#1f9e89"
             ],
             [
              0.6666666666666666,
              "#35b779"
             ],
             [
              0.7777777777777778,
              "#6ece58"
             ],
             [
              0.8888888888888888,
              "#b5de2b"
             ],
             [
              1,
              "#fde725"
             ]
            ],
            "type": "contour"
           }
          ],
          "contourcarpet": [
           {
            "colorbar": {
             "outlinewidth": 1,
             "tickcolor": "rgb(36,36,36)",
             "ticks": "outside"
            },
            "type": "contourcarpet"
           }
          ],
          "heatmap": [
           {
            "colorbar": {
             "outlinewidth": 1,
             "tickcolor": "rgb(36,36,36)",
             "ticks": "outside"
            },
            "colorscale": [
             [
              0,
              "#440154"
             ],
             [
              0.1111111111111111,
              "#482878"
             ],
             [
              0.2222222222222222,
              "#3e4989"
             ],
             [
              0.3333333333333333,
              "#31688e"
             ],
             [
              0.4444444444444444,
              "#26828e"
             ],
             [
              0.5555555555555556,
              "#1f9e89"
             ],
             [
              0.6666666666666666,
              "#35b779"
             ],
             [
              0.7777777777777778,
              "#6ece58"
             ],
             [
              0.8888888888888888,
              "#b5de2b"
             ],
             [
              1,
              "#fde725"
             ]
            ],
            "type": "heatmap"
           }
          ],
          "heatmapgl": [
           {
            "colorbar": {
             "outlinewidth": 1,
             "tickcolor": "rgb(36,36,36)",
             "ticks": "outside"
            },
            "colorscale": [
             [
              0,
              "#440154"
             ],
             [
              0.1111111111111111,
              "#482878"
             ],
             [
              0.2222222222222222,
              "#3e4989"
             ],
             [
              0.3333333333333333,
              "#31688e"
             ],
             [
              0.4444444444444444,
              "#26828e"
             ],
             [
              0.5555555555555556,
              "#1f9e89"
             ],
             [
              0.6666666666666666,
              "#35b779"
             ],
             [
              0.7777777777777778,
              "#6ece58"
             ],
             [
              0.8888888888888888,
              "#b5de2b"
             ],
             [
              1,
              "#fde725"
             ]
            ],
            "type": "heatmapgl"
           }
          ],
          "histogram": [
           {
            "marker": {
             "line": {
              "color": "white",
              "width": 0.6
             }
            },
            "type": "histogram"
           }
          ],
          "histogram2d": [
           {
            "colorbar": {
             "outlinewidth": 1,
             "tickcolor": "rgb(36,36,36)",
             "ticks": "outside"
            },
            "colorscale": [
             [
              0,
              "#440154"
             ],
             [
              0.1111111111111111,
              "#482878"
             ],
             [
              0.2222222222222222,
              "#3e4989"
             ],
             [
              0.3333333333333333,
              "#31688e"
             ],
             [
              0.4444444444444444,
              "#26828e"
             ],
             [
              0.5555555555555556,
              "#1f9e89"
             ],
             [
              0.6666666666666666,
              "#35b779"
             ],
             [
              0.7777777777777778,
              "#6ece58"
             ],
             [
              0.8888888888888888,
              "#b5de2b"
             ],
             [
              1,
              "#fde725"
             ]
            ],
            "type": "histogram2d"
           }
          ],
          "histogram2dcontour": [
           {
            "colorbar": {
             "outlinewidth": 1,
             "tickcolor": "rgb(36,36,36)",
             "ticks": "outside"
            },
            "colorscale": [
             [
              0,
              "#440154"
             ],
             [
              0.1111111111111111,
              "#482878"
             ],
             [
              0.2222222222222222,
              "#3e4989"
             ],
             [
              0.3333333333333333,
              "#31688e"
             ],
             [
              0.4444444444444444,
              "#26828e"
             ],
             [
              0.5555555555555556,
              "#1f9e89"
             ],
             [
              0.6666666666666666,
              "#35b779"
             ],
             [
              0.7777777777777778,
              "#6ece58"
             ],
             [
              0.8888888888888888,
              "#b5de2b"
             ],
             [
              1,
              "#fde725"
             ]
            ],
            "type": "histogram2dcontour"
           }
          ],
          "mesh3d": [
           {
            "colorbar": {
             "outlinewidth": 1,
             "tickcolor": "rgb(36,36,36)",
             "ticks": "outside"
            },
            "type": "mesh3d"
           }
          ],
          "parcoords": [
           {
            "line": {
             "colorbar": {
              "outlinewidth": 1,
              "tickcolor": "rgb(36,36,36)",
              "ticks": "outside"
             }
            },
            "type": "parcoords"
           }
          ],
          "pie": [
           {
            "automargin": true,
            "type": "pie"
           }
          ],
          "scatter": [
           {
            "fillpattern": {
             "fillmode": "overlay",
             "size": 10,
             "solidity": 0.2
            },
            "type": "scatter"
           }
          ],
          "scatter3d": [
           {
            "line": {
             "colorbar": {
              "outlinewidth": 1,
              "tickcolor": "rgb(36,36,36)",
              "ticks": "outside"
             }
            },
            "marker": {
             "colorbar": {
              "outlinewidth": 1,
              "tickcolor": "rgb(36,36,36)",
              "ticks": "outside"
             }
            },
            "type": "scatter3d"
           }
          ],
          "scattercarpet": [
           {
            "marker": {
             "colorbar": {
              "outlinewidth": 1,
              "tickcolor": "rgb(36,36,36)",
              "ticks": "outside"
             }
            },
            "type": "scattercarpet"
           }
          ],
          "scattergeo": [
           {
            "marker": {
             "colorbar": {
              "outlinewidth": 1,
              "tickcolor": "rgb(36,36,36)",
              "ticks": "outside"
             }
            },
            "type": "scattergeo"
           }
          ],
          "scattergl": [
           {
            "marker": {
             "colorbar": {
              "outlinewidth": 1,
              "tickcolor": "rgb(36,36,36)",
              "ticks": "outside"
             }
            },
            "type": "scattergl"
           }
          ],
          "scattermapbox": [
           {
            "marker": {
             "colorbar": {
              "outlinewidth": 1,
              "tickcolor": "rgb(36,36,36)",
              "ticks": "outside"
             }
            },
            "type": "scattermapbox"
           }
          ],
          "scatterpolar": [
           {
            "marker": {
             "colorbar": {
              "outlinewidth": 1,
              "tickcolor": "rgb(36,36,36)",
              "ticks": "outside"
             }
            },
            "type": "scatterpolar"
           }
          ],
          "scatterpolargl": [
           {
            "marker": {
             "colorbar": {
              "outlinewidth": 1,
              "tickcolor": "rgb(36,36,36)",
              "ticks": "outside"
             }
            },
            "type": "scatterpolargl"
           }
          ],
          "scatterternary": [
           {
            "marker": {
             "colorbar": {
              "outlinewidth": 1,
              "tickcolor": "rgb(36,36,36)",
              "ticks": "outside"
             }
            },
            "type": "scatterternary"
           }
          ],
          "surface": [
           {
            "colorbar": {
             "outlinewidth": 1,
             "tickcolor": "rgb(36,36,36)",
             "ticks": "outside"
            },
            "colorscale": [
             [
              0,
              "#440154"
             ],
             [
              0.1111111111111111,
              "#482878"
             ],
             [
              0.2222222222222222,
              "#3e4989"
             ],
             [
              0.3333333333333333,
              "#31688e"
             ],
             [
              0.4444444444444444,
              "#26828e"
             ],
             [
              0.5555555555555556,
              "#1f9e89"
             ],
             [
              0.6666666666666666,
              "#35b779"
             ],
             [
              0.7777777777777778,
              "#6ece58"
             ],
             [
              0.8888888888888888,
              "#b5de2b"
             ],
             [
              1,
              "#fde725"
             ]
            ],
            "type": "surface"
           }
          ],
          "table": [
           {
            "cells": {
             "fill": {
              "color": "rgb(237,237,237)"
             },
             "line": {
              "color": "white"
             }
            },
            "header": {
             "fill": {
              "color": "rgb(217,217,217)"
             },
             "line": {
              "color": "white"
             }
            },
            "type": "table"
           }
          ]
         },
         "layout": {
          "annotationdefaults": {
           "arrowhead": 0,
           "arrowwidth": 1
          },
          "autotypenumbers": "strict",
          "coloraxis": {
           "colorbar": {
            "outlinewidth": 1,
            "tickcolor": "rgb(36,36,36)",
            "ticks": "outside"
           }
          },
          "colorscale": {
           "diverging": [
            [
             0,
             "rgb(103,0,31)"
            ],
            [
             0.1,
             "rgb(178,24,43)"
            ],
            [
             0.2,
             "rgb(214,96,77)"
            ],
            [
             0.3,
             "rgb(244,165,130)"
            ],
            [
             0.4,
             "rgb(253,219,199)"
            ],
            [
             0.5,
             "rgb(247,247,247)"
            ],
            [
             0.6,
             "rgb(209,229,240)"
            ],
            [
             0.7,
             "rgb(146,197,222)"
            ],
            [
             0.8,
             "rgb(67,147,195)"
            ],
            [
             0.9,
             "rgb(33,102,172)"
            ],
            [
             1,
             "rgb(5,48,97)"
            ]
           ],
           "sequential": [
            [
             0,
             "#440154"
            ],
            [
             0.1111111111111111,
             "#482878"
            ],
            [
             0.2222222222222222,
             "#3e4989"
            ],
            [
             0.3333333333333333,
             "#31688e"
            ],
            [
             0.4444444444444444,
             "#26828e"
            ],
            [
             0.5555555555555556,
             "#1f9e89"
            ],
            [
             0.6666666666666666,
             "#35b779"
            ],
            [
             0.7777777777777778,
             "#6ece58"
            ],
            [
             0.8888888888888888,
             "#b5de2b"
            ],
            [
             1,
             "#fde725"
            ]
           ],
           "sequentialminus": [
            [
             0,
             "#440154"
            ],
            [
             0.1111111111111111,
             "#482878"
            ],
            [
             0.2222222222222222,
             "#3e4989"
            ],
            [
             0.3333333333333333,
             "#31688e"
            ],
            [
             0.4444444444444444,
             "#26828e"
            ],
            [
             0.5555555555555556,
             "#1f9e89"
            ],
            [
             0.6666666666666666,
             "#35b779"
            ],
            [
             0.7777777777777778,
             "#6ece58"
            ],
            [
             0.8888888888888888,
             "#b5de2b"
            ],
            [
             1,
             "#fde725"
            ]
           ]
          },
          "colorway": [
           "#1F77B4",
           "#FF7F0E",
           "#2CA02C",
           "#D62728",
           "#9467BD",
           "#8C564B",
           "#E377C2",
           "#7F7F7F",
           "#BCBD22",
           "#17BECF"
          ],
          "font": {
           "color": "rgb(36,36,36)"
          },
          "geo": {
           "bgcolor": "white",
           "lakecolor": "white",
           "landcolor": "white",
           "showlakes": true,
           "showland": true,
           "subunitcolor": "white"
          },
          "hoverlabel": {
           "align": "left"
          },
          "hovermode": "closest",
          "mapbox": {
           "style": "light"
          },
          "paper_bgcolor": "white",
          "plot_bgcolor": "white",
          "polar": {
           "angularaxis": {
            "gridcolor": "rgb(232,232,232)",
            "linecolor": "rgb(36,36,36)",
            "showgrid": false,
            "showline": true,
            "ticks": "outside"
           },
           "bgcolor": "white",
           "radialaxis": {
            "gridcolor": "rgb(232,232,232)",
            "linecolor": "rgb(36,36,36)",
            "showgrid": false,
            "showline": true,
            "ticks": "outside"
           }
          },
          "scene": {
           "xaxis": {
            "backgroundcolor": "white",
            "gridcolor": "rgb(232,232,232)",
            "gridwidth": 2,
            "linecolor": "rgb(36,36,36)",
            "showbackground": true,
            "showgrid": false,
            "showline": true,
            "ticks": "outside",
            "zeroline": false,
            "zerolinecolor": "rgb(36,36,36)"
           },
           "yaxis": {
            "backgroundcolor": "white",
            "gridcolor": "rgb(232,232,232)",
            "gridwidth": 2,
            "linecolor": "rgb(36,36,36)",
            "showbackground": true,
            "showgrid": false,
            "showline": true,
            "ticks": "outside",
            "zeroline": false,
            "zerolinecolor": "rgb(36,36,36)"
           },
           "zaxis": {
            "backgroundcolor": "white",
            "gridcolor": "rgb(232,232,232)",
            "gridwidth": 2,
            "linecolor": "rgb(36,36,36)",
            "showbackground": true,
            "showgrid": false,
            "showline": true,
            "ticks": "outside",
            "zeroline": false,
            "zerolinecolor": "rgb(36,36,36)"
           }
          },
          "shapedefaults": {
           "fillcolor": "black",
           "line": {
            "width": 0
           },
           "opacity": 0.3
          },
          "ternary": {
           "aaxis": {
            "gridcolor": "rgb(232,232,232)",
            "linecolor": "rgb(36,36,36)",
            "showgrid": false,
            "showline": true,
            "ticks": "outside"
           },
           "baxis": {
            "gridcolor": "rgb(232,232,232)",
            "linecolor": "rgb(36,36,36)",
            "showgrid": false,
            "showline": true,
            "ticks": "outside"
           },
           "bgcolor": "white",
           "caxis": {
            "gridcolor": "rgb(232,232,232)",
            "linecolor": "rgb(36,36,36)",
            "showgrid": false,
            "showline": true,
            "ticks": "outside"
           }
          },
          "title": {
           "x": 0.05
          },
          "xaxis": {
           "automargin": true,
           "gridcolor": "rgb(232,232,232)",
           "linecolor": "rgb(36,36,36)",
           "showgrid": false,
           "showline": true,
           "ticks": "outside",
           "title": {
            "standoff": 15
           },
           "zeroline": false,
           "zerolinecolor": "rgb(36,36,36)"
          },
          "yaxis": {
           "automargin": true,
           "gridcolor": "rgb(232,232,232)",
           "linecolor": "rgb(36,36,36)",
           "showgrid": false,
           "showline": true,
           "ticks": "outside",
           "title": {
            "standoff": 15
           },
           "zeroline": false,
           "zerolinecolor": "rgb(36,36,36)"
          }
         }
        },
        "title": {
         "font": {
          "color": "Black",
          "size": 22
         },
         "text": "<b>Topics over Time</b>",
         "x": 0.4,
         "xanchor": "center",
         "y": 0.95,
         "yanchor": "top"
        },
        "width": 1250,
        "xaxis": {
         "showgrid": true
        },
        "yaxis": {
         "showgrid": true,
         "title": {
          "text": "Frequency"
         }
        }
       }
      }
     },
     "metadata": {},
     "output_type": "display_data"
    }
   ],
   "source": [
    "# visualize\n",
    "topic_model.visualize_topics_over_time(topics_over_time,\n",
    "                                       custom_labels=True)"
   ]
  },
  {
   "cell_type": "code",
   "execution_count": null,
   "metadata": {},
   "outputs": [],
   "source": []
  }
 ],
 "metadata": {
  "kernelspec": {
   "display_name": ".venv",
   "language": "python",
   "name": "python3"
  },
  "language_info": {
   "codemirror_mode": {
    "name": "ipython",
    "version": 3
   },
   "file_extension": ".py",
   "mimetype": "text/x-python",
   "name": "python",
   "nbconvert_exporter": "python",
   "pygments_lexer": "ipython3",
   "version": "3.10.15"
  }
 },
 "nbformat": 4,
 "nbformat_minor": 2
}
