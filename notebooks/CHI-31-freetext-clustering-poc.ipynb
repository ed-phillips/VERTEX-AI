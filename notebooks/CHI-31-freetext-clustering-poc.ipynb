{
 "cells": [
  {
   "cell_type": "markdown",
   "metadata": {},
   "source": [
    "# CHI-31: Freetext Clustering Proof of Concept\n",
    "\n",
    "**Goal:** FreeTextAnalysis – some visualization of free text fields like ‘other comorbidities’, either by clustering or mapping to a category e.g. ICD code \n",
    "\n",
    "**Background**: Currently researchers have no visibility of free text fields. ICD code maybe longer term, more complex because ICD codes are tiered and some categories may not map well. A simple clustering approach is a better first bet\n",
    "\n",
    "**Value:** Surface to researchers the data contained in their free text fields, notably ‘other combordities’ or similar\n",
    "\n",
    "**Deliverables:** POC demo in feature branch, video sent to Esteban & Co for feedback\n",
    "\n",
    "**Stakeholders:** Esteban, Laura Merson\n",
    "\n",
    "**Blockers:** None, should go for something computationally simple and cheap in the first instance\n",
    "\n",
    "**Opportunities:**\n",
    "\n",
    "Notes:\n",
    "\n",
    "Omid lots of good ideas here:\n",
    "\n",
    "- Use BERTopic as resource to do clustering\n",
    "- Good framework level tool - we could potentially drop in Omid’s compact bert based models\n",
    "- could be an easy win for ISARIC - compact enough that we don’t need to hit an API or download a big model\n",
    "- if we then want to name the clusters that might be a heavier task, but no asbolute requirement for this in conversations with ISARIC to date\n",
    "\n",
    "\n",
    "## Plan\n",
    "1. Get dataset of short, clinical free text to experiment with\n",
    "2. Compile BERTopic modelling pipeline including:\n",
    "    * Omid lightweight clinical LLMs for encoding \n",
    "    * probably BERTopic defaults for other modular components\n",
    "3. Test on example dataset\n",
    "    * cluster free text\n",
    "    * visualize similar to how it might look on dashboard\n",
    "    * (probably don't integrate into Vertex due to data not appearing in example df - but I could stitch something in to maintain the cohesion of demos)"
   ]
  },
  {
   "cell_type": "code",
   "execution_count": 1,
   "metadata": {},
   "outputs": [
    {
     "name": "stderr",
     "output_type": "stream",
     "text": [
      "/Users/EdPhillips/Documents/Oxford/Projects/VERTEX-AI/.venv/lib/python3.10/site-packages/tqdm/auto.py:21: TqdmWarning: IProgress not found. Please update jupyter and ipywidgets. See https://ipywidgets.readthedocs.io/en/stable/user_install.html\n",
      "  from .autonotebook import tqdm as notebook_tqdm\n"
     ]
    }
   ],
   "source": [
    "import os\n",
    "import pandas as pd\n",
    "import numpy as np\n",
    "from transformers import AutoTokenizer, AutoModel, Pipeline\n",
    "import torch.nn.functional as F\n",
    "from typing import List, Union, Dict, Tuple"
   ]
  },
  {
   "cell_type": "code",
   "execution_count": null,
   "metadata": {},
   "outputs": [],
   "source": []
  },
  {
   "cell_type": "markdown",
   "metadata": {},
   "source": [
    "## 1. Example dataset\n",
    "\n",
    "Try MIMIC-IV demo dataset at https://physionet.org/content/mimic-iv-demo/2.2/"
   ]
  },
  {
   "cell_type": "code",
   "execution_count": 2,
   "metadata": {},
   "outputs": [],
   "source": [
    "data_dir = \"../data/physionet.org/files/mimic-iv-demo/2.2/\"\n",
    "# try with diganoses tablae - descriptions of ICD categories\n",
    "filepath = \"hosp/d_icd_diagnoses.csv\"\n",
    "\n",
    "# might be able to check validity of clusters later by looking at ICD super category?"
   ]
  },
  {
   "cell_type": "code",
   "execution_count": 3,
   "metadata": {},
   "outputs": [],
   "source": [
    "d_icd_diagnoses_df = pd.read_csv(os.path.join(data_dir, filepath))"
   ]
  },
  {
   "cell_type": "code",
   "execution_count": 4,
   "metadata": {},
   "outputs": [
    {
     "data": {
      "text/html": [
       "<div>\n",
       "<style scoped>\n",
       "    .dataframe tbody tr th:only-of-type {\n",
       "        vertical-align: middle;\n",
       "    }\n",
       "\n",
       "    .dataframe tbody tr th {\n",
       "        vertical-align: top;\n",
       "    }\n",
       "\n",
       "    .dataframe thead th {\n",
       "        text-align: right;\n",
       "    }\n",
       "</style>\n",
       "<table border=\"1\" class=\"dataframe\">\n",
       "  <thead>\n",
       "    <tr style=\"text-align: right;\">\n",
       "      <th></th>\n",
       "      <th>icd_code</th>\n",
       "      <th>icd_version</th>\n",
       "      <th>long_title</th>\n",
       "    </tr>\n",
       "  </thead>\n",
       "  <tbody>\n",
       "    <tr>\n",
       "      <th>0</th>\n",
       "      <td>0090</td>\n",
       "      <td>9</td>\n",
       "      <td>Infectious colitis, enteritis, and gastroenter...</td>\n",
       "    </tr>\n",
       "    <tr>\n",
       "      <th>1</th>\n",
       "      <td>01160</td>\n",
       "      <td>9</td>\n",
       "      <td>Tuberculous pneumonia [any form], unspecified</td>\n",
       "    </tr>\n",
       "    <tr>\n",
       "      <th>2</th>\n",
       "      <td>01186</td>\n",
       "      <td>9</td>\n",
       "      <td>Other specified pulmonary tuberculosis, tuberc...</td>\n",
       "    </tr>\n",
       "    <tr>\n",
       "      <th>3</th>\n",
       "      <td>01200</td>\n",
       "      <td>9</td>\n",
       "      <td>Tuberculous pleurisy, unspecified</td>\n",
       "    </tr>\n",
       "    <tr>\n",
       "      <th>4</th>\n",
       "      <td>01236</td>\n",
       "      <td>9</td>\n",
       "      <td>Tuberculous laryngitis, tubercle bacilli not f...</td>\n",
       "    </tr>\n",
       "    <tr>\n",
       "      <th>...</th>\n",
       "      <td>...</td>\n",
       "      <td>...</td>\n",
       "      <td>...</td>\n",
       "    </tr>\n",
       "    <tr>\n",
       "      <th>109770</th>\n",
       "      <td>Z88</td>\n",
       "      <td>10</td>\n",
       "      <td>Allergy status to drugs, medicaments and biolo...</td>\n",
       "    </tr>\n",
       "    <tr>\n",
       "      <th>109771</th>\n",
       "      <td>Z89012</td>\n",
       "      <td>10</td>\n",
       "      <td>Acquired absence of left thumb</td>\n",
       "    </tr>\n",
       "    <tr>\n",
       "      <th>109772</th>\n",
       "      <td>Z90410</td>\n",
       "      <td>10</td>\n",
       "      <td>Acquired total absence of pancreas</td>\n",
       "    </tr>\n",
       "    <tr>\n",
       "      <th>109773</th>\n",
       "      <td>Z948</td>\n",
       "      <td>10</td>\n",
       "      <td>Other transplanted organ and tissue status</td>\n",
       "    </tr>\n",
       "    <tr>\n",
       "      <th>109774</th>\n",
       "      <td>Z96</td>\n",
       "      <td>10</td>\n",
       "      <td>Presence of other functional implants</td>\n",
       "    </tr>\n",
       "  </tbody>\n",
       "</table>\n",
       "<p>109775 rows × 3 columns</p>\n",
       "</div>"
      ],
      "text/plain": [
       "       icd_code  icd_version  \\\n",
       "0          0090            9   \n",
       "1         01160            9   \n",
       "2         01186            9   \n",
       "3         01200            9   \n",
       "4         01236            9   \n",
       "...         ...          ...   \n",
       "109770      Z88           10   \n",
       "109771   Z89012           10   \n",
       "109772   Z90410           10   \n",
       "109773     Z948           10   \n",
       "109774      Z96           10   \n",
       "\n",
       "                                               long_title  \n",
       "0       Infectious colitis, enteritis, and gastroenter...  \n",
       "1           Tuberculous pneumonia [any form], unspecified  \n",
       "2       Other specified pulmonary tuberculosis, tuberc...  \n",
       "3                       Tuberculous pleurisy, unspecified  \n",
       "4       Tuberculous laryngitis, tubercle bacilli not f...  \n",
       "...                                                   ...  \n",
       "109770  Allergy status to drugs, medicaments and biolo...  \n",
       "109771                     Acquired absence of left thumb  \n",
       "109772                 Acquired total absence of pancreas  \n",
       "109773         Other transplanted organ and tissue status  \n",
       "109774              Presence of other functional implants  \n",
       "\n",
       "[109775 rows x 3 columns]"
      ]
     },
     "execution_count": 4,
     "metadata": {},
     "output_type": "execute_result"
    }
   ],
   "source": [
    "d_icd_diagnoses_df"
   ]
  },
  {
   "cell_type": "markdown",
   "metadata": {},
   "source": [
    "## 2. BERTopic modelling pipeline"
   ]
  },
  {
   "cell_type": "code",
   "execution_count": 5,
   "metadata": {},
   "outputs": [],
   "source": [
    "from bertopic import BERTopic\n",
    "from bertopic.representation import KeyBERTInspired, TextGeneration, MaximalMarginalRelevance\n",
    "from transformers.pipelines import pipeline\n",
    "import torch\n",
    "from typing import Tuple\n",
    "from flair.embeddings import TransformerDocumentEmbeddings"
   ]
  },
  {
   "cell_type": "code",
   "execution_count": 6,
   "metadata": {},
   "outputs": [],
   "source": [
    "# select subset of table\n",
    "docs = d_icd_diagnoses_df.loc[:1000, 'long_title']"
   ]
  },
  {
   "cell_type": "code",
   "execution_count": 7,
   "metadata": {},
   "outputs": [
    {
     "data": {
      "text/plain": [
       "0       Infectious colitis, enteritis, and gastroenter...\n",
       "1           Tuberculous pneumonia [any form], unspecified\n",
       "2       Other specified pulmonary tuberculosis, tuberc...\n",
       "3                       Tuberculous pleurisy, unspecified\n",
       "4       Tuberculous laryngitis, tubercle bacilli not f...\n",
       "                              ...                        \n",
       "996     Chronic glomerulonephritis with lesion of prol...\n",
       "997                      Infection of kidney, unspecified\n",
       "998                                     Urethral caruncle\n",
       "999                      Urinary obstruction, unspecified\n",
       "1000                   Other specified disorders of penis\n",
       "Name: long_title, Length: 1001, dtype: object"
      ]
     },
     "execution_count": 7,
     "metadata": {},
     "output_type": "execute_result"
    }
   ],
   "source": [
    "docs"
   ]
  },
  {
   "cell_type": "code",
   "execution_count": 8,
   "metadata": {},
   "outputs": [],
   "source": [
    "# try flair as simpler implementation\n",
    "distil_biobert = TransformerDocumentEmbeddings('nlpie/distil-biobert')"
   ]
  },
  {
   "cell_type": "code",
   "execution_count": 9,
   "metadata": {},
   "outputs": [],
   "source": [
    "# # example using HF pipeline to create sentence embeddings - but presume bertopic does this under the hood anyway\n",
    "# class SentenceEncoderPipeline(Pipeline):\n",
    "#     def __init__(self, model, tokenizer, device=None, max_length=512):\n",
    "#         \"\"\"\n",
    "#         Initialize the sentence encoder pipeline.\n",
    "        \n",
    "#         Args:\n",
    "#             model: Pre-trained model\n",
    "#             tokenizer: Associated tokenizer\n",
    "#             device: Device to use ('cuda' or 'cpu')\n",
    "#             max_length: Maximum sequence length\n",
    "#         \"\"\"\n",
    "#         super().__init__(\n",
    "#             model=model,\n",
    "#             tokenizer=tokenizer,\n",
    "#             device=device if device is not None else -1,\n",
    "#             max_length=max_length\n",
    "#         )\n",
    "\n",
    "#     def _sanitize_parameters(\n",
    "#         self,\n",
    "#         return_tensors=None,\n",
    "#         normalize=None,\n",
    "#         **kwargs\n",
    "#     ) -> Tuple[Dict, Dict, Dict]:\n",
    "#         \"\"\"\n",
    "#         Sanitize and separate parameters for different pipeline stages.\n",
    "        \n",
    "#         Returns:\n",
    "#             tuple: (preprocess_params, forward_params, postprocess_params)\n",
    "#         \"\"\"\n",
    "#         preprocess_params = {}\n",
    "#         forward_params = {}\n",
    "#         postprocess_params = {}\n",
    "\n",
    "#         # Handle return_tensors parameter\n",
    "#         if return_tensors is not None:\n",
    "#             postprocess_params[\"return_tensors\"] = return_tensors\n",
    "\n",
    "#         # Handle normalize parameter\n",
    "#         if normalize is not None:\n",
    "#             forward_params[\"normalize\"] = normalize\n",
    "\n",
    "#         return preprocess_params, forward_params, postprocess_params\n",
    "        \n",
    "#     def _mean_pooling(self, model_output, attention_mask):\n",
    "#         \"\"\"\n",
    "#         Perform mean pooling on token embeddings.\n",
    "#         \"\"\"\n",
    "#         token_embeddings = model_output[0]\n",
    "#         input_mask_expanded = attention_mask.unsqueeze(-1).expand(token_embeddings.size()).float()\n",
    "#         return torch.sum(token_embeddings * input_mask_expanded, 1) / torch.clamp(input_mask_expanded.sum(1), min=1e-9)\n",
    "    \n",
    "#     def preprocess(self, inputs, **kwargs):\n",
    "#         \"\"\"\n",
    "#         Preprocess the inputs before model forward pass.\n",
    "#         \"\"\"\n",
    "#         return self.tokenizer(\n",
    "#             inputs,\n",
    "#             padding=True,\n",
    "#             truncation=True,\n",
    "#             max_length=self.max_length,\n",
    "#             return_tensors=\"pt\"\n",
    "#         ).to(self.device)\n",
    "    \n",
    "#     def _forward(self, model_inputs, **kwargs):\n",
    "#         \"\"\"\n",
    "#         Forward pass through the model.\n",
    "#         \"\"\"\n",
    "#         normalize = kwargs.get('normalize', True)\n",
    "        \n",
    "#         with torch.no_grad():\n",
    "#             outputs = self.model(**model_inputs)\n",
    "        \n",
    "#         embeddings = self._mean_pooling(outputs, model_inputs['attention_mask'])\n",
    "        \n",
    "#         if normalize:\n",
    "#             embeddings = F.normalize(embeddings, p=2, dim=1)\n",
    "            \n",
    "#         return {\"embeddings\": embeddings}\n",
    "    \n",
    "#     def postprocess(self, model_outputs, **kwargs):\n",
    "#         \"\"\"\n",
    "#         Postprocess the model outputs.\n",
    "#         \"\"\"\n",
    "#         return model_outputs[\"embeddings\"].cpu().numpy()\n",
    "\n",
    "# def create_sentence_encoder_pipeline(\n",
    "#     model_name: str = 'bert-base-uncased',\n",
    "#     device: int = -1,\n",
    "#     max_length: int = 512,\n",
    "#     **kwargs\n",
    "# ) -> SentenceEncoderPipeline:\n",
    "#     \"\"\"\n",
    "#     Create a sentence encoder pipeline.\n",
    "    \n",
    "#     Args:\n",
    "#         model_name: Name of the HuggingFace model to use\n",
    "#         device: Device to use (-1 for CPU, 0+ for GPU)\n",
    "#         max_length: Maximum sequence length\n",
    "#         **kwargs: Additional arguments to pass to pipeline creation\n",
    "        \n",
    "#     Returns:\n",
    "#         SentenceEncoderPipeline instance\n",
    "#     \"\"\"\n",
    "#     tokenizer = AutoTokenizer.from_pretrained(model_name)\n",
    "#     model = AutoModel.from_pretrained(model_name)\n",
    "    \n",
    "#     return SentenceEncoderPipeline(\n",
    "#         model=model,\n",
    "#         tokenizer=tokenizer,\n",
    "#         device=device,\n",
    "#         max_length=max_length,\n",
    "#         **kwargs\n",
    "#     )"
   ]
  },
  {
   "cell_type": "code",
   "execution_count": 10,
   "metadata": {},
   "outputs": [],
   "source": [
    "# experiment with different models here\n",
    "\n",
    "# set device to gpu if available \n",
    "device = torch.device(\"cuda\" if torch.cuda.is_available() else \"cpu\")\n",
    "\n",
    "\n",
    "# ##### to embed documents\n",
    "# # embedding_model = pipeline(\"feature-extraction\", \n",
    "# #                            model=\"nlpie/distil-biobert\", \n",
    "# #                            device=device)\n",
    "\n",
    "# embedding_model = create_sentence_encoder_pipeline(\n",
    "#     model_name=\"nlpie/distil-biobert\",\n",
    "#     device=device)\n",
    "\n",
    "embedding_model = distil_biobert\n",
    "\n",
    "# ##### to describe clusters\n",
    "\n",
    "# representation_model = KeyBERTInspired()\n",
    "\n",
    "# try a huggingface model\n",
    "prompt = \"\"\"\n",
    "I have topic that contains the following documents: \\n[DOCUMENTS]\n",
    "The topic is described by the following keywords: [KEYWORDS]\n",
    "\n",
    "Based on the above information, can you give a short label of the topic?\n",
    "\"\"\"\n",
    "\n",
    "# Create your representation model\n",
    "generator = pipeline('text2text-generation', \n",
    "                     model='google/flan-t5-base',\n",
    "                     device=device)\n",
    "\n",
    "llm_one_word = TextGeneration(generator)\n",
    "\n",
    "# representation_model = TextGeneration(generator)\n",
    "keybert_mmr = aspect_model2 = [KeyBERTInspired(), MaximalMarginalRelevance()]\n",
    "\n",
    "# try combining models:\n",
    "representation_model = {\n",
    "    \"Name\": llm_one_word,\n",
    "    \"Main\": keybert_mmr,\n",
    "}\n",
    "\n",
    "#### create model\n",
    "\n",
    "topic_model = BERTopic(\n",
    "    embedding_model=embedding_model,\n",
    "    representation_model=representation_model,\n",
    "    nr_topics=\"auto\", # merge topics clustered together\n",
    "    )"
   ]
  },
  {
   "cell_type": "markdown",
   "metadata": {},
   "source": [
    "## 3. Fit model on example dataset"
   ]
  },
  {
   "cell_type": "code",
   "execution_count": 11,
   "metadata": {},
   "outputs": [],
   "source": [
    "topics, probs = topic_model.fit_transform(docs)"
   ]
  },
  {
   "cell_type": "code",
   "execution_count": 12,
   "metadata": {},
   "outputs": [
    {
     "data": {
      "text/html": [
       "<div>\n",
       "<style scoped>\n",
       "    .dataframe tbody tr th:only-of-type {\n",
       "        vertical-align: middle;\n",
       "    }\n",
       "\n",
       "    .dataframe tbody tr th {\n",
       "        vertical-align: top;\n",
       "    }\n",
       "\n",
       "    .dataframe thead th {\n",
       "        text-align: right;\n",
       "    }\n",
       "</style>\n",
       "<table border=\"1\" class=\"dataframe\">\n",
       "  <thead>\n",
       "    <tr style=\"text-align: right;\">\n",
       "      <th></th>\n",
       "      <th>Topic</th>\n",
       "      <th>Count</th>\n",
       "      <th>Name</th>\n",
       "      <th>Representation</th>\n",
       "      <th>Representative_Docs</th>\n",
       "    </tr>\n",
       "  </thead>\n",
       "  <tbody>\n",
       "    <tr>\n",
       "      <th>0</th>\n",
       "      <td>-1</td>\n",
       "      <td>1</td>\n",
       "      <td>[hemorrhage, , , , , , , , , ]</td>\n",
       "      <td>[hemorrhage, perforation, puncture, vaccinatio...</td>\n",
       "      <td>[Accidental cut, puncture, perforation or hemo...</td>\n",
       "    </tr>\n",
       "    <tr>\n",
       "      <th>1</th>\n",
       "      <td>0</td>\n",
       "      <td>841</td>\n",
       "      <td>[antepartum, , , , , , , , , ]</td>\n",
       "      <td>[complication, hemorrhage, antepartum, obstruc...</td>\n",
       "      <td>[Prolonged pregnancy, delivered, with or witho...</td>\n",
       "    </tr>\n",
       "    <tr>\n",
       "      <th>2</th>\n",
       "      <td>1</td>\n",
       "      <td>95</td>\n",
       "      <td>[leukemia, , , , , , , , , ]</td>\n",
       "      <td>[neoplasm, neoplasms, hemangioma, malignant, l...</td>\n",
       "      <td>[Malignant neoplasm of vulva, unspecified site...</td>\n",
       "    </tr>\n",
       "    <tr>\n",
       "      <th>3</th>\n",
       "      <td>2</td>\n",
       "      <td>42</td>\n",
       "      <td>[concussion, , , , , , , , , ]</td>\n",
       "      <td>[hemorrhage, intracranial, laceration, subarac...</td>\n",
       "      <td>[Open fractures involving skull or face with o...</td>\n",
       "    </tr>\n",
       "    <tr>\n",
       "      <th>4</th>\n",
       "      <td>3</td>\n",
       "      <td>22</td>\n",
       "      <td>[tuberculosis, , , , , , , , , ]</td>\n",
       "      <td>[bacteriological, tuberculous, tuberculoma, pe...</td>\n",
       "      <td>[Other specified miliary tuberculosis, tubercl...</td>\n",
       "    </tr>\n",
       "  </tbody>\n",
       "</table>\n",
       "</div>"
      ],
      "text/plain": [
       "   Topic  Count                              Name  \\\n",
       "0     -1      1    [hemorrhage, , , , , , , , , ]   \n",
       "1      0    841    [antepartum, , , , , , , , , ]   \n",
       "2      1     95      [leukemia, , , , , , , , , ]   \n",
       "3      2     42    [concussion, , , , , , , , , ]   \n",
       "4      3     22  [tuberculosis, , , , , , , , , ]   \n",
       "\n",
       "                                      Representation  \\\n",
       "0  [hemorrhage, perforation, puncture, vaccinatio...   \n",
       "1  [complication, hemorrhage, antepartum, obstruc...   \n",
       "2  [neoplasm, neoplasms, hemangioma, malignant, l...   \n",
       "3  [hemorrhage, intracranial, laceration, subarac...   \n",
       "4  [bacteriological, tuberculous, tuberculoma, pe...   \n",
       "\n",
       "                                 Representative_Docs  \n",
       "0  [Accidental cut, puncture, perforation or hemo...  \n",
       "1  [Prolonged pregnancy, delivered, with or witho...  \n",
       "2  [Malignant neoplasm of vulva, unspecified site...  \n",
       "3  [Open fractures involving skull or face with o...  \n",
       "4  [Other specified miliary tuberculosis, tubercl...  "
      ]
     },
     "execution_count": 12,
     "metadata": {},
     "output_type": "execute_result"
    }
   ],
   "source": [
    "topic_model.get_topic_info()"
   ]
  },
  {
   "cell_type": "code",
   "execution_count": 13,
   "metadata": {},
   "outputs": [
    {
     "data": {
      "text/plain": [
       "[('complication', 0.9605564),\n",
       " ('hemorrhage', 0.9563548),\n",
       " ('antepartum', 0.9520293),\n",
       " ('obstruction', 0.951741),\n",
       " ('pregnancy', 0.9454864),\n",
       " ('not', 0.9454721),\n",
       " ('complicating', 0.94444),\n",
       " ('unspecified', 0.9436005),\n",
       " ('congenital', 0.9435065),\n",
       " ('without', 0.94184005)]"
      ]
     },
     "execution_count": 13,
     "metadata": {},
     "output_type": "execute_result"
    }
   ],
   "source": [
    "topic_model.get_topic(0)"
   ]
  },
  {
   "cell_type": "code",
   "execution_count": 14,
   "metadata": {},
   "outputs": [
    {
     "data": {
      "text/html": [
       "<div>\n",
       "<style scoped>\n",
       "    .dataframe tbody tr th:only-of-type {\n",
       "        vertical-align: middle;\n",
       "    }\n",
       "\n",
       "    .dataframe tbody tr th {\n",
       "        vertical-align: top;\n",
       "    }\n",
       "\n",
       "    .dataframe thead th {\n",
       "        text-align: right;\n",
       "    }\n",
       "</style>\n",
       "<table border=\"1\" class=\"dataframe\">\n",
       "  <thead>\n",
       "    <tr style=\"text-align: right;\">\n",
       "      <th></th>\n",
       "      <th>Document</th>\n",
       "      <th>Topic</th>\n",
       "      <th>Name</th>\n",
       "      <th>Representation</th>\n",
       "      <th>Representative_Docs</th>\n",
       "      <th>Top_n_words</th>\n",
       "      <th>Probability</th>\n",
       "      <th>Representative_document</th>\n",
       "    </tr>\n",
       "  </thead>\n",
       "  <tbody>\n",
       "    <tr>\n",
       "      <th>0</th>\n",
       "      <td>Infectious colitis, enteritis, and gastroenter...</td>\n",
       "      <td>0</td>\n",
       "      <td>[antepartum, , , , , , , , , ]</td>\n",
       "      <td>[complication, hemorrhage, antepartum, obstruc...</td>\n",
       "      <td>[Prolonged pregnancy, delivered, with or witho...</td>\n",
       "      <td>complication - hemorrhage - antepartum - obstr...</td>\n",
       "      <td>1.000000</td>\n",
       "      <td>False</td>\n",
       "    </tr>\n",
       "    <tr>\n",
       "      <th>1</th>\n",
       "      <td>Tuberculous pneumonia [any form], unspecified</td>\n",
       "      <td>0</td>\n",
       "      <td>[antepartum, , , , , , , , , ]</td>\n",
       "      <td>[complication, hemorrhage, antepartum, obstruc...</td>\n",
       "      <td>[Prolonged pregnancy, delivered, with or witho...</td>\n",
       "      <td>complication - hemorrhage - antepartum - obstr...</td>\n",
       "      <td>0.801948</td>\n",
       "      <td>False</td>\n",
       "    </tr>\n",
       "    <tr>\n",
       "      <th>2</th>\n",
       "      <td>Other specified pulmonary tuberculosis, tuberc...</td>\n",
       "      <td>3</td>\n",
       "      <td>[tuberculosis, , , , , , , , , ]</td>\n",
       "      <td>[bacteriological, tuberculous, tuberculoma, pe...</td>\n",
       "      <td>[Other specified miliary tuberculosis, tubercl...</td>\n",
       "      <td>bacteriological - tuberculous - tuberculoma - ...</td>\n",
       "      <td>0.853436</td>\n",
       "      <td>False</td>\n",
       "    </tr>\n",
       "    <tr>\n",
       "      <th>3</th>\n",
       "      <td>Tuberculous pleurisy, unspecified</td>\n",
       "      <td>0</td>\n",
       "      <td>[antepartum, , , , , , , , , ]</td>\n",
       "      <td>[complication, hemorrhage, antepartum, obstruc...</td>\n",
       "      <td>[Prolonged pregnancy, delivered, with or witho...</td>\n",
       "      <td>complication - hemorrhage - antepartum - obstr...</td>\n",
       "      <td>0.832191</td>\n",
       "      <td>False</td>\n",
       "    </tr>\n",
       "    <tr>\n",
       "      <th>4</th>\n",
       "      <td>Tuberculous laryngitis, tubercle bacilli not f...</td>\n",
       "      <td>3</td>\n",
       "      <td>[tuberculosis, , , , , , , , , ]</td>\n",
       "      <td>[bacteriological, tuberculous, tuberculoma, pe...</td>\n",
       "      <td>[Other specified miliary tuberculosis, tubercl...</td>\n",
       "      <td>bacteriological - tuberculous - tuberculoma - ...</td>\n",
       "      <td>0.901871</td>\n",
       "      <td>False</td>\n",
       "    </tr>\n",
       "    <tr>\n",
       "      <th>...</th>\n",
       "      <td>...</td>\n",
       "      <td>...</td>\n",
       "      <td>...</td>\n",
       "      <td>...</td>\n",
       "      <td>...</td>\n",
       "      <td>...</td>\n",
       "      <td>...</td>\n",
       "      <td>...</td>\n",
       "    </tr>\n",
       "    <tr>\n",
       "      <th>996</th>\n",
       "      <td>Chronic glomerulonephritis with lesion of prol...</td>\n",
       "      <td>0</td>\n",
       "      <td>[antepartum, , , , , , , , , ]</td>\n",
       "      <td>[complication, hemorrhage, antepartum, obstruc...</td>\n",
       "      <td>[Prolonged pregnancy, delivered, with or witho...</td>\n",
       "      <td>complication - hemorrhage - antepartum - obstr...</td>\n",
       "      <td>1.000000</td>\n",
       "      <td>False</td>\n",
       "    </tr>\n",
       "    <tr>\n",
       "      <th>997</th>\n",
       "      <td>Infection of kidney, unspecified</td>\n",
       "      <td>0</td>\n",
       "      <td>[antepartum, , , , , , , , , ]</td>\n",
       "      <td>[complication, hemorrhage, antepartum, obstruc...</td>\n",
       "      <td>[Prolonged pregnancy, delivered, with or witho...</td>\n",
       "      <td>complication - hemorrhage - antepartum - obstr...</td>\n",
       "      <td>1.000000</td>\n",
       "      <td>False</td>\n",
       "    </tr>\n",
       "    <tr>\n",
       "      <th>998</th>\n",
       "      <td>Urethral caruncle</td>\n",
       "      <td>0</td>\n",
       "      <td>[antepartum, , , , , , , , , ]</td>\n",
       "      <td>[complication, hemorrhage, antepartum, obstruc...</td>\n",
       "      <td>[Prolonged pregnancy, delivered, with or witho...</td>\n",
       "      <td>complication - hemorrhage - antepartum - obstr...</td>\n",
       "      <td>1.000000</td>\n",
       "      <td>False</td>\n",
       "    </tr>\n",
       "    <tr>\n",
       "      <th>999</th>\n",
       "      <td>Urinary obstruction, unspecified</td>\n",
       "      <td>0</td>\n",
       "      <td>[antepartum, , , , , , , , , ]</td>\n",
       "      <td>[complication, hemorrhage, antepartum, obstruc...</td>\n",
       "      <td>[Prolonged pregnancy, delivered, with or witho...</td>\n",
       "      <td>complication - hemorrhage - antepartum - obstr...</td>\n",
       "      <td>1.000000</td>\n",
       "      <td>False</td>\n",
       "    </tr>\n",
       "    <tr>\n",
       "      <th>1000</th>\n",
       "      <td>Other specified disorders of penis</td>\n",
       "      <td>0</td>\n",
       "      <td>[antepartum, , , , , , , , , ]</td>\n",
       "      <td>[complication, hemorrhage, antepartum, obstruc...</td>\n",
       "      <td>[Prolonged pregnancy, delivered, with or witho...</td>\n",
       "      <td>complication - hemorrhage - antepartum - obstr...</td>\n",
       "      <td>1.000000</td>\n",
       "      <td>False</td>\n",
       "    </tr>\n",
       "  </tbody>\n",
       "</table>\n",
       "<p>1001 rows × 8 columns</p>\n",
       "</div>"
      ],
      "text/plain": [
       "                                               Document  Topic  \\\n",
       "0     Infectious colitis, enteritis, and gastroenter...      0   \n",
       "1         Tuberculous pneumonia [any form], unspecified      0   \n",
       "2     Other specified pulmonary tuberculosis, tuberc...      3   \n",
       "3                     Tuberculous pleurisy, unspecified      0   \n",
       "4     Tuberculous laryngitis, tubercle bacilli not f...      3   \n",
       "...                                                 ...    ...   \n",
       "996   Chronic glomerulonephritis with lesion of prol...      0   \n",
       "997                    Infection of kidney, unspecified      0   \n",
       "998                                   Urethral caruncle      0   \n",
       "999                    Urinary obstruction, unspecified      0   \n",
       "1000                 Other specified disorders of penis      0   \n",
       "\n",
       "                                  Name  \\\n",
       "0       [antepartum, , , , , , , , , ]   \n",
       "1       [antepartum, , , , , , , , , ]   \n",
       "2     [tuberculosis, , , , , , , , , ]   \n",
       "3       [antepartum, , , , , , , , , ]   \n",
       "4     [tuberculosis, , , , , , , , , ]   \n",
       "...                                ...   \n",
       "996     [antepartum, , , , , , , , , ]   \n",
       "997     [antepartum, , , , , , , , , ]   \n",
       "998     [antepartum, , , , , , , , , ]   \n",
       "999     [antepartum, , , , , , , , , ]   \n",
       "1000    [antepartum, , , , , , , , , ]   \n",
       "\n",
       "                                         Representation  \\\n",
       "0     [complication, hemorrhage, antepartum, obstruc...   \n",
       "1     [complication, hemorrhage, antepartum, obstruc...   \n",
       "2     [bacteriological, tuberculous, tuberculoma, pe...   \n",
       "3     [complication, hemorrhage, antepartum, obstruc...   \n",
       "4     [bacteriological, tuberculous, tuberculoma, pe...   \n",
       "...                                                 ...   \n",
       "996   [complication, hemorrhage, antepartum, obstruc...   \n",
       "997   [complication, hemorrhage, antepartum, obstruc...   \n",
       "998   [complication, hemorrhage, antepartum, obstruc...   \n",
       "999   [complication, hemorrhage, antepartum, obstruc...   \n",
       "1000  [complication, hemorrhage, antepartum, obstruc...   \n",
       "\n",
       "                                    Representative_Docs  \\\n",
       "0     [Prolonged pregnancy, delivered, with or witho...   \n",
       "1     [Prolonged pregnancy, delivered, with or witho...   \n",
       "2     [Other specified miliary tuberculosis, tubercl...   \n",
       "3     [Prolonged pregnancy, delivered, with or witho...   \n",
       "4     [Other specified miliary tuberculosis, tubercl...   \n",
       "...                                                 ...   \n",
       "996   [Prolonged pregnancy, delivered, with or witho...   \n",
       "997   [Prolonged pregnancy, delivered, with or witho...   \n",
       "998   [Prolonged pregnancy, delivered, with or witho...   \n",
       "999   [Prolonged pregnancy, delivered, with or witho...   \n",
       "1000  [Prolonged pregnancy, delivered, with or witho...   \n",
       "\n",
       "                                            Top_n_words  Probability  \\\n",
       "0     complication - hemorrhage - antepartum - obstr...     1.000000   \n",
       "1     complication - hemorrhage - antepartum - obstr...     0.801948   \n",
       "2     bacteriological - tuberculous - tuberculoma - ...     0.853436   \n",
       "3     complication - hemorrhage - antepartum - obstr...     0.832191   \n",
       "4     bacteriological - tuberculous - tuberculoma - ...     0.901871   \n",
       "...                                                 ...          ...   \n",
       "996   complication - hemorrhage - antepartum - obstr...     1.000000   \n",
       "997   complication - hemorrhage - antepartum - obstr...     1.000000   \n",
       "998   complication - hemorrhage - antepartum - obstr...     1.000000   \n",
       "999   complication - hemorrhage - antepartum - obstr...     1.000000   \n",
       "1000  complication - hemorrhage - antepartum - obstr...     1.000000   \n",
       "\n",
       "      Representative_document  \n",
       "0                       False  \n",
       "1                       False  \n",
       "2                       False  \n",
       "3                       False  \n",
       "4                       False  \n",
       "...                       ...  \n",
       "996                     False  \n",
       "997                     False  \n",
       "998                     False  \n",
       "999                     False  \n",
       "1000                    False  \n",
       "\n",
       "[1001 rows x 8 columns]"
      ]
     },
     "execution_count": 14,
     "metadata": {},
     "output_type": "execute_result"
    }
   ],
   "source": [
    "topic_model.get_document_info(docs)"
   ]
  },
  {
   "cell_type": "code",
   "execution_count": 15,
   "metadata": {},
   "outputs": [
    {
     "data": {
      "application/vnd.plotly.v1+json": {
       "config": {
        "plotlyServerURL": "https://plot.ly"
       },
       "data": [
        {
         "customdata": [
          [
           0,
           "complication | hemorrhage | antepartum | obstruction | pregnancy",
           841
          ],
          [
           1,
           "neoplasm | neoplasms | hemangioma | malignant | lymphosarcoma",
           95
          ],
          [
           2,
           "hemorrhage | intracranial | laceration | subarachnoid | contusion",
           42
          ],
          [
           3,
           "bacteriological | tuberculous | tuberculoma | peritonitis | bacilli",
           22
          ]
         ],
         "hovertemplate": "<b>Topic %{customdata[0]}</b><br>%{customdata[1]}<br>Size: %{customdata[2]}",
         "legendgroup": "",
         "marker": {
          "color": "#B0BEC5",
          "line": {
           "color": "DarkSlateGrey",
           "width": 2
          },
          "size": [
           841,
           95,
           42,
           22
          ],
          "sizemode": "area",
          "sizeref": 0.525625,
          "symbol": "circle"
         },
         "mode": "markers",
         "name": "",
         "orientation": "v",
         "showlegend": false,
         "type": "scatter",
         "x": [
          14.520886421203613,
          15.256925582885742,
          14.361985206604004,
          16.011159896850586
         ],
         "xaxis": "x",
         "y": [
          21.893138885498047,
          21.23343849182129,
          22.59691619873047,
          21.661060333251953
         ],
         "yaxis": "y"
        }
       ],
       "layout": {
        "annotations": [
         {
          "showarrow": false,
          "text": "D1",
          "x": 12.207687425613404,
          "y": 22.017438173294067,
          "yshift": 10
         },
         {
          "showarrow": false,
          "text": "D2",
          "x": 15.310260653495789,
          "xshift": 10,
          "y": 25.98645362854004
         }
        ],
        "height": 650,
        "hoverlabel": {
         "bgcolor": "white",
         "font": {
          "family": "Rockwell",
          "size": 16
         }
        },
        "legend": {
         "itemsizing": "constant",
         "tracegroupgap": 0
        },
        "margin": {
         "t": 60
        },
        "shapes": [
         {
          "line": {
           "color": "#CFD8DC",
           "width": 2
          },
          "type": "line",
          "x0": 15.310260653495789,
          "x1": 15.310260653495789,
          "y0": 18.048422718048094,
          "y1": 25.98645362854004
         },
         {
          "line": {
           "color": "#9E9E9E",
           "width": 2
          },
          "type": "line",
          "x0": 12.207687425613404,
          "x1": 18.412833881378173,
          "y0": 22.017438173294067,
          "y1": 22.017438173294067
         }
        ],
        "sliders": [
         {
          "active": 0,
          "pad": {
           "t": 50
          },
          "steps": [
           {
            "args": [
             {
              "marker.color": [
               [
                "red",
                "#B0BEC5",
                "#B0BEC5",
                "#B0BEC5"
               ]
              ]
             }
            ],
            "label": "Topic 0",
            "method": "update"
           },
           {
            "args": [
             {
              "marker.color": [
               [
                "#B0BEC5",
                "red",
                "#B0BEC5",
                "#B0BEC5"
               ]
              ]
             }
            ],
            "label": "Topic 1",
            "method": "update"
           },
           {
            "args": [
             {
              "marker.color": [
               [
                "#B0BEC5",
                "#B0BEC5",
                "red",
                "#B0BEC5"
               ]
              ]
             }
            ],
            "label": "Topic 2",
            "method": "update"
           },
           {
            "args": [
             {
              "marker.color": [
               [
                "#B0BEC5",
                "#B0BEC5",
                "#B0BEC5",
                "red"
               ]
              ]
             }
            ],
            "label": "Topic 3",
            "method": "update"
           }
          ]
         }
        ],
        "template": {
         "data": {
          "bar": [
           {
            "error_x": {
             "color": "rgb(36,36,36)"
            },
            "error_y": {
             "color": "rgb(36,36,36)"
            },
            "marker": {
             "line": {
              "color": "white",
              "width": 0.5
             },
             "pattern": {
              "fillmode": "overlay",
              "size": 10,
              "solidity": 0.2
             }
            },
            "type": "bar"
           }
          ],
          "barpolar": [
           {
            "marker": {
             "line": {
              "color": "white",
              "width": 0.5
             },
             "pattern": {
              "fillmode": "overlay",
              "size": 10,
              "solidity": 0.2
             }
            },
            "type": "barpolar"
           }
          ],
          "carpet": [
           {
            "aaxis": {
             "endlinecolor": "rgb(36,36,36)",
             "gridcolor": "white",
             "linecolor": "white",
             "minorgridcolor": "white",
             "startlinecolor": "rgb(36,36,36)"
            },
            "baxis": {
             "endlinecolor": "rgb(36,36,36)",
             "gridcolor": "white",
             "linecolor": "white",
             "minorgridcolor": "white",
             "startlinecolor": "rgb(36,36,36)"
            },
            "type": "carpet"
           }
          ],
          "choropleth": [
           {
            "colorbar": {
             "outlinewidth": 1,
             "tickcolor": "rgb(36,36,36)",
             "ticks": "outside"
            },
            "type": "choropleth"
           }
          ],
          "contour": [
           {
            "colorbar": {
             "outlinewidth": 1,
             "tickcolor": "rgb(36,36,36)",
             "ticks": "outside"
            },
            "colorscale": [
             [
              0,
              "#440154"
             ],
             [
              0.1111111111111111,
              "#482878"
             ],
             [
              0.2222222222222222,
              "#3e4989"
             ],
             [
              0.3333333333333333,
              "#31688e"
             ],
             [
              0.4444444444444444,
              "#26828e"
             ],
             [
              0.5555555555555556,
              "#1f9e89"
             ],
             [
              0.6666666666666666,
              "#35b779"
             ],
             [
              0.7777777777777778,
              "#6ece58"
             ],
             [
              0.8888888888888888,
              "#b5de2b"
             ],
             [
              1,
              "#fde725"
             ]
            ],
            "type": "contour"
           }
          ],
          "contourcarpet": [
           {
            "colorbar": {
             "outlinewidth": 1,
             "tickcolor": "rgb(36,36,36)",
             "ticks": "outside"
            },
            "type": "contourcarpet"
           }
          ],
          "heatmap": [
           {
            "colorbar": {
             "outlinewidth": 1,
             "tickcolor": "rgb(36,36,36)",
             "ticks": "outside"
            },
            "colorscale": [
             [
              0,
              "#440154"
             ],
             [
              0.1111111111111111,
              "#482878"
             ],
             [
              0.2222222222222222,
              "#3e4989"
             ],
             [
              0.3333333333333333,
              "#31688e"
             ],
             [
              0.4444444444444444,
              "#26828e"
             ],
             [
              0.5555555555555556,
              "#1f9e89"
             ],
             [
              0.6666666666666666,
              "#35b779"
             ],
             [
              0.7777777777777778,
              "#6ece58"
             ],
             [
              0.8888888888888888,
              "#b5de2b"
             ],
             [
              1,
              "#fde725"
             ]
            ],
            "type": "heatmap"
           }
          ],
          "heatmapgl": [
           {
            "colorbar": {
             "outlinewidth": 1,
             "tickcolor": "rgb(36,36,36)",
             "ticks": "outside"
            },
            "colorscale": [
             [
              0,
              "#440154"
             ],
             [
              0.1111111111111111,
              "#482878"
             ],
             [
              0.2222222222222222,
              "#3e4989"
             ],
             [
              0.3333333333333333,
              "#31688e"
             ],
             [
              0.4444444444444444,
              "#26828e"
             ],
             [
              0.5555555555555556,
              "#1f9e89"
             ],
             [
              0.6666666666666666,
              "#35b779"
             ],
             [
              0.7777777777777778,
              "#6ece58"
             ],
             [
              0.8888888888888888,
              "#b5de2b"
             ],
             [
              1,
              "#fde725"
             ]
            ],
            "type": "heatmapgl"
           }
          ],
          "histogram": [
           {
            "marker": {
             "line": {
              "color": "white",
              "width": 0.6
             }
            },
            "type": "histogram"
           }
          ],
          "histogram2d": [
           {
            "colorbar": {
             "outlinewidth": 1,
             "tickcolor": "rgb(36,36,36)",
             "ticks": "outside"
            },
            "colorscale": [
             [
              0,
              "#440154"
             ],
             [
              0.1111111111111111,
              "#482878"
             ],
             [
              0.2222222222222222,
              "#3e4989"
             ],
             [
              0.3333333333333333,
              "#31688e"
             ],
             [
              0.4444444444444444,
              "#26828e"
             ],
             [
              0.5555555555555556,
              "#1f9e89"
             ],
             [
              0.6666666666666666,
              "#35b779"
             ],
             [
              0.7777777777777778,
              "#6ece58"
             ],
             [
              0.8888888888888888,
              "#b5de2b"
             ],
             [
              1,
              "#fde725"
             ]
            ],
            "type": "histogram2d"
           }
          ],
          "histogram2dcontour": [
           {
            "colorbar": {
             "outlinewidth": 1,
             "tickcolor": "rgb(36,36,36)",
             "ticks": "outside"
            },
            "colorscale": [
             [
              0,
              "#440154"
             ],
             [
              0.1111111111111111,
              "#482878"
             ],
             [
              0.2222222222222222,
              "#3e4989"
             ],
             [
              0.3333333333333333,
              "#31688e"
             ],
             [
              0.4444444444444444,
              "#26828e"
             ],
             [
              0.5555555555555556,
              "#1f9e89"
             ],
             [
              0.6666666666666666,
              "#35b779"
             ],
             [
              0.7777777777777778,
              "#6ece58"
             ],
             [
              0.8888888888888888,
              "#b5de2b"
             ],
             [
              1,
              "#fde725"
             ]
            ],
            "type": "histogram2dcontour"
           }
          ],
          "mesh3d": [
           {
            "colorbar": {
             "outlinewidth": 1,
             "tickcolor": "rgb(36,36,36)",
             "ticks": "outside"
            },
            "type": "mesh3d"
           }
          ],
          "parcoords": [
           {
            "line": {
             "colorbar": {
              "outlinewidth": 1,
              "tickcolor": "rgb(36,36,36)",
              "ticks": "outside"
             }
            },
            "type": "parcoords"
           }
          ],
          "pie": [
           {
            "automargin": true,
            "type": "pie"
           }
          ],
          "scatter": [
           {
            "fillpattern": {
             "fillmode": "overlay",
             "size": 10,
             "solidity": 0.2
            },
            "type": "scatter"
           }
          ],
          "scatter3d": [
           {
            "line": {
             "colorbar": {
              "outlinewidth": 1,
              "tickcolor": "rgb(36,36,36)",
              "ticks": "outside"
             }
            },
            "marker": {
             "colorbar": {
              "outlinewidth": 1,
              "tickcolor": "rgb(36,36,36)",
              "ticks": "outside"
             }
            },
            "type": "scatter3d"
           }
          ],
          "scattercarpet": [
           {
            "marker": {
             "colorbar": {
              "outlinewidth": 1,
              "tickcolor": "rgb(36,36,36)",
              "ticks": "outside"
             }
            },
            "type": "scattercarpet"
           }
          ],
          "scattergeo": [
           {
            "marker": {
             "colorbar": {
              "outlinewidth": 1,
              "tickcolor": "rgb(36,36,36)",
              "ticks": "outside"
             }
            },
            "type": "scattergeo"
           }
          ],
          "scattergl": [
           {
            "marker": {
             "colorbar": {
              "outlinewidth": 1,
              "tickcolor": "rgb(36,36,36)",
              "ticks": "outside"
             }
            },
            "type": "scattergl"
           }
          ],
          "scattermapbox": [
           {
            "marker": {
             "colorbar": {
              "outlinewidth": 1,
              "tickcolor": "rgb(36,36,36)",
              "ticks": "outside"
             }
            },
            "type": "scattermapbox"
           }
          ],
          "scatterpolar": [
           {
            "marker": {
             "colorbar": {
              "outlinewidth": 1,
              "tickcolor": "rgb(36,36,36)",
              "ticks": "outside"
             }
            },
            "type": "scatterpolar"
           }
          ],
          "scatterpolargl": [
           {
            "marker": {
             "colorbar": {
              "outlinewidth": 1,
              "tickcolor": "rgb(36,36,36)",
              "ticks": "outside"
             }
            },
            "type": "scatterpolargl"
           }
          ],
          "scatterternary": [
           {
            "marker": {
             "colorbar": {
              "outlinewidth": 1,
              "tickcolor": "rgb(36,36,36)",
              "ticks": "outside"
             }
            },
            "type": "scatterternary"
           }
          ],
          "surface": [
           {
            "colorbar": {
             "outlinewidth": 1,
             "tickcolor": "rgb(36,36,36)",
             "ticks": "outside"
            },
            "colorscale": [
             [
              0,
              "#440154"
             ],
             [
              0.1111111111111111,
              "#482878"
             ],
             [
              0.2222222222222222,
              "#3e4989"
             ],
             [
              0.3333333333333333,
              "#31688e"
             ],
             [
              0.4444444444444444,
              "#26828e"
             ],
             [
              0.5555555555555556,
              "#1f9e89"
             ],
             [
              0.6666666666666666,
              "#35b779"
             ],
             [
              0.7777777777777778,
              "#6ece58"
             ],
             [
              0.8888888888888888,
              "#b5de2b"
             ],
             [
              1,
              "#fde725"
             ]
            ],
            "type": "surface"
           }
          ],
          "table": [
           {
            "cells": {
             "fill": {
              "color": "rgb(237,237,237)"
             },
             "line": {
              "color": "white"
             }
            },
            "header": {
             "fill": {
              "color": "rgb(217,217,217)"
             },
             "line": {
              "color": "white"
             }
            },
            "type": "table"
           }
          ]
         },
         "layout": {
          "annotationdefaults": {
           "arrowhead": 0,
           "arrowwidth": 1
          },
          "autotypenumbers": "strict",
          "coloraxis": {
           "colorbar": {
            "outlinewidth": 1,
            "tickcolor": "rgb(36,36,36)",
            "ticks": "outside"
           }
          },
          "colorscale": {
           "diverging": [
            [
             0,
             "rgb(103,0,31)"
            ],
            [
             0.1,
             "rgb(178,24,43)"
            ],
            [
             0.2,
             "rgb(214,96,77)"
            ],
            [
             0.3,
             "rgb(244,165,130)"
            ],
            [
             0.4,
             "rgb(253,219,199)"
            ],
            [
             0.5,
             "rgb(247,247,247)"
            ],
            [
             0.6,
             "rgb(209,229,240)"
            ],
            [
             0.7,
             "rgb(146,197,222)"
            ],
            [
             0.8,
             "rgb(67,147,195)"
            ],
            [
             0.9,
             "rgb(33,102,172)"
            ],
            [
             1,
             "rgb(5,48,97)"
            ]
           ],
           "sequential": [
            [
             0,
             "#440154"
            ],
            [
             0.1111111111111111,
             "#482878"
            ],
            [
             0.2222222222222222,
             "#3e4989"
            ],
            [
             0.3333333333333333,
             "#31688e"
            ],
            [
             0.4444444444444444,
             "#26828e"
            ],
            [
             0.5555555555555556,
             "#1f9e89"
            ],
            [
             0.6666666666666666,
             "#35b779"
            ],
            [
             0.7777777777777778,
             "#6ece58"
            ],
            [
             0.8888888888888888,
             "#b5de2b"
            ],
            [
             1,
             "#fde725"
            ]
           ],
           "sequentialminus": [
            [
             0,
             "#440154"
            ],
            [
             0.1111111111111111,
             "#482878"
            ],
            [
             0.2222222222222222,
             "#3e4989"
            ],
            [
             0.3333333333333333,
             "#31688e"
            ],
            [
             0.4444444444444444,
             "#26828e"
            ],
            [
             0.5555555555555556,
             "#1f9e89"
            ],
            [
             0.6666666666666666,
             "#35b779"
            ],
            [
             0.7777777777777778,
             "#6ece58"
            ],
            [
             0.8888888888888888,
             "#b5de2b"
            ],
            [
             1,
             "#fde725"
            ]
           ]
          },
          "colorway": [
           "#1F77B4",
           "#FF7F0E",
           "#2CA02C",
           "#D62728",
           "#9467BD",
           "#8C564B",
           "#E377C2",
           "#7F7F7F",
           "#BCBD22",
           "#17BECF"
          ],
          "font": {
           "color": "rgb(36,36,36)"
          },
          "geo": {
           "bgcolor": "white",
           "lakecolor": "white",
           "landcolor": "white",
           "showlakes": true,
           "showland": true,
           "subunitcolor": "white"
          },
          "hoverlabel": {
           "align": "left"
          },
          "hovermode": "closest",
          "mapbox": {
           "style": "light"
          },
          "paper_bgcolor": "white",
          "plot_bgcolor": "white",
          "polar": {
           "angularaxis": {
            "gridcolor": "rgb(232,232,232)",
            "linecolor": "rgb(36,36,36)",
            "showgrid": false,
            "showline": true,
            "ticks": "outside"
           },
           "bgcolor": "white",
           "radialaxis": {
            "gridcolor": "rgb(232,232,232)",
            "linecolor": "rgb(36,36,36)",
            "showgrid": false,
            "showline": true,
            "ticks": "outside"
           }
          },
          "scene": {
           "xaxis": {
            "backgroundcolor": "white",
            "gridcolor": "rgb(232,232,232)",
            "gridwidth": 2,
            "linecolor": "rgb(36,36,36)",
            "showbackground": true,
            "showgrid": false,
            "showline": true,
            "ticks": "outside",
            "zeroline": false,
            "zerolinecolor": "rgb(36,36,36)"
           },
           "yaxis": {
            "backgroundcolor": "white",
            "gridcolor": "rgb(232,232,232)",
            "gridwidth": 2,
            "linecolor": "rgb(36,36,36)",
            "showbackground": true,
            "showgrid": false,
            "showline": true,
            "ticks": "outside",
            "zeroline": false,
            "zerolinecolor": "rgb(36,36,36)"
           },
           "zaxis": {
            "backgroundcolor": "white",
            "gridcolor": "rgb(232,232,232)",
            "gridwidth": 2,
            "linecolor": "rgb(36,36,36)",
            "showbackground": true,
            "showgrid": false,
            "showline": true,
            "ticks": "outside",
            "zeroline": false,
            "zerolinecolor": "rgb(36,36,36)"
           }
          },
          "shapedefaults": {
           "fillcolor": "black",
           "line": {
            "width": 0
           },
           "opacity": 0.3
          },
          "ternary": {
           "aaxis": {
            "gridcolor": "rgb(232,232,232)",
            "linecolor": "rgb(36,36,36)",
            "showgrid": false,
            "showline": true,
            "ticks": "outside"
           },
           "baxis": {
            "gridcolor": "rgb(232,232,232)",
            "linecolor": "rgb(36,36,36)",
            "showgrid": false,
            "showline": true,
            "ticks": "outside"
           },
           "bgcolor": "white",
           "caxis": {
            "gridcolor": "rgb(232,232,232)",
            "linecolor": "rgb(36,36,36)",
            "showgrid": false,
            "showline": true,
            "ticks": "outside"
           }
          },
          "title": {
           "x": 0.05
          },
          "xaxis": {
           "automargin": true,
           "gridcolor": "rgb(232,232,232)",
           "linecolor": "rgb(36,36,36)",
           "showgrid": false,
           "showline": true,
           "ticks": "outside",
           "title": {
            "standoff": 15
           },
           "zeroline": false,
           "zerolinecolor": "rgb(36,36,36)"
          },
          "yaxis": {
           "automargin": true,
           "gridcolor": "rgb(232,232,232)",
           "linecolor": "rgb(36,36,36)",
           "showgrid": false,
           "showline": true,
           "ticks": "outside",
           "title": {
            "standoff": 15
           },
           "zeroline": false,
           "zerolinecolor": "rgb(36,36,36)"
          }
         }
        },
        "title": {
         "font": {
          "color": "Black",
          "size": 22
         },
         "text": "<b>Intertopic Distance Map</b>",
         "x": 0.5,
         "xanchor": "center",
         "y": 0.95,
         "yanchor": "top"
        },
        "width": 650,
        "xaxis": {
         "anchor": "y",
         "domain": [
          0,
          1
         ],
         "range": [
          12.207687425613404,
          18.412833881378173
         ],
         "title": {
          "text": ""
         },
         "visible": false
        },
        "yaxis": {
         "anchor": "x",
         "domain": [
          0,
          1
         ],
         "range": [
          18.048422718048094,
          25.98645362854004
         ],
         "title": {
          "text": ""
         },
         "visible": false
        }
       }
      }
     },
     "metadata": {},
     "output_type": "display_data"
    }
   ],
   "source": [
    "topic_model.visualize_topics()\n"
   ]
  },
  {
   "cell_type": "code",
   "execution_count": 17,
   "metadata": {},
   "outputs": [
    {
     "data": {
      "text/plain": [
       "['hemorrhage', 'antepartum', 'leukemia', 'concussion', 'tuberculosis']"
      ]
     },
     "execution_count": 17,
     "metadata": {},
     "output_type": "execute_result"
    }
   ],
   "source": [
    "custom_labels = list(topic_model.get_topic_info()['Name'].apply(lambda x: x[0]))\n",
    "custom_labels"
   ]
  },
  {
   "cell_type": "code",
   "execution_count": 18,
   "metadata": {},
   "outputs": [],
   "source": [
    "topic_model.set_topic_labels(custom_labels)"
   ]
  },
  {
   "cell_type": "code",
   "execution_count": 19,
   "metadata": {},
   "outputs": [
    {
     "data": {
      "application/vnd.plotly.v1+json": {
       "config": {
        "plotlyServerURL": "https://plot.ly"
       },
       "data": [
        {
         "marker": {
          "color": "#D55E00"
         },
         "orientation": "h",
         "type": "bar",
         "x": [
          0.9454864263534546,
          0.9517409801483154,
          0.952029287815094,
          0.9563547968864441,
          0.9605563879013062
         ],
         "xaxis": "x",
         "y": [
          "pregnancy  ",
          "obstruction  ",
          "antepartum  ",
          "hemorrhage  ",
          "complication  "
         ],
         "yaxis": "y"
        },
        {
         "marker": {
          "color": "#0072B2"
         },
         "orientation": "h",
         "type": "bar",
         "x": [
          0.9653922319412231,
          0.9656794667243958,
          0.9670248031616211,
          0.9713656902313232,
          0.9721249341964722
         ],
         "xaxis": "x2",
         "y": [
          "lymphosarcoma  ",
          "malignant  ",
          "hemangioma  ",
          "neoplasms  ",
          "neoplasm  "
         ],
         "yaxis": "y2"
        },
        {
         "marker": {
          "color": "#CC79A7"
         },
         "orientation": "h",
         "type": "bar",
         "x": [
          0.9405815601348877,
          0.9406415224075317,
          0.9407410621643066,
          0.9440640211105347,
          0.9483740329742432
         ],
         "xaxis": "x3",
         "y": [
          "contusion  ",
          "subarachnoid  ",
          "laceration  ",
          "intracranial  ",
          "hemorrhage  "
         ],
         "yaxis": "y3"
        },
        {
         "marker": {
          "color": "#E69F00"
         },
         "orientation": "h",
         "type": "bar",
         "x": [
          0.9301079511642456,
          0.9303969144821167,
          0.9336193799972534,
          0.936899721622467,
          0.9398519992828369
         ],
         "xaxis": "x4",
         "y": [
          "bacilli  ",
          "peritonitis  ",
          "tuberculoma  ",
          "tuberculous  ",
          "bacteriological  "
         ],
         "yaxis": "y4"
        }
       ],
       "layout": {
        "annotations": [
         {
          "font": {
           "size": 16
          },
          "showarrow": false,
          "text": "antepartum",
          "x": 0.0875,
          "xanchor": "center",
          "xref": "paper",
          "y": 1,
          "yanchor": "bottom",
          "yref": "paper"
         },
         {
          "font": {
           "size": 16
          },
          "showarrow": false,
          "text": "leukemia",
          "x": 0.36250000000000004,
          "xanchor": "center",
          "xref": "paper",
          "y": 1,
          "yanchor": "bottom",
          "yref": "paper"
         },
         {
          "font": {
           "size": 16
          },
          "showarrow": false,
          "text": "concussion",
          "x": 0.6375000000000001,
          "xanchor": "center",
          "xref": "paper",
          "y": 1,
          "yanchor": "bottom",
          "yref": "paper"
         },
         {
          "font": {
           "size": 16
          },
          "showarrow": false,
          "text": "tuberculosis",
          "x": 0.9125,
          "xanchor": "center",
          "xref": "paper",
          "y": 1,
          "yanchor": "bottom",
          "yref": "paper"
         }
        ],
        "height": 325,
        "hoverlabel": {
         "bgcolor": "white",
         "font": {
          "family": "Rockwell",
          "size": 16
         }
        },
        "showlegend": false,
        "template": {
         "data": {
          "bar": [
           {
            "error_x": {
             "color": "#2a3f5f"
            },
            "error_y": {
             "color": "#2a3f5f"
            },
            "marker": {
             "line": {
              "color": "white",
              "width": 0.5
             },
             "pattern": {
              "fillmode": "overlay",
              "size": 10,
              "solidity": 0.2
             }
            },
            "type": "bar"
           }
          ],
          "barpolar": [
           {
            "marker": {
             "line": {
              "color": "white",
              "width": 0.5
             },
             "pattern": {
              "fillmode": "overlay",
              "size": 10,
              "solidity": 0.2
             }
            },
            "type": "barpolar"
           }
          ],
          "carpet": [
           {
            "aaxis": {
             "endlinecolor": "#2a3f5f",
             "gridcolor": "#C8D4E3",
             "linecolor": "#C8D4E3",
             "minorgridcolor": "#C8D4E3",
             "startlinecolor": "#2a3f5f"
            },
            "baxis": {
             "endlinecolor": "#2a3f5f",
             "gridcolor": "#C8D4E3",
             "linecolor": "#C8D4E3",
             "minorgridcolor": "#C8D4E3",
             "startlinecolor": "#2a3f5f"
            },
            "type": "carpet"
           }
          ],
          "choropleth": [
           {
            "colorbar": {
             "outlinewidth": 0,
             "ticks": ""
            },
            "type": "choropleth"
           }
          ],
          "contour": [
           {
            "colorbar": {
             "outlinewidth": 0,
             "ticks": ""
            },
            "colorscale": [
             [
              0,
              "#0d0887"
             ],
             [
              0.1111111111111111,
              "#46039f"
             ],
             [
              0.2222222222222222,
              "#7201a8"
             ],
             [
              0.3333333333333333,
              "#9c179e"
             ],
             [
              0.4444444444444444,
              "#bd3786"
             ],
             [
              0.5555555555555556,
              "#d8576b"
             ],
             [
              0.6666666666666666,
              "#ed7953"
             ],
             [
              0.7777777777777778,
              "#fb9f3a"
             ],
             [
              0.8888888888888888,
              "#fdca26"
             ],
             [
              1,
              "#f0f921"
             ]
            ],
            "type": "contour"
           }
          ],
          "contourcarpet": [
           {
            "colorbar": {
             "outlinewidth": 0,
             "ticks": ""
            },
            "type": "contourcarpet"
           }
          ],
          "heatmap": [
           {
            "colorbar": {
             "outlinewidth": 0,
             "ticks": ""
            },
            "colorscale": [
             [
              0,
              "#0d0887"
             ],
             [
              0.1111111111111111,
              "#46039f"
             ],
             [
              0.2222222222222222,
              "#7201a8"
             ],
             [
              0.3333333333333333,
              "#9c179e"
             ],
             [
              0.4444444444444444,
              "#bd3786"
             ],
             [
              0.5555555555555556,
              "#d8576b"
             ],
             [
              0.6666666666666666,
              "#ed7953"
             ],
             [
              0.7777777777777778,
              "#fb9f3a"
             ],
             [
              0.8888888888888888,
              "#fdca26"
             ],
             [
              1,
              "#f0f921"
             ]
            ],
            "type": "heatmap"
           }
          ],
          "heatmapgl": [
           {
            "colorbar": {
             "outlinewidth": 0,
             "ticks": ""
            },
            "colorscale": [
             [
              0,
              "#0d0887"
             ],
             [
              0.1111111111111111,
              "#46039f"
             ],
             [
              0.2222222222222222,
              "#7201a8"
             ],
             [
              0.3333333333333333,
              "#9c179e"
             ],
             [
              0.4444444444444444,
              "#bd3786"
             ],
             [
              0.5555555555555556,
              "#d8576b"
             ],
             [
              0.6666666666666666,
              "#ed7953"
             ],
             [
              0.7777777777777778,
              "#fb9f3a"
             ],
             [
              0.8888888888888888,
              "#fdca26"
             ],
             [
              1,
              "#f0f921"
             ]
            ],
            "type": "heatmapgl"
           }
          ],
          "histogram": [
           {
            "marker": {
             "pattern": {
              "fillmode": "overlay",
              "size": 10,
              "solidity": 0.2
             }
            },
            "type": "histogram"
           }
          ],
          "histogram2d": [
           {
            "colorbar": {
             "outlinewidth": 0,
             "ticks": ""
            },
            "colorscale": [
             [
              0,
              "#0d0887"
             ],
             [
              0.1111111111111111,
              "#46039f"
             ],
             [
              0.2222222222222222,
              "#7201a8"
             ],
             [
              0.3333333333333333,
              "#9c179e"
             ],
             [
              0.4444444444444444,
              "#bd3786"
             ],
             [
              0.5555555555555556,
              "#d8576b"
             ],
             [
              0.6666666666666666,
              "#ed7953"
             ],
             [
              0.7777777777777778,
              "#fb9f3a"
             ],
             [
              0.8888888888888888,
              "#fdca26"
             ],
             [
              1,
              "#f0f921"
             ]
            ],
            "type": "histogram2d"
           }
          ],
          "histogram2dcontour": [
           {
            "colorbar": {
             "outlinewidth": 0,
             "ticks": ""
            },
            "colorscale": [
             [
              0,
              "#0d0887"
             ],
             [
              0.1111111111111111,
              "#46039f"
             ],
             [
              0.2222222222222222,
              "#7201a8"
             ],
             [
              0.3333333333333333,
              "#9c179e"
             ],
             [
              0.4444444444444444,
              "#bd3786"
             ],
             [
              0.5555555555555556,
              "#d8576b"
             ],
             [
              0.6666666666666666,
              "#ed7953"
             ],
             [
              0.7777777777777778,
              "#fb9f3a"
             ],
             [
              0.8888888888888888,
              "#fdca26"
             ],
             [
              1,
              "#f0f921"
             ]
            ],
            "type": "histogram2dcontour"
           }
          ],
          "mesh3d": [
           {
            "colorbar": {
             "outlinewidth": 0,
             "ticks": ""
            },
            "type": "mesh3d"
           }
          ],
          "parcoords": [
           {
            "line": {
             "colorbar": {
              "outlinewidth": 0,
              "ticks": ""
             }
            },
            "type": "parcoords"
           }
          ],
          "pie": [
           {
            "automargin": true,
            "type": "pie"
           }
          ],
          "scatter": [
           {
            "fillpattern": {
             "fillmode": "overlay",
             "size": 10,
             "solidity": 0.2
            },
            "type": "scatter"
           }
          ],
          "scatter3d": [
           {
            "line": {
             "colorbar": {
              "outlinewidth": 0,
              "ticks": ""
             }
            },
            "marker": {
             "colorbar": {
              "outlinewidth": 0,
              "ticks": ""
             }
            },
            "type": "scatter3d"
           }
          ],
          "scattercarpet": [
           {
            "marker": {
             "colorbar": {
              "outlinewidth": 0,
              "ticks": ""
             }
            },
            "type": "scattercarpet"
           }
          ],
          "scattergeo": [
           {
            "marker": {
             "colorbar": {
              "outlinewidth": 0,
              "ticks": ""
             }
            },
            "type": "scattergeo"
           }
          ],
          "scattergl": [
           {
            "marker": {
             "colorbar": {
              "outlinewidth": 0,
              "ticks": ""
             }
            },
            "type": "scattergl"
           }
          ],
          "scattermapbox": [
           {
            "marker": {
             "colorbar": {
              "outlinewidth": 0,
              "ticks": ""
             }
            },
            "type": "scattermapbox"
           }
          ],
          "scatterpolar": [
           {
            "marker": {
             "colorbar": {
              "outlinewidth": 0,
              "ticks": ""
             }
            },
            "type": "scatterpolar"
           }
          ],
          "scatterpolargl": [
           {
            "marker": {
             "colorbar": {
              "outlinewidth": 0,
              "ticks": ""
             }
            },
            "type": "scatterpolargl"
           }
          ],
          "scatterternary": [
           {
            "marker": {
             "colorbar": {
              "outlinewidth": 0,
              "ticks": ""
             }
            },
            "type": "scatterternary"
           }
          ],
          "surface": [
           {
            "colorbar": {
             "outlinewidth": 0,
             "ticks": ""
            },
            "colorscale": [
             [
              0,
              "#0d0887"
             ],
             [
              0.1111111111111111,
              "#46039f"
             ],
             [
              0.2222222222222222,
              "#7201a8"
             ],
             [
              0.3333333333333333,
              "#9c179e"
             ],
             [
              0.4444444444444444,
              "#bd3786"
             ],
             [
              0.5555555555555556,
              "#d8576b"
             ],
             [
              0.6666666666666666,
              "#ed7953"
             ],
             [
              0.7777777777777778,
              "#fb9f3a"
             ],
             [
              0.8888888888888888,
              "#fdca26"
             ],
             [
              1,
              "#f0f921"
             ]
            ],
            "type": "surface"
           }
          ],
          "table": [
           {
            "cells": {
             "fill": {
              "color": "#EBF0F8"
             },
             "line": {
              "color": "white"
             }
            },
            "header": {
             "fill": {
              "color": "#C8D4E3"
             },
             "line": {
              "color": "white"
             }
            },
            "type": "table"
           }
          ]
         },
         "layout": {
          "annotationdefaults": {
           "arrowcolor": "#2a3f5f",
           "arrowhead": 0,
           "arrowwidth": 1
          },
          "autotypenumbers": "strict",
          "coloraxis": {
           "colorbar": {
            "outlinewidth": 0,
            "ticks": ""
           }
          },
          "colorscale": {
           "diverging": [
            [
             0,
             "#8e0152"
            ],
            [
             0.1,
             "#c51b7d"
            ],
            [
             0.2,
             "#de77ae"
            ],
            [
             0.3,
             "#f1b6da"
            ],
            [
             0.4,
             "#fde0ef"
            ],
            [
             0.5,
             "#f7f7f7"
            ],
            [
             0.6,
             "#e6f5d0"
            ],
            [
             0.7,
             "#b8e186"
            ],
            [
             0.8,
             "#7fbc41"
            ],
            [
             0.9,
             "#4d9221"
            ],
            [
             1,
             "#276419"
            ]
           ],
           "sequential": [
            [
             0,
             "#0d0887"
            ],
            [
             0.1111111111111111,
             "#46039f"
            ],
            [
             0.2222222222222222,
             "#7201a8"
            ],
            [
             0.3333333333333333,
             "#9c179e"
            ],
            [
             0.4444444444444444,
             "#bd3786"
            ],
            [
             0.5555555555555556,
             "#d8576b"
            ],
            [
             0.6666666666666666,
             "#ed7953"
            ],
            [
             0.7777777777777778,
             "#fb9f3a"
            ],
            [
             0.8888888888888888,
             "#fdca26"
            ],
            [
             1,
             "#f0f921"
            ]
           ],
           "sequentialminus": [
            [
             0,
             "#0d0887"
            ],
            [
             0.1111111111111111,
             "#46039f"
            ],
            [
             0.2222222222222222,
             "#7201a8"
            ],
            [
             0.3333333333333333,
             "#9c179e"
            ],
            [
             0.4444444444444444,
             "#bd3786"
            ],
            [
             0.5555555555555556,
             "#d8576b"
            ],
            [
             0.6666666666666666,
             "#ed7953"
            ],
            [
             0.7777777777777778,
             "#fb9f3a"
            ],
            [
             0.8888888888888888,
             "#fdca26"
            ],
            [
             1,
             "#f0f921"
            ]
           ]
          },
          "colorway": [
           "#636efa",
           "#EF553B",
           "#00cc96",
           "#ab63fa",
           "#FFA15A",
           "#19d3f3",
           "#FF6692",
           "#B6E880",
           "#FF97FF",
           "#FECB52"
          ],
          "font": {
           "color": "#2a3f5f"
          },
          "geo": {
           "bgcolor": "white",
           "lakecolor": "white",
           "landcolor": "white",
           "showlakes": true,
           "showland": true,
           "subunitcolor": "#C8D4E3"
          },
          "hoverlabel": {
           "align": "left"
          },
          "hovermode": "closest",
          "mapbox": {
           "style": "light"
          },
          "paper_bgcolor": "white",
          "plot_bgcolor": "white",
          "polar": {
           "angularaxis": {
            "gridcolor": "#EBF0F8",
            "linecolor": "#EBF0F8",
            "ticks": ""
           },
           "bgcolor": "white",
           "radialaxis": {
            "gridcolor": "#EBF0F8",
            "linecolor": "#EBF0F8",
            "ticks": ""
           }
          },
          "scene": {
           "xaxis": {
            "backgroundcolor": "white",
            "gridcolor": "#DFE8F3",
            "gridwidth": 2,
            "linecolor": "#EBF0F8",
            "showbackground": true,
            "ticks": "",
            "zerolinecolor": "#EBF0F8"
           },
           "yaxis": {
            "backgroundcolor": "white",
            "gridcolor": "#DFE8F3",
            "gridwidth": 2,
            "linecolor": "#EBF0F8",
            "showbackground": true,
            "ticks": "",
            "zerolinecolor": "#EBF0F8"
           },
           "zaxis": {
            "backgroundcolor": "white",
            "gridcolor": "#DFE8F3",
            "gridwidth": 2,
            "linecolor": "#EBF0F8",
            "showbackground": true,
            "ticks": "",
            "zerolinecolor": "#EBF0F8"
           }
          },
          "shapedefaults": {
           "line": {
            "color": "#2a3f5f"
           }
          },
          "ternary": {
           "aaxis": {
            "gridcolor": "#DFE8F3",
            "linecolor": "#A2B1C6",
            "ticks": ""
           },
           "baxis": {
            "gridcolor": "#DFE8F3",
            "linecolor": "#A2B1C6",
            "ticks": ""
           },
           "bgcolor": "white",
           "caxis": {
            "gridcolor": "#DFE8F3",
            "linecolor": "#A2B1C6",
            "ticks": ""
           }
          },
          "title": {
           "x": 0.05
          },
          "xaxis": {
           "automargin": true,
           "gridcolor": "#EBF0F8",
           "linecolor": "#EBF0F8",
           "ticks": "",
           "title": {
            "standoff": 15
           },
           "zerolinecolor": "#EBF0F8",
           "zerolinewidth": 2
          },
          "yaxis": {
           "automargin": true,
           "gridcolor": "#EBF0F8",
           "linecolor": "#EBF0F8",
           "ticks": "",
           "title": {
            "standoff": 15
           },
           "zerolinecolor": "#EBF0F8",
           "zerolinewidth": 2
          }
         }
        },
        "title": {
         "font": {
          "color": "Black",
          "size": 22
         },
         "text": "Topic Word Scores",
         "x": 0.5,
         "xanchor": "center",
         "yanchor": "top"
        },
        "width": 1000,
        "xaxis": {
         "anchor": "y",
         "domain": [
          0,
          0.175
         ],
         "showgrid": true
        },
        "xaxis2": {
         "anchor": "y2",
         "domain": [
          0.275,
          0.45
         ],
         "showgrid": true
        },
        "xaxis3": {
         "anchor": "y3",
         "domain": [
          0.55,
          0.7250000000000001
         ],
         "showgrid": true
        },
        "xaxis4": {
         "anchor": "y4",
         "domain": [
          0.825,
          1
         ],
         "showgrid": true
        },
        "yaxis": {
         "anchor": "x",
         "domain": [
          0,
          1
         ],
         "showgrid": true
        },
        "yaxis2": {
         "anchor": "x2",
         "domain": [
          0,
          1
         ],
         "showgrid": true
        },
        "yaxis3": {
         "anchor": "x3",
         "domain": [
          0,
          1
         ],
         "showgrid": true
        },
        "yaxis4": {
         "anchor": "x4",
         "domain": [
          0,
          1
         ],
         "showgrid": true
        }
       }
      }
     },
     "metadata": {},
     "output_type": "display_data"
    }
   ],
   "source": [
    "# topic_model.set_topic_labels\n",
    "topic_model.visualize_barchart(custom_labels=True)"
   ]
  },
  {
   "cell_type": "code",
   "execution_count": 21,
   "metadata": {},
   "outputs": [],
   "source": [
    "# dummy visualizing over time - create some synthetic timestamps\n",
    "\n",
    "# Define the start and end dates\n",
    "start_date = \"2021-01-01\"\n",
    "end_date = \"2023-12-31\"\n",
    "\n",
    "# Generate random dates between the start and end dates\n",
    "n = len(docs)  # Number of random dates to generate\n",
    "date_range = pd.date_range(start=start_date, end=end_date)\n",
    "random_dates = np.random.choice(date_range, n)\n",
    "\n",
    "# add to docs \n",
    "topics_over_time = topic_model.topics_over_time(docs, random_dates, nr_bins=20)"
   ]
  },
  {
   "cell_type": "code",
   "execution_count": 22,
   "metadata": {},
   "outputs": [
    {
     "data": {
      "application/vnd.plotly.v1+json": {
       "config": {
        "plotlyServerURL": "https://plot.ly"
       },
       "data": [
        {
         "hoverinfo": "text",
         "hovertext": [
          "<b>Topic 0</b><br>Words: complication, empyema, obstruction, aortitis, postlaminectomy",
          "<b>Topic 0</b><br>Words: hemorrhage, obstruction, hysterectomy, complication, paraplegia",
          "<b>Topic 0</b><br>Words: complication, not, unspecified, other, without",
          "<b>Topic 0</b><br>Words: antenatal, complication, antepartum, amniotic, not",
          "<b>Topic 0</b><br>Words: complication, rupture, obstruction, nontraumatic, antepartum",
          "<b>Topic 0</b><br>Words: arthropathy, pouchitis, arthritis, thrombosis, insufficiency",
          "<b>Topic 0</b><br>Words: complication, orchitis, pneumonia, influenza, infection",
          "<b>Topic 0</b><br>Words: puerperium, hematocele, complication, peritoneal, sinusitis",
          "<b>Topic 0</b><br>Words: complication, unspecified, not, previa, antepartum",
          "<b>Topic 0</b><br>Words: other, complication, hospitalized, manifestations, not",
          "<b>Topic 0</b><br>Words: unspecified, other, complication, not, factitious",
          "<b>Topic 0</b><br>Words: amputation, complication, accident, antecedent, other",
          "<b>Topic 0</b><br>Words: complication, hemorrhage, obstruction, labyrinthitis, tenosynovitis",
          "<b>Topic 0</b><br>Words: complication, obstructed, obstruction, not, unspecified",
          "<b>Topic 0</b><br>Words: puerperium, complication, hemorrhage, antepartum, factitia",
          "<b>Topic 0</b><br>Words: complication, unspecified, other, not, hemorrhage",
          "<b>Topic 0</b><br>Words: complication, brachial, aortocoronary, obstructive, prophylactic",
          "<b>Topic 0</b><br>Words: complication, other, obstruction, pupillary, cranial",
          "<b>Topic 0</b><br>Words: other, unspecified, accident, not, common",
          "<b>Topic 0</b><br>Words: complication, antepartum, not, other, unspecified"
         ],
         "marker": {
          "color": "#E69F00"
         },
         "mode": "lines",
         "name": "0_complication_hemorrhage_antepartum_obs...",
         "type": "scatter",
         "x": [
          "2020-12-30T21:44:38.400000",
          "2021-02-24T16:48:00",
          "2021-04-20T09:36:00",
          "2021-06-14T02:24:00",
          "2021-08-07T19:12:00",
          "2021-10-01T12:00:00",
          "2021-11-25T04:48:00",
          "2022-01-18T21:36:00",
          "2022-03-14T14:24:00",
          "2022-05-08T07:12:00",
          "2022-07-02T00:00:00",
          "2022-08-25T16:48:00",
          "2022-10-19T09:36:00",
          "2022-12-13T02:24:00",
          "2023-02-05T19:12:00",
          "2023-04-01T12:00:00",
          "2023-05-26T04:48:00",
          "2023-07-19T21:36:00",
          "2023-09-12T14:24:00",
          "2023-11-06T07:12:00"
         ],
         "y": [
          36,
          42,
          46,
          50,
          51,
          35,
          42,
          38,
          42,
          43,
          45,
          34,
          44,
          43,
          36,
          44,
          42,
          46,
          38,
          44
         ]
        },
        {
         "hoverinfo": "text",
         "hovertext": [
          "<b>Topic 1</b><br>Words: hemangioma, neoplasm, neoplasms, cyst, lymphosarcoma",
          "<b>Topic 1</b><br>Words: hemangioma, neoplasm, neoplasms, malignant, lymphosarcoma",
          "<b>Topic 1</b><br>Words: neoplasm, hemangioma, neoplasms, lymphosarcoma, malignant",
          "<b>Topic 1</b><br>Words: reticuloendotheliosis, hemangioma, histiocytosis, lymphosarcoma, neoplasm",
          "<b>Topic 1</b><br>Words: leukemic, neoplasm, leukemia, neoplasms, myeloid",
          "<b>Topic 1</b><br>Words: neoplasm, neoplasms, malignant, lymphosarcoma, hemangioma",
          "<b>Topic 1</b><br>Words: neoplasm, neoplasms, lymphosarcoma, hemangioma, lymphomas",
          "<b>Topic 1</b><br>Words: neoplasm, hemangioma, neoplasms, cervix, malignant",
          "<b>Topic 1</b><br>Words: neoplasm, neoplasms, hemangioma, malignant, lymphosarcoma",
          "<b>Topic 1</b><br>Words: neoplasm, neoplasms, hemangioma, malignant, lymphosarcoma",
          "<b>Topic 1</b><br>Words: lymphosarcoma, neoplasm, hemangioma, neoplasms, malignant",
          "<b>Topic 1</b><br>Words: neoplasm, neoplasms, hemangioma, granuloma, lymphosarcoma",
          "<b>Topic 1</b><br>Words: neoplasm, neoplasms, malignant, hemangioma, reticulosarcoma",
          "<b>Topic 1</b><br>Words: tuberculoma, neoplasm, neoplasms, hemangioma, malignant",
          "<b>Topic 1</b><br>Words: neoplasm, neoplasms, hemangioma, malignant, lymphosarcoma",
          "<b>Topic 1</b><br>Words: neoplasm, neoplasms, hemangioma, carcinoma, malignant",
          "<b>Topic 1</b><br>Words: neoplasm, neoplasms, hemangioma, malignant, histiocytosis",
          "<b>Topic 1</b><br>Words: neoplasm, neoplasms, hemangioma, malignant, carcinoma",
          "<b>Topic 1</b><br>Words: lymphosarcoma, neoplasm, neoplasms, malignant, hemangioma",
          "<b>Topic 1</b><br>Words: neoplasm, neoplasms, hemangioma, malignant, carcinoma"
         ],
         "marker": {
          "color": "#56B4E9"
         },
         "mode": "lines",
         "name": "1_neoplasm_neoplasms_hemangioma_malignan...",
         "type": "scatter",
         "x": [
          "2020-12-30T21:44:38.400000",
          "2021-02-24T16:48:00",
          "2021-04-20T09:36:00",
          "2021-06-14T02:24:00",
          "2021-08-07T19:12:00",
          "2021-10-01T12:00:00",
          "2021-11-25T04:48:00",
          "2022-01-18T21:36:00",
          "2022-03-14T14:24:00",
          "2022-05-08T07:12:00",
          "2022-07-02T00:00:00",
          "2022-08-25T16:48:00",
          "2022-10-19T09:36:00",
          "2022-12-13T02:24:00",
          "2023-02-05T19:12:00",
          "2023-04-01T12:00:00",
          "2023-05-26T04:48:00",
          "2023-07-19T21:36:00",
          "2023-09-12T14:24:00",
          "2023-11-06T07:12:00"
         ],
         "y": [
          3,
          2,
          9,
          2,
          3,
          4,
          7,
          6,
          4,
          3,
          7,
          7,
          8,
          4,
          5,
          6,
          3,
          3,
          3,
          6
         ]
        },
        {
         "hoverinfo": "text",
         "hovertext": [
          "<b>Topic 2</b><br>Words: hemorrhage, intracranial, contusion, laceration, subarachnoid",
          "<b>Topic 2</b><br>Words: hemorrhage, intracranial, laceration, contusion, subarachnoid",
          "<b>Topic 2</b><br>Words: intracranial, contusion, subarachnoid, hemorrhage, laceration",
          "<b>Topic 2</b><br>Words: hemorrhage, subarachnoid, intracranial, contusion, laceration",
          "<b>Topic 2</b><br>Words: hemorrhage, intracranial, contusion, subarachnoid, laceration",
          "<b>Topic 2</b><br>Words: intracranial, subarachnoid, contusion, hemorrhage, laceration",
          "<b>Topic 2</b><br>Words: contusion, intracranial, laceration, hemorrhage, concussion",
          "<b>Topic 2</b><br>Words: hemorrhage, intracranial, contusion, subarachnoid, laceration",
          "<b>Topic 2</b><br>Words: subarachnoid, hemorrhage, intracranial, laceration, extradural",
          "<b>Topic 2</b><br>Words: hemorrhage, intracranial, subarachnoid, contusion, laceration",
          "<b>Topic 2</b><br>Words: laceration, intracranial, contusion, hemorrhage, subarachnoid",
          "<b>Topic 2</b><br>Words: hemorrhage, subarachnoid, intracranial, contusion, laceration",
          "<b>Topic 2</b><br>Words: hemorrhage, intracranial, subarachnoid, contusion, laceration",
          "<b>Topic 2</b><br>Words: hemorrhage, subarachnoid, intracranial, contusion, laceration",
          "<b>Topic 2</b><br>Words: hemorrhage, subarachnoid, intracranial, laceration, contusion",
          "<b>Topic 2</b><br>Words: hemorrhage, intracranial, subarachnoid, contusion, laceration",
          "<b>Topic 2</b><br>Words: contusion, intracranial, subarachnoid, hemorrhage, laceration"
         ],
         "marker": {
          "color": "#009E73"
         },
         "mode": "lines",
         "name": "2_hemorrhage_intracranial_laceration_sub...",
         "type": "scatter",
         "x": [
          "2020-12-30T21:44:38.400000",
          "2021-02-24T16:48:00",
          "2021-06-14T02:24:00",
          "2021-08-07T19:12:00",
          "2021-10-01T12:00:00",
          "2021-11-25T04:48:00",
          "2022-01-18T21:36:00",
          "2022-03-14T14:24:00",
          "2022-05-08T07:12:00",
          "2022-07-02T00:00:00",
          "2022-12-13T02:24:00",
          "2023-02-05T19:12:00",
          "2023-04-01T12:00:00",
          "2023-05-26T04:48:00",
          "2023-07-19T21:36:00",
          "2023-09-12T14:24:00",
          "2023-11-06T07:12:00"
         ],
         "y": [
          5,
          2,
          2,
          1,
          3,
          2,
          1,
          3,
          1,
          2,
          1,
          5,
          3,
          3,
          2,
          4,
          2
         ]
        },
        {
         "hoverinfo": "text",
         "hovertext": [
          "<b>Topic 3</b><br>Words: bacteriological, tuberculous, bacilli, tuberculoma, peritonitis",
          "<b>Topic 3</b><br>Words: tuberculous, bacteriological, tuberculoma, bacilli, peritonitis",
          "<b>Topic 3</b><br>Words: tuberculous, bacteriological, tuberculoma, peritonitis, bacilli",
          "<b>Topic 3</b><br>Words: tuberculous, bacteriological, tuberculoma, bacilli, peritonitis",
          "<b>Topic 3</b><br>Words: tuberculous, tuberculoma, bacteriological, peritonitis, bacilli",
          "<b>Topic 3</b><br>Words: bacteriological, tuberculous, tuberculoma, bacilli, peritonitis",
          "<b>Topic 3</b><br>Words: tuberculoma, tuberculous, peritonitis, bacteriological, salpingitis",
          "<b>Topic 3</b><br>Words: bacteriological, tuberculous, tuberculoma, peritonitis, bacilli",
          "<b>Topic 3</b><br>Words: tuberculoma, tuberculous, bacteriological, peritonitis, bacilli",
          "<b>Topic 3</b><br>Words: bacteriological, tuberculous, peritonitis, tuberculoma, bacilli",
          "<b>Topic 3</b><br>Words: tuberculous, bacteriological, tuberculoma, peritonitis, bacilli",
          "<b>Topic 3</b><br>Words: bacteriological, tuberculous, tuberculoma, peritonitis, bacilli",
          "<b>Topic 3</b><br>Words: peritonitis, tuberculoma, tuberculous, bacteriological, bacilli",
          "<b>Topic 3</b><br>Words: bacteriological, tuberculous, inoculation, tuberculoma, bacilli"
         ],
         "marker": {
          "color": "#F0E442"
         },
         "mode": "lines",
         "name": "3_bacteriological_tuberculous_tuberculom...",
         "type": "scatter",
         "x": [
          "2021-04-20T09:36:00",
          "2021-06-14T02:24:00",
          "2021-08-07T19:12:00",
          "2021-10-01T12:00:00",
          "2021-11-25T04:48:00",
          "2022-01-18T21:36:00",
          "2022-03-14T14:24:00",
          "2022-07-02T00:00:00",
          "2022-08-25T16:48:00",
          "2023-02-05T19:12:00",
          "2023-04-01T12:00:00",
          "2023-05-26T04:48:00",
          "2023-09-12T14:24:00",
          "2023-11-06T07:12:00"
         ],
         "y": [
          1,
          2,
          1,
          2,
          1,
          3,
          1,
          1,
          2,
          1,
          3,
          2,
          1,
          1
         ]
        }
       ],
       "layout": {
        "height": 450,
        "hoverlabel": {
         "bgcolor": "white",
         "font": {
          "family": "Rockwell",
          "size": 16
         }
        },
        "legend": {
         "title": {
          "text": "<b>Global Topic Representation"
         }
        },
        "template": {
         "data": {
          "bar": [
           {
            "error_x": {
             "color": "rgb(36,36,36)"
            },
            "error_y": {
             "color": "rgb(36,36,36)"
            },
            "marker": {
             "line": {
              "color": "white",
              "width": 0.5
             },
             "pattern": {
              "fillmode": "overlay",
              "size": 10,
              "solidity": 0.2
             }
            },
            "type": "bar"
           }
          ],
          "barpolar": [
           {
            "marker": {
             "line": {
              "color": "white",
              "width": 0.5
             },
             "pattern": {
              "fillmode": "overlay",
              "size": 10,
              "solidity": 0.2
             }
            },
            "type": "barpolar"
           }
          ],
          "carpet": [
           {
            "aaxis": {
             "endlinecolor": "rgb(36,36,36)",
             "gridcolor": "white",
             "linecolor": "white",
             "minorgridcolor": "white",
             "startlinecolor": "rgb(36,36,36)"
            },
            "baxis": {
             "endlinecolor": "rgb(36,36,36)",
             "gridcolor": "white",
             "linecolor": "white",
             "minorgridcolor": "white",
             "startlinecolor": "rgb(36,36,36)"
            },
            "type": "carpet"
           }
          ],
          "choropleth": [
           {
            "colorbar": {
             "outlinewidth": 1,
             "tickcolor": "rgb(36,36,36)",
             "ticks": "outside"
            },
            "type": "choropleth"
           }
          ],
          "contour": [
           {
            "colorbar": {
             "outlinewidth": 1,
             "tickcolor": "rgb(36,36,36)",
             "ticks": "outside"
            },
            "colorscale": [
             [
              0,
              "#440154"
             ],
             [
              0.1111111111111111,
              "#482878"
             ],
             [
              0.2222222222222222,
              "#3e4989"
             ],
             [
              0.3333333333333333,
              "#31688e"
             ],
             [
              0.4444444444444444,
              "#26828e"
             ],
             [
              0.5555555555555556,
              "#1f9e89"
             ],
             [
              0.6666666666666666,
              "#35b779"
             ],
             [
              0.7777777777777778,
              "#6ece58"
             ],
             [
              0.8888888888888888,
              "#b5de2b"
             ],
             [
              1,
              "#fde725"
             ]
            ],
            "type": "contour"
           }
          ],
          "contourcarpet": [
           {
            "colorbar": {
             "outlinewidth": 1,
             "tickcolor": "rgb(36,36,36)",
             "ticks": "outside"
            },
            "type": "contourcarpet"
           }
          ],
          "heatmap": [
           {
            "colorbar": {
             "outlinewidth": 1,
             "tickcolor": "rgb(36,36,36)",
             "ticks": "outside"
            },
            "colorscale": [
             [
              0,
              "#440154"
             ],
             [
              0.1111111111111111,
              "#482878"
             ],
             [
              0.2222222222222222,
              "#3e4989"
             ],
             [
              0.3333333333333333,
              "#31688e"
             ],
             [
              0.4444444444444444,
              "#26828e"
             ],
             [
              0.5555555555555556,
              "#1f9e89"
             ],
             [
              0.6666666666666666,
              "#35b779"
             ],
             [
              0.7777777777777778,
              "#6ece58"
             ],
             [
              0.8888888888888888,
              "#b5de2b"
             ],
             [
              1,
              "#fde725"
             ]
            ],
            "type": "heatmap"
           }
          ],
          "heatmapgl": [
           {
            "colorbar": {
             "outlinewidth": 1,
             "tickcolor": "rgb(36,36,36)",
             "ticks": "outside"
            },
            "colorscale": [
             [
              0,
              "#440154"
             ],
             [
              0.1111111111111111,
              "#482878"
             ],
             [
              0.2222222222222222,
              "#3e4989"
             ],
             [
              0.3333333333333333,
              "#31688e"
             ],
             [
              0.4444444444444444,
              "#26828e"
             ],
             [
              0.5555555555555556,
              "#1f9e89"
             ],
             [
              0.6666666666666666,
              "#35b779"
             ],
             [
              0.7777777777777778,
              "#6ece58"
             ],
             [
              0.8888888888888888,
              "#b5de2b"
             ],
             [
              1,
              "#fde725"
             ]
            ],
            "type": "heatmapgl"
           }
          ],
          "histogram": [
           {
            "marker": {
             "line": {
              "color": "white",
              "width": 0.6
             }
            },
            "type": "histogram"
           }
          ],
          "histogram2d": [
           {
            "colorbar": {
             "outlinewidth": 1,
             "tickcolor": "rgb(36,36,36)",
             "ticks": "outside"
            },
            "colorscale": [
             [
              0,
              "#440154"
             ],
             [
              0.1111111111111111,
              "#482878"
             ],
             [
              0.2222222222222222,
              "#3e4989"
             ],
             [
              0.3333333333333333,
              "#31688e"
             ],
             [
              0.4444444444444444,
              "#26828e"
             ],
             [
              0.5555555555555556,
              "#1f9e89"
             ],
             [
              0.6666666666666666,
              "#35b779"
             ],
             [
              0.7777777777777778,
              "#6ece58"
             ],
             [
              0.8888888888888888,
              "#b5de2b"
             ],
             [
              1,
              "#fde725"
             ]
            ],
            "type": "histogram2d"
           }
          ],
          "histogram2dcontour": [
           {
            "colorbar": {
             "outlinewidth": 1,
             "tickcolor": "rgb(36,36,36)",
             "ticks": "outside"
            },
            "colorscale": [
             [
              0,
              "#440154"
             ],
             [
              0.1111111111111111,
              "#482878"
             ],
             [
              0.2222222222222222,
              "#3e4989"
             ],
             [
              0.3333333333333333,
              "#31688e"
             ],
             [
              0.4444444444444444,
              "#26828e"
             ],
             [
              0.5555555555555556,
              "#1f9e89"
             ],
             [
              0.6666666666666666,
              "#35b779"
             ],
             [
              0.7777777777777778,
              "#6ece58"
             ],
             [
              0.8888888888888888,
              "#b5de2b"
             ],
             [
              1,
              "#fde725"
             ]
            ],
            "type": "histogram2dcontour"
           }
          ],
          "mesh3d": [
           {
            "colorbar": {
             "outlinewidth": 1,
             "tickcolor": "rgb(36,36,36)",
             "ticks": "outside"
            },
            "type": "mesh3d"
           }
          ],
          "parcoords": [
           {
            "line": {
             "colorbar": {
              "outlinewidth": 1,
              "tickcolor": "rgb(36,36,36)",
              "ticks": "outside"
             }
            },
            "type": "parcoords"
           }
          ],
          "pie": [
           {
            "automargin": true,
            "type": "pie"
           }
          ],
          "scatter": [
           {
            "fillpattern": {
             "fillmode": "overlay",
             "size": 10,
             "solidity": 0.2
            },
            "type": "scatter"
           }
          ],
          "scatter3d": [
           {
            "line": {
             "colorbar": {
              "outlinewidth": 1,
              "tickcolor": "rgb(36,36,36)",
              "ticks": "outside"
             }
            },
            "marker": {
             "colorbar": {
              "outlinewidth": 1,
              "tickcolor": "rgb(36,36,36)",
              "ticks": "outside"
             }
            },
            "type": "scatter3d"
           }
          ],
          "scattercarpet": [
           {
            "marker": {
             "colorbar": {
              "outlinewidth": 1,
              "tickcolor": "rgb(36,36,36)",
              "ticks": "outside"
             }
            },
            "type": "scattercarpet"
           }
          ],
          "scattergeo": [
           {
            "marker": {
             "colorbar": {
              "outlinewidth": 1,
              "tickcolor": "rgb(36,36,36)",
              "ticks": "outside"
             }
            },
            "type": "scattergeo"
           }
          ],
          "scattergl": [
           {
            "marker": {
             "colorbar": {
              "outlinewidth": 1,
              "tickcolor": "rgb(36,36,36)",
              "ticks": "outside"
             }
            },
            "type": "scattergl"
           }
          ],
          "scattermapbox": [
           {
            "marker": {
             "colorbar": {
              "outlinewidth": 1,
              "tickcolor": "rgb(36,36,36)",
              "ticks": "outside"
             }
            },
            "type": "scattermapbox"
           }
          ],
          "scatterpolar": [
           {
            "marker": {
             "colorbar": {
              "outlinewidth": 1,
              "tickcolor": "rgb(36,36,36)",
              "ticks": "outside"
             }
            },
            "type": "scatterpolar"
           }
          ],
          "scatterpolargl": [
           {
            "marker": {
             "colorbar": {
              "outlinewidth": 1,
              "tickcolor": "rgb(36,36,36)",
              "ticks": "outside"
             }
            },
            "type": "scatterpolargl"
           }
          ],
          "scatterternary": [
           {
            "marker": {
             "colorbar": {
              "outlinewidth": 1,
              "tickcolor": "rgb(36,36,36)",
              "ticks": "outside"
             }
            },
            "type": "scatterternary"
           }
          ],
          "surface": [
           {
            "colorbar": {
             "outlinewidth": 1,
             "tickcolor": "rgb(36,36,36)",
             "ticks": "outside"
            },
            "colorscale": [
             [
              0,
              "#440154"
             ],
             [
              0.1111111111111111,
              "#482878"
             ],
             [
              0.2222222222222222,
              "#3e4989"
             ],
             [
              0.3333333333333333,
              "#31688e"
             ],
             [
              0.4444444444444444,
              "#26828e"
             ],
             [
              0.5555555555555556,
              "#1f9e89"
             ],
             [
              0.6666666666666666,
              "#35b779"
             ],
             [
              0.7777777777777778,
              "#6ece58"
             ],
             [
              0.8888888888888888,
              "#b5de2b"
             ],
             [
              1,
              "#fde725"
             ]
            ],
            "type": "surface"
           }
          ],
          "table": [
           {
            "cells": {
             "fill": {
              "color": "rgb(237,237,237)"
             },
             "line": {
              "color": "white"
             }
            },
            "header": {
             "fill": {
              "color": "rgb(217,217,217)"
             },
             "line": {
              "color": "white"
             }
            },
            "type": "table"
           }
          ]
         },
         "layout": {
          "annotationdefaults": {
           "arrowhead": 0,
           "arrowwidth": 1
          },
          "autotypenumbers": "strict",
          "coloraxis": {
           "colorbar": {
            "outlinewidth": 1,
            "tickcolor": "rgb(36,36,36)",
            "ticks": "outside"
           }
          },
          "colorscale": {
           "diverging": [
            [
             0,
             "rgb(103,0,31)"
            ],
            [
             0.1,
             "rgb(178,24,43)"
            ],
            [
             0.2,
             "rgb(214,96,77)"
            ],
            [
             0.3,
             "rgb(244,165,130)"
            ],
            [
             0.4,
             "rgb(253,219,199)"
            ],
            [
             0.5,
             "rgb(247,247,247)"
            ],
            [
             0.6,
             "rgb(209,229,240)"
            ],
            [
             0.7,
             "rgb(146,197,222)"
            ],
            [
             0.8,
             "rgb(67,147,195)"
            ],
            [
             0.9,
             "rgb(33,102,172)"
            ],
            [
             1,
             "rgb(5,48,97)"
            ]
           ],
           "sequential": [
            [
             0,
             "#440154"
            ],
            [
             0.1111111111111111,
             "#482878"
            ],
            [
             0.2222222222222222,
             "#3e4989"
            ],
            [
             0.3333333333333333,
             "#31688e"
            ],
            [
             0.4444444444444444,
             "#26828e"
            ],
            [
             0.5555555555555556,
             "#1f9e89"
            ],
            [
             0.6666666666666666,
             "#35b779"
            ],
            [
             0.7777777777777778,
             "#6ece58"
            ],
            [
             0.8888888888888888,
             "#b5de2b"
            ],
            [
             1,
             "#fde725"
            ]
           ],
           "sequentialminus": [
            [
             0,
             "#440154"
            ],
            [
             0.1111111111111111,
             "#482878"
            ],
            [
             0.2222222222222222,
             "#3e4989"
            ],
            [
             0.3333333333333333,
             "#31688e"
            ],
            [
             0.4444444444444444,
             "#26828e"
            ],
            [
             0.5555555555555556,
             "#1f9e89"
            ],
            [
             0.6666666666666666,
             "#35b779"
            ],
            [
             0.7777777777777778,
             "#6ece58"
            ],
            [
             0.8888888888888888,
             "#b5de2b"
            ],
            [
             1,
             "#fde725"
            ]
           ]
          },
          "colorway": [
           "#1F77B4",
           "#FF7F0E",
           "#2CA02C",
           "#D62728",
           "#9467BD",
           "#8C564B",
           "#E377C2",
           "#7F7F7F",
           "#BCBD22",
           "#17BECF"
          ],
          "font": {
           "color": "rgb(36,36,36)"
          },
          "geo": {
           "bgcolor": "white",
           "lakecolor": "white",
           "landcolor": "white",
           "showlakes": true,
           "showland": true,
           "subunitcolor": "white"
          },
          "hoverlabel": {
           "align": "left"
          },
          "hovermode": "closest",
          "mapbox": {
           "style": "light"
          },
          "paper_bgcolor": "white",
          "plot_bgcolor": "white",
          "polar": {
           "angularaxis": {
            "gridcolor": "rgb(232,232,232)",
            "linecolor": "rgb(36,36,36)",
            "showgrid": false,
            "showline": true,
            "ticks": "outside"
           },
           "bgcolor": "white",
           "radialaxis": {
            "gridcolor": "rgb(232,232,232)",
            "linecolor": "rgb(36,36,36)",
            "showgrid": false,
            "showline": true,
            "ticks": "outside"
           }
          },
          "scene": {
           "xaxis": {
            "backgroundcolor": "white",
            "gridcolor": "rgb(232,232,232)",
            "gridwidth": 2,
            "linecolor": "rgb(36,36,36)",
            "showbackground": true,
            "showgrid": false,
            "showline": true,
            "ticks": "outside",
            "zeroline": false,
            "zerolinecolor": "rgb(36,36,36)"
           },
           "yaxis": {
            "backgroundcolor": "white",
            "gridcolor": "rgb(232,232,232)",
            "gridwidth": 2,
            "linecolor": "rgb(36,36,36)",
            "showbackground": true,
            "showgrid": false,
            "showline": true,
            "ticks": "outside",
            "zeroline": false,
            "zerolinecolor": "rgb(36,36,36)"
           },
           "zaxis": {
            "backgroundcolor": "white",
            "gridcolor": "rgb(232,232,232)",
            "gridwidth": 2,
            "linecolor": "rgb(36,36,36)",
            "showbackground": true,
            "showgrid": false,
            "showline": true,
            "ticks": "outside",
            "zeroline": false,
            "zerolinecolor": "rgb(36,36,36)"
           }
          },
          "shapedefaults": {
           "fillcolor": "black",
           "line": {
            "width": 0
           },
           "opacity": 0.3
          },
          "ternary": {
           "aaxis": {
            "gridcolor": "rgb(232,232,232)",
            "linecolor": "rgb(36,36,36)",
            "showgrid": false,
            "showline": true,
            "ticks": "outside"
           },
           "baxis": {
            "gridcolor": "rgb(232,232,232)",
            "linecolor": "rgb(36,36,36)",
            "showgrid": false,
            "showline": true,
            "ticks": "outside"
           },
           "bgcolor": "white",
           "caxis": {
            "gridcolor": "rgb(232,232,232)",
            "linecolor": "rgb(36,36,36)",
            "showgrid": false,
            "showline": true,
            "ticks": "outside"
           }
          },
          "title": {
           "x": 0.05
          },
          "xaxis": {
           "automargin": true,
           "gridcolor": "rgb(232,232,232)",
           "linecolor": "rgb(36,36,36)",
           "showgrid": false,
           "showline": true,
           "ticks": "outside",
           "title": {
            "standoff": 15
           },
           "zeroline": false,
           "zerolinecolor": "rgb(36,36,36)"
          },
          "yaxis": {
           "automargin": true,
           "gridcolor": "rgb(232,232,232)",
           "linecolor": "rgb(36,36,36)",
           "showgrid": false,
           "showline": true,
           "ticks": "outside",
           "title": {
            "standoff": 15
           },
           "zeroline": false,
           "zerolinecolor": "rgb(36,36,36)"
          }
         }
        },
        "title": {
         "font": {
          "color": "Black",
          "size": 22
         },
         "text": "<b>Topics over Time</b>",
         "x": 0.4,
         "xanchor": "center",
         "y": 0.95,
         "yanchor": "top"
        },
        "width": 1250,
        "xaxis": {
         "showgrid": true
        },
        "yaxis": {
         "showgrid": true,
         "title": {
          "text": "Frequency"
         }
        }
       }
      }
     },
     "metadata": {},
     "output_type": "display_data"
    }
   ],
   "source": [
    "# visualize\n",
    "topic_model.visualize_topics_over_time(topics_over_time)"
   ]
  },
  {
   "cell_type": "code",
   "execution_count": null,
   "metadata": {},
   "outputs": [],
   "source": []
  }
 ],
 "metadata": {
  "kernelspec": {
   "display_name": ".venv",
   "language": "python",
   "name": "python3"
  },
  "language_info": {
   "codemirror_mode": {
    "name": "ipython",
    "version": 3
   },
   "file_extension": ".py",
   "mimetype": "text/x-python",
   "name": "python",
   "nbconvert_exporter": "python",
   "pygments_lexer": "ipython3",
   "version": "3.10.15"
  }
 },
 "nbformat": 4,
 "nbformat_minor": 2
}
