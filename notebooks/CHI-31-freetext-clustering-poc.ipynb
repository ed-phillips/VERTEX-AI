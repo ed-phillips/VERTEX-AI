{
 "cells": [
  {
   "cell_type": "markdown",
   "metadata": {},
   "source": [
    "# CHI-31: Freetext Clustering Proof of Concept\n",
    "\n",
    "**Goal:** FreeTextAnalysis – some visualization of free text fields like ‘other comorbidities’, either by clustering or mapping to a category e.g. ICD code \n",
    "\n",
    "**Background**: Currently researchers have no visibility of free text fields. ICD code maybe longer term, more complex because ICD codes are tiered and some categories may not map well. A simple clustering approach is a better first bet\n",
    "\n",
    "**Value:** Surface to researchers the data contained in their free text fields, notably ‘other combordities’ or similar\n",
    "\n",
    "**Deliverables:** POC demo in feature branch, video sent to Esteban & Co for feedback\n",
    "\n",
    "**Stakeholders:** Esteban, Laura Merson\n",
    "\n",
    "**Blockers:** None, should go for something computationally simple and cheap in the first instance\n",
    "\n",
    "**Opportunities:**\n",
    "\n",
    "Notes:\n",
    "\n",
    "Omid lots of good ideas here:\n",
    "\n",
    "- Use BERTopic as resource to do clustering\n",
    "- Good framework level tool - we could potentially drop in Omid’s compact bert based models\n",
    "- could be an easy win for ISARIC - compact enough that we don’t need to hit an API or download a big model\n",
    "- if we then want to name the clusters that might be a heavier task, but no asbolute requirement for this in conversations with ISARIC to date\n",
    "\n",
    "\n",
    "## Plan\n",
    "1. Get dataset of short, clinical free text to experiment with\n",
    "2. Compile BERTopic modelling pipeline including:\n",
    "    * Omid lightweight clinical LLMs for encoding \n",
    "    * probably BERTopic defaults for other modular components\n",
    "3. Test on example dataset\n",
    "    * cluster free text\n",
    "    * visualize similar to how it might look on dashboard\n",
    "    * (probably don't integrate into Vertex due to data not appearing in example df - but I could stitch something in to maintain the cohesion of demos)"
   ]
  },
  {
   "cell_type": "code",
   "execution_count": 1,
   "metadata": {},
   "outputs": [],
   "source": [
    "import os\n",
    "import pandas as pd\n",
    "import numpy as np"
   ]
  },
  {
   "cell_type": "code",
   "execution_count": null,
   "metadata": {},
   "outputs": [],
   "source": []
  },
  {
   "cell_type": "markdown",
   "metadata": {},
   "source": [
    "### 1. Example dataset\n",
    "\n",
    "Try MIMIC-IV demo dataset at https://physionet.org/content/mimic-iv-demo/2.2/"
   ]
  },
  {
   "cell_type": "code",
   "execution_count": 2,
   "metadata": {},
   "outputs": [],
   "source": [
    "data_dir = \"../data/mimic-iv-demo/2.2/\"\n",
    "# try with diganoses tablae - descriptions of ICD categories\n",
    "filepath = \"hosp/d_icd_diagnoses.csv\"\n",
    "\n",
    "# might be able to check validity of clusters later by looking at ICD super category?"
   ]
  },
  {
   "cell_type": "code",
   "execution_count": 3,
   "metadata": {},
   "outputs": [],
   "source": [
    "d_icd_diagnoses_df = pd.read_csv(os.path.join(data_dir, filepath))"
   ]
  },
  {
   "cell_type": "code",
   "execution_count": 4,
   "metadata": {},
   "outputs": [
    {
     "data": {
      "text/html": [
       "<div>\n",
       "<style scoped>\n",
       "    .dataframe tbody tr th:only-of-type {\n",
       "        vertical-align: middle;\n",
       "    }\n",
       "\n",
       "    .dataframe tbody tr th {\n",
       "        vertical-align: top;\n",
       "    }\n",
       "\n",
       "    .dataframe thead th {\n",
       "        text-align: right;\n",
       "    }\n",
       "</style>\n",
       "<table border=\"1\" class=\"dataframe\">\n",
       "  <thead>\n",
       "    <tr style=\"text-align: right;\">\n",
       "      <th></th>\n",
       "      <th>icd_code</th>\n",
       "      <th>icd_version</th>\n",
       "      <th>long_title</th>\n",
       "    </tr>\n",
       "  </thead>\n",
       "  <tbody>\n",
       "    <tr>\n",
       "      <th>0</th>\n",
       "      <td>0090</td>\n",
       "      <td>9</td>\n",
       "      <td>Infectious colitis, enteritis, and gastroenter...</td>\n",
       "    </tr>\n",
       "    <tr>\n",
       "      <th>1</th>\n",
       "      <td>01160</td>\n",
       "      <td>9</td>\n",
       "      <td>Tuberculous pneumonia [any form], unspecified</td>\n",
       "    </tr>\n",
       "    <tr>\n",
       "      <th>2</th>\n",
       "      <td>01186</td>\n",
       "      <td>9</td>\n",
       "      <td>Other specified pulmonary tuberculosis, tuberc...</td>\n",
       "    </tr>\n",
       "    <tr>\n",
       "      <th>3</th>\n",
       "      <td>01200</td>\n",
       "      <td>9</td>\n",
       "      <td>Tuberculous pleurisy, unspecified</td>\n",
       "    </tr>\n",
       "    <tr>\n",
       "      <th>4</th>\n",
       "      <td>01236</td>\n",
       "      <td>9</td>\n",
       "      <td>Tuberculous laryngitis, tubercle bacilli not f...</td>\n",
       "    </tr>\n",
       "    <tr>\n",
       "      <th>...</th>\n",
       "      <td>...</td>\n",
       "      <td>...</td>\n",
       "      <td>...</td>\n",
       "    </tr>\n",
       "    <tr>\n",
       "      <th>109770</th>\n",
       "      <td>Z88</td>\n",
       "      <td>10</td>\n",
       "      <td>Allergy status to drugs, medicaments and biolo...</td>\n",
       "    </tr>\n",
       "    <tr>\n",
       "      <th>109771</th>\n",
       "      <td>Z89012</td>\n",
       "      <td>10</td>\n",
       "      <td>Acquired absence of left thumb</td>\n",
       "    </tr>\n",
       "    <tr>\n",
       "      <th>109772</th>\n",
       "      <td>Z90410</td>\n",
       "      <td>10</td>\n",
       "      <td>Acquired total absence of pancreas</td>\n",
       "    </tr>\n",
       "    <tr>\n",
       "      <th>109773</th>\n",
       "      <td>Z948</td>\n",
       "      <td>10</td>\n",
       "      <td>Other transplanted organ and tissue status</td>\n",
       "    </tr>\n",
       "    <tr>\n",
       "      <th>109774</th>\n",
       "      <td>Z96</td>\n",
       "      <td>10</td>\n",
       "      <td>Presence of other functional implants</td>\n",
       "    </tr>\n",
       "  </tbody>\n",
       "</table>\n",
       "<p>109775 rows × 3 columns</p>\n",
       "</div>"
      ],
      "text/plain": [
       "       icd_code  icd_version  \\\n",
       "0          0090            9   \n",
       "1         01160            9   \n",
       "2         01186            9   \n",
       "3         01200            9   \n",
       "4         01236            9   \n",
       "...         ...          ...   \n",
       "109770      Z88           10   \n",
       "109771   Z89012           10   \n",
       "109772   Z90410           10   \n",
       "109773     Z948           10   \n",
       "109774      Z96           10   \n",
       "\n",
       "                                               long_title  \n",
       "0       Infectious colitis, enteritis, and gastroenter...  \n",
       "1           Tuberculous pneumonia [any form], unspecified  \n",
       "2       Other specified pulmonary tuberculosis, tuberc...  \n",
       "3                       Tuberculous pleurisy, unspecified  \n",
       "4       Tuberculous laryngitis, tubercle bacilli not f...  \n",
       "...                                                   ...  \n",
       "109770  Allergy status to drugs, medicaments and biolo...  \n",
       "109771                     Acquired absence of left thumb  \n",
       "109772                 Acquired total absence of pancreas  \n",
       "109773         Other transplanted organ and tissue status  \n",
       "109774              Presence of other functional implants  \n",
       "\n",
       "[109775 rows x 3 columns]"
      ]
     },
     "execution_count": 4,
     "metadata": {},
     "output_type": "execute_result"
    }
   ],
   "source": [
    "d_icd_diagnoses_df"
   ]
  },
  {
   "cell_type": "code",
   "execution_count": null,
   "metadata": {},
   "outputs": [],
   "source": []
  },
  {
   "cell_type": "markdown",
   "metadata": {},
   "source": [
    "## 2. BERTopic modelling pipeline"
   ]
  },
  {
   "cell_type": "code",
   "execution_count": 5,
   "metadata": {},
   "outputs": [
    {
     "name": "stderr",
     "output_type": "stream",
     "text": [
      "/home/worc6607/Projects/VERTEX-AI/.venv/lib/python3.10/site-packages/tqdm/auto.py:21: TqdmWarning: IProgress not found. Please update jupyter and ipywidgets. See https://ipywidgets.readthedocs.io/en/stable/user_install.html\n",
      "  from .autonotebook import tqdm as notebook_tqdm\n"
     ]
    }
   ],
   "source": [
    "from bertopic import BERTopic\n",
    "from bertopic.representation import KeyBERTInspired, TextGeneration\n",
    "from transformers.pipelines import pipeline\n",
    "import torch"
   ]
  },
  {
   "cell_type": "code",
   "execution_count": 6,
   "metadata": {},
   "outputs": [],
   "source": [
    "# select subset of table\n",
    "docs = d_icd_diagnoses_df.loc[:1000, 'long_title']"
   ]
  },
  {
   "cell_type": "code",
   "execution_count": 7,
   "metadata": {},
   "outputs": [
    {
     "data": {
      "text/plain": [
       "0       Infectious colitis, enteritis, and gastroenter...\n",
       "1           Tuberculous pneumonia [any form], unspecified\n",
       "2       Other specified pulmonary tuberculosis, tuberc...\n",
       "3                       Tuberculous pleurisy, unspecified\n",
       "4       Tuberculous laryngitis, tubercle bacilli not f...\n",
       "                              ...                        \n",
       "996     Chronic glomerulonephritis with lesion of prol...\n",
       "997                      Infection of kidney, unspecified\n",
       "998                                     Urethral caruncle\n",
       "999                      Urinary obstruction, unspecified\n",
       "1000                   Other specified disorders of penis\n",
       "Name: long_title, Length: 1001, dtype: object"
      ]
     },
     "execution_count": 7,
     "metadata": {},
     "output_type": "execute_result"
    }
   ],
   "source": [
    "docs"
   ]
  },
  {
   "cell_type": "code",
   "execution_count": 8,
   "metadata": {},
   "outputs": [
    {
     "name": "stderr",
     "output_type": "stream",
     "text": [
      "Some weights of BertModel were not initialized from the model checkpoint at nlpie/distil-biobert and are newly initialized: ['bert.pooler.dense.bias', 'bert.pooler.dense.weight']\n",
      "You should probably TRAIN this model on a down-stream task to be able to use it for predictions and inference.\n"
     ]
    }
   ],
   "source": [
    "# experiment with different models here\n",
    "\n",
    "# set device to gpu if available \n",
    "device = torch.device(\"cuda\" if torch.cuda.is_available() else \"cpu\")\n",
    "\n",
    "\n",
    "##### to embed documents\n",
    "embedding_model = pipeline(\"feature-extraction\", \n",
    "                           model=\"nlpie/distil-biobert\", \n",
    "                           device=device)\n",
    "\n",
    "##### to describe clusters\n",
    "\n",
    "# representation_model = KeyBERTInspired()\n",
    "\n",
    "# try a huggingface model\n",
    "prompt = \"\"\"\n",
    "I have topic that contains the following documents: \\n[DOCUMENTS]\n",
    "The topic is described by the following keywords: [KEYWORDS]\n",
    "\n",
    "Based on the above information, can you give a short label of the topic?\n",
    "\"\"\"\n",
    "\n",
    "# Create your representation model\n",
    "generator = pipeline('text2text-generation', \n",
    "                     model='google/flan-t5-base',\n",
    "                     device=device)\n",
    "representation_model = TextGeneration(generator)\n",
    "\n",
    "#### create model\n",
    "\n",
    "topic_model = BERTopic(\n",
    "    # embedding_model=embedding_model,\n",
    "    representation_model=representation_model,\n",
    "    nr_topics=\"auto\", # merge topics clustered together\n",
    "    )"
   ]
  },
  {
   "cell_type": "code",
   "execution_count": 9,
   "metadata": {},
   "outputs": [
    {
     "name": "stderr",
     "output_type": "stream",
     "text": [
      "You seem to be using the pipelines sequentially on GPU. In order to maximize efficiency please use a dataset\n"
     ]
    }
   ],
   "source": [
    "topics, probs = topic_model.fit_transform(docs)"
   ]
  },
  {
   "cell_type": "code",
   "execution_count": 10,
   "metadata": {},
   "outputs": [
    {
     "data": {
      "text/html": [
       "<div>\n",
       "<style scoped>\n",
       "    .dataframe tbody tr th:only-of-type {\n",
       "        vertical-align: middle;\n",
       "    }\n",
       "\n",
       "    .dataframe tbody tr th {\n",
       "        vertical-align: top;\n",
       "    }\n",
       "\n",
       "    .dataframe thead th {\n",
       "        text-align: right;\n",
       "    }\n",
       "</style>\n",
       "<table border=\"1\" class=\"dataframe\">\n",
       "  <thead>\n",
       "    <tr style=\"text-align: right;\">\n",
       "      <th></th>\n",
       "      <th>Topic</th>\n",
       "      <th>Count</th>\n",
       "      <th>Name</th>\n",
       "      <th>Representation</th>\n",
       "      <th>Representative_Docs</th>\n",
       "    </tr>\n",
       "  </thead>\n",
       "  <tbody>\n",
       "    <tr>\n",
       "      <th>0</th>\n",
       "      <td>-1</td>\n",
       "      <td>181</td>\n",
       "      <td>-1_erythema___</td>\n",
       "      <td>[erythema, , , , , , , , , ]</td>\n",
       "      <td>[Insect bite, nonvenomous of shoulder and uppe...</td>\n",
       "    </tr>\n",
       "    <tr>\n",
       "      <th>1</th>\n",
       "      <td>0</td>\n",
       "      <td>206</td>\n",
       "      <td>0_sprain___</td>\n",
       "      <td>[sprain, , , , , , , , , ]</td>\n",
       "      <td>[Closed dislocation of interphalangeal (joint)...</td>\n",
       "    </tr>\n",
       "    <tr>\n",
       "      <th>2</th>\n",
       "      <td>1</td>\n",
       "      <td>104</td>\n",
       "      <td>1_pregnancy___</td>\n",
       "      <td>[pregnancy, , , , , , , , , ]</td>\n",
       "      <td>[Prolonged pregnancy, antepartum condition or ...</td>\n",
       "    </tr>\n",
       "    <tr>\n",
       "      <th>3</th>\n",
       "      <td>2</td>\n",
       "      <td>80</td>\n",
       "      <td>2_migraine___</td>\n",
       "      <td>[migraine, , , , , , , , , ]</td>\n",
       "      <td>[Personal history of other disorders of nervou...</td>\n",
       "    </tr>\n",
       "    <tr>\n",
       "      <th>4</th>\n",
       "      <td>3</td>\n",
       "      <td>57</td>\n",
       "      <td>3_neoplasm___</td>\n",
       "      <td>[neoplasm, , , , , , , , , ]</td>\n",
       "      <td>[Malignant neoplasm of vulva, unspecified site...</td>\n",
       "    </tr>\n",
       "    <tr>\n",
       "      <th>5</th>\n",
       "      <td>4</td>\n",
       "      <td>48</td>\n",
       "      <td>4_tuberculosis___</td>\n",
       "      <td>[tuberculosis, , , , , , , , , ]</td>\n",
       "      <td>[Other specified pulmonary tuberculosis, tuber...</td>\n",
       "    </tr>\n",
       "    <tr>\n",
       "      <th>6</th>\n",
       "      <td>5</td>\n",
       "      <td>48</td>\n",
       "      <td>5_glaucoma___</td>\n",
       "      <td>[glaucoma, , , , , , , , , ]</td>\n",
       "      <td>[One eye: total vision impairment; other eye: ...</td>\n",
       "    </tr>\n",
       "    <tr>\n",
       "      <th>7</th>\n",
       "      <td>6</td>\n",
       "      <td>44</td>\n",
       "      <td>6_concussion___</td>\n",
       "      <td>[concussion, , , , , , , , , ]</td>\n",
       "      <td>[Open fractures involving skull or face with o...</td>\n",
       "    </tr>\n",
       "    <tr>\n",
       "      <th>8</th>\n",
       "      <td>7</td>\n",
       "      <td>44</td>\n",
       "      <td>7_drowning in water___</td>\n",
       "      <td>[drowning in water, , , , , , , , , ]</td>\n",
       "      <td>[Nontraffic accident involving other off-road ...</td>\n",
       "    </tr>\n",
       "    <tr>\n",
       "      <th>9</th>\n",
       "      <td>8</td>\n",
       "      <td>36</td>\n",
       "      <td>8_poisoning___</td>\n",
       "      <td>[poisoning, , , , , , , , , ]</td>\n",
       "      <td>[Anti-infectives and other drugs and preparati...</td>\n",
       "    </tr>\n",
       "    <tr>\n",
       "      <th>10</th>\n",
       "      <td>9</td>\n",
       "      <td>26</td>\n",
       "      <td>9_aldosterone___</td>\n",
       "      <td>[aldosterone, , , , , , , , , ]</td>\n",
       "      <td>[Mitral and aortic valve diseases, unspecified...</td>\n",
       "    </tr>\n",
       "    <tr>\n",
       "      <th>11</th>\n",
       "      <td>10</td>\n",
       "      <td>25</td>\n",
       "      <td>10_burn___</td>\n",
       "      <td>[burn, , , , , , , , , ]</td>\n",
       "      <td>[Burn [any degree] involving 80-89 percent of ...</td>\n",
       "    </tr>\n",
       "    <tr>\n",
       "      <th>12</th>\n",
       "      <td>11</td>\n",
       "      <td>24</td>\n",
       "      <td>11_ulcer___</td>\n",
       "      <td>[ulcer, , , , , , , , , ]</td>\n",
       "      <td>[Acute duodenal ulcer without mention of hemor...</td>\n",
       "    </tr>\n",
       "    <tr>\n",
       "      <th>13</th>\n",
       "      <td>12</td>\n",
       "      <td>16</td>\n",
       "      <td>12_nephroptosis___</td>\n",
       "      <td>[nephroptosis, , , , , , , , , ]</td>\n",
       "      <td>[Acute kidney failure with lesion of renal cor...</td>\n",
       "    </tr>\n",
       "    <tr>\n",
       "      <th>14</th>\n",
       "      <td>13</td>\n",
       "      <td>15</td>\n",
       "      <td>13_chondrocalcinosis___</td>\n",
       "      <td>[chondrocalcinosis, , , , , , , , , ]</td>\n",
       "      <td>[Chondrocalcinosis, due to pyrophosphate cryst...</td>\n",
       "    </tr>\n",
       "    <tr>\n",
       "      <th>15</th>\n",
       "      <td>14</td>\n",
       "      <td>14</td>\n",
       "      <td>14_dental edentulism___</td>\n",
       "      <td>[dental edentulism, , , , , , , , , ]</td>\n",
       "      <td>[Unspecified disorder of the teeth and support...</td>\n",
       "    </tr>\n",
       "    <tr>\n",
       "      <th>16</th>\n",
       "      <td>15</td>\n",
       "      <td>11</td>\n",
       "      <td>15_drug___</td>\n",
       "      <td>[drug, , , , , , , , , ]</td>\n",
       "      <td>[Sedative, hypnotic or anxiolytic abuse, in re...</td>\n",
       "    </tr>\n",
       "    <tr>\n",
       "      <th>17</th>\n",
       "      <td>16</td>\n",
       "      <td>11</td>\n",
       "      <td>16_lymphosarcoma___</td>\n",
       "      <td>[lymphosarcoma, , , , , , , , , ]</td>\n",
       "      <td>[Unspecified lymphoid leukemia, in remission, ...</td>\n",
       "    </tr>\n",
       "    <tr>\n",
       "      <th>18</th>\n",
       "      <td>17</td>\n",
       "      <td>11</td>\n",
       "      <td>17_postlaminectomy___</td>\n",
       "      <td>[postlaminectomy, , , , , , , , , ]</td>\n",
       "      <td>[Femoral hernia with gangrene, bilateral, recu...</td>\n",
       "    </tr>\n",
       "  </tbody>\n",
       "</table>\n",
       "</div>"
      ],
      "text/plain": [
       "    Topic  Count                     Name  \\\n",
       "0      -1    181           -1_erythema___   \n",
       "1       0    206              0_sprain___   \n",
       "2       1    104           1_pregnancy___   \n",
       "3       2     80            2_migraine___   \n",
       "4       3     57            3_neoplasm___   \n",
       "5       4     48        4_tuberculosis___   \n",
       "6       5     48            5_glaucoma___   \n",
       "7       6     44          6_concussion___   \n",
       "8       7     44   7_drowning in water___   \n",
       "9       8     36           8_poisoning___   \n",
       "10      9     26         9_aldosterone___   \n",
       "11     10     25               10_burn___   \n",
       "12     11     24              11_ulcer___   \n",
       "13     12     16       12_nephroptosis___   \n",
       "14     13     15  13_chondrocalcinosis___   \n",
       "15     14     14  14_dental edentulism___   \n",
       "16     15     11               15_drug___   \n",
       "17     16     11      16_lymphosarcoma___   \n",
       "18     17     11    17_postlaminectomy___   \n",
       "\n",
       "                           Representation  \\\n",
       "0            [erythema, , , , , , , , , ]   \n",
       "1              [sprain, , , , , , , , , ]   \n",
       "2           [pregnancy, , , , , , , , , ]   \n",
       "3            [migraine, , , , , , , , , ]   \n",
       "4            [neoplasm, , , , , , , , , ]   \n",
       "5        [tuberculosis, , , , , , , , , ]   \n",
       "6            [glaucoma, , , , , , , , , ]   \n",
       "7          [concussion, , , , , , , , , ]   \n",
       "8   [drowning in water, , , , , , , , , ]   \n",
       "9           [poisoning, , , , , , , , , ]   \n",
       "10        [aldosterone, , , , , , , , , ]   \n",
       "11               [burn, , , , , , , , , ]   \n",
       "12              [ulcer, , , , , , , , , ]   \n",
       "13       [nephroptosis, , , , , , , , , ]   \n",
       "14  [chondrocalcinosis, , , , , , , , , ]   \n",
       "15  [dental edentulism, , , , , , , , , ]   \n",
       "16               [drug, , , , , , , , , ]   \n",
       "17      [lymphosarcoma, , , , , , , , , ]   \n",
       "18    [postlaminectomy, , , , , , , , , ]   \n",
       "\n",
       "                                  Representative_Docs  \n",
       "0   [Insect bite, nonvenomous of shoulder and uppe...  \n",
       "1   [Closed dislocation of interphalangeal (joint)...  \n",
       "2   [Prolonged pregnancy, antepartum condition or ...  \n",
       "3   [Personal history of other disorders of nervou...  \n",
       "4   [Malignant neoplasm of vulva, unspecified site...  \n",
       "5   [Other specified pulmonary tuberculosis, tuber...  \n",
       "6   [One eye: total vision impairment; other eye: ...  \n",
       "7   [Open fractures involving skull or face with o...  \n",
       "8   [Nontraffic accident involving other off-road ...  \n",
       "9   [Anti-infectives and other drugs and preparati...  \n",
       "10  [Mitral and aortic valve diseases, unspecified...  \n",
       "11  [Burn [any degree] involving 80-89 percent of ...  \n",
       "12  [Acute duodenal ulcer without mention of hemor...  \n",
       "13  [Acute kidney failure with lesion of renal cor...  \n",
       "14  [Chondrocalcinosis, due to pyrophosphate cryst...  \n",
       "15  [Unspecified disorder of the teeth and support...  \n",
       "16  [Sedative, hypnotic or anxiolytic abuse, in re...  \n",
       "17  [Unspecified lymphoid leukemia, in remission, ...  \n",
       "18  [Femoral hernia with gangrene, bilateral, recu...  "
      ]
     },
     "execution_count": 10,
     "metadata": {},
     "output_type": "execute_result"
    }
   ],
   "source": [
    "topic_model.get_topic_info()"
   ]
  },
  {
   "cell_type": "code",
   "execution_count": 11,
   "metadata": {},
   "outputs": [
    {
     "data": {
      "text/plain": [
       "[('sprain', 1),\n",
       " ('', 0),\n",
       " ('', 0),\n",
       " ('', 0),\n",
       " ('', 0),\n",
       " ('', 0),\n",
       " ('', 0),\n",
       " ('', 0),\n",
       " ('', 0),\n",
       " ('', 0)]"
      ]
     },
     "execution_count": 11,
     "metadata": {},
     "output_type": "execute_result"
    }
   ],
   "source": [
    "topic_model.get_topic(0)"
   ]
  },
  {
   "cell_type": "code",
   "execution_count": 12,
   "metadata": {},
   "outputs": [
    {
     "data": {
      "text/html": [
       "<div>\n",
       "<style scoped>\n",
       "    .dataframe tbody tr th:only-of-type {\n",
       "        vertical-align: middle;\n",
       "    }\n",
       "\n",
       "    .dataframe tbody tr th {\n",
       "        vertical-align: top;\n",
       "    }\n",
       "\n",
       "    .dataframe thead th {\n",
       "        text-align: right;\n",
       "    }\n",
       "</style>\n",
       "<table border=\"1\" class=\"dataframe\">\n",
       "  <thead>\n",
       "    <tr style=\"text-align: right;\">\n",
       "      <th></th>\n",
       "      <th>Document</th>\n",
       "      <th>Topic</th>\n",
       "      <th>Name</th>\n",
       "      <th>Representation</th>\n",
       "      <th>Representative_Docs</th>\n",
       "      <th>Top_n_words</th>\n",
       "      <th>Probability</th>\n",
       "      <th>Representative_document</th>\n",
       "    </tr>\n",
       "  </thead>\n",
       "  <tbody>\n",
       "    <tr>\n",
       "      <th>0</th>\n",
       "      <td>Infectious colitis, enteritis, and gastroenter...</td>\n",
       "      <td>0</td>\n",
       "      <td>0_sprain___</td>\n",
       "      <td>[sprain, , , , , , , , , ]</td>\n",
       "      <td>[Closed dislocation of interphalangeal (joint)...</td>\n",
       "      <td>sprain -  -  -  -  -  -  -  -  -</td>\n",
       "      <td>0.772043</td>\n",
       "      <td>False</td>\n",
       "    </tr>\n",
       "    <tr>\n",
       "      <th>1</th>\n",
       "      <td>Tuberculous pneumonia [any form], unspecified</td>\n",
       "      <td>4</td>\n",
       "      <td>4_tuberculosis___</td>\n",
       "      <td>[tuberculosis, , , , , , , , , ]</td>\n",
       "      <td>[Other specified pulmonary tuberculosis, tuber...</td>\n",
       "      <td>tuberculosis -  -  -  -  -  -  -  -  -</td>\n",
       "      <td>0.487465</td>\n",
       "      <td>False</td>\n",
       "    </tr>\n",
       "    <tr>\n",
       "      <th>2</th>\n",
       "      <td>Other specified pulmonary tuberculosis, tuberc...</td>\n",
       "      <td>4</td>\n",
       "      <td>4_tuberculosis___</td>\n",
       "      <td>[tuberculosis, , , , , , , , , ]</td>\n",
       "      <td>[Other specified pulmonary tuberculosis, tuber...</td>\n",
       "      <td>tuberculosis -  -  -  -  -  -  -  -  -</td>\n",
       "      <td>1.000000</td>\n",
       "      <td>True</td>\n",
       "    </tr>\n",
       "    <tr>\n",
       "      <th>3</th>\n",
       "      <td>Tuberculous pleurisy, unspecified</td>\n",
       "      <td>4</td>\n",
       "      <td>4_tuberculosis___</td>\n",
       "      <td>[tuberculosis, , , , , , , , , ]</td>\n",
       "      <td>[Other specified pulmonary tuberculosis, tuber...</td>\n",
       "      <td>tuberculosis -  -  -  -  -  -  -  -  -</td>\n",
       "      <td>0.653610</td>\n",
       "      <td>False</td>\n",
       "    </tr>\n",
       "    <tr>\n",
       "      <th>4</th>\n",
       "      <td>Tuberculous laryngitis, tubercle bacilli not f...</td>\n",
       "      <td>4</td>\n",
       "      <td>4_tuberculosis___</td>\n",
       "      <td>[tuberculosis, , , , , , , , , ]</td>\n",
       "      <td>[Other specified pulmonary tuberculosis, tuber...</td>\n",
       "      <td>tuberculosis -  -  -  -  -  -  -  -  -</td>\n",
       "      <td>1.000000</td>\n",
       "      <td>False</td>\n",
       "    </tr>\n",
       "    <tr>\n",
       "      <th>...</th>\n",
       "      <td>...</td>\n",
       "      <td>...</td>\n",
       "      <td>...</td>\n",
       "      <td>...</td>\n",
       "      <td>...</td>\n",
       "      <td>...</td>\n",
       "      <td>...</td>\n",
       "      <td>...</td>\n",
       "    </tr>\n",
       "    <tr>\n",
       "      <th>996</th>\n",
       "      <td>Chronic glomerulonephritis with lesion of prol...</td>\n",
       "      <td>12</td>\n",
       "      <td>12_nephroptosis___</td>\n",
       "      <td>[nephroptosis, , , , , , , , , ]</td>\n",
       "      <td>[Acute kidney failure with lesion of renal cor...</td>\n",
       "      <td>nephroptosis -  -  -  -  -  -  -  -  -</td>\n",
       "      <td>1.000000</td>\n",
       "      <td>False</td>\n",
       "    </tr>\n",
       "    <tr>\n",
       "      <th>997</th>\n",
       "      <td>Infection of kidney, unspecified</td>\n",
       "      <td>12</td>\n",
       "      <td>12_nephroptosis___</td>\n",
       "      <td>[nephroptosis, , , , , , , , , ]</td>\n",
       "      <td>[Acute kidney failure with lesion of renal cor...</td>\n",
       "      <td>nephroptosis -  -  -  -  -  -  -  -  -</td>\n",
       "      <td>0.369595</td>\n",
       "      <td>False</td>\n",
       "    </tr>\n",
       "    <tr>\n",
       "      <th>998</th>\n",
       "      <td>Urethral caruncle</td>\n",
       "      <td>-1</td>\n",
       "      <td>-1_erythema___</td>\n",
       "      <td>[erythema, , , , , , , , , ]</td>\n",
       "      <td>[Insect bite, nonvenomous of shoulder and uppe...</td>\n",
       "      <td>erythema -  -  -  -  -  -  -  -  -</td>\n",
       "      <td>0.000000</td>\n",
       "      <td>False</td>\n",
       "    </tr>\n",
       "    <tr>\n",
       "      <th>999</th>\n",
       "      <td>Urinary obstruction, unspecified</td>\n",
       "      <td>-1</td>\n",
       "      <td>-1_erythema___</td>\n",
       "      <td>[erythema, , , , , , , , , ]</td>\n",
       "      <td>[Insect bite, nonvenomous of shoulder and uppe...</td>\n",
       "      <td>erythema -  -  -  -  -  -  -  -  -</td>\n",
       "      <td>0.000000</td>\n",
       "      <td>False</td>\n",
       "    </tr>\n",
       "    <tr>\n",
       "      <th>1000</th>\n",
       "      <td>Other specified disorders of penis</td>\n",
       "      <td>2</td>\n",
       "      <td>2_migraine___</td>\n",
       "      <td>[migraine, , , , , , , , , ]</td>\n",
       "      <td>[Personal history of other disorders of nervou...</td>\n",
       "      <td>migraine -  -  -  -  -  -  -  -  -</td>\n",
       "      <td>0.664596</td>\n",
       "      <td>False</td>\n",
       "    </tr>\n",
       "  </tbody>\n",
       "</table>\n",
       "<p>1001 rows × 8 columns</p>\n",
       "</div>"
      ],
      "text/plain": [
       "                                               Document  Topic  \\\n",
       "0     Infectious colitis, enteritis, and gastroenter...      0   \n",
       "1         Tuberculous pneumonia [any form], unspecified      4   \n",
       "2     Other specified pulmonary tuberculosis, tuberc...      4   \n",
       "3                     Tuberculous pleurisy, unspecified      4   \n",
       "4     Tuberculous laryngitis, tubercle bacilli not f...      4   \n",
       "...                                                 ...    ...   \n",
       "996   Chronic glomerulonephritis with lesion of prol...     12   \n",
       "997                    Infection of kidney, unspecified     12   \n",
       "998                                   Urethral caruncle     -1   \n",
       "999                    Urinary obstruction, unspecified     -1   \n",
       "1000                 Other specified disorders of penis      2   \n",
       "\n",
       "                    Name                    Representation  \\\n",
       "0            0_sprain___        [sprain, , , , , , , , , ]   \n",
       "1      4_tuberculosis___  [tuberculosis, , , , , , , , , ]   \n",
       "2      4_tuberculosis___  [tuberculosis, , , , , , , , , ]   \n",
       "3      4_tuberculosis___  [tuberculosis, , , , , , , , , ]   \n",
       "4      4_tuberculosis___  [tuberculosis, , , , , , , , , ]   \n",
       "...                  ...                               ...   \n",
       "996   12_nephroptosis___  [nephroptosis, , , , , , , , , ]   \n",
       "997   12_nephroptosis___  [nephroptosis, , , , , , , , , ]   \n",
       "998       -1_erythema___      [erythema, , , , , , , , , ]   \n",
       "999       -1_erythema___      [erythema, , , , , , , , , ]   \n",
       "1000       2_migraine___      [migraine, , , , , , , , , ]   \n",
       "\n",
       "                                    Representative_Docs  \\\n",
       "0     [Closed dislocation of interphalangeal (joint)...   \n",
       "1     [Other specified pulmonary tuberculosis, tuber...   \n",
       "2     [Other specified pulmonary tuberculosis, tuber...   \n",
       "3     [Other specified pulmonary tuberculosis, tuber...   \n",
       "4     [Other specified pulmonary tuberculosis, tuber...   \n",
       "...                                                 ...   \n",
       "996   [Acute kidney failure with lesion of renal cor...   \n",
       "997   [Acute kidney failure with lesion of renal cor...   \n",
       "998   [Insect bite, nonvenomous of shoulder and uppe...   \n",
       "999   [Insect bite, nonvenomous of shoulder and uppe...   \n",
       "1000  [Personal history of other disorders of nervou...   \n",
       "\n",
       "                                  Top_n_words  Probability  \\\n",
       "0           sprain -  -  -  -  -  -  -  -  -      0.772043   \n",
       "1     tuberculosis -  -  -  -  -  -  -  -  -      0.487465   \n",
       "2     tuberculosis -  -  -  -  -  -  -  -  -      1.000000   \n",
       "3     tuberculosis -  -  -  -  -  -  -  -  -      0.653610   \n",
       "4     tuberculosis -  -  -  -  -  -  -  -  -      1.000000   \n",
       "...                                       ...          ...   \n",
       "996   nephroptosis -  -  -  -  -  -  -  -  -      1.000000   \n",
       "997   nephroptosis -  -  -  -  -  -  -  -  -      0.369595   \n",
       "998       erythema -  -  -  -  -  -  -  -  -      0.000000   \n",
       "999       erythema -  -  -  -  -  -  -  -  -      0.000000   \n",
       "1000      migraine -  -  -  -  -  -  -  -  -      0.664596   \n",
       "\n",
       "      Representative_document  \n",
       "0                       False  \n",
       "1                       False  \n",
       "2                        True  \n",
       "3                       False  \n",
       "4                       False  \n",
       "...                       ...  \n",
       "996                     False  \n",
       "997                     False  \n",
       "998                     False  \n",
       "999                     False  \n",
       "1000                    False  \n",
       "\n",
       "[1001 rows x 8 columns]"
      ]
     },
     "execution_count": 12,
     "metadata": {},
     "output_type": "execute_result"
    }
   ],
   "source": [
    "topic_model.get_document_info(docs)"
   ]
  },
  {
   "cell_type": "code",
   "execution_count": 13,
   "metadata": {},
   "outputs": [
    {
     "data": {
      "application/vnd.plotly.v1+json": {
       "config": {
        "plotlyServerURL": "https://plot.ly"
       },
       "data": [
        {
         "customdata": [
          [
           0,
           "sprain |  |  |  | ",
           206
          ],
          [
           1,
           "pregnancy |  |  |  | ",
           104
          ],
          [
           2,
           "migraine |  |  |  | ",
           80
          ],
          [
           3,
           "neoplasm |  |  |  | ",
           57
          ],
          [
           4,
           "tuberculosis |  |  |  | ",
           48
          ],
          [
           5,
           "glaucoma |  |  |  | ",
           48
          ],
          [
           6,
           "concussion |  |  |  | ",
           44
          ],
          [
           7,
           "drowning in water |  |  |  | ",
           44
          ],
          [
           8,
           "poisoning |  |  |  | ",
           36
          ],
          [
           9,
           "aldosterone |  |  |  | ",
           26
          ],
          [
           10,
           "burn |  |  |  | ",
           25
          ],
          [
           11,
           "ulcer |  |  |  | ",
           24
          ],
          [
           12,
           "nephroptosis |  |  |  | ",
           16
          ],
          [
           13,
           "chondrocalcinosis |  |  |  | ",
           15
          ],
          [
           14,
           "dental edentulism |  |  |  | ",
           14
          ],
          [
           15,
           "drug |  |  |  | ",
           11
          ],
          [
           16,
           "lymphosarcoma |  |  |  | ",
           11
          ],
          [
           17,
           "postlaminectomy |  |  |  | ",
           11
          ]
         ],
         "hovertemplate": "<b>Topic %{customdata[0]}</b><br>%{customdata[1]}<br>Size: %{customdata[2]}",
         "legendgroup": "",
         "marker": {
          "color": "#B0BEC5",
          "line": {
           "color": "DarkSlateGrey",
           "width": 2
          },
          "size": [
           206,
           104,
           80,
           57,
           48,
           48,
           44,
           44,
           36,
           26,
           25,
           24,
           16,
           15,
           14,
           11,
           11,
           11
          ],
          "sizemode": "area",
          "sizeref": 0.12875,
          "symbol": "circle"
         },
         "mode": "markers",
         "name": "",
         "orientation": "v",
         "showlegend": false,
         "type": "scatter",
         "x": [
          1.174735188484192,
          21.28868293762207,
          21.82487678527832,
          -0.018481163308024406,
          1.1494885683059692,
          21.572858810424805,
          1.6942415237426758,
          0.8760866522789001,
          -12.18585205078125,
          1.4251304864883423,
          0.9892787337303162,
          0.4697152078151703,
          22.096323013305664,
          0.201169952750206,
          0.1013227105140686,
          -11.928741455078125,
          -0.2272358238697052,
          0.6671364903450012
         ],
         "xaxis": "x",
         "y": [
          5.898542404174805,
          9.262191772460938,
          9.798815727233887,
          1.7508106231689453,
          3.619558334350586,
          9.53364372253418,
          4.458837032318115,
          4.666591167449951,
          2.4728519916534424,
          5.526004791259766,
          5.323091506958008,
          5.168546199798584,
          10.069016456604004,
          2.0787618160247803,
          3.915897846221924,
          2.7300171852111816,
          1.5299890041351318,
          5.853633880615234
         ],
         "yaxis": "y"
        }
       ],
       "layout": {
        "annotations": [
         {
          "showarrow": false,
          "text": "D1",
          "x": -14.013729858398438,
          "y": 6.439929789304733,
          "yshift": 10
         },
         {
          "showarrow": false,
          "text": "D2",
          "x": 5.698520803451538,
          "xshift": 10,
          "y": 11.579368925094604
         }
        ],
        "height": 650,
        "hoverlabel": {
         "bgcolor": "white",
         "font": {
          "family": "Rockwell",
          "size": 16
         }
        },
        "legend": {
         "itemsizing": "constant",
         "tracegroupgap": 0
        },
        "margin": {
         "t": 60
        },
        "shapes": [
         {
          "line": {
           "color": "#CFD8DC",
           "width": 2
          },
          "type": "line",
          "x0": 5.698520803451538,
          "x1": 5.698520803451538,
          "y0": 1.3004906535148621,
          "y1": 11.579368925094604
         },
         {
          "line": {
           "color": "#9E9E9E",
           "width": 2
          },
          "type": "line",
          "x0": -14.013729858398438,
          "x1": 25.410771465301515,
          "y0": 6.439929789304733,
          "y1": 6.439929789304733
         }
        ],
        "sliders": [
         {
          "active": 0,
          "pad": {
           "t": 50
          },
          "steps": [
           {
            "args": [
             {
              "marker.color": [
               [
                "red",
                "#B0BEC5",
                "#B0BEC5",
                "#B0BEC5",
                "#B0BEC5",
                "#B0BEC5",
                "#B0BEC5",
                "#B0BEC5",
                "#B0BEC5",
                "#B0BEC5",
                "#B0BEC5",
                "#B0BEC5",
                "#B0BEC5",
                "#B0BEC5",
                "#B0BEC5",
                "#B0BEC5",
                "#B0BEC5",
                "#B0BEC5"
               ]
              ]
             }
            ],
            "label": "Topic 0",
            "method": "update"
           },
           {
            "args": [
             {
              "marker.color": [
               [
                "#B0BEC5",
                "red",
                "#B0BEC5",
                "#B0BEC5",
                "#B0BEC5",
                "#B0BEC5",
                "#B0BEC5",
                "#B0BEC5",
                "#B0BEC5",
                "#B0BEC5",
                "#B0BEC5",
                "#B0BEC5",
                "#B0BEC5",
                "#B0BEC5",
                "#B0BEC5",
                "#B0BEC5",
                "#B0BEC5",
                "#B0BEC5"
               ]
              ]
             }
            ],
            "label": "Topic 1",
            "method": "update"
           },
           {
            "args": [
             {
              "marker.color": [
               [
                "#B0BEC5",
                "#B0BEC5",
                "red",
                "#B0BEC5",
                "#B0BEC5",
                "#B0BEC5",
                "#B0BEC5",
                "#B0BEC5",
                "#B0BEC5",
                "#B0BEC5",
                "#B0BEC5",
                "#B0BEC5",
                "#B0BEC5",
                "#B0BEC5",
                "#B0BEC5",
                "#B0BEC5",
                "#B0BEC5",
                "#B0BEC5"
               ]
              ]
             }
            ],
            "label": "Topic 2",
            "method": "update"
           },
           {
            "args": [
             {
              "marker.color": [
               [
                "#B0BEC5",
                "#B0BEC5",
                "#B0BEC5",
                "red",
                "#B0BEC5",
                "#B0BEC5",
                "#B0BEC5",
                "#B0BEC5",
                "#B0BEC5",
                "#B0BEC5",
                "#B0BEC5",
                "#B0BEC5",
                "#B0BEC5",
                "#B0BEC5",
                "#B0BEC5",
                "#B0BEC5",
                "#B0BEC5",
                "#B0BEC5"
               ]
              ]
             }
            ],
            "label": "Topic 3",
            "method": "update"
           },
           {
            "args": [
             {
              "marker.color": [
               [
                "#B0BEC5",
                "#B0BEC5",
                "#B0BEC5",
                "#B0BEC5",
                "red",
                "#B0BEC5",
                "#B0BEC5",
                "#B0BEC5",
                "#B0BEC5",
                "#B0BEC5",
                "#B0BEC5",
                "#B0BEC5",
                "#B0BEC5",
                "#B0BEC5",
                "#B0BEC5",
                "#B0BEC5",
                "#B0BEC5",
                "#B0BEC5"
               ]
              ]
             }
            ],
            "label": "Topic 4",
            "method": "update"
           },
           {
            "args": [
             {
              "marker.color": [
               [
                "#B0BEC5",
                "#B0BEC5",
                "#B0BEC5",
                "#B0BEC5",
                "#B0BEC5",
                "red",
                "#B0BEC5",
                "#B0BEC5",
                "#B0BEC5",
                "#B0BEC5",
                "#B0BEC5",
                "#B0BEC5",
                "#B0BEC5",
                "#B0BEC5",
                "#B0BEC5",
                "#B0BEC5",
                "#B0BEC5",
                "#B0BEC5"
               ]
              ]
             }
            ],
            "label": "Topic 5",
            "method": "update"
           },
           {
            "args": [
             {
              "marker.color": [
               [
                "#B0BEC5",
                "#B0BEC5",
                "#B0BEC5",
                "#B0BEC5",
                "#B0BEC5",
                "#B0BEC5",
                "red",
                "#B0BEC5",
                "#B0BEC5",
                "#B0BEC5",
                "#B0BEC5",
                "#B0BEC5",
                "#B0BEC5",
                "#B0BEC5",
                "#B0BEC5",
                "#B0BEC5",
                "#B0BEC5",
                "#B0BEC5"
               ]
              ]
             }
            ],
            "label": "Topic 6",
            "method": "update"
           },
           {
            "args": [
             {
              "marker.color": [
               [
                "#B0BEC5",
                "#B0BEC5",
                "#B0BEC5",
                "#B0BEC5",
                "#B0BEC5",
                "#B0BEC5",
                "#B0BEC5",
                "red",
                "#B0BEC5",
                "#B0BEC5",
                "#B0BEC5",
                "#B0BEC5",
                "#B0BEC5",
                "#B0BEC5",
                "#B0BEC5",
                "#B0BEC5",
                "#B0BEC5",
                "#B0BEC5"
               ]
              ]
             }
            ],
            "label": "Topic 7",
            "method": "update"
           },
           {
            "args": [
             {
              "marker.color": [
               [
                "#B0BEC5",
                "#B0BEC5",
                "#B0BEC5",
                "#B0BEC5",
                "#B0BEC5",
                "#B0BEC5",
                "#B0BEC5",
                "#B0BEC5",
                "red",
                "#B0BEC5",
                "#B0BEC5",
                "#B0BEC5",
                "#B0BEC5",
                "#B0BEC5",
                "#B0BEC5",
                "#B0BEC5",
                "#B0BEC5",
                "#B0BEC5"
               ]
              ]
             }
            ],
            "label": "Topic 8",
            "method": "update"
           },
           {
            "args": [
             {
              "marker.color": [
               [
                "#B0BEC5",
                "#B0BEC5",
                "#B0BEC5",
                "#B0BEC5",
                "#B0BEC5",
                "#B0BEC5",
                "#B0BEC5",
                "#B0BEC5",
                "#B0BEC5",
                "red",
                "#B0BEC5",
                "#B0BEC5",
                "#B0BEC5",
                "#B0BEC5",
                "#B0BEC5",
                "#B0BEC5",
                "#B0BEC5",
                "#B0BEC5"
               ]
              ]
             }
            ],
            "label": "Topic 9",
            "method": "update"
           },
           {
            "args": [
             {
              "marker.color": [
               [
                "#B0BEC5",
                "#B0BEC5",
                "#B0BEC5",
                "#B0BEC5",
                "#B0BEC5",
                "#B0BEC5",
                "#B0BEC5",
                "#B0BEC5",
                "#B0BEC5",
                "#B0BEC5",
                "red",
                "#B0BEC5",
                "#B0BEC5",
                "#B0BEC5",
                "#B0BEC5",
                "#B0BEC5",
                "#B0BEC5",
                "#B0BEC5"
               ]
              ]
             }
            ],
            "label": "Topic 10",
            "method": "update"
           },
           {
            "args": [
             {
              "marker.color": [
               [
                "#B0BEC5",
                "#B0BEC5",
                "#B0BEC5",
                "#B0BEC5",
                "#B0BEC5",
                "#B0BEC5",
                "#B0BEC5",
                "#B0BEC5",
                "#B0BEC5",
                "#B0BEC5",
                "#B0BEC5",
                "red",
                "#B0BEC5",
                "#B0BEC5",
                "#B0BEC5",
                "#B0BEC5",
                "#B0BEC5",
                "#B0BEC5"
               ]
              ]
             }
            ],
            "label": "Topic 11",
            "method": "update"
           },
           {
            "args": [
             {
              "marker.color": [
               [
                "#B0BEC5",
                "#B0BEC5",
                "#B0BEC5",
                "#B0BEC5",
                "#B0BEC5",
                "#B0BEC5",
                "#B0BEC5",
                "#B0BEC5",
                "#B0BEC5",
                "#B0BEC5",
                "#B0BEC5",
                "#B0BEC5",
                "red",
                "#B0BEC5",
                "#B0BEC5",
                "#B0BEC5",
                "#B0BEC5",
                "#B0BEC5"
               ]
              ]
             }
            ],
            "label": "Topic 12",
            "method": "update"
           },
           {
            "args": [
             {
              "marker.color": [
               [
                "#B0BEC5",
                "#B0BEC5",
                "#B0BEC5",
                "#B0BEC5",
                "#B0BEC5",
                "#B0BEC5",
                "#B0BEC5",
                "#B0BEC5",
                "#B0BEC5",
                "#B0BEC5",
                "#B0BEC5",
                "#B0BEC5",
                "#B0BEC5",
                "red",
                "#B0BEC5",
                "#B0BEC5",
                "#B0BEC5",
                "#B0BEC5"
               ]
              ]
             }
            ],
            "label": "Topic 13",
            "method": "update"
           },
           {
            "args": [
             {
              "marker.color": [
               [
                "#B0BEC5",
                "#B0BEC5",
                "#B0BEC5",
                "#B0BEC5",
                "#B0BEC5",
                "#B0BEC5",
                "#B0BEC5",
                "#B0BEC5",
                "#B0BEC5",
                "#B0BEC5",
                "#B0BEC5",
                "#B0BEC5",
                "#B0BEC5",
                "#B0BEC5",
                "red",
                "#B0BEC5",
                "#B0BEC5",
                "#B0BEC5"
               ]
              ]
             }
            ],
            "label": "Topic 14",
            "method": "update"
           },
           {
            "args": [
             {
              "marker.color": [
               [
                "#B0BEC5",
                "#B0BEC5",
                "#B0BEC5",
                "#B0BEC5",
                "#B0BEC5",
                "#B0BEC5",
                "#B0BEC5",
                "#B0BEC5",
                "#B0BEC5",
                "#B0BEC5",
                "#B0BEC5",
                "#B0BEC5",
                "#B0BEC5",
                "#B0BEC5",
                "#B0BEC5",
                "red",
                "#B0BEC5",
                "#B0BEC5"
               ]
              ]
             }
            ],
            "label": "Topic 15",
            "method": "update"
           },
           {
            "args": [
             {
              "marker.color": [
               [
                "#B0BEC5",
                "#B0BEC5",
                "#B0BEC5",
                "#B0BEC5",
                "#B0BEC5",
                "#B0BEC5",
                "#B0BEC5",
                "#B0BEC5",
                "#B0BEC5",
                "#B0BEC5",
                "#B0BEC5",
                "#B0BEC5",
                "#B0BEC5",
                "#B0BEC5",
                "#B0BEC5",
                "#B0BEC5",
                "red",
                "#B0BEC5"
               ]
              ]
             }
            ],
            "label": "Topic 16",
            "method": "update"
           },
           {
            "args": [
             {
              "marker.color": [
               [
                "#B0BEC5",
                "#B0BEC5",
                "#B0BEC5",
                "#B0BEC5",
                "#B0BEC5",
                "#B0BEC5",
                "#B0BEC5",
                "#B0BEC5",
                "#B0BEC5",
                "#B0BEC5",
                "#B0BEC5",
                "#B0BEC5",
                "#B0BEC5",
                "#B0BEC5",
                "#B0BEC5",
                "#B0BEC5",
                "#B0BEC5",
                "red"
               ]
              ]
             }
            ],
            "label": "Topic 17",
            "method": "update"
           }
          ]
         }
        ],
        "template": {
         "data": {
          "bar": [
           {
            "error_x": {
             "color": "rgb(36,36,36)"
            },
            "error_y": {
             "color": "rgb(36,36,36)"
            },
            "marker": {
             "line": {
              "color": "white",
              "width": 0.5
             },
             "pattern": {
              "fillmode": "overlay",
              "size": 10,
              "solidity": 0.2
             }
            },
            "type": "bar"
           }
          ],
          "barpolar": [
           {
            "marker": {
             "line": {
              "color": "white",
              "width": 0.5
             },
             "pattern": {
              "fillmode": "overlay",
              "size": 10,
              "solidity": 0.2
             }
            },
            "type": "barpolar"
           }
          ],
          "carpet": [
           {
            "aaxis": {
             "endlinecolor": "rgb(36,36,36)",
             "gridcolor": "white",
             "linecolor": "white",
             "minorgridcolor": "white",
             "startlinecolor": "rgb(36,36,36)"
            },
            "baxis": {
             "endlinecolor": "rgb(36,36,36)",
             "gridcolor": "white",
             "linecolor": "white",
             "minorgridcolor": "white",
             "startlinecolor": "rgb(36,36,36)"
            },
            "type": "carpet"
           }
          ],
          "choropleth": [
           {
            "colorbar": {
             "outlinewidth": 1,
             "tickcolor": "rgb(36,36,36)",
             "ticks": "outside"
            },
            "type": "choropleth"
           }
          ],
          "contour": [
           {
            "colorbar": {
             "outlinewidth": 1,
             "tickcolor": "rgb(36,36,36)",
             "ticks": "outside"
            },
            "colorscale": [
             [
              0,
              "#440154"
             ],
             [
              0.1111111111111111,
              "#482878"
             ],
             [
              0.2222222222222222,
              "#3e4989"
             ],
             [
              0.3333333333333333,
              "#31688e"
             ],
             [
              0.4444444444444444,
              "#26828e"
             ],
             [
              0.5555555555555556,
              "#1f9e89"
             ],
             [
              0.6666666666666666,
              "#35b779"
             ],
             [
              0.7777777777777778,
              "#6ece58"
             ],
             [
              0.8888888888888888,
              "#b5de2b"
             ],
             [
              1,
              "#fde725"
             ]
            ],
            "type": "contour"
           }
          ],
          "contourcarpet": [
           {
            "colorbar": {
             "outlinewidth": 1,
             "tickcolor": "rgb(36,36,36)",
             "ticks": "outside"
            },
            "type": "contourcarpet"
           }
          ],
          "heatmap": [
           {
            "colorbar": {
             "outlinewidth": 1,
             "tickcolor": "rgb(36,36,36)",
             "ticks": "outside"
            },
            "colorscale": [
             [
              0,
              "#440154"
             ],
             [
              0.1111111111111111,
              "#482878"
             ],
             [
              0.2222222222222222,
              "#3e4989"
             ],
             [
              0.3333333333333333,
              "#31688e"
             ],
             [
              0.4444444444444444,
              "#26828e"
             ],
             [
              0.5555555555555556,
              "#1f9e89"
             ],
             [
              0.6666666666666666,
              "#35b779"
             ],
             [
              0.7777777777777778,
              "#6ece58"
             ],
             [
              0.8888888888888888,
              "#b5de2b"
             ],
             [
              1,
              "#fde725"
             ]
            ],
            "type": "heatmap"
           }
          ],
          "heatmapgl": [
           {
            "colorbar": {
             "outlinewidth": 1,
             "tickcolor": "rgb(36,36,36)",
             "ticks": "outside"
            },
            "colorscale": [
             [
              0,
              "#440154"
             ],
             [
              0.1111111111111111,
              "#482878"
             ],
             [
              0.2222222222222222,
              "#3e4989"
             ],
             [
              0.3333333333333333,
              "#31688e"
             ],
             [
              0.4444444444444444,
              "#26828e"
             ],
             [
              0.5555555555555556,
              "#1f9e89"
             ],
             [
              0.6666666666666666,
              "#35b779"
             ],
             [
              0.7777777777777778,
              "#6ece58"
             ],
             [
              0.8888888888888888,
              "#b5de2b"
             ],
             [
              1,
              "#fde725"
             ]
            ],
            "type": "heatmapgl"
           }
          ],
          "histogram": [
           {
            "marker": {
             "line": {
              "color": "white",
              "width": 0.6
             }
            },
            "type": "histogram"
           }
          ],
          "histogram2d": [
           {
            "colorbar": {
             "outlinewidth": 1,
             "tickcolor": "rgb(36,36,36)",
             "ticks": "outside"
            },
            "colorscale": [
             [
              0,
              "#440154"
             ],
             [
              0.1111111111111111,
              "#482878"
             ],
             [
              0.2222222222222222,
              "#3e4989"
             ],
             [
              0.3333333333333333,
              "#31688e"
             ],
             [
              0.4444444444444444,
              "#26828e"
             ],
             [
              0.5555555555555556,
              "#1f9e89"
             ],
             [
              0.6666666666666666,
              "#35b779"
             ],
             [
              0.7777777777777778,
              "#6ece58"
             ],
             [
              0.8888888888888888,
              "#b5de2b"
             ],
             [
              1,
              "#fde725"
             ]
            ],
            "type": "histogram2d"
           }
          ],
          "histogram2dcontour": [
           {
            "colorbar": {
             "outlinewidth": 1,
             "tickcolor": "rgb(36,36,36)",
             "ticks": "outside"
            },
            "colorscale": [
             [
              0,
              "#440154"
             ],
             [
              0.1111111111111111,
              "#482878"
             ],
             [
              0.2222222222222222,
              "#3e4989"
             ],
             [
              0.3333333333333333,
              "#31688e"
             ],
             [
              0.4444444444444444,
              "#26828e"
             ],
             [
              0.5555555555555556,
              "#1f9e89"
             ],
             [
              0.6666666666666666,
              "#35b779"
             ],
             [
              0.7777777777777778,
              "#6ece58"
             ],
             [
              0.8888888888888888,
              "#b5de2b"
             ],
             [
              1,
              "#fde725"
             ]
            ],
            "type": "histogram2dcontour"
           }
          ],
          "mesh3d": [
           {
            "colorbar": {
             "outlinewidth": 1,
             "tickcolor": "rgb(36,36,36)",
             "ticks": "outside"
            },
            "type": "mesh3d"
           }
          ],
          "parcoords": [
           {
            "line": {
             "colorbar": {
              "outlinewidth": 1,
              "tickcolor": "rgb(36,36,36)",
              "ticks": "outside"
             }
            },
            "type": "parcoords"
           }
          ],
          "pie": [
           {
            "automargin": true,
            "type": "pie"
           }
          ],
          "scatter": [
           {
            "fillpattern": {
             "fillmode": "overlay",
             "size": 10,
             "solidity": 0.2
            },
            "type": "scatter"
           }
          ],
          "scatter3d": [
           {
            "line": {
             "colorbar": {
              "outlinewidth": 1,
              "tickcolor": "rgb(36,36,36)",
              "ticks": "outside"
             }
            },
            "marker": {
             "colorbar": {
              "outlinewidth": 1,
              "tickcolor": "rgb(36,36,36)",
              "ticks": "outside"
             }
            },
            "type": "scatter3d"
           }
          ],
          "scattercarpet": [
           {
            "marker": {
             "colorbar": {
              "outlinewidth": 1,
              "tickcolor": "rgb(36,36,36)",
              "ticks": "outside"
             }
            },
            "type": "scattercarpet"
           }
          ],
          "scattergeo": [
           {
            "marker": {
             "colorbar": {
              "outlinewidth": 1,
              "tickcolor": "rgb(36,36,36)",
              "ticks": "outside"
             }
            },
            "type": "scattergeo"
           }
          ],
          "scattergl": [
           {
            "marker": {
             "colorbar": {
              "outlinewidth": 1,
              "tickcolor": "rgb(36,36,36)",
              "ticks": "outside"
             }
            },
            "type": "scattergl"
           }
          ],
          "scattermapbox": [
           {
            "marker": {
             "colorbar": {
              "outlinewidth": 1,
              "tickcolor": "rgb(36,36,36)",
              "ticks": "outside"
             }
            },
            "type": "scattermapbox"
           }
          ],
          "scatterpolar": [
           {
            "marker": {
             "colorbar": {
              "outlinewidth": 1,
              "tickcolor": "rgb(36,36,36)",
              "ticks": "outside"
             }
            },
            "type": "scatterpolar"
           }
          ],
          "scatterpolargl": [
           {
            "marker": {
             "colorbar": {
              "outlinewidth": 1,
              "tickcolor": "rgb(36,36,36)",
              "ticks": "outside"
             }
            },
            "type": "scatterpolargl"
           }
          ],
          "scatterternary": [
           {
            "marker": {
             "colorbar": {
              "outlinewidth": 1,
              "tickcolor": "rgb(36,36,36)",
              "ticks": "outside"
             }
            },
            "type": "scatterternary"
           }
          ],
          "surface": [
           {
            "colorbar": {
             "outlinewidth": 1,
             "tickcolor": "rgb(36,36,36)",
             "ticks": "outside"
            },
            "colorscale": [
             [
              0,
              "#440154"
             ],
             [
              0.1111111111111111,
              "#482878"
             ],
             [
              0.2222222222222222,
              "#3e4989"
             ],
             [
              0.3333333333333333,
              "#31688e"
             ],
             [
              0.4444444444444444,
              "#26828e"
             ],
             [
              0.5555555555555556,
              "#1f9e89"
             ],
             [
              0.6666666666666666,
              "#35b779"
             ],
             [
              0.7777777777777778,
              "#6ece58"
             ],
             [
              0.8888888888888888,
              "#b5de2b"
             ],
             [
              1,
              "#fde725"
             ]
            ],
            "type": "surface"
           }
          ],
          "table": [
           {
            "cells": {
             "fill": {
              "color": "rgb(237,237,237)"
             },
             "line": {
              "color": "white"
             }
            },
            "header": {
             "fill": {
              "color": "rgb(217,217,217)"
             },
             "line": {
              "color": "white"
             }
            },
            "type": "table"
           }
          ]
         },
         "layout": {
          "annotationdefaults": {
           "arrowhead": 0,
           "arrowwidth": 1
          },
          "autotypenumbers": "strict",
          "coloraxis": {
           "colorbar": {
            "outlinewidth": 1,
            "tickcolor": "rgb(36,36,36)",
            "ticks": "outside"
           }
          },
          "colorscale": {
           "diverging": [
            [
             0,
             "rgb(103,0,31)"
            ],
            [
             0.1,
             "rgb(178,24,43)"
            ],
            [
             0.2,
             "rgb(214,96,77)"
            ],
            [
             0.3,
             "rgb(244,165,130)"
            ],
            [
             0.4,
             "rgb(253,219,199)"
            ],
            [
             0.5,
             "rgb(247,247,247)"
            ],
            [
             0.6,
             "rgb(209,229,240)"
            ],
            [
             0.7,
             "rgb(146,197,222)"
            ],
            [
             0.8,
             "rgb(67,147,195)"
            ],
            [
             0.9,
             "rgb(33,102,172)"
            ],
            [
             1,
             "rgb(5,48,97)"
            ]
           ],
           "sequential": [
            [
             0,
             "#440154"
            ],
            [
             0.1111111111111111,
             "#482878"
            ],
            [
             0.2222222222222222,
             "#3e4989"
            ],
            [
             0.3333333333333333,
             "#31688e"
            ],
            [
             0.4444444444444444,
             "#26828e"
            ],
            [
             0.5555555555555556,
             "#1f9e89"
            ],
            [
             0.6666666666666666,
             "#35b779"
            ],
            [
             0.7777777777777778,
             "#6ece58"
            ],
            [
             0.8888888888888888,
             "#b5de2b"
            ],
            [
             1,
             "#fde725"
            ]
           ],
           "sequentialminus": [
            [
             0,
             "#440154"
            ],
            [
             0.1111111111111111,
             "#482878"
            ],
            [
             0.2222222222222222,
             "#3e4989"
            ],
            [
             0.3333333333333333,
             "#31688e"
            ],
            [
             0.4444444444444444,
             "#26828e"
            ],
            [
             0.5555555555555556,
             "#1f9e89"
            ],
            [
             0.6666666666666666,
             "#35b779"
            ],
            [
             0.7777777777777778,
             "#6ece58"
            ],
            [
             0.8888888888888888,
             "#b5de2b"
            ],
            [
             1,
             "#fde725"
            ]
           ]
          },
          "colorway": [
           "#1F77B4",
           "#FF7F0E",
           "#2CA02C",
           "#D62728",
           "#9467BD",
           "#8C564B",
           "#E377C2",
           "#7F7F7F",
           "#BCBD22",
           "#17BECF"
          ],
          "font": {
           "color": "rgb(36,36,36)"
          },
          "geo": {
           "bgcolor": "white",
           "lakecolor": "white",
           "landcolor": "white",
           "showlakes": true,
           "showland": true,
           "subunitcolor": "white"
          },
          "hoverlabel": {
           "align": "left"
          },
          "hovermode": "closest",
          "mapbox": {
           "style": "light"
          },
          "paper_bgcolor": "white",
          "plot_bgcolor": "white",
          "polar": {
           "angularaxis": {
            "gridcolor": "rgb(232,232,232)",
            "linecolor": "rgb(36,36,36)",
            "showgrid": false,
            "showline": true,
            "ticks": "outside"
           },
           "bgcolor": "white",
           "radialaxis": {
            "gridcolor": "rgb(232,232,232)",
            "linecolor": "rgb(36,36,36)",
            "showgrid": false,
            "showline": true,
            "ticks": "outside"
           }
          },
          "scene": {
           "xaxis": {
            "backgroundcolor": "white",
            "gridcolor": "rgb(232,232,232)",
            "gridwidth": 2,
            "linecolor": "rgb(36,36,36)",
            "showbackground": true,
            "showgrid": false,
            "showline": true,
            "ticks": "outside",
            "zeroline": false,
            "zerolinecolor": "rgb(36,36,36)"
           },
           "yaxis": {
            "backgroundcolor": "white",
            "gridcolor": "rgb(232,232,232)",
            "gridwidth": 2,
            "linecolor": "rgb(36,36,36)",
            "showbackground": true,
            "showgrid": false,
            "showline": true,
            "ticks": "outside",
            "zeroline": false,
            "zerolinecolor": "rgb(36,36,36)"
           },
           "zaxis": {
            "backgroundcolor": "white",
            "gridcolor": "rgb(232,232,232)",
            "gridwidth": 2,
            "linecolor": "rgb(36,36,36)",
            "showbackground": true,
            "showgrid": false,
            "showline": true,
            "ticks": "outside",
            "zeroline": false,
            "zerolinecolor": "rgb(36,36,36)"
           }
          },
          "shapedefaults": {
           "fillcolor": "black",
           "line": {
            "width": 0
           },
           "opacity": 0.3
          },
          "ternary": {
           "aaxis": {
            "gridcolor": "rgb(232,232,232)",
            "linecolor": "rgb(36,36,36)",
            "showgrid": false,
            "showline": true,
            "ticks": "outside"
           },
           "baxis": {
            "gridcolor": "rgb(232,232,232)",
            "linecolor": "rgb(36,36,36)",
            "showgrid": false,
            "showline": true,
            "ticks": "outside"
           },
           "bgcolor": "white",
           "caxis": {
            "gridcolor": "rgb(232,232,232)",
            "linecolor": "rgb(36,36,36)",
            "showgrid": false,
            "showline": true,
            "ticks": "outside"
           }
          },
          "title": {
           "x": 0.05
          },
          "xaxis": {
           "automargin": true,
           "gridcolor": "rgb(232,232,232)",
           "linecolor": "rgb(36,36,36)",
           "showgrid": false,
           "showline": true,
           "ticks": "outside",
           "title": {
            "standoff": 15
           },
           "zeroline": false,
           "zerolinecolor": "rgb(36,36,36)"
          },
          "yaxis": {
           "automargin": true,
           "gridcolor": "rgb(232,232,232)",
           "linecolor": "rgb(36,36,36)",
           "showgrid": false,
           "showline": true,
           "ticks": "outside",
           "title": {
            "standoff": 15
           },
           "zeroline": false,
           "zerolinecolor": "rgb(36,36,36)"
          }
         }
        },
        "title": {
         "font": {
          "color": "Black",
          "size": 22
         },
         "text": "<b>Intertopic Distance Map</b>",
         "x": 0.5,
         "xanchor": "center",
         "y": 0.95,
         "yanchor": "top"
        },
        "width": 650,
        "xaxis": {
         "anchor": "y",
         "domain": [
          0,
          1
         ],
         "range": [
          -14.013729858398438,
          25.410771465301515
         ],
         "title": {
          "text": ""
         },
         "visible": false
        },
        "yaxis": {
         "anchor": "x",
         "domain": [
          0,
          1
         ],
         "range": [
          1.3004906535148621,
          11.579368925094604
         ],
         "title": {
          "text": ""
         },
         "visible": false
        }
       }
      }
     },
     "metadata": {},
     "output_type": "display_data"
    }
   ],
   "source": [
    "topic_model.visualize_topics()\n"
   ]
  },
  {
   "cell_type": "code",
   "execution_count": 17,
   "metadata": {},
   "outputs": [
    {
     "data": {
      "application/vnd.plotly.v1+json": {
       "config": {
        "plotlyServerURL": "https://plot.ly"
       },
       "data": [
        {
         "marker": {
          "color": "#D55E00"
         },
         "orientation": "h",
         "type": "bar",
         "x": [
          0,
          0,
          0,
          0,
          1
         ],
         "xaxis": "x",
         "y": [
          "  ",
          "  ",
          "  ",
          "  ",
          "sprain  "
         ],
         "yaxis": "y"
        },
        {
         "marker": {
          "color": "#0072B2"
         },
         "orientation": "h",
         "type": "bar",
         "x": [
          0,
          0,
          0,
          0,
          1
         ],
         "xaxis": "x2",
         "y": [
          "  ",
          "  ",
          "  ",
          "  ",
          "pregnancy  "
         ],
         "yaxis": "y2"
        },
        {
         "marker": {
          "color": "#CC79A7"
         },
         "orientation": "h",
         "type": "bar",
         "x": [
          0,
          0,
          0,
          0,
          1
         ],
         "xaxis": "x3",
         "y": [
          "  ",
          "  ",
          "  ",
          "  ",
          "migraine  "
         ],
         "yaxis": "y3"
        },
        {
         "marker": {
          "color": "#E69F00"
         },
         "orientation": "h",
         "type": "bar",
         "x": [
          0,
          0,
          0,
          0,
          1
         ],
         "xaxis": "x4",
         "y": [
          "  ",
          "  ",
          "  ",
          "  ",
          "neoplasm  "
         ],
         "yaxis": "y4"
        },
        {
         "marker": {
          "color": "#56B4E9"
         },
         "orientation": "h",
         "type": "bar",
         "x": [
          0,
          0,
          0,
          0,
          1
         ],
         "xaxis": "x5",
         "y": [
          "  ",
          "  ",
          "  ",
          "  ",
          "tuberculosis  "
         ],
         "yaxis": "y5"
        },
        {
         "marker": {
          "color": "#009E73"
         },
         "orientation": "h",
         "type": "bar",
         "x": [
          0,
          0,
          0,
          0,
          1
         ],
         "xaxis": "x6",
         "y": [
          "  ",
          "  ",
          "  ",
          "  ",
          "glaucoma  "
         ],
         "yaxis": "y6"
        },
        {
         "marker": {
          "color": "#F0E442"
         },
         "orientation": "h",
         "type": "bar",
         "x": [
          0,
          0,
          0,
          0,
          1
         ],
         "xaxis": "x7",
         "y": [
          "  ",
          "  ",
          "  ",
          "  ",
          "concussion  "
         ],
         "yaxis": "y7"
        },
        {
         "marker": {
          "color": "#D55E00"
         },
         "orientation": "h",
         "type": "bar",
         "x": [
          0,
          0,
          0,
          0,
          1
         ],
         "xaxis": "x8",
         "y": [
          "  ",
          "  ",
          "  ",
          "  ",
          "drowning in water  "
         ],
         "yaxis": "y8"
        }
       ],
       "layout": {
        "annotations": [
         {
          "font": {
           "size": 16
          },
          "showarrow": false,
          "text": "Topic 0",
          "x": 0.0875,
          "xanchor": "center",
          "xref": "paper",
          "y": 1,
          "yanchor": "bottom",
          "yref": "paper"
         },
         {
          "font": {
           "size": 16
          },
          "showarrow": false,
          "text": "Topic 1",
          "x": 0.36250000000000004,
          "xanchor": "center",
          "xref": "paper",
          "y": 1,
          "yanchor": "bottom",
          "yref": "paper"
         },
         {
          "font": {
           "size": 16
          },
          "showarrow": false,
          "text": "Topic 2",
          "x": 0.6375000000000001,
          "xanchor": "center",
          "xref": "paper",
          "y": 1,
          "yanchor": "bottom",
          "yref": "paper"
         },
         {
          "font": {
           "size": 16
          },
          "showarrow": false,
          "text": "Topic 3",
          "x": 0.9125,
          "xanchor": "center",
          "xref": "paper",
          "y": 1,
          "yanchor": "bottom",
          "yref": "paper"
         },
         {
          "font": {
           "size": 16
          },
          "showarrow": false,
          "text": "Topic 4",
          "x": 0.0875,
          "xanchor": "center",
          "xref": "paper",
          "y": 0.4,
          "yanchor": "bottom",
          "yref": "paper"
         },
         {
          "font": {
           "size": 16
          },
          "showarrow": false,
          "text": "Topic 5",
          "x": 0.36250000000000004,
          "xanchor": "center",
          "xref": "paper",
          "y": 0.4,
          "yanchor": "bottom",
          "yref": "paper"
         },
         {
          "font": {
           "size": 16
          },
          "showarrow": false,
          "text": "Topic 6",
          "x": 0.6375000000000001,
          "xanchor": "center",
          "xref": "paper",
          "y": 0.4,
          "yanchor": "bottom",
          "yref": "paper"
         },
         {
          "font": {
           "size": 16
          },
          "showarrow": false,
          "text": "Topic 7",
          "x": 0.9125,
          "xanchor": "center",
          "xref": "paper",
          "y": 0.4,
          "yanchor": "bottom",
          "yref": "paper"
         }
        ],
        "height": 500,
        "hoverlabel": {
         "bgcolor": "white",
         "font": {
          "family": "Rockwell",
          "size": 16
         }
        },
        "showlegend": false,
        "template": {
         "data": {
          "bar": [
           {
            "error_x": {
             "color": "#2a3f5f"
            },
            "error_y": {
             "color": "#2a3f5f"
            },
            "marker": {
             "line": {
              "color": "white",
              "width": 0.5
             },
             "pattern": {
              "fillmode": "overlay",
              "size": 10,
              "solidity": 0.2
             }
            },
            "type": "bar"
           }
          ],
          "barpolar": [
           {
            "marker": {
             "line": {
              "color": "white",
              "width": 0.5
             },
             "pattern": {
              "fillmode": "overlay",
              "size": 10,
              "solidity": 0.2
             }
            },
            "type": "barpolar"
           }
          ],
          "carpet": [
           {
            "aaxis": {
             "endlinecolor": "#2a3f5f",
             "gridcolor": "#C8D4E3",
             "linecolor": "#C8D4E3",
             "minorgridcolor": "#C8D4E3",
             "startlinecolor": "#2a3f5f"
            },
            "baxis": {
             "endlinecolor": "#2a3f5f",
             "gridcolor": "#C8D4E3",
             "linecolor": "#C8D4E3",
             "minorgridcolor": "#C8D4E3",
             "startlinecolor": "#2a3f5f"
            },
            "type": "carpet"
           }
          ],
          "choropleth": [
           {
            "colorbar": {
             "outlinewidth": 0,
             "ticks": ""
            },
            "type": "choropleth"
           }
          ],
          "contour": [
           {
            "colorbar": {
             "outlinewidth": 0,
             "ticks": ""
            },
            "colorscale": [
             [
              0,
              "#0d0887"
             ],
             [
              0.1111111111111111,
              "#46039f"
             ],
             [
              0.2222222222222222,
              "#7201a8"
             ],
             [
              0.3333333333333333,
              "#9c179e"
             ],
             [
              0.4444444444444444,
              "#bd3786"
             ],
             [
              0.5555555555555556,
              "#d8576b"
             ],
             [
              0.6666666666666666,
              "#ed7953"
             ],
             [
              0.7777777777777778,
              "#fb9f3a"
             ],
             [
              0.8888888888888888,
              "#fdca26"
             ],
             [
              1,
              "#f0f921"
             ]
            ],
            "type": "contour"
           }
          ],
          "contourcarpet": [
           {
            "colorbar": {
             "outlinewidth": 0,
             "ticks": ""
            },
            "type": "contourcarpet"
           }
          ],
          "heatmap": [
           {
            "colorbar": {
             "outlinewidth": 0,
             "ticks": ""
            },
            "colorscale": [
             [
              0,
              "#0d0887"
             ],
             [
              0.1111111111111111,
              "#46039f"
             ],
             [
              0.2222222222222222,
              "#7201a8"
             ],
             [
              0.3333333333333333,
              "#9c179e"
             ],
             [
              0.4444444444444444,
              "#bd3786"
             ],
             [
              0.5555555555555556,
              "#d8576b"
             ],
             [
              0.6666666666666666,
              "#ed7953"
             ],
             [
              0.7777777777777778,
              "#fb9f3a"
             ],
             [
              0.8888888888888888,
              "#fdca26"
             ],
             [
              1,
              "#f0f921"
             ]
            ],
            "type": "heatmap"
           }
          ],
          "heatmapgl": [
           {
            "colorbar": {
             "outlinewidth": 0,
             "ticks": ""
            },
            "colorscale": [
             [
              0,
              "#0d0887"
             ],
             [
              0.1111111111111111,
              "#46039f"
             ],
             [
              0.2222222222222222,
              "#7201a8"
             ],
             [
              0.3333333333333333,
              "#9c179e"
             ],
             [
              0.4444444444444444,
              "#bd3786"
             ],
             [
              0.5555555555555556,
              "#d8576b"
             ],
             [
              0.6666666666666666,
              "#ed7953"
             ],
             [
              0.7777777777777778,
              "#fb9f3a"
             ],
             [
              0.8888888888888888,
              "#fdca26"
             ],
             [
              1,
              "#f0f921"
             ]
            ],
            "type": "heatmapgl"
           }
          ],
          "histogram": [
           {
            "marker": {
             "pattern": {
              "fillmode": "overlay",
              "size": 10,
              "solidity": 0.2
             }
            },
            "type": "histogram"
           }
          ],
          "histogram2d": [
           {
            "colorbar": {
             "outlinewidth": 0,
             "ticks": ""
            },
            "colorscale": [
             [
              0,
              "#0d0887"
             ],
             [
              0.1111111111111111,
              "#46039f"
             ],
             [
              0.2222222222222222,
              "#7201a8"
             ],
             [
              0.3333333333333333,
              "#9c179e"
             ],
             [
              0.4444444444444444,
              "#bd3786"
             ],
             [
              0.5555555555555556,
              "#d8576b"
             ],
             [
              0.6666666666666666,
              "#ed7953"
             ],
             [
              0.7777777777777778,
              "#fb9f3a"
             ],
             [
              0.8888888888888888,
              "#fdca26"
             ],
             [
              1,
              "#f0f921"
             ]
            ],
            "type": "histogram2d"
           }
          ],
          "histogram2dcontour": [
           {
            "colorbar": {
             "outlinewidth": 0,
             "ticks": ""
            },
            "colorscale": [
             [
              0,
              "#0d0887"
             ],
             [
              0.1111111111111111,
              "#46039f"
             ],
             [
              0.2222222222222222,
              "#7201a8"
             ],
             [
              0.3333333333333333,
              "#9c179e"
             ],
             [
              0.4444444444444444,
              "#bd3786"
             ],
             [
              0.5555555555555556,
              "#d8576b"
             ],
             [
              0.6666666666666666,
              "#ed7953"
             ],
             [
              0.7777777777777778,
              "#fb9f3a"
             ],
             [
              0.8888888888888888,
              "#fdca26"
             ],
             [
              1,
              "#f0f921"
             ]
            ],
            "type": "histogram2dcontour"
           }
          ],
          "mesh3d": [
           {
            "colorbar": {
             "outlinewidth": 0,
             "ticks": ""
            },
            "type": "mesh3d"
           }
          ],
          "parcoords": [
           {
            "line": {
             "colorbar": {
              "outlinewidth": 0,
              "ticks": ""
             }
            },
            "type": "parcoords"
           }
          ],
          "pie": [
           {
            "automargin": true,
            "type": "pie"
           }
          ],
          "scatter": [
           {
            "fillpattern": {
             "fillmode": "overlay",
             "size": 10,
             "solidity": 0.2
            },
            "type": "scatter"
           }
          ],
          "scatter3d": [
           {
            "line": {
             "colorbar": {
              "outlinewidth": 0,
              "ticks": ""
             }
            },
            "marker": {
             "colorbar": {
              "outlinewidth": 0,
              "ticks": ""
             }
            },
            "type": "scatter3d"
           }
          ],
          "scattercarpet": [
           {
            "marker": {
             "colorbar": {
              "outlinewidth": 0,
              "ticks": ""
             }
            },
            "type": "scattercarpet"
           }
          ],
          "scattergeo": [
           {
            "marker": {
             "colorbar": {
              "outlinewidth": 0,
              "ticks": ""
             }
            },
            "type": "scattergeo"
           }
          ],
          "scattergl": [
           {
            "marker": {
             "colorbar": {
              "outlinewidth": 0,
              "ticks": ""
             }
            },
            "type": "scattergl"
           }
          ],
          "scattermapbox": [
           {
            "marker": {
             "colorbar": {
              "outlinewidth": 0,
              "ticks": ""
             }
            },
            "type": "scattermapbox"
           }
          ],
          "scatterpolar": [
           {
            "marker": {
             "colorbar": {
              "outlinewidth": 0,
              "ticks": ""
             }
            },
            "type": "scatterpolar"
           }
          ],
          "scatterpolargl": [
           {
            "marker": {
             "colorbar": {
              "outlinewidth": 0,
              "ticks": ""
             }
            },
            "type": "scatterpolargl"
           }
          ],
          "scatterternary": [
           {
            "marker": {
             "colorbar": {
              "outlinewidth": 0,
              "ticks": ""
             }
            },
            "type": "scatterternary"
           }
          ],
          "surface": [
           {
            "colorbar": {
             "outlinewidth": 0,
             "ticks": ""
            },
            "colorscale": [
             [
              0,
              "#0d0887"
             ],
             [
              0.1111111111111111,
              "#46039f"
             ],
             [
              0.2222222222222222,
              "#7201a8"
             ],
             [
              0.3333333333333333,
              "#9c179e"
             ],
             [
              0.4444444444444444,
              "#bd3786"
             ],
             [
              0.5555555555555556,
              "#d8576b"
             ],
             [
              0.6666666666666666,
              "#ed7953"
             ],
             [
              0.7777777777777778,
              "#fb9f3a"
             ],
             [
              0.8888888888888888,
              "#fdca26"
             ],
             [
              1,
              "#f0f921"
             ]
            ],
            "type": "surface"
           }
          ],
          "table": [
           {
            "cells": {
             "fill": {
              "color": "#EBF0F8"
             },
             "line": {
              "color": "white"
             }
            },
            "header": {
             "fill": {
              "color": "#C8D4E3"
             },
             "line": {
              "color": "white"
             }
            },
            "type": "table"
           }
          ]
         },
         "layout": {
          "annotationdefaults": {
           "arrowcolor": "#2a3f5f",
           "arrowhead": 0,
           "arrowwidth": 1
          },
          "autotypenumbers": "strict",
          "coloraxis": {
           "colorbar": {
            "outlinewidth": 0,
            "ticks": ""
           }
          },
          "colorscale": {
           "diverging": [
            [
             0,
             "#8e0152"
            ],
            [
             0.1,
             "#c51b7d"
            ],
            [
             0.2,
             "#de77ae"
            ],
            [
             0.3,
             "#f1b6da"
            ],
            [
             0.4,
             "#fde0ef"
            ],
            [
             0.5,
             "#f7f7f7"
            ],
            [
             0.6,
             "#e6f5d0"
            ],
            [
             0.7,
             "#b8e186"
            ],
            [
             0.8,
             "#7fbc41"
            ],
            [
             0.9,
             "#4d9221"
            ],
            [
             1,
             "#276419"
            ]
           ],
           "sequential": [
            [
             0,
             "#0d0887"
            ],
            [
             0.1111111111111111,
             "#46039f"
            ],
            [
             0.2222222222222222,
             "#7201a8"
            ],
            [
             0.3333333333333333,
             "#9c179e"
            ],
            [
             0.4444444444444444,
             "#bd3786"
            ],
            [
             0.5555555555555556,
             "#d8576b"
            ],
            [
             0.6666666666666666,
             "#ed7953"
            ],
            [
             0.7777777777777778,
             "#fb9f3a"
            ],
            [
             0.8888888888888888,
             "#fdca26"
            ],
            [
             1,
             "#f0f921"
            ]
           ],
           "sequentialminus": [
            [
             0,
             "#0d0887"
            ],
            [
             0.1111111111111111,
             "#46039f"
            ],
            [
             0.2222222222222222,
             "#7201a8"
            ],
            [
             0.3333333333333333,
             "#9c179e"
            ],
            [
             0.4444444444444444,
             "#bd3786"
            ],
            [
             0.5555555555555556,
             "#d8576b"
            ],
            [
             0.6666666666666666,
             "#ed7953"
            ],
            [
             0.7777777777777778,
             "#fb9f3a"
            ],
            [
             0.8888888888888888,
             "#fdca26"
            ],
            [
             1,
             "#f0f921"
            ]
           ]
          },
          "colorway": [
           "#636efa",
           "#EF553B",
           "#00cc96",
           "#ab63fa",
           "#FFA15A",
           "#19d3f3",
           "#FF6692",
           "#B6E880",
           "#FF97FF",
           "#FECB52"
          ],
          "font": {
           "color": "#2a3f5f"
          },
          "geo": {
           "bgcolor": "white",
           "lakecolor": "white",
           "landcolor": "white",
           "showlakes": true,
           "showland": true,
           "subunitcolor": "#C8D4E3"
          },
          "hoverlabel": {
           "align": "left"
          },
          "hovermode": "closest",
          "mapbox": {
           "style": "light"
          },
          "paper_bgcolor": "white",
          "plot_bgcolor": "white",
          "polar": {
           "angularaxis": {
            "gridcolor": "#EBF0F8",
            "linecolor": "#EBF0F8",
            "ticks": ""
           },
           "bgcolor": "white",
           "radialaxis": {
            "gridcolor": "#EBF0F8",
            "linecolor": "#EBF0F8",
            "ticks": ""
           }
          },
          "scene": {
           "xaxis": {
            "backgroundcolor": "white",
            "gridcolor": "#DFE8F3",
            "gridwidth": 2,
            "linecolor": "#EBF0F8",
            "showbackground": true,
            "ticks": "",
            "zerolinecolor": "#EBF0F8"
           },
           "yaxis": {
            "backgroundcolor": "white",
            "gridcolor": "#DFE8F3",
            "gridwidth": 2,
            "linecolor": "#EBF0F8",
            "showbackground": true,
            "ticks": "",
            "zerolinecolor": "#EBF0F8"
           },
           "zaxis": {
            "backgroundcolor": "white",
            "gridcolor": "#DFE8F3",
            "gridwidth": 2,
            "linecolor": "#EBF0F8",
            "showbackground": true,
            "ticks": "",
            "zerolinecolor": "#EBF0F8"
           }
          },
          "shapedefaults": {
           "line": {
            "color": "#2a3f5f"
           }
          },
          "ternary": {
           "aaxis": {
            "gridcolor": "#DFE8F3",
            "linecolor": "#A2B1C6",
            "ticks": ""
           },
           "baxis": {
            "gridcolor": "#DFE8F3",
            "linecolor": "#A2B1C6",
            "ticks": ""
           },
           "bgcolor": "white",
           "caxis": {
            "gridcolor": "#DFE8F3",
            "linecolor": "#A2B1C6",
            "ticks": ""
           }
          },
          "title": {
           "x": 0.05
          },
          "xaxis": {
           "automargin": true,
           "gridcolor": "#EBF0F8",
           "linecolor": "#EBF0F8",
           "ticks": "",
           "title": {
            "standoff": 15
           },
           "zerolinecolor": "#EBF0F8",
           "zerolinewidth": 2
          },
          "yaxis": {
           "automargin": true,
           "gridcolor": "#EBF0F8",
           "linecolor": "#EBF0F8",
           "ticks": "",
           "title": {
            "standoff": 15
           },
           "zerolinecolor": "#EBF0F8",
           "zerolinewidth": 2
          }
         }
        },
        "title": {
         "font": {
          "color": "Black",
          "size": 22
         },
         "text": "Topic Word Scores",
         "x": 0.5,
         "xanchor": "center",
         "yanchor": "top"
        },
        "width": 1000,
        "xaxis": {
         "anchor": "y",
         "domain": [
          0,
          0.175
         ],
         "showgrid": true
        },
        "xaxis2": {
         "anchor": "y2",
         "domain": [
          0.275,
          0.45
         ],
         "showgrid": true
        },
        "xaxis3": {
         "anchor": "y3",
         "domain": [
          0.55,
          0.7250000000000001
         ],
         "showgrid": true
        },
        "xaxis4": {
         "anchor": "y4",
         "domain": [
          0.825,
          1
         ],
         "showgrid": true
        },
        "xaxis5": {
         "anchor": "y5",
         "domain": [
          0,
          0.175
         ],
         "showgrid": true
        },
        "xaxis6": {
         "anchor": "y6",
         "domain": [
          0.275,
          0.45
         ],
         "showgrid": true
        },
        "xaxis7": {
         "anchor": "y7",
         "domain": [
          0.55,
          0.7250000000000001
         ],
         "showgrid": true
        },
        "xaxis8": {
         "anchor": "y8",
         "domain": [
          0.825,
          1
         ],
         "showgrid": true
        },
        "yaxis": {
         "anchor": "x",
         "domain": [
          0.6000000000000001,
          1
         ],
         "showgrid": true
        },
        "yaxis2": {
         "anchor": "x2",
         "domain": [
          0.6000000000000001,
          1
         ],
         "showgrid": true
        },
        "yaxis3": {
         "anchor": "x3",
         "domain": [
          0.6000000000000001,
          1
         ],
         "showgrid": true
        },
        "yaxis4": {
         "anchor": "x4",
         "domain": [
          0.6000000000000001,
          1
         ],
         "showgrid": true
        },
        "yaxis5": {
         "anchor": "x5",
         "domain": [
          0,
          0.4
         ],
         "showgrid": true
        },
        "yaxis6": {
         "anchor": "x6",
         "domain": [
          0,
          0.4
         ],
         "showgrid": true
        },
        "yaxis7": {
         "anchor": "x7",
         "domain": [
          0,
          0.4
         ],
         "showgrid": true
        },
        "yaxis8": {
         "anchor": "x8",
         "domain": [
          0,
          0.4
         ],
         "showgrid": true
        }
       }
      }
     },
     "metadata": {},
     "output_type": "display_data"
    }
   ],
   "source": [
    "topic_model.visualize_barchart()"
   ]
  },
  {
   "cell_type": "code",
   "execution_count": 14,
   "metadata": {},
   "outputs": [
    {
     "name": "stderr",
     "output_type": "stream",
     "text": [
      "2024-11-12 18:23:26,628 - BERTopic - WARNING: There are more than 100 unique timestamps (i.e., 659) which significantly slows down the application. Consider setting `nr_bins` to a value lower than 100 to speed up calculation. \n"
     ]
    }
   ],
   "source": [
    "# dummy visualizing over time - create some synthetic timestamps\n",
    "\n",
    "# Define the start and end dates\n",
    "start_date = \"2021-01-01\"\n",
    "end_date = \"2023-12-31\"\n",
    "\n",
    "# Generate random dates between the start and end dates\n",
    "n = len(docs)  # Number of random dates to generate\n",
    "date_range = pd.date_range(start=start_date, end=end_date)\n",
    "random_dates = np.random.choice(date_range, n)\n",
    "\n",
    "# add to docs \n",
    "topics_over_time = topic_model.topics_over_time(docs, random_dates)"
   ]
  },
  {
   "cell_type": "code",
   "execution_count": 15,
   "metadata": {},
   "outputs": [
    {
     "data": {
      "application/vnd.plotly.v1+json": {
       "config": {
        "plotlyServerURL": "https://plot.ly"
       },
       "data": [
        {
         "hoverinfo": "text",
         "hovertext": [
          "<b>Topic 0</b><br>Words: hepatitis, , , , ",
          "<b>Topic 0</b><br>Words: sprain, , , , ",
          "<b>Topic 0</b><br>Words: hepatitis, , , , ",
          "<b>Topic 0</b><br>Words: ear dislocation, , , , ",
          "<b>Topic 0</b><br>Words: hepatitis, , , , ",
          "<b>Topic 0</b><br>Words: hepatitis, , , , ",
          "<b>Topic 0</b><br>Words: hepatitis, , , , ",
          "<b>Topic 0</b><br>Words: hepatitis, , , , ",
          "<b>Topic 0</b><br>Words: hepatitis, , , , ",
          "<b>Topic 0</b><br>Words: sprain, , , , ",
          "<b>Topic 0</b><br>Words: nasopharynx, , , , ",
          "<b>Topic 0</b><br>Words: hepatitis, , , , ",
          "<b>Topic 0</b><br>Words: hepatitis, , , , ",
          "<b>Topic 0</b><br>Words: pneumonia, , , , ",
          "<b>Topic 0</b><br>Words: sprain, , , , ",
          "<b>Topic 0</b><br>Words: sprain, , , , ",
          "<b>Topic 0</b><br>Words: hepatitis, , , , ",
          "<b>Topic 0</b><br>Words: fractured metacarpal, , , , ",
          "<b>Topic 0</b><br>Words: suffocation, , , , ",
          "<b>Topic 0</b><br>Words: influenza virus, , , , ",
          "<b>Topic 0</b><br>Words: hepatitis, , , , ",
          "<b>Topic 0</b><br>Words: influenza, , , , ",
          "<b>Topic 0</b><br>Words: hepatitis, , , , ",
          "<b>Topic 0</b><br>Words: pneumonia, , , , ",
          "<b>Topic 0</b><br>Words: meningitis, , , , ",
          "<b>Topic 0</b><br>Words: hepatitis, , , , ",
          "<b>Topic 0</b><br>Words: diphtheria, , , , ",
          "<b>Topic 0</b><br>Words: hepatitis, , , , ",
          "<b>Topic 0</b><br>Words: sprain, , , , ",
          "<b>Topic 0</b><br>Words: hepatitis, , , , ",
          "<b>Topic 0</b><br>Words: hepatitis, , , , ",
          "<b>Topic 0</b><br>Words: hepatitis, , , , ",
          "<b>Topic 0</b><br>Words: tenosynovitis, , , , ",
          "<b>Topic 0</b><br>Words: sprain, , , , ",
          "<b>Topic 0</b><br>Words: hepatitis, , , , ",
          "<b>Topic 0</b><br>Words: hepatitis, , , , ",
          "<b>Topic 0</b><br>Words: metacarpophalangeal dislocation, , , , ",
          "<b>Topic 0</b><br>Words: hepatitis, , , , ",
          "<b>Topic 0</b><br>Words: sprain, , , , ",
          "<b>Topic 0</b><br>Words: hepatitis, , , , ",
          "<b>Topic 0</b><br>Words: sprain, , , , ",
          "<b>Topic 0</b><br>Words: sprain, , , , ",
          "<b>Topic 0</b><br>Words: hepatitis, , , , ",
          "<b>Topic 0</b><br>Words: ear dislocation, , , , ",
          "<b>Topic 0</b><br>Words: rubella, , , , ",
          "<b>Topic 0</b><br>Words: hepatitis, , , , ",
          "<b>Topic 0</b><br>Words: hepatitis, , , , ",
          "<b>Topic 0</b><br>Words: hepatitis, , , , ",
          "<b>Topic 0</b><br>Words: salmonella, , , , ",
          "<b>Topic 0</b><br>Words: hepatitis, , , , ",
          "<b>Topic 0</b><br>Words: hepatitis, , , , ",
          "<b>Topic 0</b><br>Words: omsk dislocation, , , , ",
          "<b>Topic 0</b><br>Words: sprain, , , , ",
          "<b>Topic 0</b><br>Words: hepatitis, , , , ",
          "<b>Topic 0</b><br>Words: spleen dislocation, , , , ",
          "<b>Topic 0</b><br>Words: hepatitis, , , , ",
          "<b>Topic 0</b><br>Words: hepatitis, , , , ",
          "<b>Topic 0</b><br>Words: psoriatic arthritis, , , , ",
          "<b>Topic 0</b><br>Words: infection, , , , ",
          "<b>Topic 0</b><br>Words: hepatitis, , , , ",
          "<b>Topic 0</b><br>Words: sprain, , , , ",
          "<b>Topic 0</b><br>Words: hepatitis, , , , ",
          "<b>Topic 0</b><br>Words: sprain, , , , ",
          "<b>Topic 0</b><br>Words: metagonimiasis, , , , ",
          "<b>Topic 0</b><br>Words: hepatitis, , , , ",
          "<b>Topic 0</b><br>Words: hepatitis, , , , ",
          "<b>Topic 0</b><br>Words: hepatitis, , , , ",
          "<b>Topic 0</b><br>Words: hepatitis, , , , ",
          "<b>Topic 0</b><br>Words: rsv, , , , ",
          "<b>Topic 0</b><br>Words: hepatitis, , , , ",
          "<b>Topic 0</b><br>Words: mumps, , , , ",
          "<b>Topic 0</b><br>Words: colitis, , , , ",
          "<b>Topic 0</b><br>Words: hepatitis, , , , ",
          "<b>Topic 0</b><br>Words: influenza, , , , ",
          "<b>Topic 0</b><br>Words: sprain, , , , ",
          "<b>Topic 0</b><br>Words: breast dislocation, , , , ",
          "<b>Topic 0</b><br>Words: hepatitis, , , , ",
          "<b>Topic 0</b><br>Words: hepatitis, , , , ",
          "<b>Topic 0</b><br>Words: hepatitis, , , , ",
          "<b>Topic 0</b><br>Words: osteoarthrosis, , , , ",
          "<b>Topic 0</b><br>Words: rhinovirus, , , , ",
          "<b>Topic 0</b><br>Words: syphilis, , , , ",
          "<b>Topic 0</b><br>Words: genital dislocation, , , , ",
          "<b>Topic 0</b><br>Words: sprain, , , , ",
          "<b>Topic 0</b><br>Words: sprain, , , , ",
          "<b>Topic 0</b><br>Words: hepatitis, , , , ",
          "<b>Topic 0</b><br>Words: acanthamoeba, , , , ",
          "<b>Topic 0</b><br>Words: hepatitis, , , , ",
          "<b>Topic 0</b><br>Words: syphilis, , , , ",
          "<b>Topic 0</b><br>Words: sprain, , , , ",
          "<b>Topic 0</b><br>Words: hepatitis, , , , ",
          "<b>Topic 0</b><br>Words: sprain, , , , ",
          "<b>Topic 0</b><br>Words: hepatitis, , , , ",
          "<b>Topic 0</b><br>Words: hepatitis, , , , ",
          "<b>Topic 0</b><br>Words: sprain, , , , ",
          "<b>Topic 0</b><br>Words: hepatitis, , , , ",
          "<b>Topic 0</b><br>Words: hepatitis, , , , ",
          "<b>Topic 0</b><br>Words: ear dislocation, , , , ",
          "<b>Topic 0</b><br>Words: ear dislocation, , , , ",
          "<b>Topic 0</b><br>Words: hepatitis, , , , ",
          "<b>Topic 0</b><br>Words: ear dislocation, , , , ",
          "<b>Topic 0</b><br>Words: hepatitis, , , , ",
          "<b>Topic 0</b><br>Words: sprain, , , , ",
          "<b>Topic 0</b><br>Words: hepatitis, , , , ",
          "<b>Topic 0</b><br>Words: sprain, , , , ",
          "<b>Topic 0</b><br>Words: sprain, , , , ",
          "<b>Topic 0</b><br>Words: hepatitis, , , , ",
          "<b>Topic 0</b><br>Words: amputation, , , , ",
          "<b>Topic 0</b><br>Words: hepatitis, , , , ",
          "<b>Topic 0</b><br>Words: tracheitis, , , , ",
          "<b>Topic 0</b><br>Words: sprain, , , , ",
          "<b>Topic 0</b><br>Words: hepatitis, , , , ",
          "<b>Topic 0</b><br>Words: hepatitis, , , , ",
          "<b>Topic 0</b><br>Words: cholera, , , , ",
          "<b>Topic 0</b><br>Words: fractured foot, , , , ",
          "<b>Topic 0</b><br>Words: influenza, , , , ",
          "<b>Topic 0</b><br>Words: hepatitis, , , , ",
          "<b>Topic 0</b><br>Words: nasopharyngitis, , , , ",
          "<b>Topic 0</b><br>Words: hepatitis, , , , ",
          "<b>Topic 0</b><br>Words: rubella, , , , ",
          "<b>Topic 0</b><br>Words: hepatitis, , , , ",
          "<b>Topic 0</b><br>Words: ear dislocation, , , , ",
          "<b>Topic 0</b><br>Words: hepatitis, , , , ",
          "<b>Topic 0</b><br>Words: colostomy, , , , ",
          "<b>Topic 0</b><br>Words: hepatitis, , , , ",
          "<b>Topic 0</b><br>Words: iridocyclitis, , , , ",
          "<b>Topic 0</b><br>Words: hepatitis, , , , ",
          "<b>Topic 0</b><br>Words: hepatitis, , , , ",
          "<b>Topic 0</b><br>Words: sprain, , , , ",
          "<b>Topic 0</b><br>Words: hepatitis, , , , ",
          "<b>Topic 0</b><br>Words: hepatitis, , , , ",
          "<b>Topic 0</b><br>Words: syphilis, , , , ",
          "<b>Topic 0</b><br>Words: osteoarthrosis, , , , ",
          "<b>Topic 0</b><br>Words: influenza, , , , ",
          "<b>Topic 0</b><br>Words: hepatitis, , , , ",
          "<b>Topic 0</b><br>Words: arthropathy, , , , ",
          "<b>Topic 0</b><br>Words: hepatitis, , , , ",
          "<b>Topic 0</b><br>Words: pneumonia, , , , ",
          "<b>Topic 0</b><br>Words: sprain, , , , ",
          "<b>Topic 0</b><br>Words: spleen, , , , ",
          "<b>Topic 0</b><br>Words: hepatitis, , , , ",
          "<b>Topic 0</b><br>Words: hepatitis, , , , ",
          "<b>Topic 0</b><br>Words: hepatitis, , , , ",
          "<b>Topic 0</b><br>Words: hepatitis, , , , ",
          "<b>Topic 0</b><br>Words: synovitis, , , , ",
          "<b>Topic 0</b><br>Words: oophoritis, , , , ",
          "<b>Topic 0</b><br>Words: sprain, , , , ",
          "<b>Topic 0</b><br>Words: sprain, , , , ",
          "<b>Topic 0</b><br>Words: influenza, , , , ",
          "<b>Topic 0</b><br>Words: hepatitis, , , , ",
          "<b>Topic 0</b><br>Words: mononeuritis, , , , ",
          "<b>Topic 0</b><br>Words: hepatitis, , , , ",
          "<b>Topic 0</b><br>Words: sprain, , , , ",
          "<b>Topic 0</b><br>Words: blister, , , , ",
          "<b>Topic 0</b><br>Words: hepatitis, , , , ",
          "<b>Topic 0</b><br>Words: anthrax, , , , ",
          "<b>Topic 0</b><br>Words: piercing, , , , ",
          "<b>Topic 0</b><br>Words: cholera, , , , ",
          "<b>Topic 0</b><br>Words: influenza, , , , ",
          "<b>Topic 0</b><br>Words: c5c7, , , , ",
          "<b>Topic 0</b><br>Words: hepatitis, , , , ",
          "<b>Topic 0</b><br>Words: infection, , , , ",
          "<b>Topic 0</b><br>Words: hepatitis, , , , ",
          "<b>Topic 0</b><br>Words: hemarthrosis, , , , ",
          "<b>Topic 0</b><br>Words: hepatitis, , , , ",
          "<b>Topic 0</b><br>Words: hepatitis, , , , ",
          "<b>Topic 0</b><br>Words: hepatitis, , , , ",
          "<b>Topic 0</b><br>Words: hepatitis, , , , ",
          "<b>Topic 0</b><br>Words: hepatitis, , , , ",
          "<b>Topic 0</b><br>Words: sprain, , , , ",
          "<b>Topic 0</b><br>Words: sprain, , , , ",
          "<b>Topic 0</b><br>Words: tympanosclerosis, , , , ",
          "<b>Topic 0</b><br>Words: sprain, , , , ",
          "<b>Topic 0</b><br>Words: hepatitis, , , , ",
          "<b>Topic 0</b><br>Words: hepatitis, , , , ",
          "<b>Topic 0</b><br>Words: poliomyelitis, , , , ",
          "<b>Topic 0</b><br>Words: sprain, , , , ",
          "<b>Topic 0</b><br>Words: leishmaniasis, , , , ",
          "<b>Topic 0</b><br>Words: hepatitis, , , , ",
          "<b>Topic 0</b><br>Words: hepatitis, , , , ",
          "<b>Topic 0</b><br>Words: hepatitis, , , , ",
          "<b>Topic 0</b><br>Words: hepatitis, , , , ",
          "<b>Topic 0</b><br>Words: ear dislocation, , , , ",
          "<b>Topic 0</b><br>Words: hepatitis, , , , ",
          "<b>Topic 0</b><br>Words: hepatitis, , , , ",
          "<b>Topic 0</b><br>Words: hepatitis, , , , ",
          "<b>Topic 0</b><br>Words: hepatitis, , , , ",
          "<b>Topic 0</b><br>Words: hepatitis, , , , ",
          "<b>Topic 0</b><br>Words: sprain, , , , ",
          "<b>Topic 0</b><br>Words: hepatitis, , , , ",
          "<b>Topic 0</b><br>Words: sprain, , , , "
         ],
         "marker": {
          "color": "#E69F00"
         },
         "mode": "lines",
         "name": "0_sprain___",
         "type": "scatter",
         "x": [
          "2021-01-03T00:00:00",
          "2021-01-08T00:00:00",
          "2021-01-17T00:00:00",
          "2021-01-25T00:00:00",
          "2021-02-01T00:00:00",
          "2021-02-02T00:00:00",
          "2021-02-25T00:00:00",
          "2021-03-01T00:00:00",
          "2021-03-02T00:00:00",
          "2021-03-04T00:00:00",
          "2021-03-05T00:00:00",
          "2021-03-07T00:00:00",
          "2021-03-12T00:00:00",
          "2021-03-15T00:00:00",
          "2021-03-18T00:00:00",
          "2021-03-24T00:00:00",
          "2021-04-07T00:00:00",
          "2021-04-12T00:00:00",
          "2021-04-17T00:00:00",
          "2021-04-26T00:00:00",
          "2021-04-28T00:00:00",
          "2021-05-06T00:00:00",
          "2021-05-10T00:00:00",
          "2021-05-13T00:00:00",
          "2021-05-17T00:00:00",
          "2021-05-19T00:00:00",
          "2021-05-21T00:00:00",
          "2021-05-22T00:00:00",
          "2021-05-29T00:00:00",
          "2021-05-30T00:00:00",
          "2021-06-07T00:00:00",
          "2021-06-09T00:00:00",
          "2021-06-15T00:00:00",
          "2021-06-19T00:00:00",
          "2021-06-23T00:00:00",
          "2021-07-03T00:00:00",
          "2021-07-12T00:00:00",
          "2021-07-14T00:00:00",
          "2021-07-21T00:00:00",
          "2021-07-25T00:00:00",
          "2021-07-30T00:00:00",
          "2021-08-03T00:00:00",
          "2021-08-04T00:00:00",
          "2021-08-16T00:00:00",
          "2021-08-31T00:00:00",
          "2021-09-09T00:00:00",
          "2021-09-15T00:00:00",
          "2021-09-20T00:00:00",
          "2021-09-23T00:00:00",
          "2021-09-29T00:00:00",
          "2021-10-05T00:00:00",
          "2021-10-20T00:00:00",
          "2021-10-23T00:00:00",
          "2021-10-27T00:00:00",
          "2021-10-28T00:00:00",
          "2021-10-29T00:00:00",
          "2021-11-02T00:00:00",
          "2021-11-15T00:00:00",
          "2021-11-18T00:00:00",
          "2021-11-24T00:00:00",
          "2021-11-29T00:00:00",
          "2021-12-03T00:00:00",
          "2021-12-05T00:00:00",
          "2021-12-09T00:00:00",
          "2021-12-10T00:00:00",
          "2021-12-11T00:00:00",
          "2021-12-20T00:00:00",
          "2021-12-22T00:00:00",
          "2021-12-24T00:00:00",
          "2021-12-27T00:00:00",
          "2022-01-02T00:00:00",
          "2022-01-07T00:00:00",
          "2022-01-11T00:00:00",
          "2022-01-14T00:00:00",
          "2022-01-17T00:00:00",
          "2022-01-19T00:00:00",
          "2022-01-25T00:00:00",
          "2022-01-26T00:00:00",
          "2022-01-28T00:00:00",
          "2022-01-29T00:00:00",
          "2022-02-02T00:00:00",
          "2022-02-03T00:00:00",
          "2022-02-19T00:00:00",
          "2022-02-24T00:00:00",
          "2022-03-01T00:00:00",
          "2022-03-11T00:00:00",
          "2022-03-25T00:00:00",
          "2022-03-30T00:00:00",
          "2022-04-03T00:00:00",
          "2022-04-07T00:00:00",
          "2022-04-12T00:00:00",
          "2022-04-19T00:00:00",
          "2022-04-21T00:00:00",
          "2022-04-29T00:00:00",
          "2022-05-04T00:00:00",
          "2022-05-10T00:00:00",
          "2022-05-13T00:00:00",
          "2022-05-24T00:00:00",
          "2022-05-31T00:00:00",
          "2022-06-08T00:00:00",
          "2022-06-11T00:00:00",
          "2022-06-19T00:00:00",
          "2022-06-27T00:00:00",
          "2022-06-30T00:00:00",
          "2022-07-03T00:00:00",
          "2022-07-12T00:00:00",
          "2022-07-14T00:00:00",
          "2022-07-21T00:00:00",
          "2022-08-04T00:00:00",
          "2022-08-08T00:00:00",
          "2022-08-11T00:00:00",
          "2022-09-08T00:00:00",
          "2022-09-17T00:00:00",
          "2022-09-20T00:00:00",
          "2022-09-23T00:00:00",
          "2022-09-29T00:00:00",
          "2022-09-30T00:00:00",
          "2022-10-09T00:00:00",
          "2022-10-19T00:00:00",
          "2022-10-27T00:00:00",
          "2022-11-01T00:00:00",
          "2022-11-05T00:00:00",
          "2022-11-14T00:00:00",
          "2022-11-16T00:00:00",
          "2022-11-25T00:00:00",
          "2022-11-29T00:00:00",
          "2022-12-04T00:00:00",
          "2022-12-06T00:00:00",
          "2022-12-09T00:00:00",
          "2022-12-12T00:00:00",
          "2022-12-17T00:00:00",
          "2022-12-29T00:00:00",
          "2023-01-09T00:00:00",
          "2023-01-20T00:00:00",
          "2023-01-25T00:00:00",
          "2023-01-30T00:00:00",
          "2023-02-01T00:00:00",
          "2023-02-07T00:00:00",
          "2023-02-12T00:00:00",
          "2023-02-18T00:00:00",
          "2023-02-20T00:00:00",
          "2023-02-26T00:00:00",
          "2023-03-08T00:00:00",
          "2023-03-14T00:00:00",
          "2023-03-22T00:00:00",
          "2023-03-29T00:00:00",
          "2023-03-30T00:00:00",
          "2023-04-02T00:00:00",
          "2023-04-04T00:00:00",
          "2023-04-08T00:00:00",
          "2023-04-12T00:00:00",
          "2023-04-19T00:00:00",
          "2023-04-26T00:00:00",
          "2023-04-28T00:00:00",
          "2023-05-05T00:00:00",
          "2023-05-12T00:00:00",
          "2023-05-25T00:00:00",
          "2023-05-27T00:00:00",
          "2023-05-28T00:00:00",
          "2023-05-29T00:00:00",
          "2023-06-19T00:00:00",
          "2023-06-22T00:00:00",
          "2023-07-05T00:00:00",
          "2023-07-18T00:00:00",
          "2023-07-21T00:00:00",
          "2023-07-22T00:00:00",
          "2023-07-24T00:00:00",
          "2023-07-30T00:00:00",
          "2023-08-06T00:00:00",
          "2023-08-11T00:00:00",
          "2023-08-22T00:00:00",
          "2023-08-26T00:00:00",
          "2023-09-01T00:00:00",
          "2023-09-06T00:00:00",
          "2023-09-08T00:00:00",
          "2023-09-11T00:00:00",
          "2023-09-16T00:00:00",
          "2023-10-05T00:00:00",
          "2023-10-11T00:00:00",
          "2023-10-15T00:00:00",
          "2023-11-06T00:00:00",
          "2023-11-09T00:00:00",
          "2023-11-14T00:00:00",
          "2023-11-28T00:00:00",
          "2023-11-30T00:00:00",
          "2023-12-04T00:00:00",
          "2023-12-05T00:00:00",
          "2023-12-18T00:00:00",
          "2023-12-21T00:00:00",
          "2023-12-22T00:00:00",
          "2023-12-25T00:00:00"
         ],
         "y": [
          1,
          1,
          1,
          1,
          1,
          1,
          1,
          1,
          1,
          1,
          1,
          1,
          1,
          2,
          1,
          1,
          1,
          1,
          1,
          1,
          1,
          2,
          1,
          1,
          1,
          1,
          1,
          1,
          1,
          1,
          1,
          1,
          1,
          1,
          1,
          1,
          1,
          1,
          1,
          1,
          1,
          1,
          1,
          1,
          1,
          1,
          1,
          1,
          1,
          1,
          2,
          1,
          1,
          1,
          1,
          1,
          1,
          1,
          1,
          1,
          1,
          1,
          1,
          1,
          1,
          1,
          1,
          1,
          1,
          1,
          1,
          2,
          1,
          1,
          1,
          1,
          1,
          1,
          1,
          1,
          1,
          1,
          1,
          2,
          1,
          1,
          1,
          1,
          2,
          1,
          1,
          1,
          1,
          2,
          1,
          1,
          1,
          1,
          1,
          1,
          1,
          1,
          1,
          1,
          1,
          1,
          1,
          1,
          1,
          1,
          1,
          1,
          1,
          1,
          1,
          1,
          1,
          1,
          1,
          2,
          1,
          2,
          1,
          1,
          1,
          2,
          1,
          1,
          2,
          1,
          1,
          1,
          1,
          1,
          1,
          1,
          1,
          1,
          1,
          3,
          1,
          1,
          1,
          1,
          1,
          1,
          1,
          1,
          1,
          1,
          1,
          1,
          1,
          2,
          1,
          1,
          1,
          1,
          1,
          1,
          1,
          1,
          1,
          1,
          1,
          1,
          1,
          1,
          2,
          1,
          1,
          1,
          1,
          1,
          1,
          1,
          1,
          1,
          1,
          1,
          1,
          1,
          1,
          1,
          1,
          1,
          1,
          1,
          1,
          1,
          1
         ]
        },
        {
         "hoverinfo": "text",
         "hovertext": [
          "<b>Topic 1</b><br>Words: pregnancy, , , , ",
          "<b>Topic 1</b><br>Words: abortion, , , , ",
          "<b>Topic 1</b><br>Words: engorgement, , , , ",
          "<b>Topic 1</b><br>Words: fetus, , , , ",
          "<b>Topic 1</b><br>Words: cesarean section, , , , ",
          "<b>Topic 1</b><br>Words: pregnancy, , , , ",
          "<b>Topic 1</b><br>Words: pregnancy, , , , ",
          "<b>Topic 1</b><br>Words: abortion, , , , ",
          "<b>Topic 1</b><br>Words: pregnancy, , , , ",
          "<b>Topic 1</b><br>Words: pregnancy, , , , ",
          "<b>Topic 1</b><br>Words: abortion, , , , ",
          "<b>Topic 1</b><br>Words: abortion, , , , ",
          "<b>Topic 1</b><br>Words: pregnancy, , , , ",
          "<b>Topic 1</b><br>Words: pregnancy, , , , ",
          "<b>Topic 1</b><br>Words: abortion, , , , ",
          "<b>Topic 1</b><br>Words: pregnancy, , , , ",
          "<b>Topic 1</b><br>Words: abortion, , , , ",
          "<b>Topic 1</b><br>Words: abortion, , , , ",
          "<b>Topic 1</b><br>Words: pregnancy, , , , ",
          "<b>Topic 1</b><br>Words: coxa, , , , ",
          "<b>Topic 1</b><br>Words: abortion, , , , ",
          "<b>Topic 1</b><br>Words: pregnancy, , , , ",
          "<b>Topic 1</b><br>Words: pregnancy, , , , ",
          "<b>Topic 1</b><br>Words: pregnancy, , , , ",
          "<b>Topic 1</b><br>Words: pregnancy, , , , ",
          "<b>Topic 1</b><br>Words: pregnancy, , , , ",
          "<b>Topic 1</b><br>Words: pregnancy, , , , ",
          "<b>Topic 1</b><br>Words: thyrotoxicosis, , , , ",
          "<b>Topic 1</b><br>Words: abortion, , , , ",
          "<b>Topic 1</b><br>Words: pregnancy, , , , ",
          "<b>Topic 1</b><br>Words: pregnancy, , , , ",
          "<b>Topic 1</b><br>Words: abortion, , , , ",
          "<b>Topic 1</b><br>Words: pregnancy, , , , ",
          "<b>Topic 1</b><br>Words: pregnancy, , , , ",
          "<b>Topic 1</b><br>Words: pregnancy, , , , ",
          "<b>Topic 1</b><br>Words: pregnancy, , , , ",
          "<b>Topic 1</b><br>Words: radiation, , , , ",
          "<b>Topic 1</b><br>Words: pregnancy, , , , ",
          "<b>Topic 1</b><br>Words: pregnancy, , , , ",
          "<b>Topic 1</b><br>Words: contraceptive, , , , ",
          "<b>Topic 1</b><br>Words: abortion, , , , ",
          "<b>Topic 1</b><br>Words: abortion, , , , ",
          "<b>Topic 1</b><br>Words: pregnancy, , , , ",
          "<b>Topic 1</b><br>Words: pregnancy, , , , ",
          "<b>Topic 1</b><br>Words: abortion, , , , ",
          "<b>Topic 1</b><br>Words: abortion, , , , ",
          "<b>Topic 1</b><br>Words: pregnancy, , , , ",
          "<b>Topic 1</b><br>Words: pregnancy, , , , ",
          "<b>Topic 1</b><br>Words: a woman born in hospital, , , , ",
          "<b>Topic 1</b><br>Words: pregnancy, , , , ",
          "<b>Topic 1</b><br>Words: pregnancy, , , , ",
          "<b>Topic 1</b><br>Words: ectopic pregnancy, , , , ",
          "<b>Topic 1</b><br>Words: pregnancy, , , , ",
          "<b>Topic 1</b><br>Words: abortion, , , , ",
          "<b>Topic 1</b><br>Words: antepartum, , , , ",
          "<b>Topic 1</b><br>Words: abortion, , , , ",
          "<b>Topic 1</b><br>Words: pregnancy, , , , ",
          "<b>Topic 1</b><br>Words: pregnancy, , , , ",
          "<b>Topic 1</b><br>Words: abortion, , , , ",
          "<b>Topic 1</b><br>Words: pregnancy, , , , ",
          "<b>Topic 1</b><br>Words: abortion, , , , ",
          "<b>Topic 1</b><br>Words: pregnancy, , , , ",
          "<b>Topic 1</b><br>Words: antepartum, , , , ",
          "<b>Topic 1</b><br>Words: asymptomatic bacterial infection, , , , ",
          "<b>Topic 1</b><br>Words: abortion, , , , ",
          "<b>Topic 1</b><br>Words: pregnancy, , , , ",
          "<b>Topic 1</b><br>Words: birth injuries, , , , ",
          "<b>Topic 1</b><br>Words: pregnancy complications, , , , ",
          "<b>Topic 1</b><br>Words: abortion, , , , ",
          "<b>Topic 1</b><br>Words: pregnancy, , , , ",
          "<b>Topic 1</b><br>Words: abortion, , , , ",
          "<b>Topic 1</b><br>Words: abortion, , , , ",
          "<b>Topic 1</b><br>Words: pregnancy, , , , ",
          "<b>Topic 1</b><br>Words: postpartum, , , , ",
          "<b>Topic 1</b><br>Words: abortion, , , , ",
          "<b>Topic 1</b><br>Words: contraception, , , , ",
          "<b>Topic 1</b><br>Words: abortion, , , , ",
          "<b>Topic 1</b><br>Words: pregnancy, , , , ",
          "<b>Topic 1</b><br>Words: abortion, , , , ",
          "<b>Topic 1</b><br>Words: pregnancy, , , , ",
          "<b>Topic 1</b><br>Words: abortion, , , , ",
          "<b>Topic 1</b><br>Words: fetal placenta, , , , ",
          "<b>Topic 1</b><br>Words: abortion, , , , ",
          "<b>Topic 1</b><br>Words: oligohydramnios, , , , ",
          "<b>Topic 1</b><br>Words: pregnancy, , , , ",
          "<b>Topic 1</b><br>Words: abortion, , , , ",
          "<b>Topic 1</b><br>Words: pregnancy, , , , ",
          "<b>Topic 1</b><br>Words: pregnancy, , , , ",
          "<b>Topic 1</b><br>Words: pregnancy, , , , ",
          "<b>Topic 1</b><br>Words: abscess, , , , ",
          "<b>Topic 1</b><br>Words: abortion, , , , ",
          "<b>Topic 1</b><br>Words: abortion, , , , ",
          "<b>Topic 1</b><br>Words: abortion, , , , ",
          "<b>Topic 1</b><br>Words: pregnancy, , , , ",
          "<b>Topic 1</b><br>Words: abortion, , , , ",
          "<b>Topic 1</b><br>Words: pregnancy, , , , ",
          "<b>Topic 1</b><br>Words: abortion, , , , ",
          "<b>Topic 1</b><br>Words: pregnancy, , , , ",
          "<b>Topic 1</b><br>Words: pregnancy, , , , ",
          "<b>Topic 1</b><br>Words: abortion, , , , "
         ],
         "marker": {
          "color": "#56B4E9"
         },
         "mode": "lines",
         "name": "1_pregnancy___",
         "type": "scatter",
         "x": [
          "2021-01-07T00:00:00",
          "2021-01-18T00:00:00",
          "2021-02-19T00:00:00",
          "2021-02-21T00:00:00",
          "2021-02-24T00:00:00",
          "2021-03-02T00:00:00",
          "2021-03-29T00:00:00",
          "2021-03-30T00:00:00",
          "2021-04-13T00:00:00",
          "2021-04-18T00:00:00",
          "2021-04-19T00:00:00",
          "2021-04-26T00:00:00",
          "2021-05-03T00:00:00",
          "2021-05-08T00:00:00",
          "2021-05-22T00:00:00",
          "2021-05-29T00:00:00",
          "2021-06-04T00:00:00",
          "2021-06-13T00:00:00",
          "2021-07-03T00:00:00",
          "2021-07-18T00:00:00",
          "2021-07-19T00:00:00",
          "2021-07-23T00:00:00",
          "2021-08-02T00:00:00",
          "2021-08-10T00:00:00",
          "2021-09-02T00:00:00",
          "2021-09-05T00:00:00",
          "2021-09-23T00:00:00",
          "2021-09-28T00:00:00",
          "2021-10-13T00:00:00",
          "2021-10-22T00:00:00",
          "2021-10-31T00:00:00",
          "2021-11-02T00:00:00",
          "2021-11-04T00:00:00",
          "2021-12-05T00:00:00",
          "2021-12-10T00:00:00",
          "2021-12-14T00:00:00",
          "2022-01-24T00:00:00",
          "2022-02-05T00:00:00",
          "2022-02-08T00:00:00",
          "2022-02-09T00:00:00",
          "2022-02-20T00:00:00",
          "2022-02-25T00:00:00",
          "2022-03-04T00:00:00",
          "2022-03-09T00:00:00",
          "2022-03-10T00:00:00",
          "2022-03-22T00:00:00",
          "2022-03-23T00:00:00",
          "2022-04-24T00:00:00",
          "2022-05-20T00:00:00",
          "2022-05-27T00:00:00",
          "2022-07-04T00:00:00",
          "2022-07-05T00:00:00",
          "2022-07-06T00:00:00",
          "2022-07-31T00:00:00",
          "2022-08-03T00:00:00",
          "2022-08-10T00:00:00",
          "2022-08-15T00:00:00",
          "2022-08-25T00:00:00",
          "2022-09-11T00:00:00",
          "2022-10-18T00:00:00",
          "2022-10-20T00:00:00",
          "2022-11-02T00:00:00",
          "2022-11-15T00:00:00",
          "2022-12-04T00:00:00",
          "2022-12-10T00:00:00",
          "2022-12-14T00:00:00",
          "2022-12-19T00:00:00",
          "2022-12-24T00:00:00",
          "2022-12-30T00:00:00",
          "2023-01-10T00:00:00",
          "2023-01-12T00:00:00",
          "2023-02-08T00:00:00",
          "2023-02-23T00:00:00",
          "2023-03-03T00:00:00",
          "2023-03-07T00:00:00",
          "2023-03-10T00:00:00",
          "2023-03-13T00:00:00",
          "2023-03-22T00:00:00",
          "2023-04-02T00:00:00",
          "2023-05-03T00:00:00",
          "2023-05-04T00:00:00",
          "2023-05-10T00:00:00",
          "2023-06-20T00:00:00",
          "2023-07-14T00:00:00",
          "2023-07-15T00:00:00",
          "2023-07-18T00:00:00",
          "2023-08-31T00:00:00",
          "2023-09-11T00:00:00",
          "2023-09-23T00:00:00",
          "2023-10-02T00:00:00",
          "2023-10-04T00:00:00",
          "2023-10-12T00:00:00",
          "2023-10-29T00:00:00",
          "2023-10-31T00:00:00",
          "2023-11-01T00:00:00",
          "2023-11-14T00:00:00",
          "2023-11-20T00:00:00",
          "2023-12-07T00:00:00",
          "2023-12-23T00:00:00",
          "2023-12-31T00:00:00"
         ],
         "y": [
          1,
          1,
          1,
          1,
          1,
          1,
          2,
          1,
          1,
          1,
          1,
          1,
          1,
          1,
          2,
          1,
          1,
          1,
          1,
          1,
          1,
          1,
          1,
          1,
          1,
          1,
          1,
          1,
          1,
          1,
          1,
          1,
          1,
          1,
          1,
          1,
          1,
          1,
          1,
          2,
          1,
          1,
          1,
          1,
          1,
          1,
          1,
          1,
          1,
          2,
          1,
          1,
          1,
          1,
          1,
          1,
          1,
          1,
          1,
          1,
          1,
          1,
          1,
          1,
          1,
          1,
          1,
          1,
          1,
          1,
          1,
          1,
          1,
          1,
          1,
          1,
          1,
          1,
          1,
          1,
          1,
          1,
          1,
          1,
          1,
          1,
          1,
          1,
          1,
          1,
          1,
          1,
          1,
          1,
          1,
          1,
          1,
          1,
          1,
          1
         ]
        },
        {
         "hoverinfo": "text",
         "hovertext": [
          "<b>Topic 2</b><br>Words: schizophrenia, , , , ",
          "<b>Topic 2</b><br>Words: schizophrenia, , , , ",
          "<b>Topic 2</b><br>Words: schizophrenia, , , , ",
          "<b>Topic 2</b><br>Words: schizophrenia, , , , ",
          "<b>Topic 2</b><br>Words: dysphagia, , , , ",
          "<b>Topic 2</b><br>Words: nystagmus, , , , ",
          "<b>Topic 2</b><br>Words: schizophrenia, , , , ",
          "<b>Topic 2</b><br>Words: mumps, , , , ",
          "<b>Topic 2</b><br>Words: schizophrenia, , , , ",
          "<b>Topic 2</b><br>Words: schizophrenia, , , , ",
          "<b>Topic 2</b><br>Words: schizophrenia, , , , ",
          "<b>Topic 2</b><br>Words: schizophrenia, , , , ",
          "<b>Topic 2</b><br>Words: schizophrenia, , , , ",
          "<b>Topic 2</b><br>Words: schizophrenia, , , , ",
          "<b>Topic 2</b><br>Words: schizophrenia, , , , ",
          "<b>Topic 2</b><br>Words: schizophrenia, , , , ",
          "<b>Topic 2</b><br>Words: schizophrenia, , , , ",
          "<b>Topic 2</b><br>Words: schizophrenia, , , , ",
          "<b>Topic 2</b><br>Words: schizophrenia, , , , ",
          "<b>Topic 2</b><br>Words: schizophrenia, , , , ",
          "<b>Topic 2</b><br>Words: schizophrenia, , , , ",
          "<b>Topic 2</b><br>Words: dysphagia, , , , ",
          "<b>Topic 2</b><br>Words: schizophrenia, , , , ",
          "<b>Topic 2</b><br>Words: schizophrenia, , , , ",
          "<b>Topic 2</b><br>Words: schizophrenia, , , , ",
          "<b>Topic 2</b><br>Words: schizophrenia, , , , ",
          "<b>Topic 2</b><br>Words: schizophrenia, , , , ",
          "<b>Topic 2</b><br>Words: schizophrenia, , , , ",
          "<b>Topic 2</b><br>Words: schizophrenia, , , , ",
          "<b>Topic 2</b><br>Words: psychiatric disorders, , , , ",
          "<b>Topic 2</b><br>Words: polyneuropathy, , , , ",
          "<b>Topic 2</b><br>Words: schizophrenia, , , , ",
          "<b>Topic 2</b><br>Words: psychiatric disorders, , , , ",
          "<b>Topic 2</b><br>Words: schizophrenia, , , , ",
          "<b>Topic 2</b><br>Words: schizophrenia, , , , ",
          "<b>Topic 2</b><br>Words: schizophrenia, , , , ",
          "<b>Topic 2</b><br>Words: thiamine, , , , ",
          "<b>Topic 2</b><br>Words: schizophrenia, , , , ",
          "<b>Topic 2</b><br>Words: psychiatric disorders, , , , ",
          "<b>Topic 2</b><br>Words: schizophrenia, , , , ",
          "<b>Topic 2</b><br>Words: schizophrenia, , , , ",
          "<b>Topic 2</b><br>Words: pedophilia, , , , ",
          "<b>Topic 2</b><br>Words: migraine, , , , ",
          "<b>Topic 2</b><br>Words: schizophrenia, , , , ",
          "<b>Topic 2</b><br>Words: migraine, , , , ",
          "<b>Topic 2</b><br>Words: schizophrenia, , , , ",
          "<b>Topic 2</b><br>Words: dysphagia, , , , ",
          "<b>Topic 2</b><br>Words: schizophrenia, , , , ",
          "<b>Topic 2</b><br>Words: hemoglobinuria, , , , ",
          "<b>Topic 2</b><br>Words: klinefelters, , , , ",
          "<b>Topic 2</b><br>Words: schizophrenia, , , , ",
          "<b>Topic 2</b><br>Words: schizophrenia, , , , ",
          "<b>Topic 2</b><br>Words: schizophrenia, , , , ",
          "<b>Topic 2</b><br>Words: schizophrenia, , , , ",
          "<b>Topic 2</b><br>Words: schizophrenia, , , , ",
          "<b>Topic 2</b><br>Words: schizophrenia, , , , ",
          "<b>Topic 2</b><br>Words: schizophrenia, , , , ",
          "<b>Topic 2</b><br>Words: migrainosus, , , , ",
          "<b>Topic 2</b><br>Words: psychiatric disorders, , , , ",
          "<b>Topic 2</b><br>Words: schizophrenia, , , , ",
          "<b>Topic 2</b><br>Words: schizophrenia, , , , ",
          "<b>Topic 2</b><br>Words: ldh, , , , ",
          "<b>Topic 2</b><br>Words: schizophrenia, , , , ",
          "<b>Topic 2</b><br>Words: schizophrenia, , , , ",
          "<b>Topic 2</b><br>Words: psychiatric disorders, , , , ",
          "<b>Topic 2</b><br>Words: schizophrenia, , , , ",
          "<b>Topic 2</b><br>Words: schizophrenia, , , , ",
          "<b>Topic 2</b><br>Words: schizophrenia, , , , ",
          "<b>Topic 2</b><br>Words: schizophrenia, , , , ",
          "<b>Topic 2</b><br>Words: schizophrenia, , , , ",
          "<b>Topic 2</b><br>Words: schizophrenia, , , , ",
          "<b>Topic 2</b><br>Words: schizophrenia, , , , ",
          "<b>Topic 2</b><br>Words: schizophrenia, , , , ",
          "<b>Topic 2</b><br>Words: schizophrenia, , , , "
         ],
         "marker": {
          "color": "#009E73"
         },
         "mode": "lines",
         "name": "2_migraine___",
         "type": "scatter",
         "x": [
          "2021-01-01T00:00:00",
          "2021-01-18T00:00:00",
          "2021-01-29T00:00:00",
          "2021-02-21T00:00:00",
          "2021-03-06T00:00:00",
          "2021-03-14T00:00:00",
          "2021-03-18T00:00:00",
          "2021-03-27T00:00:00",
          "2021-03-28T00:00:00",
          "2021-04-20T00:00:00",
          "2021-06-01T00:00:00",
          "2021-06-16T00:00:00",
          "2021-06-17T00:00:00",
          "2021-07-14T00:00:00",
          "2021-08-01T00:00:00",
          "2021-09-19T00:00:00",
          "2021-09-22T00:00:00",
          "2021-09-30T00:00:00",
          "2021-10-06T00:00:00",
          "2021-12-17T00:00:00",
          "2022-02-08T00:00:00",
          "2022-02-17T00:00:00",
          "2022-03-25T00:00:00",
          "2022-03-28T00:00:00",
          "2022-04-05T00:00:00",
          "2022-04-07T00:00:00",
          "2022-04-09T00:00:00",
          "2022-04-27T00:00:00",
          "2022-05-30T00:00:00",
          "2022-06-02T00:00:00",
          "2022-06-26T00:00:00",
          "2022-08-06T00:00:00",
          "2022-08-20T00:00:00",
          "2022-08-24T00:00:00",
          "2022-09-15T00:00:00",
          "2022-09-16T00:00:00",
          "2022-09-22T00:00:00",
          "2022-09-25T00:00:00",
          "2022-10-18T00:00:00",
          "2022-10-23T00:00:00",
          "2022-10-27T00:00:00",
          "2022-11-09T00:00:00",
          "2022-11-18T00:00:00",
          "2022-11-27T00:00:00",
          "2022-12-01T00:00:00",
          "2022-12-14T00:00:00",
          "2022-12-24T00:00:00",
          "2022-12-29T00:00:00",
          "2023-01-30T00:00:00",
          "2023-02-01T00:00:00",
          "2023-02-04T00:00:00",
          "2023-02-13T00:00:00",
          "2023-03-02T00:00:00",
          "2023-05-08T00:00:00",
          "2023-05-13T00:00:00",
          "2023-05-27T00:00:00",
          "2023-05-29T00:00:00",
          "2023-05-30T00:00:00",
          "2023-06-05T00:00:00",
          "2023-06-17T00:00:00",
          "2023-06-18T00:00:00",
          "2023-07-02T00:00:00",
          "2023-07-05T00:00:00",
          "2023-08-10T00:00:00",
          "2023-08-12T00:00:00",
          "2023-08-31T00:00:00",
          "2023-09-04T00:00:00",
          "2023-09-10T00:00:00",
          "2023-09-18T00:00:00",
          "2023-09-21T00:00:00",
          "2023-10-31T00:00:00",
          "2023-11-12T00:00:00",
          "2023-12-08T00:00:00",
          "2023-12-29T00:00:00"
         ],
         "y": [
          2,
          1,
          1,
          1,
          1,
          1,
          1,
          1,
          1,
          1,
          1,
          1,
          1,
          1,
          1,
          1,
          1,
          1,
          1,
          1,
          1,
          1,
          1,
          1,
          1,
          1,
          1,
          1,
          1,
          1,
          1,
          2,
          1,
          1,
          1,
          1,
          1,
          1,
          1,
          1,
          1,
          1,
          1,
          2,
          1,
          1,
          1,
          1,
          1,
          2,
          1,
          1,
          1,
          1,
          1,
          1,
          1,
          2,
          1,
          1,
          1,
          1,
          1,
          1,
          1,
          1,
          1,
          2,
          1,
          1,
          1,
          1,
          1,
          1
         ]
        },
        {
         "hoverinfo": "text",
         "hovertext": [
          "<b>Topic 3</b><br>Words: neoplasm, , , , ",
          "<b>Topic 3</b><br>Words: carcinoid, , , , ",
          "<b>Topic 3</b><br>Words: carcinoid, , , , ",
          "<b>Topic 3</b><br>Words: carcinoid, , , , ",
          "<b>Topic 3</b><br>Words: neoplasm, , , , ",
          "<b>Topic 3</b><br>Words: neoplasm, , , , ",
          "<b>Topic 3</b><br>Words: neoplasm, , , , ",
          "<b>Topic 3</b><br>Words: ear, , , , ",
          "<b>Topic 3</b><br>Words: neoplasm, , , , ",
          "<b>Topic 3</b><br>Words: neoplasm, , , , ",
          "<b>Topic 3</b><br>Words: neoplasm, , , , ",
          "<b>Topic 3</b><br>Words: neoplasm, , , , ",
          "<b>Topic 3</b><br>Words: neoplasm, , , , ",
          "<b>Topic 3</b><br>Words: neoplasm, , , , ",
          "<b>Topic 3</b><br>Words: carcinoid, , , , ",
          "<b>Topic 3</b><br>Words: carcinoid, , , , ",
          "<b>Topic 3</b><br>Words: neoplasm, , , , ",
          "<b>Topic 3</b><br>Words: neoplasm, , , , ",
          "<b>Topic 3</b><br>Words: carcinoid, , , , ",
          "<b>Topic 3</b><br>Words: neoplasm, , , , ",
          "<b>Topic 3</b><br>Words: carcinoid, , , , ",
          "<b>Topic 3</b><br>Words: neoplasm, , , , ",
          "<b>Topic 3</b><br>Words: neoplasm, , , , ",
          "<b>Topic 3</b><br>Words: neoplasm, , , , ",
          "<b>Topic 3</b><br>Words: carcinoid, , , , ",
          "<b>Topic 3</b><br>Words: neoplasm, , , , ",
          "<b>Topic 3</b><br>Words: neoplasm, , , , ",
          "<b>Topic 3</b><br>Words: neoplasm, , , , ",
          "<b>Topic 3</b><br>Words: neoplasm, , , , ",
          "<b>Topic 3</b><br>Words: carcinoid, , , , ",
          "<b>Topic 3</b><br>Words: neoplasm, , , , ",
          "<b>Topic 3</b><br>Words: neoplasm, , , , ",
          "<b>Topic 3</b><br>Words: neoplasm, , , , ",
          "<b>Topic 3</b><br>Words: carcinoid, , , , ",
          "<b>Topic 3</b><br>Words: neoplasm, , , , ",
          "<b>Topic 3</b><br>Words: carcinoid, , , , ",
          "<b>Topic 3</b><br>Words: neoplasm, , , , ",
          "<b>Topic 3</b><br>Words: neoplasm, , , , ",
          "<b>Topic 3</b><br>Words: carcinoma of the cervix, , , , ",
          "<b>Topic 3</b><br>Words: carcinoid, , , , ",
          "<b>Topic 3</b><br>Words: neoplasm, , , , ",
          "<b>Topic 3</b><br>Words: carcinoid, , , , ",
          "<b>Topic 3</b><br>Words: neoplasm, , , , ",
          "<b>Topic 3</b><br>Words: carcinoid, , , , ",
          "<b>Topic 3</b><br>Words: carcinoid, , , , ",
          "<b>Topic 3</b><br>Words: neoplasm, , , , ",
          "<b>Topic 3</b><br>Words: carcinoid, , , , ",
          "<b>Topic 3</b><br>Words: neoplasm, , , , ",
          "<b>Topic 3</b><br>Words: neoplasm, , , , ",
          "<b>Topic 3</b><br>Words: carcinoid, , , , ",
          "<b>Topic 3</b><br>Words: neoplasm, , , , ",
          "<b>Topic 3</b><br>Words: carcinoid, , , , ",
          "<b>Topic 3</b><br>Words: carcinoid, , , , ",
          "<b>Topic 3</b><br>Words: carcinoid, , , , ",
          "<b>Topic 3</b><br>Words: carcinoid, , , , ",
          "<b>Topic 3</b><br>Words: neoplasm, , , , "
         ],
         "marker": {
          "color": "#F0E442"
         },
         "mode": "lines",
         "name": "3_neoplasm___",
         "type": "scatter",
         "x": [
          "2021-01-01T00:00:00",
          "2021-01-03T00:00:00",
          "2021-01-07T00:00:00",
          "2021-01-28T00:00:00",
          "2021-02-10T00:00:00",
          "2021-03-18T00:00:00",
          "2021-04-25T00:00:00",
          "2021-05-15T00:00:00",
          "2021-06-05T00:00:00",
          "2021-06-16T00:00:00",
          "2021-06-26T00:00:00",
          "2021-06-28T00:00:00",
          "2021-07-07T00:00:00",
          "2021-08-04T00:00:00",
          "2021-08-21T00:00:00",
          "2021-08-22T00:00:00",
          "2021-10-27T00:00:00",
          "2021-10-31T00:00:00",
          "2021-11-05T00:00:00",
          "2021-11-08T00:00:00",
          "2021-12-09T00:00:00",
          "2021-12-20T00:00:00",
          "2022-01-02T00:00:00",
          "2022-01-16T00:00:00",
          "2022-02-01T00:00:00",
          "2022-02-03T00:00:00",
          "2022-02-20T00:00:00",
          "2022-04-26T00:00:00",
          "2022-05-29T00:00:00",
          "2022-07-03T00:00:00",
          "2022-07-16T00:00:00",
          "2022-08-02T00:00:00",
          "2022-08-13T00:00:00",
          "2022-09-05T00:00:00",
          "2022-10-10T00:00:00",
          "2022-10-11T00:00:00",
          "2022-10-14T00:00:00",
          "2022-10-16T00:00:00",
          "2022-11-22T00:00:00",
          "2022-12-01T00:00:00",
          "2022-12-13T00:00:00",
          "2022-12-21T00:00:00",
          "2022-12-26T00:00:00",
          "2022-12-27T00:00:00",
          "2023-01-01T00:00:00",
          "2023-03-03T00:00:00",
          "2023-03-09T00:00:00",
          "2023-03-26T00:00:00",
          "2023-04-01T00:00:00",
          "2023-06-02T00:00:00",
          "2023-06-15T00:00:00",
          "2023-07-11T00:00:00",
          "2023-08-20T00:00:00",
          "2023-09-12T00:00:00",
          "2023-10-19T00:00:00",
          "2023-10-25T00:00:00"
         ],
         "y": [
          1,
          1,
          1,
          1,
          1,
          1,
          1,
          1,
          1,
          1,
          1,
          1,
          1,
          1,
          1,
          1,
          1,
          1,
          1,
          1,
          1,
          1,
          1,
          1,
          1,
          1,
          1,
          1,
          1,
          1,
          1,
          1,
          1,
          2,
          1,
          1,
          1,
          1,
          1,
          1,
          1,
          1,
          1,
          1,
          1,
          1,
          1,
          1,
          1,
          1,
          1,
          1,
          1,
          1,
          1,
          1
         ]
        },
        {
         "hoverinfo": "text",
         "hovertext": [
          "<b>Topic 4</b><br>Words: tuberculosis, , , , ",
          "<b>Topic 4</b><br>Words: tuberculosis, , , , ",
          "<b>Topic 4</b><br>Words: tuberculosis, , , , ",
          "<b>Topic 4</b><br>Words: tuberculosis, , , , ",
          "<b>Topic 4</b><br>Words: tuberculosis, , , , ",
          "<b>Topic 4</b><br>Words: tuberculosis, , , , ",
          "<b>Topic 4</b><br>Words: tuberculosis, , , , ",
          "<b>Topic 4</b><br>Words: tuberculosis, , , , ",
          "<b>Topic 4</b><br>Words: tuberculosis, , , , ",
          "<b>Topic 4</b><br>Words: tuberculosis, , , , ",
          "<b>Topic 4</b><br>Words: tuberculosis, , , , ",
          "<b>Topic 4</b><br>Words: tuberculosis, , , , ",
          "<b>Topic 4</b><br>Words: tuberculosis, , , , ",
          "<b>Topic 4</b><br>Words: tuberculosis, , , , ",
          "<b>Topic 4</b><br>Words: tuberculosis, , , , ",
          "<b>Topic 4</b><br>Words: tuberculosis, , , , ",
          "<b>Topic 4</b><br>Words: tuberculosis, , , , ",
          "<b>Topic 4</b><br>Words: tuberculosis, , , , ",
          "<b>Topic 4</b><br>Words: tuberculosis, , , , ",
          "<b>Topic 4</b><br>Words: tuberculosis, , , , ",
          "<b>Topic 4</b><br>Words: tuberculosis, , , , ",
          "<b>Topic 4</b><br>Words: tuberculosis, , , , ",
          "<b>Topic 4</b><br>Words: tuberculosis, , , , ",
          "<b>Topic 4</b><br>Words: tuberculosis, , , , ",
          "<b>Topic 4</b><br>Words: tuberculosis, , , , ",
          "<b>Topic 4</b><br>Words: tuberculosis, , , , ",
          "<b>Topic 4</b><br>Words: tuberculosis, , , , ",
          "<b>Topic 4</b><br>Words: tuberculosis, , , , ",
          "<b>Topic 4</b><br>Words: tuberculosis, , , , ",
          "<b>Topic 4</b><br>Words: tuberculosis, , , , ",
          "<b>Topic 4</b><br>Words: tuberculosis, , , , ",
          "<b>Topic 4</b><br>Words: tuberculosis, , , , ",
          "<b>Topic 4</b><br>Words: tuberculosis, , , , ",
          "<b>Topic 4</b><br>Words: tuberculosis, , , , ",
          "<b>Topic 4</b><br>Words: tuberculosis, , , , ",
          "<b>Topic 4</b><br>Words: tuberculosis, , , , ",
          "<b>Topic 4</b><br>Words: tuberculosis, , , , ",
          "<b>Topic 4</b><br>Words: tuberculosis, , , , ",
          "<b>Topic 4</b><br>Words: tuberculosis, , , , ",
          "<b>Topic 4</b><br>Words: tuberculosis, , , , ",
          "<b>Topic 4</b><br>Words: tuberculosis, , , , ",
          "<b>Topic 4</b><br>Words: tuberculosis, , , , ",
          "<b>Topic 4</b><br>Words: tuberculosis, , , , ",
          "<b>Topic 4</b><br>Words: tuberculosis, , , , ",
          "<b>Topic 4</b><br>Words: tuberculosis, , , , ",
          "<b>Topic 4</b><br>Words: tuberculosis, , , , ",
          "<b>Topic 4</b><br>Words: tuberculosis, , , , ",
          "<b>Topic 4</b><br>Words: tuberculosis, , , , "
         ],
         "marker": {
          "color": "#D55E00"
         },
         "mode": "lines",
         "name": "4_tuberculosis___",
         "type": "scatter",
         "x": [
          "2021-01-31T00:00:00",
          "2021-02-10T00:00:00",
          "2021-02-11T00:00:00",
          "2021-02-13T00:00:00",
          "2021-03-08T00:00:00",
          "2021-03-10T00:00:00",
          "2021-04-19T00:00:00",
          "2021-05-07T00:00:00",
          "2021-06-14T00:00:00",
          "2021-06-25T00:00:00",
          "2021-06-30T00:00:00",
          "2021-08-15T00:00:00",
          "2021-08-28T00:00:00",
          "2021-09-21T00:00:00",
          "2021-10-08T00:00:00",
          "2021-10-24T00:00:00",
          "2021-11-29T00:00:00",
          "2021-12-07T00:00:00",
          "2022-01-09T00:00:00",
          "2022-02-21T00:00:00",
          "2022-05-02T00:00:00",
          "2022-05-04T00:00:00",
          "2022-06-15T00:00:00",
          "2022-06-29T00:00:00",
          "2022-07-26T00:00:00",
          "2022-08-12T00:00:00",
          "2022-09-20T00:00:00",
          "2022-09-22T00:00:00",
          "2022-09-24T00:00:00",
          "2022-09-30T00:00:00",
          "2022-10-01T00:00:00",
          "2022-10-13T00:00:00",
          "2022-10-17T00:00:00",
          "2022-12-12T00:00:00",
          "2023-01-03T00:00:00",
          "2023-02-03T00:00:00",
          "2023-02-13T00:00:00",
          "2023-02-18T00:00:00",
          "2023-02-26T00:00:00",
          "2023-03-30T00:00:00",
          "2023-04-06T00:00:00",
          "2023-04-07T00:00:00",
          "2023-06-02T00:00:00",
          "2023-07-20T00:00:00",
          "2023-08-15T00:00:00",
          "2023-08-19T00:00:00",
          "2023-12-18T00:00:00",
          "2023-12-22T00:00:00"
         ],
         "y": [
          1,
          1,
          1,
          1,
          1,
          1,
          1,
          1,
          1,
          1,
          1,
          1,
          1,
          1,
          1,
          1,
          1,
          1,
          1,
          1,
          1,
          1,
          1,
          1,
          1,
          1,
          1,
          1,
          1,
          1,
          1,
          1,
          1,
          1,
          1,
          1,
          1,
          1,
          1,
          1,
          1,
          1,
          1,
          1,
          1,
          1,
          1,
          1
         ]
        },
        {
         "hoverinfo": "text",
         "hovertext": [
          "<b>Topic 5</b><br>Words: glaucoma, , , , ",
          "<b>Topic 5</b><br>Words: glaucoma, , , , ",
          "<b>Topic 5</b><br>Words: glaucoma, , , , ",
          "<b>Topic 5</b><br>Words: keratoconjunctivitis, , , , ",
          "<b>Topic 5</b><br>Words: glaucoma, , , , ",
          "<b>Topic 5</b><br>Words: blindness, , , , ",
          "<b>Topic 5</b><br>Words: glaucoma, , , , ",
          "<b>Topic 5</b><br>Words: glaucoma, , , , ",
          "<b>Topic 5</b><br>Words: keratoconjunctivitis, , , , ",
          "<b>Topic 5</b><br>Words: glaucoma, , , , ",
          "<b>Topic 5</b><br>Words: keratoconjunctivitis, , , , ",
          "<b>Topic 5</b><br>Words: glaucoma, , , , ",
          "<b>Topic 5</b><br>Words: glaucoma, , , , ",
          "<b>Topic 5</b><br>Words: glaucoma, , , , ",
          "<b>Topic 5</b><br>Words: keratoconjunctivitis, , , , ",
          "<b>Topic 5</b><br>Words: cataract, , , , ",
          "<b>Topic 5</b><br>Words: diabetic macular distrophy, , , , ",
          "<b>Topic 5</b><br>Words: diabetic eye, , , , ",
          "<b>Topic 5</b><br>Words: glaucoma, , , , ",
          "<b>Topic 5</b><br>Words: glaucoma, , , , ",
          "<b>Topic 5</b><br>Words: glaucoma, , , , ",
          "<b>Topic 5</b><br>Words: keratoconjunctivitis, , , , ",
          "<b>Topic 5</b><br>Words: glaucoma, , , , ",
          "<b>Topic 5</b><br>Words: keratoconjunctivitis, , , , ",
          "<b>Topic 5</b><br>Words: keratoconjunctivitis, , , , ",
          "<b>Topic 5</b><br>Words: glaucoma, , , , ",
          "<b>Topic 5</b><br>Words: cataract, , , , ",
          "<b>Topic 5</b><br>Words: glaucoma, , , , ",
          "<b>Topic 5</b><br>Words: glaucoma, , , , ",
          "<b>Topic 5</b><br>Words: glaucoma, , , , ",
          "<b>Topic 5</b><br>Words: glaucoma, , , , ",
          "<b>Topic 5</b><br>Words: keratoconjunctivitis, , , , ",
          "<b>Topic 5</b><br>Words: keratoconjunctivitis, , , , ",
          "<b>Topic 5</b><br>Words: diabetic eye, , , , ",
          "<b>Topic 5</b><br>Words: macular degeneration, , , , ",
          "<b>Topic 5</b><br>Words: keratoconjunctivitis, , , , ",
          "<b>Topic 5</b><br>Words: glaucoma, , , , ",
          "<b>Topic 5</b><br>Words: ketoacidosis, , , , ",
          "<b>Topic 5</b><br>Words: glaucoma, , , , ",
          "<b>Topic 5</b><br>Words: glaucoma, , , , ",
          "<b>Topic 5</b><br>Words: glaucoma, , , , ",
          "<b>Topic 5</b><br>Words: diabetic eye, , , , ",
          "<b>Topic 5</b><br>Words: glaucoma, , , , ",
          "<b>Topic 5</b><br>Words: keratoconjunctivitis, , , , ",
          "<b>Topic 5</b><br>Words: diabetic macular, , , , ",
          "<b>Topic 5</b><br>Words: ophthalmic disease, , , , ",
          "<b>Topic 5</b><br>Words: glaucoma, , , , ",
          "<b>Topic 5</b><br>Words: diabetic macular degeneration, , , , "
         ],
         "marker": {
          "color": "#0072B2"
         },
         "mode": "lines",
         "name": "5_glaucoma___",
         "type": "scatter",
         "x": [
          "2021-01-11T00:00:00",
          "2021-02-22T00:00:00",
          "2021-03-06T00:00:00",
          "2021-04-22T00:00:00",
          "2021-05-07T00:00:00",
          "2021-05-19T00:00:00",
          "2021-06-11T00:00:00",
          "2021-06-19T00:00:00",
          "2021-07-20T00:00:00",
          "2021-08-12T00:00:00",
          "2021-08-19T00:00:00",
          "2021-09-13T00:00:00",
          "2021-10-01T00:00:00",
          "2021-11-06T00:00:00",
          "2021-11-10T00:00:00",
          "2021-12-24T00:00:00",
          "2022-01-06T00:00:00",
          "2022-01-16T00:00:00",
          "2022-01-27T00:00:00",
          "2022-02-06T00:00:00",
          "2022-03-20T00:00:00",
          "2022-03-29T00:00:00",
          "2022-04-09T00:00:00",
          "2022-04-24T00:00:00",
          "2022-04-25T00:00:00",
          "2022-06-01T00:00:00",
          "2022-06-18T00:00:00",
          "2022-07-16T00:00:00",
          "2022-07-23T00:00:00",
          "2022-08-06T00:00:00",
          "2022-08-27T00:00:00",
          "2022-10-04T00:00:00",
          "2022-11-06T00:00:00",
          "2023-01-18T00:00:00",
          "2023-02-07T00:00:00",
          "2023-02-08T00:00:00",
          "2023-03-20T00:00:00",
          "2023-04-12T00:00:00",
          "2023-04-22T00:00:00",
          "2023-04-25T00:00:00",
          "2023-05-01T00:00:00",
          "2023-06-08T00:00:00",
          "2023-07-12T00:00:00",
          "2023-07-25T00:00:00",
          "2023-09-20T00:00:00",
          "2023-09-23T00:00:00",
          "2023-12-17T00:00:00",
          "2023-12-27T00:00:00"
         ],
         "y": [
          1,
          1,
          1,
          1,
          1,
          1,
          1,
          1,
          1,
          1,
          1,
          1,
          1,
          1,
          1,
          1,
          1,
          1,
          1,
          1,
          1,
          1,
          1,
          1,
          1,
          1,
          1,
          1,
          1,
          1,
          1,
          1,
          1,
          1,
          1,
          1,
          1,
          1,
          1,
          1,
          1,
          1,
          1,
          1,
          1,
          1,
          1,
          1
         ]
        },
        {
         "hoverinfo": "text",
         "hovertext": [
          "<b>Topic 6</b><br>Words: concussion, , , , ",
          "<b>Topic 6</b><br>Words: concussion, , , , ",
          "<b>Topic 6</b><br>Words: concussion, , , , ",
          "<b>Topic 6</b><br>Words: concussion, , , , ",
          "<b>Topic 6</b><br>Words: concussion, , , , ",
          "<b>Topic 6</b><br>Words: face, , , , ",
          "<b>Topic 6</b><br>Words: concussion, , , , ",
          "<b>Topic 6</b><br>Words: concussion, , , , ",
          "<b>Topic 6</b><br>Words: hemorrhage, , , , ",
          "<b>Topic 6</b><br>Words: fractured skull, , , , ",
          "<b>Topic 6</b><br>Words: fracture, , , , ",
          "<b>Topic 6</b><br>Words: concussion, , , , ",
          "<b>Topic 6</b><br>Words: fractures, , , , ",
          "<b>Topic 6</b><br>Words: concussion, , , , ",
          "<b>Topic 6</b><br>Words: concussion, , , , ",
          "<b>Topic 6</b><br>Words: fracture of skull, , , , ",
          "<b>Topic 6</b><br>Words: calcareous fracture, , , , ",
          "<b>Topic 6</b><br>Words: concussion, , , , ",
          "<b>Topic 6</b><br>Words: concussion, , , , ",
          "<b>Topic 6</b><br>Words: fractures, , , , ",
          "<b>Topic 6</b><br>Words: concussion, , , , ",
          "<b>Topic 6</b><br>Words: laceration, , , , ",
          "<b>Topic 6</b><br>Words: concussion, , , , ",
          "<b>Topic 6</b><br>Words: concussion, , , , ",
          "<b>Topic 6</b><br>Words: vault, , , , ",
          "<b>Topic 6</b><br>Words: traumatic brain injury, , , , ",
          "<b>Topic 6</b><br>Words: concussion, , , , ",
          "<b>Topic 6</b><br>Words: concussion, , , , ",
          "<b>Topic 6</b><br>Words: concussion, , , , ",
          "<b>Topic 6</b><br>Words: concussion, , , , ",
          "<b>Topic 6</b><br>Words: concussion, , , , ",
          "<b>Topic 6</b><br>Words: concussion, , , , ",
          "<b>Topic 6</b><br>Words: fracture, , , , ",
          "<b>Topic 6</b><br>Words: concussion, , , , ",
          "<b>Topic 6</b><br>Words: aorta, , , , ",
          "<b>Topic 6</b><br>Words: concussion, , , , ",
          "<b>Topic 6</b><br>Words: concussion, , , , ",
          "<b>Topic 6</b><br>Words: concussion, , , , ",
          "<b>Topic 6</b><br>Words: concussion, , , , ",
          "<b>Topic 6</b><br>Words: fractures, , , , "
         ],
         "marker": {
          "color": "#CC79A7"
         },
         "mode": "lines",
         "name": "6_concussion___",
         "type": "scatter",
         "x": [
          "2021-01-28T00:00:00",
          "2021-03-10T00:00:00",
          "2021-03-30T00:00:00",
          "2021-05-13T00:00:00",
          "2021-07-29T00:00:00",
          "2021-08-17T00:00:00",
          "2021-08-26T00:00:00",
          "2021-08-30T00:00:00",
          "2021-10-20T00:00:00",
          "2021-10-28T00:00:00",
          "2021-11-18T00:00:00",
          "2021-12-02T00:00:00",
          "2022-02-27T00:00:00",
          "2022-03-01T00:00:00",
          "2022-03-11T00:00:00",
          "2022-04-19T00:00:00",
          "2022-05-15T00:00:00",
          "2022-07-22T00:00:00",
          "2022-07-27T00:00:00",
          "2022-07-28T00:00:00",
          "2022-08-10T00:00:00",
          "2022-08-15T00:00:00",
          "2022-08-29T00:00:00",
          "2022-09-11T00:00:00",
          "2022-09-26T00:00:00",
          "2022-10-17T00:00:00",
          "2022-10-27T00:00:00",
          "2022-11-19T00:00:00",
          "2022-12-17T00:00:00",
          "2022-12-21T00:00:00",
          "2022-12-24T00:00:00",
          "2023-01-17T00:00:00",
          "2023-01-24T00:00:00",
          "2023-03-02T00:00:00",
          "2023-03-17T00:00:00",
          "2023-06-07T00:00:00",
          "2023-08-07T00:00:00",
          "2023-09-05T00:00:00",
          "2023-12-03T00:00:00",
          "2023-12-11T00:00:00"
         ],
         "y": [
          1,
          1,
          1,
          1,
          1,
          1,
          1,
          1,
          1,
          1,
          1,
          2,
          1,
          1,
          1,
          1,
          1,
          1,
          1,
          1,
          1,
          2,
          1,
          1,
          1,
          1,
          1,
          2,
          1,
          1,
          1,
          2,
          1,
          1,
          1,
          1,
          1,
          1,
          1,
          1
         ]
        },
        {
         "hoverinfo": "text",
         "hovertext": [
          "<b>Topic 7</b><br>Words: accident on watercraft, , , , ",
          "<b>Topic 7</b><br>Words: terrorism, , , , ",
          "<b>Topic 7</b><br>Words: motorcycle accident, , , , ",
          "<b>Topic 7</b><br>Words: boarding a plane, , , , ",
          "<b>Topic 7</b><br>Words: accident in water, , , , ",
          "<b>Topic 7</b><br>Words: drowning in water, , , , ",
          "<b>Topic 7</b><br>Words: skier falls in water, , , , ",
          "<b>Topic 7</b><br>Words: a motorcycle, , , , ",
          "<b>Topic 7</b><br>Words: motorcycle, , , , ",
          "<b>Topic 7</b><br>Words: accident in submerged water, , , , ",
          "<b>Topic 7</b><br>Words: a commercial aircraft landing, , , , ",
          "<b>Topic 7</b><br>Words: bungee jumping, , , , ",
          "<b>Topic 7</b><br>Words: drowning, , , , ",
          "<b>Topic 7</b><br>Words: accident causing person to fall from a watercraft, , , , ",
          "<b>Topic 7</b><br>Words: railway submerged in water, , , , ",
          "<b>Topic 7</b><br>Words: a motorcycle, , , , ",
          "<b>Topic 7</b><br>Words: motorcycle, , , , ",
          "<b>Topic 7</b><br>Words: accident on a motorcycle, , , , ",
          "<b>Topic 7</b><br>Words: motorcycle, , , , ",
          "<b>Topic 7</b><br>Words: wrestling, , , , ",
          "<b>Topic 7</b><br>Words: accident in watercraft, , , , ",
          "<b>Topic 7</b><br>Words: accident in watercraft, , , , ",
          "<b>Topic 7</b><br>Words: percussion, , , , ",
          "<b>Topic 7</b><br>Words: bombing, , , , ",
          "<b>Topic 7</b><br>Words: racquet, , , , ",
          "<b>Topic 7</b><br>Words: a parachutist falls from a plane, , , , ",
          "<b>Topic 7</b><br>Words: motorcycle crash, , , , ",
          "<b>Topic 7</b><br>Words: accident on watercraft, , , , ",
          "<b>Topic 7</b><br>Words: suicide, , , , ",
          "<b>Topic 7</b><br>Words: accident in watercraft, , , , ",
          "<b>Topic 7</b><br>Words: rappelling, , , , ",
          "<b>Topic 7</b><br>Words: accident on train, , , , ",
          "<b>Topic 7</b><br>Words: drowning, , , , ",
          "<b>Topic 7</b><br>Words: waterskiing, , , , ",
          "<b>Topic 7</b><br>Words: a motorcycle, , , , ",
          "<b>Topic 7</b><br>Words: accident in water, , , , ",
          "<b>Topic 7</b><br>Words: accident in watercraft, , , , ",
          "<b>Topic 7</b><br>Words: drowning in water, , , , ",
          "<b>Topic 7</b><br>Words: cyclone, , , , ",
          "<b>Topic 7</b><br>Words: accident in which a person falls from a ski, , , , ",
          "<b>Topic 7</b><br>Words: conflagration, , , , ",
          "<b>Topic 7</b><br>Words: underwater diving, , , , "
         ],
         "marker": {
          "color": "#E69F00"
         },
         "mode": "lines",
         "name": "7_drowning in water___",
         "type": "scatter",
         "x": [
          "2021-01-02T00:00:00",
          "2021-01-19T00:00:00",
          "2021-02-20T00:00:00",
          "2021-02-25T00:00:00",
          "2021-04-24T00:00:00",
          "2021-05-12T00:00:00",
          "2021-05-20T00:00:00",
          "2021-08-07T00:00:00",
          "2021-08-22T00:00:00",
          "2021-09-28T00:00:00",
          "2021-10-05T00:00:00",
          "2021-10-28T00:00:00",
          "2021-11-02T00:00:00",
          "2021-11-22T00:00:00",
          "2022-01-08T00:00:00",
          "2022-02-14T00:00:00",
          "2022-02-25T00:00:00",
          "2022-03-04T00:00:00",
          "2022-03-19T00:00:00",
          "2022-04-17T00:00:00",
          "2022-06-13T00:00:00",
          "2022-07-03T00:00:00",
          "2022-07-26T00:00:00",
          "2022-08-18T00:00:00",
          "2022-08-23T00:00:00",
          "2022-10-02T00:00:00",
          "2022-11-20T00:00:00",
          "2023-01-14T00:00:00",
          "2023-01-22T00:00:00",
          "2023-02-10T00:00:00",
          "2023-02-23T00:00:00",
          "2023-03-19T00:00:00",
          "2023-04-03T00:00:00",
          "2023-05-17T00:00:00",
          "2023-05-29T00:00:00",
          "2023-07-08T00:00:00",
          "2023-07-29T00:00:00",
          "2023-08-18T00:00:00",
          "2023-09-12T00:00:00",
          "2023-09-21T00:00:00",
          "2023-10-07T00:00:00",
          "2023-11-27T00:00:00"
         ],
         "y": [
          1,
          1,
          1,
          1,
          1,
          1,
          1,
          1,
          1,
          1,
          1,
          2,
          1,
          1,
          1,
          1,
          1,
          1,
          1,
          1,
          1,
          1,
          1,
          1,
          1,
          1,
          1,
          2,
          1,
          1,
          1,
          1,
          1,
          1,
          1,
          1,
          1,
          1,
          1,
          1,
          1,
          1
         ]
        },
        {
         "hoverinfo": "text",
         "hovertext": [
          "<b>Topic 8</b><br>Words: psychiatric drugs, , , , ",
          "<b>Topic 8</b><br>Words: poisoning, , , , ",
          "<b>Topic 8</b><br>Words: antidiarrheal drugs, , , , ",
          "<b>Topic 8</b><br>Words: hallucinogens, , , , ",
          "<b>Topic 8</b><br>Words: antidepressant, , , , ",
          "<b>Topic 8</b><br>Words: antiemetics, , , , ",
          "<b>Topic 8</b><br>Words: poisoningantidepressant, , , , ",
          "<b>Topic 8</b><br>Words: iodine, , , , ",
          "<b>Topic 8</b><br>Words: pharmacological effects, , , , ",
          "<b>Topic 8</b><br>Words: cyanide, , , , ",
          "<b>Topic 8</b><br>Words: antimicrobials, , , , ",
          "<b>Topic 8</b><br>Words: antimuscarinics, , , , ",
          "<b>Topic 8</b><br>Words: drug, , , , ",
          "<b>Topic 8</b><br>Words: clostridium, , , , ",
          "<b>Topic 8</b><br>Words: poisoning, , , , ",
          "<b>Topic 8</b><br>Words: poisoning, , , , ",
          "<b>Topic 8</b><br>Words: antianemics, , , , ",
          "<b>Topic 8</b><br>Words: globulin, , , , ",
          "<b>Topic 8</b><br>Words: erythromycin, , , , ",
          "<b>Topic 8</b><br>Words: pharmacological agents, , , , ",
          "<b>Topic 8</b><br>Words: antiemetics, , , , ",
          "<b>Topic 8</b><br>Words: aqueous solution, , , , ",
          "<b>Topic 8</b><br>Words: antiinfectives, , , , ",
          "<b>Topic 8</b><br>Words: poisoning, , , , ",
          "<b>Topic 8</b><br>Words: anticoagulants, , , , ",
          "<b>Topic 8</b><br>Words: psychedelics, , , , ",
          "<b>Topic 8</b><br>Words: ethyl alcohol, , , , ",
          "<b>Topic 8</b><br>Words: aspirin, , , , ",
          "<b>Topic 8</b><br>Words: antiemetics, , , , ",
          "<b>Topic 8</b><br>Words: poisoning, , , , ",
          "<b>Topic 8</b><br>Words: poisoning, , , , ",
          "<b>Topic 8</b><br>Words: drug, , , , ",
          "<b>Topic 8</b><br>Words: antiemetics, , , , ",
          "<b>Topic 8</b><br>Words: emetics, , , , ",
          "<b>Topic 8</b><br>Words: heroin, , , , "
         ],
         "marker": {
          "color": "#56B4E9"
         },
         "mode": "lines",
         "name": "8_poisoning___",
         "type": "scatter",
         "x": [
          "2021-03-07T00:00:00",
          "2021-03-21T00:00:00",
          "2021-03-23T00:00:00",
          "2021-03-31T00:00:00",
          "2021-04-06T00:00:00",
          "2021-05-06T00:00:00",
          "2021-05-13T00:00:00",
          "2021-05-16T00:00:00",
          "2021-07-07T00:00:00",
          "2021-07-29T00:00:00",
          "2021-09-25T00:00:00",
          "2021-10-01T00:00:00",
          "2021-10-05T00:00:00",
          "2021-10-26T00:00:00",
          "2021-11-23T00:00:00",
          "2022-06-26T00:00:00",
          "2022-07-06T00:00:00",
          "2022-07-25T00:00:00",
          "2022-08-03T00:00:00",
          "2022-08-08T00:00:00",
          "2022-08-20T00:00:00",
          "2022-08-31T00:00:00",
          "2022-09-29T00:00:00",
          "2022-10-25T00:00:00",
          "2022-11-22T00:00:00",
          "2022-11-23T00:00:00",
          "2022-12-01T00:00:00",
          "2022-12-13T00:00:00",
          "2023-04-09T00:00:00",
          "2023-05-09T00:00:00",
          "2023-05-14T00:00:00",
          "2023-07-02T00:00:00",
          "2023-07-05T00:00:00",
          "2023-09-09T00:00:00",
          "2023-10-09T00:00:00"
         ],
         "y": [
          1,
          1,
          1,
          1,
          1,
          1,
          2,
          1,
          1,
          1,
          1,
          1,
          1,
          1,
          1,
          1,
          1,
          1,
          1,
          1,
          1,
          1,
          1,
          1,
          1,
          1,
          1,
          1,
          1,
          1,
          1,
          1,
          1,
          1,
          1
         ]
        },
        {
         "hoverinfo": "text",
         "hovertext": [
          "<b>Topic 9</b><br>Words: cardiomyopathy, , , , ",
          "<b>Topic 9</b><br>Words: aortic valve, , , , ",
          "<b>Topic 9</b><br>Words: aortic stenosis, , , , ",
          "<b>Topic 9</b><br>Words: cardiomyopathy, , , , ",
          "<b>Topic 9</b><br>Words: cardiac, , , , ",
          "<b>Topic 9</b><br>Words: aldosteronism, , , , ",
          "<b>Topic 9</b><br>Words: aldosterone, , , , ",
          "<b>Topic 9</b><br>Words: catheterization, , , , ",
          "<b>Topic 9</b><br>Words: aldosterone, , , , ",
          "<b>Topic 9</b><br>Words: aldosterone, , , , ",
          "<b>Topic 9</b><br>Words: cardiomyopathy, , , , ",
          "<b>Topic 9</b><br>Words: heart disease, , , , ",
          "<b>Topic 9</b><br>Words: aldosteronism, , , , ",
          "<b>Topic 9</b><br>Words: cardiomyopathy, , , , ",
          "<b>Topic 9</b><br>Words: aldosterone, , , , ",
          "<b>Topic 9</b><br>Words: cardiomyopathy, , , , ",
          "<b>Topic 9</b><br>Words: aortocoronary, , , , ",
          "<b>Topic 9</b><br>Words: cardiomyopathy, , , , ",
          "<b>Topic 9</b><br>Words: heart failure, , , , ",
          "<b>Topic 9</b><br>Words: heart failure, , , , ",
          "<b>Topic 9</b><br>Words: stenosis of the heart, , , , ",
          "<b>Topic 9</b><br>Words: cardiomyopathy, , , , ",
          "<b>Topic 9</b><br>Words: heart disease, , , , ",
          "<b>Topic 9</b><br>Words: heart failure, , , , ",
          "<b>Topic 9</b><br>Words: cardiomyopathy, , , , "
         ],
         "marker": {
          "color": "#009E73"
         },
         "mode": "lines",
         "name": "9_aldosterone___",
         "type": "scatter",
         "x": [
          "2021-04-09T00:00:00",
          "2021-05-16T00:00:00",
          "2021-07-26T00:00:00",
          "2021-08-13T00:00:00",
          "2021-10-09T00:00:00",
          "2021-10-12T00:00:00",
          "2021-11-17T00:00:00",
          "2022-01-12T00:00:00",
          "2022-03-22T00:00:00",
          "2022-04-23T00:00:00",
          "2022-05-03T00:00:00",
          "2022-06-19T00:00:00",
          "2022-07-14T00:00:00",
          "2022-09-03T00:00:00",
          "2022-09-20T00:00:00",
          "2022-10-13T00:00:00",
          "2022-12-22T00:00:00",
          "2023-01-31T00:00:00",
          "2023-03-19T00:00:00",
          "2023-07-06T00:00:00",
          "2023-08-03T00:00:00",
          "2023-10-16T00:00:00",
          "2023-11-08T00:00:00",
          "2023-11-10T00:00:00",
          "2023-11-29T00:00:00"
         ],
         "y": [
          1,
          1,
          1,
          1,
          1,
          1,
          1,
          1,
          1,
          2,
          1,
          1,
          1,
          1,
          1,
          1,
          1,
          1,
          1,
          1,
          1,
          1,
          1,
          1,
          1
         ]
        },
        {
         "hoverinfo": "text",
         "hovertext": [
          "<b>Topic 10</b><br>Words: abrasion, , , , ",
          "<b>Topic 10</b><br>Words: abrasion, , , , ",
          "<b>Topic 10</b><br>Words: abrasion, , , , ",
          "<b>Topic 10</b><br>Words: abrasion, , , , ",
          "<b>Topic 10</b><br>Words: dermatitis, , , , ",
          "<b>Topic 10</b><br>Words: eczema, , , , ",
          "<b>Topic 10</b><br>Words: abrasion, , , , ",
          "<b>Topic 10</b><br>Words: abrasion, , , , ",
          "<b>Topic 10</b><br>Words: burns, , , , ",
          "<b>Topic 10</b><br>Words: dermatitis, , , , ",
          "<b>Topic 10</b><br>Words: abrasion, , , , ",
          "<b>Topic 10</b><br>Words: burn, , , , ",
          "<b>Topic 10</b><br>Words: burn, , , , ",
          "<b>Topic 10</b><br>Words: burn, , , , ",
          "<b>Topic 10</b><br>Words: burns, , , , ",
          "<b>Topic 10</b><br>Words: abrasion, , , , ",
          "<b>Topic 10</b><br>Words: burn, , , , ",
          "<b>Topic 10</b><br>Words: necrolysis, , , , ",
          "<b>Topic 10</b><br>Words: abrasion, , , , ",
          "<b>Topic 10</b><br>Words: rosacea, , , , ",
          "<b>Topic 10</b><br>Words: erythematous burn, , , , ",
          "<b>Topic 10</b><br>Words: abrasion, , , , ",
          "<b>Topic 10</b><br>Words: abrasion, , , , ",
          "<b>Topic 10</b><br>Words: abrasion, , , , ",
          "<b>Topic 10</b><br>Words: blisters, , , , "
         ],
         "marker": {
          "color": "#F0E442"
         },
         "mode": "lines",
         "name": "10_burn___",
         "type": "scatter",
         "x": [
          "2021-02-01T00:00:00",
          "2021-03-06T00:00:00",
          "2021-04-25T00:00:00",
          "2021-06-26T00:00:00",
          "2021-08-11T00:00:00",
          "2021-09-29T00:00:00",
          "2021-11-19T00:00:00",
          "2021-12-25T00:00:00",
          "2022-01-08T00:00:00",
          "2022-03-16T00:00:00",
          "2022-09-07T00:00:00",
          "2022-09-28T00:00:00",
          "2022-10-09T00:00:00",
          "2022-11-07T00:00:00",
          "2022-11-28T00:00:00",
          "2023-01-16T00:00:00",
          "2023-03-18T00:00:00",
          "2023-06-17T00:00:00",
          "2023-07-19T00:00:00",
          "2023-09-22T00:00:00",
          "2023-10-28T00:00:00",
          "2023-11-13T00:00:00",
          "2023-12-03T00:00:00",
          "2023-12-08T00:00:00",
          "2023-12-15T00:00:00"
         ],
         "y": [
          1,
          1,
          1,
          1,
          1,
          1,
          1,
          1,
          1,
          1,
          1,
          1,
          1,
          1,
          1,
          1,
          1,
          1,
          1,
          1,
          1,
          1,
          1,
          1,
          1
         ]
        },
        {
         "hoverinfo": "text",
         "hovertext": [
          "<b>Topic 11</b><br>Words: pylori, , , , ",
          "<b>Topic 11</b><br>Words: gastroduodenitis, , , , ",
          "<b>Topic 11</b><br>Words: helicobacter, , , , ",
          "<b>Topic 11</b><br>Words: angiodysplasia, , , , ",
          "<b>Topic 11</b><br>Words: gastroduodenitis, , , , ",
          "<b>Topic 11</b><br>Words: gastroduodenitis, , , , ",
          "<b>Topic 11</b><br>Words: gastroduodenitis, , , , ",
          "<b>Topic 11</b><br>Words: gastroduodenitis, , , , ",
          "<b>Topic 11</b><br>Words: gastroduodenitis, , , , ",
          "<b>Topic 11</b><br>Words: pylori, , , , ",
          "<b>Topic 11</b><br>Words: ulcerative colitis, , , , ",
          "<b>Topic 11</b><br>Words: helicobacter, , , , ",
          "<b>Topic 11</b><br>Words: gastroduodenitis, , , , ",
          "<b>Topic 11</b><br>Words: pylori, , , , ",
          "<b>Topic 11</b><br>Words: gastroduodenitis, , , , ",
          "<b>Topic 11</b><br>Words: pylori, , , , ",
          "<b>Topic 11</b><br>Words: gastroduodenitis, , , , ",
          "<b>Topic 11</b><br>Words: gastroduodenitis, , , , ",
          "<b>Topic 11</b><br>Words: ulcer, , , , ",
          "<b>Topic 11</b><br>Words: pylori, , , , ",
          "<b>Topic 11</b><br>Words: gastroduodenitis, , , , ",
          "<b>Topic 11</b><br>Words: gastroduodenitis, , , , ",
          "<b>Topic 11</b><br>Words: gastroduodenitis, , , , "
         ],
         "marker": {
          "color": "#D55E00"
         },
         "mode": "lines",
         "name": "11_ulcer___",
         "type": "scatter",
         "x": [
          "2021-03-01T00:00:00",
          "2021-06-09T00:00:00",
          "2021-07-20T00:00:00",
          "2021-11-16T00:00:00",
          "2021-11-30T00:00:00",
          "2021-12-06T00:00:00",
          "2021-12-18T00:00:00",
          "2022-01-26T00:00:00",
          "2022-04-12T00:00:00",
          "2022-04-22T00:00:00",
          "2022-06-14T00:00:00",
          "2022-07-28T00:00:00",
          "2022-09-20T00:00:00",
          "2022-10-15T00:00:00",
          "2023-05-09T00:00:00",
          "2023-06-11T00:00:00",
          "2023-07-15T00:00:00",
          "2023-07-29T00:00:00",
          "2023-08-16T00:00:00",
          "2023-09-18T00:00:00",
          "2023-10-03T00:00:00",
          "2023-10-15T00:00:00",
          "2023-11-21T00:00:00"
         ],
         "y": [
          1,
          1,
          2,
          1,
          1,
          1,
          1,
          1,
          1,
          1,
          1,
          1,
          1,
          1,
          1,
          1,
          1,
          1,
          1,
          1,
          1,
          1,
          1
         ]
        },
        {
         "hoverinfo": "text",
         "hovertext": [
          "<b>Topic 12</b><br>Words: nephroptosis, , , , ",
          "<b>Topic 12</b><br>Words: nephroptosis, , , , ",
          "<b>Topic 12</b><br>Words: nephroptosis, , , , ",
          "<b>Topic 12</b><br>Words: nephroptosis, , , , ",
          "<b>Topic 12</b><br>Words: nephroptosis, , , , ",
          "<b>Topic 12</b><br>Words: nephroptosis, , , , ",
          "<b>Topic 12</b><br>Words: nephroptosis, , , , ",
          "<b>Topic 12</b><br>Words: nephroptosis, , , , ",
          "<b>Topic 12</b><br>Words: nephroptosis, , , , ",
          "<b>Topic 12</b><br>Words: nephroptosis, , , , ",
          "<b>Topic 12</b><br>Words: nephroptosis, , , , ",
          "<b>Topic 12</b><br>Words: nephroptosis, , , , ",
          "<b>Topic 12</b><br>Words: nephroptosis, , , , ",
          "<b>Topic 12</b><br>Words: nephroptosis, , , , ",
          "<b>Topic 12</b><br>Words: nephroptosis, , , , ",
          "<b>Topic 12</b><br>Words: nephroptosis, , , , "
         ],
         "marker": {
          "color": "#0072B2"
         },
         "mode": "lines",
         "name": "12_nephroptosis___",
         "type": "scatter",
         "x": [
          "2021-04-03T00:00:00",
          "2021-07-14T00:00:00",
          "2021-11-11T00:00:00",
          "2022-02-10T00:00:00",
          "2022-03-17T00:00:00",
          "2022-03-25T00:00:00",
          "2022-03-27T00:00:00",
          "2022-04-22T00:00:00",
          "2022-05-11T00:00:00",
          "2022-09-04T00:00:00",
          "2022-11-11T00:00:00",
          "2023-03-17T00:00:00",
          "2023-03-22T00:00:00",
          "2023-05-10T00:00:00",
          "2023-09-01T00:00:00",
          "2023-11-23T00:00:00"
         ],
         "y": [
          1,
          1,
          1,
          1,
          1,
          1,
          1,
          1,
          1,
          1,
          1,
          1,
          1,
          1,
          1,
          1
         ]
        },
        {
         "hoverinfo": "text",
         "hovertext": [
          "<b>Topic 13</b><br>Words: choroid distrophy, , , , ",
          "<b>Topic 13</b><br>Words: chondrodystrophy, , , , ",
          "<b>Topic 13</b><br>Words: choroid, , , , ",
          "<b>Topic 13</b><br>Words: chondrodystrophy, , , , ",
          "<b>Topic 13</b><br>Words: chondrodystrophy, , , , ",
          "<b>Topic 13</b><br>Words: choroid, , , , ",
          "<b>Topic 13</b><br>Words: choroid distrophy, , , , ",
          "<b>Topic 13</b><br>Words: mastoiditis, , , , ",
          "<b>Topic 13</b><br>Words: choroid dystrophy, , , , ",
          "<b>Topic 13</b><br>Words: choroid, , , , ",
          "<b>Topic 13</b><br>Words: chondrocalcinosis, , , , ",
          "<b>Topic 13</b><br>Words: choroid, , , , ",
          "<b>Topic 13</b><br>Words: chondrodystrophy, , , , ",
          "<b>Topic 13</b><br>Words: chondrocalcinosis, , , , ",
          "<b>Topic 13</b><br>Words: choroid dystrophy, , , , "
         ],
         "marker": {
          "color": "#CC79A7"
         },
         "mode": "lines",
         "name": "13_chondrocalcinosis___",
         "type": "scatter",
         "x": [
          "2021-02-24T00:00:00",
          "2021-04-06T00:00:00",
          "2021-04-17T00:00:00",
          "2021-08-08T00:00:00",
          "2021-09-27T00:00:00",
          "2021-11-17T00:00:00",
          "2022-03-07T00:00:00",
          "2022-03-09T00:00:00",
          "2022-08-13T00:00:00",
          "2022-09-24T00:00:00",
          "2022-10-06T00:00:00",
          "2022-10-19T00:00:00",
          "2023-01-24T00:00:00",
          "2023-04-10T00:00:00",
          "2023-12-10T00:00:00"
         ],
         "y": [
          1,
          1,
          1,
          1,
          1,
          1,
          1,
          1,
          1,
          1,
          1,
          1,
          1,
          1,
          1
         ]
        },
        {
         "hoverinfo": "text",
         "hovertext": [
          "<b>Topic 14</b><br>Words: edentulism, , , , ",
          "<b>Topic 14</b><br>Words: periodontitis, , , , ",
          "<b>Topic 14</b><br>Words: dental edentulism, , , , ",
          "<b>Topic 14</b><br>Words: dental ridge, , , , ",
          "<b>Topic 14</b><br>Words: edentulism, , , , ",
          "<b>Topic 14</b><br>Words: edentulism, , , , ",
          "<b>Topic 14</b><br>Words: dental ridge, , , , ",
          "<b>Topic 14</b><br>Words: dental ridge, , , , ",
          "<b>Topic 14</b><br>Words: edentulism, , , , ",
          "<b>Topic 14</b><br>Words: dental disorder, , , , ",
          "<b>Topic 14</b><br>Words: edentulism, , , , ",
          "<b>Topic 14</b><br>Words: edentulism, , , , ",
          "<b>Topic 14</b><br>Words: periodontitis, , , , ",
          "<b>Topic 14</b><br>Words: edentulism, , , , "
         ],
         "marker": {
          "color": "#E69F00"
         },
         "mode": "lines",
         "name": "14_dental edentulism___",
         "type": "scatter",
         "x": [
          "2021-03-01T00:00:00",
          "2021-08-08T00:00:00",
          "2022-04-09T00:00:00",
          "2022-05-15T00:00:00",
          "2022-09-03T00:00:00",
          "2022-09-10T00:00:00",
          "2022-09-22T00:00:00",
          "2022-10-01T00:00:00",
          "2022-10-09T00:00:00",
          "2022-12-03T00:00:00",
          "2023-03-05T00:00:00",
          "2023-03-29T00:00:00",
          "2023-03-31T00:00:00",
          "2023-10-04T00:00:00"
         ],
         "y": [
          1,
          1,
          1,
          1,
          1,
          1,
          1,
          1,
          1,
          1,
          1,
          1,
          1,
          1
         ]
        },
        {
         "hoverinfo": "text",
         "hovertext": [
          "<b>Topic 15</b><br>Words: drug abuse, , , , ",
          "<b>Topic 15</b><br>Words: drug, , , , ",
          "<b>Topic 15</b><br>Words: drug abuse, , , , ",
          "<b>Topic 15</b><br>Words: drug addiction, , , , ",
          "<b>Topic 15</b><br>Words: cannabis, , , , ",
          "<b>Topic 15</b><br>Words: drug, , , , ",
          "<b>Topic 15</b><br>Words: drug dependency, , , , ",
          "<b>Topic 15</b><br>Words: drug, , , , ",
          "<b>Topic 15</b><br>Words: cannabis, , , , ",
          "<b>Topic 15</b><br>Words: drug dependency, , , , ",
          "<b>Topic 15</b><br>Words: drug, , , , "
         ],
         "marker": {
          "color": "#56B4E9"
         },
         "mode": "lines",
         "name": "15_drug___",
         "type": "scatter",
         "x": [
          "2021-07-15T00:00:00",
          "2021-09-20T00:00:00",
          "2021-12-01T00:00:00",
          "2022-02-15T00:00:00",
          "2022-06-22T00:00:00",
          "2022-08-23T00:00:00",
          "2022-11-02T00:00:00",
          "2023-01-28T00:00:00",
          "2023-02-02T00:00:00",
          "2023-10-13T00:00:00",
          "2023-11-25T00:00:00"
         ],
         "y": [
          1,
          1,
          1,
          1,
          1,
          1,
          1,
          1,
          1,
          1,
          1
         ]
        },
        {
         "hoverinfo": "text",
         "hovertext": [
          "<b>Topic 16</b><br>Words: lymphosarcoma, , , , ",
          "<b>Topic 16</b><br>Words: lymphosarcoma, , , , ",
          "<b>Topic 16</b><br>Words: lymphosarcoma, , , , ",
          "<b>Topic 16</b><br>Words: lymphosarcoma, , , , ",
          "<b>Topic 16</b><br>Words: lymphosarcoma, , , , ",
          "<b>Topic 16</b><br>Words: lymphosarcoma, , , , ",
          "<b>Topic 16</b><br>Words: lymphosarcoma, , , , ",
          "<b>Topic 16</b><br>Words: sarcoma, , , , ",
          "<b>Topic 16</b><br>Words: lymphosarcoma, , , , ",
          "<b>Topic 16</b><br>Words: leukemia, , , , ",
          "<b>Topic 16</b><br>Words: lymphosarcoma, , , , "
         ],
         "marker": {
          "color": "#009E73"
         },
         "mode": "lines",
         "name": "16_lymphosarcoma___",
         "type": "scatter",
         "x": [
          "2021-01-10T00:00:00",
          "2021-05-30T00:00:00",
          "2022-01-11T00:00:00",
          "2022-01-20T00:00:00",
          "2022-01-27T00:00:00",
          "2022-08-04T00:00:00",
          "2022-08-08T00:00:00",
          "2022-10-28T00:00:00",
          "2022-12-19T00:00:00",
          "2023-09-04T00:00:00",
          "2023-11-07T00:00:00"
         ],
         "y": [
          1,
          1,
          1,
          1,
          1,
          1,
          1,
          1,
          1,
          1,
          1
         ]
        },
        {
         "hoverinfo": "text",
         "hovertext": [
          "<b>Topic 17</b><br>Words: postoperative lumbar stenosis, , , , ",
          "<b>Topic 17</b><br>Words: postoperative lumbar hypersomnia, , , , ",
          "<b>Topic 17</b><br>Words: postlaminectomy, , , , ",
          "<b>Topic 17</b><br>Words: hypersomnia, , , , ",
          "<b>Topic 17</b><br>Words: postoperative lumbar parasomnia, , , , ",
          "<b>Topic 17</b><br>Words: postlaminectomy, , , , ",
          "<b>Topic 17</b><br>Words: postlaminectomy, , , , ",
          "<b>Topic 17</b><br>Words: parasomnia, , , , ",
          "<b>Topic 17</b><br>Words: postthoracotomy, , , , ",
          "<b>Topic 17</b><br>Words: postlaminectomy, , , , "
         ],
         "marker": {
          "color": "#F0E442"
         },
         "mode": "lines",
         "name": "17_postlaminectomy___",
         "type": "scatter",
         "x": [
          "2021-02-18T00:00:00",
          "2021-03-17T00:00:00",
          "2021-07-09T00:00:00",
          "2021-08-10T00:00:00",
          "2021-10-30T00:00:00",
          "2021-11-13T00:00:00",
          "2022-01-31T00:00:00",
          "2022-03-06T00:00:00",
          "2023-05-18T00:00:00",
          "2023-07-25T00:00:00"
         ],
         "y": [
          1,
          1,
          1,
          1,
          1,
          1,
          1,
          1,
          2,
          1
         ]
        }
       ],
       "layout": {
        "height": 450,
        "hoverlabel": {
         "bgcolor": "white",
         "font": {
          "family": "Rockwell",
          "size": 16
         }
        },
        "legend": {
         "title": {
          "text": "<b>Global Topic Representation"
         }
        },
        "template": {
         "data": {
          "bar": [
           {
            "error_x": {
             "color": "rgb(36,36,36)"
            },
            "error_y": {
             "color": "rgb(36,36,36)"
            },
            "marker": {
             "line": {
              "color": "white",
              "width": 0.5
             },
             "pattern": {
              "fillmode": "overlay",
              "size": 10,
              "solidity": 0.2
             }
            },
            "type": "bar"
           }
          ],
          "barpolar": [
           {
            "marker": {
             "line": {
              "color": "white",
              "width": 0.5
             },
             "pattern": {
              "fillmode": "overlay",
              "size": 10,
              "solidity": 0.2
             }
            },
            "type": "barpolar"
           }
          ],
          "carpet": [
           {
            "aaxis": {
             "endlinecolor": "rgb(36,36,36)",
             "gridcolor": "white",
             "linecolor": "white",
             "minorgridcolor": "white",
             "startlinecolor": "rgb(36,36,36)"
            },
            "baxis": {
             "endlinecolor": "rgb(36,36,36)",
             "gridcolor": "white",
             "linecolor": "white",
             "minorgridcolor": "white",
             "startlinecolor": "rgb(36,36,36)"
            },
            "type": "carpet"
           }
          ],
          "choropleth": [
           {
            "colorbar": {
             "outlinewidth": 1,
             "tickcolor": "rgb(36,36,36)",
             "ticks": "outside"
            },
            "type": "choropleth"
           }
          ],
          "contour": [
           {
            "colorbar": {
             "outlinewidth": 1,
             "tickcolor": "rgb(36,36,36)",
             "ticks": "outside"
            },
            "colorscale": [
             [
              0,
              "#440154"
             ],
             [
              0.1111111111111111,
              "#482878"
             ],
             [
              0.2222222222222222,
              "#3e4989"
             ],
             [
              0.3333333333333333,
              "#31688e"
             ],
             [
              0.4444444444444444,
              "#26828e"
             ],
             [
              0.5555555555555556,
              "#1f9e89"
             ],
             [
              0.6666666666666666,
              "#35b779"
             ],
             [
              0.7777777777777778,
              "#6ece58"
             ],
             [
              0.8888888888888888,
              "#b5de2b"
             ],
             [
              1,
              "#fde725"
             ]
            ],
            "type": "contour"
           }
          ],
          "contourcarpet": [
           {
            "colorbar": {
             "outlinewidth": 1,
             "tickcolor": "rgb(36,36,36)",
             "ticks": "outside"
            },
            "type": "contourcarpet"
           }
          ],
          "heatmap": [
           {
            "colorbar": {
             "outlinewidth": 1,
             "tickcolor": "rgb(36,36,36)",
             "ticks": "outside"
            },
            "colorscale": [
             [
              0,
              "#440154"
             ],
             [
              0.1111111111111111,
              "#482878"
             ],
             [
              0.2222222222222222,
              "#3e4989"
             ],
             [
              0.3333333333333333,
              "#31688e"
             ],
             [
              0.4444444444444444,
              "#26828e"
             ],
             [
              0.5555555555555556,
              "#1f9e89"
             ],
             [
              0.6666666666666666,
              "#35b779"
             ],
             [
              0.7777777777777778,
              "#6ece58"
             ],
             [
              0.8888888888888888,
              "#b5de2b"
             ],
             [
              1,
              "#fde725"
             ]
            ],
            "type": "heatmap"
           }
          ],
          "heatmapgl": [
           {
            "colorbar": {
             "outlinewidth": 1,
             "tickcolor": "rgb(36,36,36)",
             "ticks": "outside"
            },
            "colorscale": [
             [
              0,
              "#440154"
             ],
             [
              0.1111111111111111,
              "#482878"
             ],
             [
              0.2222222222222222,
              "#3e4989"
             ],
             [
              0.3333333333333333,
              "#31688e"
             ],
             [
              0.4444444444444444,
              "#26828e"
             ],
             [
              0.5555555555555556,
              "#1f9e89"
             ],
             [
              0.6666666666666666,
              "#35b779"
             ],
             [
              0.7777777777777778,
              "#6ece58"
             ],
             [
              0.8888888888888888,
              "#b5de2b"
             ],
             [
              1,
              "#fde725"
             ]
            ],
            "type": "heatmapgl"
           }
          ],
          "histogram": [
           {
            "marker": {
             "line": {
              "color": "white",
              "width": 0.6
             }
            },
            "type": "histogram"
           }
          ],
          "histogram2d": [
           {
            "colorbar": {
             "outlinewidth": 1,
             "tickcolor": "rgb(36,36,36)",
             "ticks": "outside"
            },
            "colorscale": [
             [
              0,
              "#440154"
             ],
             [
              0.1111111111111111,
              "#482878"
             ],
             [
              0.2222222222222222,
              "#3e4989"
             ],
             [
              0.3333333333333333,
              "#31688e"
             ],
             [
              0.4444444444444444,
              "#26828e"
             ],
             [
              0.5555555555555556,
              "#1f9e89"
             ],
             [
              0.6666666666666666,
              "#35b779"
             ],
             [
              0.7777777777777778,
              "#6ece58"
             ],
             [
              0.8888888888888888,
              "#b5de2b"
             ],
             [
              1,
              "#fde725"
             ]
            ],
            "type": "histogram2d"
           }
          ],
          "histogram2dcontour": [
           {
            "colorbar": {
             "outlinewidth": 1,
             "tickcolor": "rgb(36,36,36)",
             "ticks": "outside"
            },
            "colorscale": [
             [
              0,
              "#440154"
             ],
             [
              0.1111111111111111,
              "#482878"
             ],
             [
              0.2222222222222222,
              "#3e4989"
             ],
             [
              0.3333333333333333,
              "#31688e"
             ],
             [
              0.4444444444444444,
              "#26828e"
             ],
             [
              0.5555555555555556,
              "#1f9e89"
             ],
             [
              0.6666666666666666,
              "#35b779"
             ],
             [
              0.7777777777777778,
              "#6ece58"
             ],
             [
              0.8888888888888888,
              "#b5de2b"
             ],
             [
              1,
              "#fde725"
             ]
            ],
            "type": "histogram2dcontour"
           }
          ],
          "mesh3d": [
           {
            "colorbar": {
             "outlinewidth": 1,
             "tickcolor": "rgb(36,36,36)",
             "ticks": "outside"
            },
            "type": "mesh3d"
           }
          ],
          "parcoords": [
           {
            "line": {
             "colorbar": {
              "outlinewidth": 1,
              "tickcolor": "rgb(36,36,36)",
              "ticks": "outside"
             }
            },
            "type": "parcoords"
           }
          ],
          "pie": [
           {
            "automargin": true,
            "type": "pie"
           }
          ],
          "scatter": [
           {
            "fillpattern": {
             "fillmode": "overlay",
             "size": 10,
             "solidity": 0.2
            },
            "type": "scatter"
           }
          ],
          "scatter3d": [
           {
            "line": {
             "colorbar": {
              "outlinewidth": 1,
              "tickcolor": "rgb(36,36,36)",
              "ticks": "outside"
             }
            },
            "marker": {
             "colorbar": {
              "outlinewidth": 1,
              "tickcolor": "rgb(36,36,36)",
              "ticks": "outside"
             }
            },
            "type": "scatter3d"
           }
          ],
          "scattercarpet": [
           {
            "marker": {
             "colorbar": {
              "outlinewidth": 1,
              "tickcolor": "rgb(36,36,36)",
              "ticks": "outside"
             }
            },
            "type": "scattercarpet"
           }
          ],
          "scattergeo": [
           {
            "marker": {
             "colorbar": {
              "outlinewidth": 1,
              "tickcolor": "rgb(36,36,36)",
              "ticks": "outside"
             }
            },
            "type": "scattergeo"
           }
          ],
          "scattergl": [
           {
            "marker": {
             "colorbar": {
              "outlinewidth": 1,
              "tickcolor": "rgb(36,36,36)",
              "ticks": "outside"
             }
            },
            "type": "scattergl"
           }
          ],
          "scattermapbox": [
           {
            "marker": {
             "colorbar": {
              "outlinewidth": 1,
              "tickcolor": "rgb(36,36,36)",
              "ticks": "outside"
             }
            },
            "type": "scattermapbox"
           }
          ],
          "scatterpolar": [
           {
            "marker": {
             "colorbar": {
              "outlinewidth": 1,
              "tickcolor": "rgb(36,36,36)",
              "ticks": "outside"
             }
            },
            "type": "scatterpolar"
           }
          ],
          "scatterpolargl": [
           {
            "marker": {
             "colorbar": {
              "outlinewidth": 1,
              "tickcolor": "rgb(36,36,36)",
              "ticks": "outside"
             }
            },
            "type": "scatterpolargl"
           }
          ],
          "scatterternary": [
           {
            "marker": {
             "colorbar": {
              "outlinewidth": 1,
              "tickcolor": "rgb(36,36,36)",
              "ticks": "outside"
             }
            },
            "type": "scatterternary"
           }
          ],
          "surface": [
           {
            "colorbar": {
             "outlinewidth": 1,
             "tickcolor": "rgb(36,36,36)",
             "ticks": "outside"
            },
            "colorscale": [
             [
              0,
              "#440154"
             ],
             [
              0.1111111111111111,
              "#482878"
             ],
             [
              0.2222222222222222,
              "#3e4989"
             ],
             [
              0.3333333333333333,
              "#31688e"
             ],
             [
              0.4444444444444444,
              "#26828e"
             ],
             [
              0.5555555555555556,
              "#1f9e89"
             ],
             [
              0.6666666666666666,
              "#35b779"
             ],
             [
              0.7777777777777778,
              "#6ece58"
             ],
             [
              0.8888888888888888,
              "#b5de2b"
             ],
             [
              1,
              "#fde725"
             ]
            ],
            "type": "surface"
           }
          ],
          "table": [
           {
            "cells": {
             "fill": {
              "color": "rgb(237,237,237)"
             },
             "line": {
              "color": "white"
             }
            },
            "header": {
             "fill": {
              "color": "rgb(217,217,217)"
             },
             "line": {
              "color": "white"
             }
            },
            "type": "table"
           }
          ]
         },
         "layout": {
          "annotationdefaults": {
           "arrowhead": 0,
           "arrowwidth": 1
          },
          "autotypenumbers": "strict",
          "coloraxis": {
           "colorbar": {
            "outlinewidth": 1,
            "tickcolor": "rgb(36,36,36)",
            "ticks": "outside"
           }
          },
          "colorscale": {
           "diverging": [
            [
             0,
             "rgb(103,0,31)"
            ],
            [
             0.1,
             "rgb(178,24,43)"
            ],
            [
             0.2,
             "rgb(214,96,77)"
            ],
            [
             0.3,
             "rgb(244,165,130)"
            ],
            [
             0.4,
             "rgb(253,219,199)"
            ],
            [
             0.5,
             "rgb(247,247,247)"
            ],
            [
             0.6,
             "rgb(209,229,240)"
            ],
            [
             0.7,
             "rgb(146,197,222)"
            ],
            [
             0.8,
             "rgb(67,147,195)"
            ],
            [
             0.9,
             "rgb(33,102,172)"
            ],
            [
             1,
             "rgb(5,48,97)"
            ]
           ],
           "sequential": [
            [
             0,
             "#440154"
            ],
            [
             0.1111111111111111,
             "#482878"
            ],
            [
             0.2222222222222222,
             "#3e4989"
            ],
            [
             0.3333333333333333,
             "#31688e"
            ],
            [
             0.4444444444444444,
             "#26828e"
            ],
            [
             0.5555555555555556,
             "#1f9e89"
            ],
            [
             0.6666666666666666,
             "#35b779"
            ],
            [
             0.7777777777777778,
             "#6ece58"
            ],
            [
             0.8888888888888888,
             "#b5de2b"
            ],
            [
             1,
             "#fde725"
            ]
           ],
           "sequentialminus": [
            [
             0,
             "#440154"
            ],
            [
             0.1111111111111111,
             "#482878"
            ],
            [
             0.2222222222222222,
             "#3e4989"
            ],
            [
             0.3333333333333333,
             "#31688e"
            ],
            [
             0.4444444444444444,
             "#26828e"
            ],
            [
             0.5555555555555556,
             "#1f9e89"
            ],
            [
             0.6666666666666666,
             "#35b779"
            ],
            [
             0.7777777777777778,
             "#6ece58"
            ],
            [
             0.8888888888888888,
             "#b5de2b"
            ],
            [
             1,
             "#fde725"
            ]
           ]
          },
          "colorway": [
           "#1F77B4",
           "#FF7F0E",
           "#2CA02C",
           "#D62728",
           "#9467BD",
           "#8C564B",
           "#E377C2",
           "#7F7F7F",
           "#BCBD22",
           "#17BECF"
          ],
          "font": {
           "color": "rgb(36,36,36)"
          },
          "geo": {
           "bgcolor": "white",
           "lakecolor": "white",
           "landcolor": "white",
           "showlakes": true,
           "showland": true,
           "subunitcolor": "white"
          },
          "hoverlabel": {
           "align": "left"
          },
          "hovermode": "closest",
          "mapbox": {
           "style": "light"
          },
          "paper_bgcolor": "white",
          "plot_bgcolor": "white",
          "polar": {
           "angularaxis": {
            "gridcolor": "rgb(232,232,232)",
            "linecolor": "rgb(36,36,36)",
            "showgrid": false,
            "showline": true,
            "ticks": "outside"
           },
           "bgcolor": "white",
           "radialaxis": {
            "gridcolor": "rgb(232,232,232)",
            "linecolor": "rgb(36,36,36)",
            "showgrid": false,
            "showline": true,
            "ticks": "outside"
           }
          },
          "scene": {
           "xaxis": {
            "backgroundcolor": "white",
            "gridcolor": "rgb(232,232,232)",
            "gridwidth": 2,
            "linecolor": "rgb(36,36,36)",
            "showbackground": true,
            "showgrid": false,
            "showline": true,
            "ticks": "outside",
            "zeroline": false,
            "zerolinecolor": "rgb(36,36,36)"
           },
           "yaxis": {
            "backgroundcolor": "white",
            "gridcolor": "rgb(232,232,232)",
            "gridwidth": 2,
            "linecolor": "rgb(36,36,36)",
            "showbackground": true,
            "showgrid": false,
            "showline": true,
            "ticks": "outside",
            "zeroline": false,
            "zerolinecolor": "rgb(36,36,36)"
           },
           "zaxis": {
            "backgroundcolor": "white",
            "gridcolor": "rgb(232,232,232)",
            "gridwidth": 2,
            "linecolor": "rgb(36,36,36)",
            "showbackground": true,
            "showgrid": false,
            "showline": true,
            "ticks": "outside",
            "zeroline": false,
            "zerolinecolor": "rgb(36,36,36)"
           }
          },
          "shapedefaults": {
           "fillcolor": "black",
           "line": {
            "width": 0
           },
           "opacity": 0.3
          },
          "ternary": {
           "aaxis": {
            "gridcolor": "rgb(232,232,232)",
            "linecolor": "rgb(36,36,36)",
            "showgrid": false,
            "showline": true,
            "ticks": "outside"
           },
           "baxis": {
            "gridcolor": "rgb(232,232,232)",
            "linecolor": "rgb(36,36,36)",
            "showgrid": false,
            "showline": true,
            "ticks": "outside"
           },
           "bgcolor": "white",
           "caxis": {
            "gridcolor": "rgb(232,232,232)",
            "linecolor": "rgb(36,36,36)",
            "showgrid": false,
            "showline": true,
            "ticks": "outside"
           }
          },
          "title": {
           "x": 0.05
          },
          "xaxis": {
           "automargin": true,
           "gridcolor": "rgb(232,232,232)",
           "linecolor": "rgb(36,36,36)",
           "showgrid": false,
           "showline": true,
           "ticks": "outside",
           "title": {
            "standoff": 15
           },
           "zeroline": false,
           "zerolinecolor": "rgb(36,36,36)"
          },
          "yaxis": {
           "automargin": true,
           "gridcolor": "rgb(232,232,232)",
           "linecolor": "rgb(36,36,36)",
           "showgrid": false,
           "showline": true,
           "ticks": "outside",
           "title": {
            "standoff": 15
           },
           "zeroline": false,
           "zerolinecolor": "rgb(36,36,36)"
          }
         }
        },
        "title": {
         "font": {
          "color": "Black",
          "size": 22
         },
         "text": "<b>Topics over Time</b>",
         "x": 0.4,
         "xanchor": "center",
         "y": 0.95,
         "yanchor": "top"
        },
        "width": 1250,
        "xaxis": {
         "showgrid": true
        },
        "yaxis": {
         "showgrid": true,
         "title": {
          "text": "Frequency"
         }
        }
       }
      }
     },
     "metadata": {},
     "output_type": "display_data"
    }
   ],
   "source": [
    "# visualize\n",
    "topic_model.visualize_topics_over_time(topics_over_time)"
   ]
  },
  {
   "cell_type": "code",
   "execution_count": null,
   "metadata": {},
   "outputs": [],
   "source": []
  }
 ],
 "metadata": {
  "kernelspec": {
   "display_name": ".venv",
   "language": "python",
   "name": "python3"
  },
  "language_info": {
   "codemirror_mode": {
    "name": "ipython",
    "version": 3
   },
   "file_extension": ".py",
   "mimetype": "text/x-python",
   "name": "python",
   "nbconvert_exporter": "python",
   "pygments_lexer": "ipython3",
   "version": "3.10.15"
  }
 },
 "nbformat": 4,
 "nbformat_minor": 2
}
