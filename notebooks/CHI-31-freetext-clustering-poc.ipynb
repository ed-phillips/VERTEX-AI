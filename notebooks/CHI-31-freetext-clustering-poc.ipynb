{
 "cells": [
  {
   "cell_type": "markdown",
   "metadata": {},
   "source": [
    "# CHI-31: Freetext Clustering Proof of Concept\n",
    "\n",
    "**Goal:** FreeTextAnalysis – some visualization of free text fields like ‘other comorbidities’, either by clustering or mapping to a category e.g. ICD code \n",
    "\n",
    "**Background**: Currently researchers have no visibility of free text fields. ICD code maybe longer term, more complex because ICD codes are tiered and some categories may not map well. A simple clustering approach is a better first bet\n",
    "\n",
    "**Value:** Surface to researchers the data contained in their free text fields, notably ‘other combordities’ or similar\n",
    "\n",
    "**Deliverables:** POC demo in feature branch, video sent to Esteban & Co for feedback\n",
    "\n",
    "**Stakeholders:** Esteban, Laura Merson\n",
    "\n",
    "**Blockers:** None, should go for something computationally simple and cheap in the first instance\n",
    "\n",
    "**Opportunities:**\n",
    "\n",
    "Notes:\n",
    "\n",
    "Omid lots of good ideas here:\n",
    "\n",
    "- Use BERTopic as resource to do clustering\n",
    "- Good framework level tool - we could potentially drop in Omid’s compact bert based models\n",
    "- could be an easy win for ISARIC - compact enough that we don’t need to hit an API or download a big model\n",
    "- if we then want to name the clusters that might be a heavier task, but no asbolute requirement for this in conversations with ISARIC to date\n",
    "\n",
    "\n",
    "## Plan\n",
    "1. Get dataset of short, clinical free text to experiment with\n",
    "2. Compile BERTopic modelling pipeline including:\n",
    "    * Omid lightweight clinical LLMs for encoding \n",
    "    * probably BERTopic defaults for other modular components\n",
    "3. Test on example dataset\n",
    "    * cluster free text\n",
    "    * visualize similar to how it might look on dashboard\n",
    "    * (probably don't integrate into Vertex due to data not appearing in example df - but I could stitch something in to maintain the cohesion of demos)"
   ]
  },
  {
   "cell_type": "code",
   "execution_count": 1,
   "metadata": {},
   "outputs": [],
   "source": [
    "import os\n",
    "import pandas as pd\n",
    "import numpy as np\n",
    "from transformers import Pipeline\n",
    "from transformers import AutoTokenizer, AutoModel\n",
    "import torch.nn.functional as F\n",
    "from typing import List, Union, Dict\n",
    "import numpy as np"
   ]
  },
  {
   "cell_type": "code",
   "execution_count": null,
   "metadata": {},
   "outputs": [],
   "source": []
  },
  {
   "cell_type": "markdown",
   "metadata": {},
   "source": [
    "## 1. Example dataset\n",
    "\n",
    "Try MIMIC-IV demo dataset at https://physionet.org/content/mimic-iv-demo/2.2/"
   ]
  },
  {
   "cell_type": "code",
   "execution_count": 2,
   "metadata": {},
   "outputs": [],
   "source": [
    "data_dir = \"../data/mimic-iv-demo/2.2/\"\n",
    "# try with diganoses tablae - descriptions of ICD categories\n",
    "filepath = \"hosp/d_icd_diagnoses.csv\"\n",
    "\n",
    "# might be able to check validity of clusters later by looking at ICD super category?"
   ]
  },
  {
   "cell_type": "code",
   "execution_count": 3,
   "metadata": {},
   "outputs": [],
   "source": [
    "d_icd_diagnoses_df = pd.read_csv(os.path.join(data_dir, filepath))"
   ]
  },
  {
   "cell_type": "code",
   "execution_count": 4,
   "metadata": {},
   "outputs": [
    {
     "data": {
      "text/html": [
       "<div>\n",
       "<style scoped>\n",
       "    .dataframe tbody tr th:only-of-type {\n",
       "        vertical-align: middle;\n",
       "    }\n",
       "\n",
       "    .dataframe tbody tr th {\n",
       "        vertical-align: top;\n",
       "    }\n",
       "\n",
       "    .dataframe thead th {\n",
       "        text-align: right;\n",
       "    }\n",
       "</style>\n",
       "<table border=\"1\" class=\"dataframe\">\n",
       "  <thead>\n",
       "    <tr style=\"text-align: right;\">\n",
       "      <th></th>\n",
       "      <th>icd_code</th>\n",
       "      <th>icd_version</th>\n",
       "      <th>long_title</th>\n",
       "    </tr>\n",
       "  </thead>\n",
       "  <tbody>\n",
       "    <tr>\n",
       "      <th>0</th>\n",
       "      <td>0090</td>\n",
       "      <td>9</td>\n",
       "      <td>Infectious colitis, enteritis, and gastroenter...</td>\n",
       "    </tr>\n",
       "    <tr>\n",
       "      <th>1</th>\n",
       "      <td>01160</td>\n",
       "      <td>9</td>\n",
       "      <td>Tuberculous pneumonia [any form], unspecified</td>\n",
       "    </tr>\n",
       "    <tr>\n",
       "      <th>2</th>\n",
       "      <td>01186</td>\n",
       "      <td>9</td>\n",
       "      <td>Other specified pulmonary tuberculosis, tuberc...</td>\n",
       "    </tr>\n",
       "    <tr>\n",
       "      <th>3</th>\n",
       "      <td>01200</td>\n",
       "      <td>9</td>\n",
       "      <td>Tuberculous pleurisy, unspecified</td>\n",
       "    </tr>\n",
       "    <tr>\n",
       "      <th>4</th>\n",
       "      <td>01236</td>\n",
       "      <td>9</td>\n",
       "      <td>Tuberculous laryngitis, tubercle bacilli not f...</td>\n",
       "    </tr>\n",
       "    <tr>\n",
       "      <th>...</th>\n",
       "      <td>...</td>\n",
       "      <td>...</td>\n",
       "      <td>...</td>\n",
       "    </tr>\n",
       "    <tr>\n",
       "      <th>109770</th>\n",
       "      <td>Z88</td>\n",
       "      <td>10</td>\n",
       "      <td>Allergy status to drugs, medicaments and biolo...</td>\n",
       "    </tr>\n",
       "    <tr>\n",
       "      <th>109771</th>\n",
       "      <td>Z89012</td>\n",
       "      <td>10</td>\n",
       "      <td>Acquired absence of left thumb</td>\n",
       "    </tr>\n",
       "    <tr>\n",
       "      <th>109772</th>\n",
       "      <td>Z90410</td>\n",
       "      <td>10</td>\n",
       "      <td>Acquired total absence of pancreas</td>\n",
       "    </tr>\n",
       "    <tr>\n",
       "      <th>109773</th>\n",
       "      <td>Z948</td>\n",
       "      <td>10</td>\n",
       "      <td>Other transplanted organ and tissue status</td>\n",
       "    </tr>\n",
       "    <tr>\n",
       "      <th>109774</th>\n",
       "      <td>Z96</td>\n",
       "      <td>10</td>\n",
       "      <td>Presence of other functional implants</td>\n",
       "    </tr>\n",
       "  </tbody>\n",
       "</table>\n",
       "<p>109775 rows × 3 columns</p>\n",
       "</div>"
      ],
      "text/plain": [
       "       icd_code  icd_version  \\\n",
       "0          0090            9   \n",
       "1         01160            9   \n",
       "2         01186            9   \n",
       "3         01200            9   \n",
       "4         01236            9   \n",
       "...         ...          ...   \n",
       "109770      Z88           10   \n",
       "109771   Z89012           10   \n",
       "109772   Z90410           10   \n",
       "109773     Z948           10   \n",
       "109774      Z96           10   \n",
       "\n",
       "                                               long_title  \n",
       "0       Infectious colitis, enteritis, and gastroenter...  \n",
       "1           Tuberculous pneumonia [any form], unspecified  \n",
       "2       Other specified pulmonary tuberculosis, tuberc...  \n",
       "3                       Tuberculous pleurisy, unspecified  \n",
       "4       Tuberculous laryngitis, tubercle bacilli not f...  \n",
       "...                                                   ...  \n",
       "109770  Allergy status to drugs, medicaments and biolo...  \n",
       "109771                     Acquired absence of left thumb  \n",
       "109772                 Acquired total absence of pancreas  \n",
       "109773         Other transplanted organ and tissue status  \n",
       "109774              Presence of other functional implants  \n",
       "\n",
       "[109775 rows x 3 columns]"
      ]
     },
     "execution_count": 4,
     "metadata": {},
     "output_type": "execute_result"
    }
   ],
   "source": [
    "d_icd_diagnoses_df"
   ]
  },
  {
   "cell_type": "code",
   "execution_count": null,
   "metadata": {},
   "outputs": [],
   "source": []
  },
  {
   "cell_type": "markdown",
   "metadata": {},
   "source": [
    "## 2. BERTopic modelling pipeline"
   ]
  },
  {
   "cell_type": "code",
   "execution_count": 105,
   "metadata": {},
   "outputs": [],
   "source": [
    "from bertopic import BERTopic\n",
    "from bertopic.representation import KeyBERTInspired, TextGeneration, MaximalMarginalRelevance\n",
    "from transformers.pipelines import pipeline\n",
    "import torch\n",
    "from typing import Tuple\n",
    "from flair.embeddings import TransformerDocumentEmbeddings"
   ]
  },
  {
   "cell_type": "code",
   "execution_count": 40,
   "metadata": {},
   "outputs": [],
   "source": [
    "# select subset of table\n",
    "docs = d_icd_diagnoses_df.loc[:1000, 'long_title']"
   ]
  },
  {
   "cell_type": "code",
   "execution_count": 95,
   "metadata": {},
   "outputs": [
    {
     "data": {
      "text/plain": [
       "0       Infectious colitis, enteritis, and gastroenter...\n",
       "1           Tuberculous pneumonia [any form], unspecified\n",
       "2       Other specified pulmonary tuberculosis, tuberc...\n",
       "3                       Tuberculous pleurisy, unspecified\n",
       "4       Tuberculous laryngitis, tubercle bacilli not f...\n",
       "                              ...                        \n",
       "996     Chronic glomerulonephritis with lesion of prol...\n",
       "997                      Infection of kidney, unspecified\n",
       "998                                     Urethral caruncle\n",
       "999                      Urinary obstruction, unspecified\n",
       "1000                   Other specified disorders of penis\n",
       "Name: long_title, Length: 1001, dtype: object"
      ]
     },
     "execution_count": 95,
     "metadata": {},
     "output_type": "execute_result"
    }
   ],
   "source": [
    "docs"
   ]
  },
  {
   "cell_type": "code",
   "execution_count": 56,
   "metadata": {},
   "outputs": [],
   "source": [
    "# try flair as simpler implementation\n",
    "distil_biobert = TransformerDocumentEmbeddings('nlpie/distil-biobert')"
   ]
  },
  {
   "cell_type": "code",
   "execution_count": 42,
   "metadata": {},
   "outputs": [],
   "source": [
    "# # example using HF pipeline to create sentence embeddings - but presume bertopic does this under the hood anyway\n",
    "# class SentenceEncoderPipeline(Pipeline):\n",
    "#     def __init__(self, model, tokenizer, device=None, max_length=512):\n",
    "#         \"\"\"\n",
    "#         Initialize the sentence encoder pipeline.\n",
    "        \n",
    "#         Args:\n",
    "#             model: Pre-trained model\n",
    "#             tokenizer: Associated tokenizer\n",
    "#             device: Device to use ('cuda' or 'cpu')\n",
    "#             max_length: Maximum sequence length\n",
    "#         \"\"\"\n",
    "#         super().__init__(\n",
    "#             model=model,\n",
    "#             tokenizer=tokenizer,\n",
    "#             device=device if device is not None else -1,\n",
    "#             max_length=max_length\n",
    "#         )\n",
    "\n",
    "#     def _sanitize_parameters(\n",
    "#         self,\n",
    "#         return_tensors=None,\n",
    "#         normalize=None,\n",
    "#         **kwargs\n",
    "#     ) -> Tuple[Dict, Dict, Dict]:\n",
    "#         \"\"\"\n",
    "#         Sanitize and separate parameters for different pipeline stages.\n",
    "        \n",
    "#         Returns:\n",
    "#             tuple: (preprocess_params, forward_params, postprocess_params)\n",
    "#         \"\"\"\n",
    "#         preprocess_params = {}\n",
    "#         forward_params = {}\n",
    "#         postprocess_params = {}\n",
    "\n",
    "#         # Handle return_tensors parameter\n",
    "#         if return_tensors is not None:\n",
    "#             postprocess_params[\"return_tensors\"] = return_tensors\n",
    "\n",
    "#         # Handle normalize parameter\n",
    "#         if normalize is not None:\n",
    "#             forward_params[\"normalize\"] = normalize\n",
    "\n",
    "#         return preprocess_params, forward_params, postprocess_params\n",
    "        \n",
    "#     def _mean_pooling(self, model_output, attention_mask):\n",
    "#         \"\"\"\n",
    "#         Perform mean pooling on token embeddings.\n",
    "#         \"\"\"\n",
    "#         token_embeddings = model_output[0]\n",
    "#         input_mask_expanded = attention_mask.unsqueeze(-1).expand(token_embeddings.size()).float()\n",
    "#         return torch.sum(token_embeddings * input_mask_expanded, 1) / torch.clamp(input_mask_expanded.sum(1), min=1e-9)\n",
    "    \n",
    "#     def preprocess(self, inputs, **kwargs):\n",
    "#         \"\"\"\n",
    "#         Preprocess the inputs before model forward pass.\n",
    "#         \"\"\"\n",
    "#         return self.tokenizer(\n",
    "#             inputs,\n",
    "#             padding=True,\n",
    "#             truncation=True,\n",
    "#             max_length=self.max_length,\n",
    "#             return_tensors=\"pt\"\n",
    "#         ).to(self.device)\n",
    "    \n",
    "#     def _forward(self, model_inputs, **kwargs):\n",
    "#         \"\"\"\n",
    "#         Forward pass through the model.\n",
    "#         \"\"\"\n",
    "#         normalize = kwargs.get('normalize', True)\n",
    "        \n",
    "#         with torch.no_grad():\n",
    "#             outputs = self.model(**model_inputs)\n",
    "        \n",
    "#         embeddings = self._mean_pooling(outputs, model_inputs['attention_mask'])\n",
    "        \n",
    "#         if normalize:\n",
    "#             embeddings = F.normalize(embeddings, p=2, dim=1)\n",
    "            \n",
    "#         return {\"embeddings\": embeddings}\n",
    "    \n",
    "#     def postprocess(self, model_outputs, **kwargs):\n",
    "#         \"\"\"\n",
    "#         Postprocess the model outputs.\n",
    "#         \"\"\"\n",
    "#         return model_outputs[\"embeddings\"].cpu().numpy()\n",
    "\n",
    "# def create_sentence_encoder_pipeline(\n",
    "#     model_name: str = 'bert-base-uncased',\n",
    "#     device: int = -1,\n",
    "#     max_length: int = 512,\n",
    "#     **kwargs\n",
    "# ) -> SentenceEncoderPipeline:\n",
    "#     \"\"\"\n",
    "#     Create a sentence encoder pipeline.\n",
    "    \n",
    "#     Args:\n",
    "#         model_name: Name of the HuggingFace model to use\n",
    "#         device: Device to use (-1 for CPU, 0+ for GPU)\n",
    "#         max_length: Maximum sequence length\n",
    "#         **kwargs: Additional arguments to pass to pipeline creation\n",
    "        \n",
    "#     Returns:\n",
    "#         SentenceEncoderPipeline instance\n",
    "#     \"\"\"\n",
    "#     tokenizer = AutoTokenizer.from_pretrained(model_name)\n",
    "#     model = AutoModel.from_pretrained(model_name)\n",
    "    \n",
    "#     return SentenceEncoderPipeline(\n",
    "#         model=model,\n",
    "#         tokenizer=tokenizer,\n",
    "#         device=device,\n",
    "#         max_length=max_length,\n",
    "#         **kwargs\n",
    "#     )"
   ]
  },
  {
   "cell_type": "code",
   "execution_count": 116,
   "metadata": {},
   "outputs": [],
   "source": [
    "# experiment with different models here\n",
    "\n",
    "# set device to gpu if available \n",
    "device = torch.device(\"cuda\" if torch.cuda.is_available() else \"cpu\")\n",
    "\n",
    "\n",
    "# ##### to embed documents\n",
    "# # embedding_model = pipeline(\"feature-extraction\", \n",
    "# #                            model=\"nlpie/distil-biobert\", \n",
    "# #                            device=device)\n",
    "\n",
    "# embedding_model = create_sentence_encoder_pipeline(\n",
    "#     model_name=\"nlpie/distil-biobert\",\n",
    "#     device=device)\n",
    "\n",
    "embedding_model = distil_biobert\n",
    "\n",
    "# ##### to describe clusters\n",
    "\n",
    "# representation_model = KeyBERTInspired()\n",
    "\n",
    "# try a huggingface model\n",
    "prompt = \"\"\"\n",
    "I have topic that contains the following documents: \\n[DOCUMENTS]\n",
    "The topic is described by the following keywords: [KEYWORDS]\n",
    "\n",
    "Based on the above information, can you give a short label of the topic?\n",
    "\"\"\"\n",
    "\n",
    "# Create your representation model\n",
    "generator = pipeline('text2text-generation', \n",
    "                     model='google/flan-t5-base',\n",
    "                     device=device)\n",
    "\n",
    "llm_one_word = TextGeneration(generator)\n",
    "\n",
    "# representation_model = TextGeneration(generator)\n",
    "keybert_mmr = aspect_model2 = [KeyBERTInspired(), MaximalMarginalRelevance()]\n",
    "\n",
    "# try combining models:\n",
    "representation_model = {\n",
    "    \"Name\": llm_one_word,\n",
    "    \"Main\": keybert_mmr,\n",
    "}\n",
    "\n",
    "#### create model\n",
    "\n",
    "topic_model = BERTopic(\n",
    "    embedding_model=embedding_model,\n",
    "    representation_model=representation_model,\n",
    "    nr_topics=\"auto\", # merge topics clustered together\n",
    "    )"
   ]
  },
  {
   "cell_type": "markdown",
   "metadata": {},
   "source": [
    "## 3. Fit model on example dataset"
   ]
  },
  {
   "cell_type": "code",
   "execution_count": 117,
   "metadata": {},
   "outputs": [],
   "source": [
    "topics, probs = topic_model.fit_transform(docs)"
   ]
  },
  {
   "cell_type": "code",
   "execution_count": 118,
   "metadata": {},
   "outputs": [
    {
     "data": {
      "text/html": [
       "<div>\n",
       "<style scoped>\n",
       "    .dataframe tbody tr th:only-of-type {\n",
       "        vertical-align: middle;\n",
       "    }\n",
       "\n",
       "    .dataframe tbody tr th {\n",
       "        vertical-align: top;\n",
       "    }\n",
       "\n",
       "    .dataframe thead th {\n",
       "        text-align: right;\n",
       "    }\n",
       "</style>\n",
       "<table border=\"1\" class=\"dataframe\">\n",
       "  <thead>\n",
       "    <tr style=\"text-align: right;\">\n",
       "      <th></th>\n",
       "      <th>Topic</th>\n",
       "      <th>Count</th>\n",
       "      <th>Name</th>\n",
       "      <th>Representation</th>\n",
       "      <th>Representative_Docs</th>\n",
       "    </tr>\n",
       "  </thead>\n",
       "  <tbody>\n",
       "    <tr>\n",
       "      <th>0</th>\n",
       "      <td>-1</td>\n",
       "      <td>3</td>\n",
       "      <td>[laceration, , , , , , , , , ]</td>\n",
       "      <td>[hemorrhage, puncture, perforation, laceration...</td>\n",
       "      <td>[Maternal hypertensive disorders affecting fet...</td>\n",
       "    </tr>\n",
       "    <tr>\n",
       "      <th>1</th>\n",
       "      <td>0</td>\n",
       "      <td>839</td>\n",
       "      <td>[antepartum, , , , , , , , , ]</td>\n",
       "      <td>[antepartum, postpartum, complication, pregnan...</td>\n",
       "      <td>[Unspecified fetal and placental problem, affe...</td>\n",
       "    </tr>\n",
       "    <tr>\n",
       "      <th>2</th>\n",
       "      <td>1</td>\n",
       "      <td>95</td>\n",
       "      <td>[leukemia, , , , , , , , , ]</td>\n",
       "      <td>[neoplasm, neoplasms, hemangioma, malignant, l...</td>\n",
       "      <td>[Malignant neoplasm of other specified sites o...</td>\n",
       "    </tr>\n",
       "    <tr>\n",
       "      <th>3</th>\n",
       "      <td>2</td>\n",
       "      <td>42</td>\n",
       "      <td>[concussion, , , , , , , , , ]</td>\n",
       "      <td>[hemorrhage, intracranial, laceration, subarac...</td>\n",
       "      <td>[Open fractures involving skull or face with o...</td>\n",
       "    </tr>\n",
       "    <tr>\n",
       "      <th>4</th>\n",
       "      <td>3</td>\n",
       "      <td>22</td>\n",
       "      <td>[tuberculosis, , , , , , , , , ]</td>\n",
       "      <td>[bacteriological, tuberculous, tuberculoma, pe...</td>\n",
       "      <td>[Other specified miliary tuberculosis, tubercl...</td>\n",
       "    </tr>\n",
       "  </tbody>\n",
       "</table>\n",
       "</div>"
      ],
      "text/plain": [
       "   Topic  Count                              Name  \\\n",
       "0     -1      3    [laceration, , , , , , , , , ]   \n",
       "1      0    839    [antepartum, , , , , , , , , ]   \n",
       "2      1     95      [leukemia, , , , , , , , , ]   \n",
       "3      2     42    [concussion, , , , , , , , , ]   \n",
       "4      3     22  [tuberculosis, , , , , , , , , ]   \n",
       "\n",
       "                                      Representation  \\\n",
       "0  [hemorrhage, puncture, perforation, laceration...   \n",
       "1  [antepartum, postpartum, complication, pregnan...   \n",
       "2  [neoplasm, neoplasms, hemangioma, malignant, l...   \n",
       "3  [hemorrhage, intracranial, laceration, subarac...   \n",
       "4  [bacteriological, tuberculous, tuberculoma, pe...   \n",
       "\n",
       "                                 Representative_Docs  \n",
       "0  [Maternal hypertensive disorders affecting fet...  \n",
       "1  [Unspecified fetal and placental problem, affe...  \n",
       "2  [Malignant neoplasm of other specified sites o...  \n",
       "3  [Open fractures involving skull or face with o...  \n",
       "4  [Other specified miliary tuberculosis, tubercl...  "
      ]
     },
     "execution_count": 118,
     "metadata": {},
     "output_type": "execute_result"
    }
   ],
   "source": [
    "topic_model.get_topic_info()"
   ]
  },
  {
   "cell_type": "code",
   "execution_count": 119,
   "metadata": {},
   "outputs": [
    {
     "data": {
      "text/plain": [
       "[('antepartum', 0.9502091),\n",
       " ('postpartum', 0.94827956),\n",
       " ('complication', 0.94649893),\n",
       " ('pregnancy', 0.944745),\n",
       " ('not', 0.9442832),\n",
       " ('other', 0.94330347),\n",
       " ('unspecified', 0.94271684),\n",
       " ('complicating', 0.94015884),\n",
       " ('without', 0.9394374),\n",
       " ('fetal', 0.9382094)]"
      ]
     },
     "execution_count": 119,
     "metadata": {},
     "output_type": "execute_result"
    }
   ],
   "source": [
    "topic_model.get_topic(0)"
   ]
  },
  {
   "cell_type": "code",
   "execution_count": 120,
   "metadata": {},
   "outputs": [
    {
     "data": {
      "text/html": [
       "<div>\n",
       "<style scoped>\n",
       "    .dataframe tbody tr th:only-of-type {\n",
       "        vertical-align: middle;\n",
       "    }\n",
       "\n",
       "    .dataframe tbody tr th {\n",
       "        vertical-align: top;\n",
       "    }\n",
       "\n",
       "    .dataframe thead th {\n",
       "        text-align: right;\n",
       "    }\n",
       "</style>\n",
       "<table border=\"1\" class=\"dataframe\">\n",
       "  <thead>\n",
       "    <tr style=\"text-align: right;\">\n",
       "      <th></th>\n",
       "      <th>Document</th>\n",
       "      <th>Topic</th>\n",
       "      <th>Name</th>\n",
       "      <th>Representation</th>\n",
       "      <th>Representative_Docs</th>\n",
       "      <th>Top_n_words</th>\n",
       "      <th>Probability</th>\n",
       "      <th>Representative_document</th>\n",
       "    </tr>\n",
       "  </thead>\n",
       "  <tbody>\n",
       "    <tr>\n",
       "      <th>0</th>\n",
       "      <td>Infectious colitis, enteritis, and gastroenter...</td>\n",
       "      <td>0</td>\n",
       "      <td>[antepartum, , , , , , , , , ]</td>\n",
       "      <td>[antepartum, postpartum, complication, pregnan...</td>\n",
       "      <td>[Unspecified fetal and placental problem, affe...</td>\n",
       "      <td>antepartum - postpartum - complication - pregn...</td>\n",
       "      <td>1.000000</td>\n",
       "      <td>False</td>\n",
       "    </tr>\n",
       "    <tr>\n",
       "      <th>1</th>\n",
       "      <td>Tuberculous pneumonia [any form], unspecified</td>\n",
       "      <td>0</td>\n",
       "      <td>[antepartum, , , , , , , , , ]</td>\n",
       "      <td>[antepartum, postpartum, complication, pregnan...</td>\n",
       "      <td>[Unspecified fetal and placental problem, affe...</td>\n",
       "      <td>antepartum - postpartum - complication - pregn...</td>\n",
       "      <td>0.686368</td>\n",
       "      <td>False</td>\n",
       "    </tr>\n",
       "    <tr>\n",
       "      <th>2</th>\n",
       "      <td>Other specified pulmonary tuberculosis, tuberc...</td>\n",
       "      <td>3</td>\n",
       "      <td>[tuberculosis, , , , , , , , , ]</td>\n",
       "      <td>[bacteriological, tuberculous, tuberculoma, pe...</td>\n",
       "      <td>[Other specified miliary tuberculosis, tubercl...</td>\n",
       "      <td>bacteriological - tuberculous - tuberculoma - ...</td>\n",
       "      <td>0.779921</td>\n",
       "      <td>False</td>\n",
       "    </tr>\n",
       "    <tr>\n",
       "      <th>3</th>\n",
       "      <td>Tuberculous pleurisy, unspecified</td>\n",
       "      <td>0</td>\n",
       "      <td>[antepartum, , , , , , , , , ]</td>\n",
       "      <td>[antepartum, postpartum, complication, pregnan...</td>\n",
       "      <td>[Unspecified fetal and placental problem, affe...</td>\n",
       "      <td>antepartum - postpartum - complication - pregn...</td>\n",
       "      <td>0.702629</td>\n",
       "      <td>False</td>\n",
       "    </tr>\n",
       "    <tr>\n",
       "      <th>4</th>\n",
       "      <td>Tuberculous laryngitis, tubercle bacilli not f...</td>\n",
       "      <td>3</td>\n",
       "      <td>[tuberculosis, , , , , , , , , ]</td>\n",
       "      <td>[bacteriological, tuberculous, tuberculoma, pe...</td>\n",
       "      <td>[Other specified miliary tuberculosis, tubercl...</td>\n",
       "      <td>bacteriological - tuberculous - tuberculoma - ...</td>\n",
       "      <td>0.738276</td>\n",
       "      <td>False</td>\n",
       "    </tr>\n",
       "    <tr>\n",
       "      <th>...</th>\n",
       "      <td>...</td>\n",
       "      <td>...</td>\n",
       "      <td>...</td>\n",
       "      <td>...</td>\n",
       "      <td>...</td>\n",
       "      <td>...</td>\n",
       "      <td>...</td>\n",
       "      <td>...</td>\n",
       "    </tr>\n",
       "    <tr>\n",
       "      <th>996</th>\n",
       "      <td>Chronic glomerulonephritis with lesion of prol...</td>\n",
       "      <td>0</td>\n",
       "      <td>[antepartum, , , , , , , , , ]</td>\n",
       "      <td>[antepartum, postpartum, complication, pregnan...</td>\n",
       "      <td>[Unspecified fetal and placental problem, affe...</td>\n",
       "      <td>antepartum - postpartum - complication - pregn...</td>\n",
       "      <td>0.939394</td>\n",
       "      <td>False</td>\n",
       "    </tr>\n",
       "    <tr>\n",
       "      <th>997</th>\n",
       "      <td>Infection of kidney, unspecified</td>\n",
       "      <td>0</td>\n",
       "      <td>[antepartum, , , , , , , , , ]</td>\n",
       "      <td>[antepartum, postpartum, complication, pregnan...</td>\n",
       "      <td>[Unspecified fetal and placental problem, affe...</td>\n",
       "      <td>antepartum - postpartum - complication - pregn...</td>\n",
       "      <td>1.000000</td>\n",
       "      <td>False</td>\n",
       "    </tr>\n",
       "    <tr>\n",
       "      <th>998</th>\n",
       "      <td>Urethral caruncle</td>\n",
       "      <td>0</td>\n",
       "      <td>[antepartum, , , , , , , , , ]</td>\n",
       "      <td>[antepartum, postpartum, complication, pregnan...</td>\n",
       "      <td>[Unspecified fetal and placental problem, affe...</td>\n",
       "      <td>antepartum - postpartum - complication - pregn...</td>\n",
       "      <td>1.000000</td>\n",
       "      <td>False</td>\n",
       "    </tr>\n",
       "    <tr>\n",
       "      <th>999</th>\n",
       "      <td>Urinary obstruction, unspecified</td>\n",
       "      <td>0</td>\n",
       "      <td>[antepartum, , , , , , , , , ]</td>\n",
       "      <td>[antepartum, postpartum, complication, pregnan...</td>\n",
       "      <td>[Unspecified fetal and placental problem, affe...</td>\n",
       "      <td>antepartum - postpartum - complication - pregn...</td>\n",
       "      <td>1.000000</td>\n",
       "      <td>False</td>\n",
       "    </tr>\n",
       "    <tr>\n",
       "      <th>1000</th>\n",
       "      <td>Other specified disorders of penis</td>\n",
       "      <td>0</td>\n",
       "      <td>[antepartum, , , , , , , , , ]</td>\n",
       "      <td>[antepartum, postpartum, complication, pregnan...</td>\n",
       "      <td>[Unspecified fetal and placental problem, affe...</td>\n",
       "      <td>antepartum - postpartum - complication - pregn...</td>\n",
       "      <td>1.000000</td>\n",
       "      <td>False</td>\n",
       "    </tr>\n",
       "  </tbody>\n",
       "</table>\n",
       "<p>1001 rows × 8 columns</p>\n",
       "</div>"
      ],
      "text/plain": [
       "                                               Document  Topic  \\\n",
       "0     Infectious colitis, enteritis, and gastroenter...      0   \n",
       "1         Tuberculous pneumonia [any form], unspecified      0   \n",
       "2     Other specified pulmonary tuberculosis, tuberc...      3   \n",
       "3                     Tuberculous pleurisy, unspecified      0   \n",
       "4     Tuberculous laryngitis, tubercle bacilli not f...      3   \n",
       "...                                                 ...    ...   \n",
       "996   Chronic glomerulonephritis with lesion of prol...      0   \n",
       "997                    Infection of kidney, unspecified      0   \n",
       "998                                   Urethral caruncle      0   \n",
       "999                    Urinary obstruction, unspecified      0   \n",
       "1000                 Other specified disorders of penis      0   \n",
       "\n",
       "                                  Name  \\\n",
       "0       [antepartum, , , , , , , , , ]   \n",
       "1       [antepartum, , , , , , , , , ]   \n",
       "2     [tuberculosis, , , , , , , , , ]   \n",
       "3       [antepartum, , , , , , , , , ]   \n",
       "4     [tuberculosis, , , , , , , , , ]   \n",
       "...                                ...   \n",
       "996     [antepartum, , , , , , , , , ]   \n",
       "997     [antepartum, , , , , , , , , ]   \n",
       "998     [antepartum, , , , , , , , , ]   \n",
       "999     [antepartum, , , , , , , , , ]   \n",
       "1000    [antepartum, , , , , , , , , ]   \n",
       "\n",
       "                                         Representation  \\\n",
       "0     [antepartum, postpartum, complication, pregnan...   \n",
       "1     [antepartum, postpartum, complication, pregnan...   \n",
       "2     [bacteriological, tuberculous, tuberculoma, pe...   \n",
       "3     [antepartum, postpartum, complication, pregnan...   \n",
       "4     [bacteriological, tuberculous, tuberculoma, pe...   \n",
       "...                                                 ...   \n",
       "996   [antepartum, postpartum, complication, pregnan...   \n",
       "997   [antepartum, postpartum, complication, pregnan...   \n",
       "998   [antepartum, postpartum, complication, pregnan...   \n",
       "999   [antepartum, postpartum, complication, pregnan...   \n",
       "1000  [antepartum, postpartum, complication, pregnan...   \n",
       "\n",
       "                                    Representative_Docs  \\\n",
       "0     [Unspecified fetal and placental problem, affe...   \n",
       "1     [Unspecified fetal and placental problem, affe...   \n",
       "2     [Other specified miliary tuberculosis, tubercl...   \n",
       "3     [Unspecified fetal and placental problem, affe...   \n",
       "4     [Other specified miliary tuberculosis, tubercl...   \n",
       "...                                                 ...   \n",
       "996   [Unspecified fetal and placental problem, affe...   \n",
       "997   [Unspecified fetal and placental problem, affe...   \n",
       "998   [Unspecified fetal and placental problem, affe...   \n",
       "999   [Unspecified fetal and placental problem, affe...   \n",
       "1000  [Unspecified fetal and placental problem, affe...   \n",
       "\n",
       "                                            Top_n_words  Probability  \\\n",
       "0     antepartum - postpartum - complication - pregn...     1.000000   \n",
       "1     antepartum - postpartum - complication - pregn...     0.686368   \n",
       "2     bacteriological - tuberculous - tuberculoma - ...     0.779921   \n",
       "3     antepartum - postpartum - complication - pregn...     0.702629   \n",
       "4     bacteriological - tuberculous - tuberculoma - ...     0.738276   \n",
       "...                                                 ...          ...   \n",
       "996   antepartum - postpartum - complication - pregn...     0.939394   \n",
       "997   antepartum - postpartum - complication - pregn...     1.000000   \n",
       "998   antepartum - postpartum - complication - pregn...     1.000000   \n",
       "999   antepartum - postpartum - complication - pregn...     1.000000   \n",
       "1000  antepartum - postpartum - complication - pregn...     1.000000   \n",
       "\n",
       "      Representative_document  \n",
       "0                       False  \n",
       "1                       False  \n",
       "2                       False  \n",
       "3                       False  \n",
       "4                       False  \n",
       "...                       ...  \n",
       "996                     False  \n",
       "997                     False  \n",
       "998                     False  \n",
       "999                     False  \n",
       "1000                    False  \n",
       "\n",
       "[1001 rows x 8 columns]"
      ]
     },
     "execution_count": 120,
     "metadata": {},
     "output_type": "execute_result"
    }
   ],
   "source": [
    "topic_model.get_document_info(docs)"
   ]
  },
  {
   "cell_type": "code",
   "execution_count": 121,
   "metadata": {},
   "outputs": [
    {
     "data": {
      "application/vnd.plotly.v1+json": {
       "config": {
        "plotlyServerURL": "https://plot.ly"
       },
       "data": [
        {
         "customdata": [
          [
           0,
           "antepartum | postpartum | complication | pregnancy | not",
           839
          ],
          [
           1,
           "neoplasm | neoplasms | hemangioma | malignant | lymphosarcoma",
           95
          ],
          [
           2,
           "hemorrhage | intracranial | laceration | subarachnoid | contusion",
           42
          ],
          [
           3,
           "bacteriological | tuberculous | tuberculoma | peritonitis | bacilli",
           22
          ]
         ],
         "hovertemplate": "<b>Topic %{customdata[0]}</b><br>%{customdata[1]}<br>Size: %{customdata[2]}",
         "legendgroup": "",
         "marker": {
          "color": "#B0BEC5",
          "line": {
           "color": "DarkSlateGrey",
           "width": 2
          },
          "size": [
           839,
           95,
           42,
           22
          ],
          "sizemode": "area",
          "sizeref": 0.524375,
          "symbol": "circle"
         },
         "mode": "markers",
         "name": "",
         "orientation": "v",
         "showlegend": false,
         "type": "scatter",
         "x": [
          13.876347541809082,
          14.830923080444336,
          13.331132888793945,
          15.254451751708984
         ],
         "xaxis": "x",
         "y": [
          -1.8251482248306274,
          -2.0484039783477783,
          -1.3788020610809326,
          -1.2953393459320068
         ],
         "yaxis": "y"
        }
       ],
       "layout": {
        "annotations": [
         {
          "showarrow": false,
          "text": "D1",
          "x": 11.331462955474853,
          "y": -1.7283515095710755,
          "yshift": 10
         },
         {
          "showarrow": false,
          "text": "D2",
          "x": 14.437041234970092,
          "xshift": 10,
          "y": -1.1010384440422059
         }
        ],
        "height": 650,
        "hoverlabel": {
         "bgcolor": "white",
         "font": {
          "family": "Rockwell",
          "size": 16
         }
        },
        "legend": {
         "itemsizing": "constant",
         "tracegroupgap": 0
        },
        "margin": {
         "t": 60
        },
        "shapes": [
         {
          "line": {
           "color": "#CFD8DC",
           "width": 2
          },
          "type": "line",
          "x0": 14.437041234970092,
          "x1": 14.437041234970092,
          "y0": -2.355664575099945,
          "y1": -1.1010384440422059
         },
         {
          "line": {
           "color": "#9E9E9E",
           "width": 2
          },
          "type": "line",
          "x0": 11.331462955474853,
          "x1": 17.542619514465333,
          "y0": -1.7283515095710755,
          "y1": -1.7283515095710755
         }
        ],
        "sliders": [
         {
          "active": 0,
          "pad": {
           "t": 50
          },
          "steps": [
           {
            "args": [
             {
              "marker.color": [
               [
                "red",
                "#B0BEC5",
                "#B0BEC5",
                "#B0BEC5"
               ]
              ]
             }
            ],
            "label": "Topic 0",
            "method": "update"
           },
           {
            "args": [
             {
              "marker.color": [
               [
                "#B0BEC5",
                "red",
                "#B0BEC5",
                "#B0BEC5"
               ]
              ]
             }
            ],
            "label": "Topic 1",
            "method": "update"
           },
           {
            "args": [
             {
              "marker.color": [
               [
                "#B0BEC5",
                "#B0BEC5",
                "red",
                "#B0BEC5"
               ]
              ]
             }
            ],
            "label": "Topic 2",
            "method": "update"
           },
           {
            "args": [
             {
              "marker.color": [
               [
                "#B0BEC5",
                "#B0BEC5",
                "#B0BEC5",
                "red"
               ]
              ]
             }
            ],
            "label": "Topic 3",
            "method": "update"
           }
          ]
         }
        ],
        "template": {
         "data": {
          "bar": [
           {
            "error_x": {
             "color": "rgb(36,36,36)"
            },
            "error_y": {
             "color": "rgb(36,36,36)"
            },
            "marker": {
             "line": {
              "color": "white",
              "width": 0.5
             },
             "pattern": {
              "fillmode": "overlay",
              "size": 10,
              "solidity": 0.2
             }
            },
            "type": "bar"
           }
          ],
          "barpolar": [
           {
            "marker": {
             "line": {
              "color": "white",
              "width": 0.5
             },
             "pattern": {
              "fillmode": "overlay",
              "size": 10,
              "solidity": 0.2
             }
            },
            "type": "barpolar"
           }
          ],
          "carpet": [
           {
            "aaxis": {
             "endlinecolor": "rgb(36,36,36)",
             "gridcolor": "white",
             "linecolor": "white",
             "minorgridcolor": "white",
             "startlinecolor": "rgb(36,36,36)"
            },
            "baxis": {
             "endlinecolor": "rgb(36,36,36)",
             "gridcolor": "white",
             "linecolor": "white",
             "minorgridcolor": "white",
             "startlinecolor": "rgb(36,36,36)"
            },
            "type": "carpet"
           }
          ],
          "choropleth": [
           {
            "colorbar": {
             "outlinewidth": 1,
             "tickcolor": "rgb(36,36,36)",
             "ticks": "outside"
            },
            "type": "choropleth"
           }
          ],
          "contour": [
           {
            "colorbar": {
             "outlinewidth": 1,
             "tickcolor": "rgb(36,36,36)",
             "ticks": "outside"
            },
            "colorscale": [
             [
              0,
              "#440154"
             ],
             [
              0.1111111111111111,
              "#482878"
             ],
             [
              0.2222222222222222,
              "#3e4989"
             ],
             [
              0.3333333333333333,
              "#31688e"
             ],
             [
              0.4444444444444444,
              "#26828e"
             ],
             [
              0.5555555555555556,
              "#1f9e89"
             ],
             [
              0.6666666666666666,
              "#35b779"
             ],
             [
              0.7777777777777778,
              "#6ece58"
             ],
             [
              0.8888888888888888,
              "#b5de2b"
             ],
             [
              1,
              "#fde725"
             ]
            ],
            "type": "contour"
           }
          ],
          "contourcarpet": [
           {
            "colorbar": {
             "outlinewidth": 1,
             "tickcolor": "rgb(36,36,36)",
             "ticks": "outside"
            },
            "type": "contourcarpet"
           }
          ],
          "heatmap": [
           {
            "colorbar": {
             "outlinewidth": 1,
             "tickcolor": "rgb(36,36,36)",
             "ticks": "outside"
            },
            "colorscale": [
             [
              0,
              "#440154"
             ],
             [
              0.1111111111111111,
              "#482878"
             ],
             [
              0.2222222222222222,
              "#3e4989"
             ],
             [
              0.3333333333333333,
              "#31688e"
             ],
             [
              0.4444444444444444,
              "#26828e"
             ],
             [
              0.5555555555555556,
              "#1f9e89"
             ],
             [
              0.6666666666666666,
              "#35b779"
             ],
             [
              0.7777777777777778,
              "#6ece58"
             ],
             [
              0.8888888888888888,
              "#b5de2b"
             ],
             [
              1,
              "#fde725"
             ]
            ],
            "type": "heatmap"
           }
          ],
          "heatmapgl": [
           {
            "colorbar": {
             "outlinewidth": 1,
             "tickcolor": "rgb(36,36,36)",
             "ticks": "outside"
            },
            "colorscale": [
             [
              0,
              "#440154"
             ],
             [
              0.1111111111111111,
              "#482878"
             ],
             [
              0.2222222222222222,
              "#3e4989"
             ],
             [
              0.3333333333333333,
              "#31688e"
             ],
             [
              0.4444444444444444,
              "#26828e"
             ],
             [
              0.5555555555555556,
              "#1f9e89"
             ],
             [
              0.6666666666666666,
              "#35b779"
             ],
             [
              0.7777777777777778,
              "#6ece58"
             ],
             [
              0.8888888888888888,
              "#b5de2b"
             ],
             [
              1,
              "#fde725"
             ]
            ],
            "type": "heatmapgl"
           }
          ],
          "histogram": [
           {
            "marker": {
             "line": {
              "color": "white",
              "width": 0.6
             }
            },
            "type": "histogram"
           }
          ],
          "histogram2d": [
           {
            "colorbar": {
             "outlinewidth": 1,
             "tickcolor": "rgb(36,36,36)",
             "ticks": "outside"
            },
            "colorscale": [
             [
              0,
              "#440154"
             ],
             [
              0.1111111111111111,
              "#482878"
             ],
             [
              0.2222222222222222,
              "#3e4989"
             ],
             [
              0.3333333333333333,
              "#31688e"
             ],
             [
              0.4444444444444444,
              "#26828e"
             ],
             [
              0.5555555555555556,
              "#1f9e89"
             ],
             [
              0.6666666666666666,
              "#35b779"
             ],
             [
              0.7777777777777778,
              "#6ece58"
             ],
             [
              0.8888888888888888,
              "#b5de2b"
             ],
             [
              1,
              "#fde725"
             ]
            ],
            "type": "histogram2d"
           }
          ],
          "histogram2dcontour": [
           {
            "colorbar": {
             "outlinewidth": 1,
             "tickcolor": "rgb(36,36,36)",
             "ticks": "outside"
            },
            "colorscale": [
             [
              0,
              "#440154"
             ],
             [
              0.1111111111111111,
              "#482878"
             ],
             [
              0.2222222222222222,
              "#3e4989"
             ],
             [
              0.3333333333333333,
              "#31688e"
             ],
             [
              0.4444444444444444,
              "#26828e"
             ],
             [
              0.5555555555555556,
              "#1f9e89"
             ],
             [
              0.6666666666666666,
              "#35b779"
             ],
             [
              0.7777777777777778,
              "#6ece58"
             ],
             [
              0.8888888888888888,
              "#b5de2b"
             ],
             [
              1,
              "#fde725"
             ]
            ],
            "type": "histogram2dcontour"
           }
          ],
          "mesh3d": [
           {
            "colorbar": {
             "outlinewidth": 1,
             "tickcolor": "rgb(36,36,36)",
             "ticks": "outside"
            },
            "type": "mesh3d"
           }
          ],
          "parcoords": [
           {
            "line": {
             "colorbar": {
              "outlinewidth": 1,
              "tickcolor": "rgb(36,36,36)",
              "ticks": "outside"
             }
            },
            "type": "parcoords"
           }
          ],
          "pie": [
           {
            "automargin": true,
            "type": "pie"
           }
          ],
          "scatter": [
           {
            "fillpattern": {
             "fillmode": "overlay",
             "size": 10,
             "solidity": 0.2
            },
            "type": "scatter"
           }
          ],
          "scatter3d": [
           {
            "line": {
             "colorbar": {
              "outlinewidth": 1,
              "tickcolor": "rgb(36,36,36)",
              "ticks": "outside"
             }
            },
            "marker": {
             "colorbar": {
              "outlinewidth": 1,
              "tickcolor": "rgb(36,36,36)",
              "ticks": "outside"
             }
            },
            "type": "scatter3d"
           }
          ],
          "scattercarpet": [
           {
            "marker": {
             "colorbar": {
              "outlinewidth": 1,
              "tickcolor": "rgb(36,36,36)",
              "ticks": "outside"
             }
            },
            "type": "scattercarpet"
           }
          ],
          "scattergeo": [
           {
            "marker": {
             "colorbar": {
              "outlinewidth": 1,
              "tickcolor": "rgb(36,36,36)",
              "ticks": "outside"
             }
            },
            "type": "scattergeo"
           }
          ],
          "scattergl": [
           {
            "marker": {
             "colorbar": {
              "outlinewidth": 1,
              "tickcolor": "rgb(36,36,36)",
              "ticks": "outside"
             }
            },
            "type": "scattergl"
           }
          ],
          "scattermapbox": [
           {
            "marker": {
             "colorbar": {
              "outlinewidth": 1,
              "tickcolor": "rgb(36,36,36)",
              "ticks": "outside"
             }
            },
            "type": "scattermapbox"
           }
          ],
          "scatterpolar": [
           {
            "marker": {
             "colorbar": {
              "outlinewidth": 1,
              "tickcolor": "rgb(36,36,36)",
              "ticks": "outside"
             }
            },
            "type": "scatterpolar"
           }
          ],
          "scatterpolargl": [
           {
            "marker": {
             "colorbar": {
              "outlinewidth": 1,
              "tickcolor": "rgb(36,36,36)",
              "ticks": "outside"
             }
            },
            "type": "scatterpolargl"
           }
          ],
          "scatterternary": [
           {
            "marker": {
             "colorbar": {
              "outlinewidth": 1,
              "tickcolor": "rgb(36,36,36)",
              "ticks": "outside"
             }
            },
            "type": "scatterternary"
           }
          ],
          "surface": [
           {
            "colorbar": {
             "outlinewidth": 1,
             "tickcolor": "rgb(36,36,36)",
             "ticks": "outside"
            },
            "colorscale": [
             [
              0,
              "#440154"
             ],
             [
              0.1111111111111111,
              "#482878"
             ],
             [
              0.2222222222222222,
              "#3e4989"
             ],
             [
              0.3333333333333333,
              "#31688e"
             ],
             [
              0.4444444444444444,
              "#26828e"
             ],
             [
              0.5555555555555556,
              "#1f9e89"
             ],
             [
              0.6666666666666666,
              "#35b779"
             ],
             [
              0.7777777777777778,
              "#6ece58"
             ],
             [
              0.8888888888888888,
              "#b5de2b"
             ],
             [
              1,
              "#fde725"
             ]
            ],
            "type": "surface"
           }
          ],
          "table": [
           {
            "cells": {
             "fill": {
              "color": "rgb(237,237,237)"
             },
             "line": {
              "color": "white"
             }
            },
            "header": {
             "fill": {
              "color": "rgb(217,217,217)"
             },
             "line": {
              "color": "white"
             }
            },
            "type": "table"
           }
          ]
         },
         "layout": {
          "annotationdefaults": {
           "arrowhead": 0,
           "arrowwidth": 1
          },
          "autotypenumbers": "strict",
          "coloraxis": {
           "colorbar": {
            "outlinewidth": 1,
            "tickcolor": "rgb(36,36,36)",
            "ticks": "outside"
           }
          },
          "colorscale": {
           "diverging": [
            [
             0,
             "rgb(103,0,31)"
            ],
            [
             0.1,
             "rgb(178,24,43)"
            ],
            [
             0.2,
             "rgb(214,96,77)"
            ],
            [
             0.3,
             "rgb(244,165,130)"
            ],
            [
             0.4,
             "rgb(253,219,199)"
            ],
            [
             0.5,
             "rgb(247,247,247)"
            ],
            [
             0.6,
             "rgb(209,229,240)"
            ],
            [
             0.7,
             "rgb(146,197,222)"
            ],
            [
             0.8,
             "rgb(67,147,195)"
            ],
            [
             0.9,
             "rgb(33,102,172)"
            ],
            [
             1,
             "rgb(5,48,97)"
            ]
           ],
           "sequential": [
            [
             0,
             "#440154"
            ],
            [
             0.1111111111111111,
             "#482878"
            ],
            [
             0.2222222222222222,
             "#3e4989"
            ],
            [
             0.3333333333333333,
             "#31688e"
            ],
            [
             0.4444444444444444,
             "#26828e"
            ],
            [
             0.5555555555555556,
             "#1f9e89"
            ],
            [
             0.6666666666666666,
             "#35b779"
            ],
            [
             0.7777777777777778,
             "#6ece58"
            ],
            [
             0.8888888888888888,
             "#b5de2b"
            ],
            [
             1,
             "#fde725"
            ]
           ],
           "sequentialminus": [
            [
             0,
             "#440154"
            ],
            [
             0.1111111111111111,
             "#482878"
            ],
            [
             0.2222222222222222,
             "#3e4989"
            ],
            [
             0.3333333333333333,
             "#31688e"
            ],
            [
             0.4444444444444444,
             "#26828e"
            ],
            [
             0.5555555555555556,
             "#1f9e89"
            ],
            [
             0.6666666666666666,
             "#35b779"
            ],
            [
             0.7777777777777778,
             "#6ece58"
            ],
            [
             0.8888888888888888,
             "#b5de2b"
            ],
            [
             1,
             "#fde725"
            ]
           ]
          },
          "colorway": [
           "#1F77B4",
           "#FF7F0E",
           "#2CA02C",
           "#D62728",
           "#9467BD",
           "#8C564B",
           "#E377C2",
           "#7F7F7F",
           "#BCBD22",
           "#17BECF"
          ],
          "font": {
           "color": "rgb(36,36,36)"
          },
          "geo": {
           "bgcolor": "white",
           "lakecolor": "white",
           "landcolor": "white",
           "showlakes": true,
           "showland": true,
           "subunitcolor": "white"
          },
          "hoverlabel": {
           "align": "left"
          },
          "hovermode": "closest",
          "mapbox": {
           "style": "light"
          },
          "paper_bgcolor": "white",
          "plot_bgcolor": "white",
          "polar": {
           "angularaxis": {
            "gridcolor": "rgb(232,232,232)",
            "linecolor": "rgb(36,36,36)",
            "showgrid": false,
            "showline": true,
            "ticks": "outside"
           },
           "bgcolor": "white",
           "radialaxis": {
            "gridcolor": "rgb(232,232,232)",
            "linecolor": "rgb(36,36,36)",
            "showgrid": false,
            "showline": true,
            "ticks": "outside"
           }
          },
          "scene": {
           "xaxis": {
            "backgroundcolor": "white",
            "gridcolor": "rgb(232,232,232)",
            "gridwidth": 2,
            "linecolor": "rgb(36,36,36)",
            "showbackground": true,
            "showgrid": false,
            "showline": true,
            "ticks": "outside",
            "zeroline": false,
            "zerolinecolor": "rgb(36,36,36)"
           },
           "yaxis": {
            "backgroundcolor": "white",
            "gridcolor": "rgb(232,232,232)",
            "gridwidth": 2,
            "linecolor": "rgb(36,36,36)",
            "showbackground": true,
            "showgrid": false,
            "showline": true,
            "ticks": "outside",
            "zeroline": false,
            "zerolinecolor": "rgb(36,36,36)"
           },
           "zaxis": {
            "backgroundcolor": "white",
            "gridcolor": "rgb(232,232,232)",
            "gridwidth": 2,
            "linecolor": "rgb(36,36,36)",
            "showbackground": true,
            "showgrid": false,
            "showline": true,
            "ticks": "outside",
            "zeroline": false,
            "zerolinecolor": "rgb(36,36,36)"
           }
          },
          "shapedefaults": {
           "fillcolor": "black",
           "line": {
            "width": 0
           },
           "opacity": 0.3
          },
          "ternary": {
           "aaxis": {
            "gridcolor": "rgb(232,232,232)",
            "linecolor": "rgb(36,36,36)",
            "showgrid": false,
            "showline": true,
            "ticks": "outside"
           },
           "baxis": {
            "gridcolor": "rgb(232,232,232)",
            "linecolor": "rgb(36,36,36)",
            "showgrid": false,
            "showline": true,
            "ticks": "outside"
           },
           "bgcolor": "white",
           "caxis": {
            "gridcolor": "rgb(232,232,232)",
            "linecolor": "rgb(36,36,36)",
            "showgrid": false,
            "showline": true,
            "ticks": "outside"
           }
          },
          "title": {
           "x": 0.05
          },
          "xaxis": {
           "automargin": true,
           "gridcolor": "rgb(232,232,232)",
           "linecolor": "rgb(36,36,36)",
           "showgrid": false,
           "showline": true,
           "ticks": "outside",
           "title": {
            "standoff": 15
           },
           "zeroline": false,
           "zerolinecolor": "rgb(36,36,36)"
          },
          "yaxis": {
           "automargin": true,
           "gridcolor": "rgb(232,232,232)",
           "linecolor": "rgb(36,36,36)",
           "showgrid": false,
           "showline": true,
           "ticks": "outside",
           "title": {
            "standoff": 15
           },
           "zeroline": false,
           "zerolinecolor": "rgb(36,36,36)"
          }
         }
        },
        "title": {
         "font": {
          "color": "Black",
          "size": 22
         },
         "text": "<b>Intertopic Distance Map</b>",
         "x": 0.5,
         "xanchor": "center",
         "y": 0.95,
         "yanchor": "top"
        },
        "width": 650,
        "xaxis": {
         "anchor": "y",
         "domain": [
          0,
          1
         ],
         "range": [
          11.331462955474853,
          17.542619514465333
         ],
         "title": {
          "text": ""
         },
         "visible": false
        },
        "yaxis": {
         "anchor": "x",
         "domain": [
          0,
          1
         ],
         "range": [
          -2.355664575099945,
          -1.1010384440422059
         ],
         "title": {
          "text": ""
         },
         "visible": false
        }
       }
      }
     },
     "metadata": {},
     "output_type": "display_data"
    }
   ],
   "source": [
    "topic_model.visualize_topics()\n"
   ]
  },
  {
   "cell_type": "code",
   "execution_count": 126,
   "metadata": {},
   "outputs": [
    {
     "data": {
      "text/plain": [
       "{-1: [('hemorrhage', 0.9636315),\n",
       "  ('puncture', 0.96230805),\n",
       "  ('perforation', 0.96059984),\n",
       "  ('laceration', 0.95639586),\n",
       "  ('not', 0.94812095),\n",
       "  ('newborn', 0.947379),\n",
       "  ('fetus', 0.94480234),\n",
       "  ('maternal', 0.9436746),\n",
       "  ('procedure', 0.9431428),\n",
       "  ('', 0.940902)],\n",
       " 0: [('antepartum', 0.9502091),\n",
       "  ('postpartum', 0.94827956),\n",
       "  ('complication', 0.94649893),\n",
       "  ('pregnancy', 0.944745),\n",
       "  ('not', 0.9442832),\n",
       "  ('other', 0.94330347),\n",
       "  ('unspecified', 0.94271684),\n",
       "  ('complicating', 0.94015884),\n",
       "  ('without', 0.9394374),\n",
       "  ('fetal', 0.9382094)],\n",
       " 1: [('neoplasm', 0.97227675),\n",
       "  ('neoplasms', 0.97173244),\n",
       "  ('hemangioma', 0.96702445),\n",
       "  ('malignant', 0.96600354),\n",
       "  ('lymphosarcoma', 0.9658607),\n",
       "  ('carcinoma', 0.9607001),\n",
       "  ('sarcoma', 0.9568698),\n",
       "  ('reticuloendotheliosis', 0.95343155),\n",
       "  ('lymphoid', 0.9531028),\n",
       "  ('carcinoid', 0.95241386)],\n",
       " 2: [('hemorrhage', 0.9483739),\n",
       "  ('intracranial', 0.94406366),\n",
       "  ('laceration', 0.9407409),\n",
       "  ('subarachnoid', 0.94064146),\n",
       "  ('contusion', 0.9405816),\n",
       "  ('other', 0.93208724),\n",
       "  ('extradural', 0.9316658),\n",
       "  ('concussion', 0.931006),\n",
       "  ('cerebral', 0.9302781),\n",
       "  ('fracture', 0.92904)],\n",
       " 3: [('bacteriological', 0.9398522),\n",
       "  ('tuberculous', 0.93690014),\n",
       "  ('tuberculoma', 0.93361926),\n",
       "  ('peritonitis', 0.9303971),\n",
       "  ('bacilli', 0.930108),\n",
       "  ('inoculation', 0.9288418),\n",
       "  ('tubercle', 0.9220692),\n",
       "  ('histologically', 0.9206731),\n",
       "  ('histological', 0.9178694),\n",
       "  ('salpingitis', 0.9175777)]}"
      ]
     },
     "execution_count": 126,
     "metadata": {},
     "output_type": "execute_result"
    }
   ],
   "source": [
    "topic_model.topic_representations_"
   ]
  },
  {
   "cell_type": "code",
   "execution_count": 124,
   "metadata": {},
   "outputs": [
    {
     "data": {
      "application/vnd.plotly.v1+json": {
       "config": {
        "plotlyServerURL": "https://plot.ly"
       },
       "data": [
        {
         "marker": {
          "color": "#D55E00"
         },
         "orientation": "h",
         "type": "bar",
         "x": [
          0.9442831873893738,
          0.9447450041770935,
          0.9464989304542542,
          0.9482795596122742,
          0.9502090811729431
         ],
         "xaxis": "x",
         "y": [
          "not  ",
          "pregnancy  ",
          "complication  ",
          "postpartum  ",
          "antepartum  "
         ],
         "yaxis": "y"
        },
        {
         "marker": {
          "color": "#0072B2"
         },
         "orientation": "h",
         "type": "bar",
         "x": [
          0.9658607244491577,
          0.9660035371780396,
          0.9670244455337524,
          0.9717324376106262,
          0.9722767472267151
         ],
         "xaxis": "x2",
         "y": [
          "lymphosarcoma  ",
          "malignant  ",
          "hemangioma  ",
          "neoplasms  ",
          "neoplasm  "
         ],
         "yaxis": "y2"
        },
        {
         "marker": {
          "color": "#CC79A7"
         },
         "orientation": "h",
         "type": "bar",
         "x": [
          0.9405816197395325,
          0.940641462802887,
          0.9407408833503723,
          0.944063663482666,
          0.9483739137649536
         ],
         "xaxis": "x3",
         "y": [
          "contusion  ",
          "subarachnoid  ",
          "laceration  ",
          "intracranial  ",
          "hemorrhage  "
         ],
         "yaxis": "y3"
        },
        {
         "marker": {
          "color": "#E69F00"
         },
         "orientation": "h",
         "type": "bar",
         "x": [
          0.9301080107688904,
          0.930397093296051,
          0.9336192607879639,
          0.9369001388549805,
          0.9398521780967712
         ],
         "xaxis": "x4",
         "y": [
          "bacilli  ",
          "peritonitis  ",
          "tuberculoma  ",
          "tuberculous  ",
          "bacteriological  "
         ],
         "yaxis": "y4"
        }
       ],
       "layout": {
        "annotations": [
         {
          "font": {
           "size": 16
          },
          "showarrow": false,
          "text": "Topic 0",
          "x": 0.0875,
          "xanchor": "center",
          "xref": "paper",
          "y": 1,
          "yanchor": "bottom",
          "yref": "paper"
         },
         {
          "font": {
           "size": 16
          },
          "showarrow": false,
          "text": "Topic 1",
          "x": 0.36250000000000004,
          "xanchor": "center",
          "xref": "paper",
          "y": 1,
          "yanchor": "bottom",
          "yref": "paper"
         },
         {
          "font": {
           "size": 16
          },
          "showarrow": false,
          "text": "Topic 2",
          "x": 0.6375000000000001,
          "xanchor": "center",
          "xref": "paper",
          "y": 1,
          "yanchor": "bottom",
          "yref": "paper"
         },
         {
          "font": {
           "size": 16
          },
          "showarrow": false,
          "text": "Topic 3",
          "x": 0.9125,
          "xanchor": "center",
          "xref": "paper",
          "y": 1,
          "yanchor": "bottom",
          "yref": "paper"
         }
        ],
        "height": 325,
        "hoverlabel": {
         "bgcolor": "white",
         "font": {
          "family": "Rockwell",
          "size": 16
         }
        },
        "showlegend": false,
        "template": {
         "data": {
          "bar": [
           {
            "error_x": {
             "color": "#2a3f5f"
            },
            "error_y": {
             "color": "#2a3f5f"
            },
            "marker": {
             "line": {
              "color": "white",
              "width": 0.5
             },
             "pattern": {
              "fillmode": "overlay",
              "size": 10,
              "solidity": 0.2
             }
            },
            "type": "bar"
           }
          ],
          "barpolar": [
           {
            "marker": {
             "line": {
              "color": "white",
              "width": 0.5
             },
             "pattern": {
              "fillmode": "overlay",
              "size": 10,
              "solidity": 0.2
             }
            },
            "type": "barpolar"
           }
          ],
          "carpet": [
           {
            "aaxis": {
             "endlinecolor": "#2a3f5f",
             "gridcolor": "#C8D4E3",
             "linecolor": "#C8D4E3",
             "minorgridcolor": "#C8D4E3",
             "startlinecolor": "#2a3f5f"
            },
            "baxis": {
             "endlinecolor": "#2a3f5f",
             "gridcolor": "#C8D4E3",
             "linecolor": "#C8D4E3",
             "minorgridcolor": "#C8D4E3",
             "startlinecolor": "#2a3f5f"
            },
            "type": "carpet"
           }
          ],
          "choropleth": [
           {
            "colorbar": {
             "outlinewidth": 0,
             "ticks": ""
            },
            "type": "choropleth"
           }
          ],
          "contour": [
           {
            "colorbar": {
             "outlinewidth": 0,
             "ticks": ""
            },
            "colorscale": [
             [
              0,
              "#0d0887"
             ],
             [
              0.1111111111111111,
              "#46039f"
             ],
             [
              0.2222222222222222,
              "#7201a8"
             ],
             [
              0.3333333333333333,
              "#9c179e"
             ],
             [
              0.4444444444444444,
              "#bd3786"
             ],
             [
              0.5555555555555556,
              "#d8576b"
             ],
             [
              0.6666666666666666,
              "#ed7953"
             ],
             [
              0.7777777777777778,
              "#fb9f3a"
             ],
             [
              0.8888888888888888,
              "#fdca26"
             ],
             [
              1,
              "#f0f921"
             ]
            ],
            "type": "contour"
           }
          ],
          "contourcarpet": [
           {
            "colorbar": {
             "outlinewidth": 0,
             "ticks": ""
            },
            "type": "contourcarpet"
           }
          ],
          "heatmap": [
           {
            "colorbar": {
             "outlinewidth": 0,
             "ticks": ""
            },
            "colorscale": [
             [
              0,
              "#0d0887"
             ],
             [
              0.1111111111111111,
              "#46039f"
             ],
             [
              0.2222222222222222,
              "#7201a8"
             ],
             [
              0.3333333333333333,
              "#9c179e"
             ],
             [
              0.4444444444444444,
              "#bd3786"
             ],
             [
              0.5555555555555556,
              "#d8576b"
             ],
             [
              0.6666666666666666,
              "#ed7953"
             ],
             [
              0.7777777777777778,
              "#fb9f3a"
             ],
             [
              0.8888888888888888,
              "#fdca26"
             ],
             [
              1,
              "#f0f921"
             ]
            ],
            "type": "heatmap"
           }
          ],
          "heatmapgl": [
           {
            "colorbar": {
             "outlinewidth": 0,
             "ticks": ""
            },
            "colorscale": [
             [
              0,
              "#0d0887"
             ],
             [
              0.1111111111111111,
              "#46039f"
             ],
             [
              0.2222222222222222,
              "#7201a8"
             ],
             [
              0.3333333333333333,
              "#9c179e"
             ],
             [
              0.4444444444444444,
              "#bd3786"
             ],
             [
              0.5555555555555556,
              "#d8576b"
             ],
             [
              0.6666666666666666,
              "#ed7953"
             ],
             [
              0.7777777777777778,
              "#fb9f3a"
             ],
             [
              0.8888888888888888,
              "#fdca26"
             ],
             [
              1,
              "#f0f921"
             ]
            ],
            "type": "heatmapgl"
           }
          ],
          "histogram": [
           {
            "marker": {
             "pattern": {
              "fillmode": "overlay",
              "size": 10,
              "solidity": 0.2
             }
            },
            "type": "histogram"
           }
          ],
          "histogram2d": [
           {
            "colorbar": {
             "outlinewidth": 0,
             "ticks": ""
            },
            "colorscale": [
             [
              0,
              "#0d0887"
             ],
             [
              0.1111111111111111,
              "#46039f"
             ],
             [
              0.2222222222222222,
              "#7201a8"
             ],
             [
              0.3333333333333333,
              "#9c179e"
             ],
             [
              0.4444444444444444,
              "#bd3786"
             ],
             [
              0.5555555555555556,
              "#d8576b"
             ],
             [
              0.6666666666666666,
              "#ed7953"
             ],
             [
              0.7777777777777778,
              "#fb9f3a"
             ],
             [
              0.8888888888888888,
              "#fdca26"
             ],
             [
              1,
              "#f0f921"
             ]
            ],
            "type": "histogram2d"
           }
          ],
          "histogram2dcontour": [
           {
            "colorbar": {
             "outlinewidth": 0,
             "ticks": ""
            },
            "colorscale": [
             [
              0,
              "#0d0887"
             ],
             [
              0.1111111111111111,
              "#46039f"
             ],
             [
              0.2222222222222222,
              "#7201a8"
             ],
             [
              0.3333333333333333,
              "#9c179e"
             ],
             [
              0.4444444444444444,
              "#bd3786"
             ],
             [
              0.5555555555555556,
              "#d8576b"
             ],
             [
              0.6666666666666666,
              "#ed7953"
             ],
             [
              0.7777777777777778,
              "#fb9f3a"
             ],
             [
              0.8888888888888888,
              "#fdca26"
             ],
             [
              1,
              "#f0f921"
             ]
            ],
            "type": "histogram2dcontour"
           }
          ],
          "mesh3d": [
           {
            "colorbar": {
             "outlinewidth": 0,
             "ticks": ""
            },
            "type": "mesh3d"
           }
          ],
          "parcoords": [
           {
            "line": {
             "colorbar": {
              "outlinewidth": 0,
              "ticks": ""
             }
            },
            "type": "parcoords"
           }
          ],
          "pie": [
           {
            "automargin": true,
            "type": "pie"
           }
          ],
          "scatter": [
           {
            "fillpattern": {
             "fillmode": "overlay",
             "size": 10,
             "solidity": 0.2
            },
            "type": "scatter"
           }
          ],
          "scatter3d": [
           {
            "line": {
             "colorbar": {
              "outlinewidth": 0,
              "ticks": ""
             }
            },
            "marker": {
             "colorbar": {
              "outlinewidth": 0,
              "ticks": ""
             }
            },
            "type": "scatter3d"
           }
          ],
          "scattercarpet": [
           {
            "marker": {
             "colorbar": {
              "outlinewidth": 0,
              "ticks": ""
             }
            },
            "type": "scattercarpet"
           }
          ],
          "scattergeo": [
           {
            "marker": {
             "colorbar": {
              "outlinewidth": 0,
              "ticks": ""
             }
            },
            "type": "scattergeo"
           }
          ],
          "scattergl": [
           {
            "marker": {
             "colorbar": {
              "outlinewidth": 0,
              "ticks": ""
             }
            },
            "type": "scattergl"
           }
          ],
          "scattermapbox": [
           {
            "marker": {
             "colorbar": {
              "outlinewidth": 0,
              "ticks": ""
             }
            },
            "type": "scattermapbox"
           }
          ],
          "scatterpolar": [
           {
            "marker": {
             "colorbar": {
              "outlinewidth": 0,
              "ticks": ""
             }
            },
            "type": "scatterpolar"
           }
          ],
          "scatterpolargl": [
           {
            "marker": {
             "colorbar": {
              "outlinewidth": 0,
              "ticks": ""
             }
            },
            "type": "scatterpolargl"
           }
          ],
          "scatterternary": [
           {
            "marker": {
             "colorbar": {
              "outlinewidth": 0,
              "ticks": ""
             }
            },
            "type": "scatterternary"
           }
          ],
          "surface": [
           {
            "colorbar": {
             "outlinewidth": 0,
             "ticks": ""
            },
            "colorscale": [
             [
              0,
              "#0d0887"
             ],
             [
              0.1111111111111111,
              "#46039f"
             ],
             [
              0.2222222222222222,
              "#7201a8"
             ],
             [
              0.3333333333333333,
              "#9c179e"
             ],
             [
              0.4444444444444444,
              "#bd3786"
             ],
             [
              0.5555555555555556,
              "#d8576b"
             ],
             [
              0.6666666666666666,
              "#ed7953"
             ],
             [
              0.7777777777777778,
              "#fb9f3a"
             ],
             [
              0.8888888888888888,
              "#fdca26"
             ],
             [
              1,
              "#f0f921"
             ]
            ],
            "type": "surface"
           }
          ],
          "table": [
           {
            "cells": {
             "fill": {
              "color": "#EBF0F8"
             },
             "line": {
              "color": "white"
             }
            },
            "header": {
             "fill": {
              "color": "#C8D4E3"
             },
             "line": {
              "color": "white"
             }
            },
            "type": "table"
           }
          ]
         },
         "layout": {
          "annotationdefaults": {
           "arrowcolor": "#2a3f5f",
           "arrowhead": 0,
           "arrowwidth": 1
          },
          "autotypenumbers": "strict",
          "coloraxis": {
           "colorbar": {
            "outlinewidth": 0,
            "ticks": ""
           }
          },
          "colorscale": {
           "diverging": [
            [
             0,
             "#8e0152"
            ],
            [
             0.1,
             "#c51b7d"
            ],
            [
             0.2,
             "#de77ae"
            ],
            [
             0.3,
             "#f1b6da"
            ],
            [
             0.4,
             "#fde0ef"
            ],
            [
             0.5,
             "#f7f7f7"
            ],
            [
             0.6,
             "#e6f5d0"
            ],
            [
             0.7,
             "#b8e186"
            ],
            [
             0.8,
             "#7fbc41"
            ],
            [
             0.9,
             "#4d9221"
            ],
            [
             1,
             "#276419"
            ]
           ],
           "sequential": [
            [
             0,
             "#0d0887"
            ],
            [
             0.1111111111111111,
             "#46039f"
            ],
            [
             0.2222222222222222,
             "#7201a8"
            ],
            [
             0.3333333333333333,
             "#9c179e"
            ],
            [
             0.4444444444444444,
             "#bd3786"
            ],
            [
             0.5555555555555556,
             "#d8576b"
            ],
            [
             0.6666666666666666,
             "#ed7953"
            ],
            [
             0.7777777777777778,
             "#fb9f3a"
            ],
            [
             0.8888888888888888,
             "#fdca26"
            ],
            [
             1,
             "#f0f921"
            ]
           ],
           "sequentialminus": [
            [
             0,
             "#0d0887"
            ],
            [
             0.1111111111111111,
             "#46039f"
            ],
            [
             0.2222222222222222,
             "#7201a8"
            ],
            [
             0.3333333333333333,
             "#9c179e"
            ],
            [
             0.4444444444444444,
             "#bd3786"
            ],
            [
             0.5555555555555556,
             "#d8576b"
            ],
            [
             0.6666666666666666,
             "#ed7953"
            ],
            [
             0.7777777777777778,
             "#fb9f3a"
            ],
            [
             0.8888888888888888,
             "#fdca26"
            ],
            [
             1,
             "#f0f921"
            ]
           ]
          },
          "colorway": [
           "#636efa",
           "#EF553B",
           "#00cc96",
           "#ab63fa",
           "#FFA15A",
           "#19d3f3",
           "#FF6692",
           "#B6E880",
           "#FF97FF",
           "#FECB52"
          ],
          "font": {
           "color": "#2a3f5f"
          },
          "geo": {
           "bgcolor": "white",
           "lakecolor": "white",
           "landcolor": "white",
           "showlakes": true,
           "showland": true,
           "subunitcolor": "#C8D4E3"
          },
          "hoverlabel": {
           "align": "left"
          },
          "hovermode": "closest",
          "mapbox": {
           "style": "light"
          },
          "paper_bgcolor": "white",
          "plot_bgcolor": "white",
          "polar": {
           "angularaxis": {
            "gridcolor": "#EBF0F8",
            "linecolor": "#EBF0F8",
            "ticks": ""
           },
           "bgcolor": "white",
           "radialaxis": {
            "gridcolor": "#EBF0F8",
            "linecolor": "#EBF0F8",
            "ticks": ""
           }
          },
          "scene": {
           "xaxis": {
            "backgroundcolor": "white",
            "gridcolor": "#DFE8F3",
            "gridwidth": 2,
            "linecolor": "#EBF0F8",
            "showbackground": true,
            "ticks": "",
            "zerolinecolor": "#EBF0F8"
           },
           "yaxis": {
            "backgroundcolor": "white",
            "gridcolor": "#DFE8F3",
            "gridwidth": 2,
            "linecolor": "#EBF0F8",
            "showbackground": true,
            "ticks": "",
            "zerolinecolor": "#EBF0F8"
           },
           "zaxis": {
            "backgroundcolor": "white",
            "gridcolor": "#DFE8F3",
            "gridwidth": 2,
            "linecolor": "#EBF0F8",
            "showbackground": true,
            "ticks": "",
            "zerolinecolor": "#EBF0F8"
           }
          },
          "shapedefaults": {
           "line": {
            "color": "#2a3f5f"
           }
          },
          "ternary": {
           "aaxis": {
            "gridcolor": "#DFE8F3",
            "linecolor": "#A2B1C6",
            "ticks": ""
           },
           "baxis": {
            "gridcolor": "#DFE8F3",
            "linecolor": "#A2B1C6",
            "ticks": ""
           },
           "bgcolor": "white",
           "caxis": {
            "gridcolor": "#DFE8F3",
            "linecolor": "#A2B1C6",
            "ticks": ""
           }
          },
          "title": {
           "x": 0.05
          },
          "xaxis": {
           "automargin": true,
           "gridcolor": "#EBF0F8",
           "linecolor": "#EBF0F8",
           "ticks": "",
           "title": {
            "standoff": 15
           },
           "zerolinecolor": "#EBF0F8",
           "zerolinewidth": 2
          },
          "yaxis": {
           "automargin": true,
           "gridcolor": "#EBF0F8",
           "linecolor": "#EBF0F8",
           "ticks": "",
           "title": {
            "standoff": 15
           },
           "zerolinecolor": "#EBF0F8",
           "zerolinewidth": 2
          }
         }
        },
        "title": {
         "font": {
          "color": "Black",
          "size": 22
         },
         "text": "Topic Word Scores",
         "x": 0.5,
         "xanchor": "center",
         "yanchor": "top"
        },
        "width": 1000,
        "xaxis": {
         "anchor": "y",
         "domain": [
          0,
          0.175
         ],
         "showgrid": true
        },
        "xaxis2": {
         "anchor": "y2",
         "domain": [
          0.275,
          0.45
         ],
         "showgrid": true
        },
        "xaxis3": {
         "anchor": "y3",
         "domain": [
          0.55,
          0.7250000000000001
         ],
         "showgrid": true
        },
        "xaxis4": {
         "anchor": "y4",
         "domain": [
          0.825,
          1
         ],
         "showgrid": true
        },
        "yaxis": {
         "anchor": "x",
         "domain": [
          0,
          1
         ],
         "showgrid": true
        },
        "yaxis2": {
         "anchor": "x2",
         "domain": [
          0,
          1
         ],
         "showgrid": true
        },
        "yaxis3": {
         "anchor": "x3",
         "domain": [
          0,
          1
         ],
         "showgrid": true
        },
        "yaxis4": {
         "anchor": "x4",
         "domain": [
          0,
          1
         ],
         "showgrid": true
        }
       }
      }
     },
     "metadata": {},
     "output_type": "display_data"
    }
   ],
   "source": [
    "# topic_model.set_topic_labels\n",
    "topic_model.visualize_barchart(custom_labels=topic_model.topic_labels_)"
   ]
  },
  {
   "cell_type": "code",
   "execution_count": null,
   "metadata": {},
   "outputs": [],
   "source": [
    "# dummy visualizing over time - create some synthetic timestamps\n",
    "\n",
    "# Define the start and end dates\n",
    "start_date = \"2021-01-01\"\n",
    "end_date = \"2023-12-31\"\n",
    "\n",
    "# Generate random dates between the start and end dates\n",
    "n = len(docs)  # Number of random dates to generate\n",
    "date_range = pd.date_range(start=start_date, end=end_date)\n",
    "random_dates = np.random.choice(date_range, n)\n",
    "\n",
    "# add to docs \n",
    "topics_over_time = topic_model.topics_over_time(docs, random_dates)"
   ]
  },
  {
   "cell_type": "code",
   "execution_count": 115,
   "metadata": {},
   "outputs": [
    {
     "data": {
      "application/vnd.plotly.v1+json": {
       "config": {
        "plotlyServerURL": "https://plot.ly"
       },
       "data": [
        {
         "hoverinfo": "text",
         "hovertext": [
          "<b>Topic 0</b><br>Words: urethral disorders, , , , ",
          "<b>Topic 0</b><br>Words: antepartum, , , , ",
          "<b>Topic 0</b><br>Words: meckel, , , , ",
          "<b>Topic 0</b><br>Words: fetus disproportion, , , , ",
          "<b>Topic 0</b><br>Words: cruciate ligament, , , , ",
          "<b>Topic 0</b><br>Words: opacities, , , , ",
          "<b>Topic 0</b><br>Words: paraplegia, , , , ",
          "<b>Topic 0</b><br>Words: bursitis, , , , ",
          "<b>Topic 0</b><br>Words: antepartum, , , , ",
          "<b>Topic 0</b><br>Words: otitis, , , , ",
          "<b>Topic 0</b><br>Words: penicillin, , , , ",
          "<b>Topic 0</b><br>Words: antepartum, , , , ",
          "<b>Topic 0</b><br>Words: ovulation, , , , ",
          "<b>Topic 0</b><br>Words: hypotropia, , , , ",
          "<b>Topic 0</b><br>Words: edema, , , , ",
          "<b>Topic 0</b><br>Words: escherichia, , , , ",
          "<b>Topic 0</b><br>Words: fibroplasia, , , , ",
          "<b>Topic 0</b><br>Words: tuberculosis, , , , ",
          "<b>Topic 0</b><br>Words: vitamin, , , , ",
          "<b>Topic 0</b><br>Words: lumbar stenosis, , , , ",
          "<b>Topic 0</b><br>Words: engorgement, , , , ",
          "<b>Topic 0</b><br>Words: antepartum, , , , ",
          "<b>Topic 0</b><br>Words: psychiatric disorder, , , , ",
          "<b>Topic 0</b><br>Words: enophthalmos, , , , ",
          "<b>Topic 0</b><br>Words: mastoiditis, , , , ",
          "<b>Topic 0</b><br>Words: alighting, , , , ",
          "<b>Topic 0</b><br>Words: antepartum, , , , ",
          "<b>Topic 0</b><br>Words: antepartum, , , , ",
          "<b>Topic 0</b><br>Words: cervical fracture, , , , ",
          "<b>Topic 0</b><br>Words: fractured bone, , , , ",
          "<b>Topic 0</b><br>Words: nasopharynx, , , , ",
          "<b>Topic 0</b><br>Words: retinoschisis, , , , ",
          "<b>Topic 0</b><br>Words: antacids, , , , ",
          "<b>Topic 0</b><br>Words: antepartum, , , , ",
          "<b>Topic 0</b><br>Words: nystagmus, , , , ",
          "<b>Topic 0</b><br>Words: pneumonia, , , , ",
          "<b>Topic 0</b><br>Words: gangrene, , , , ",
          "<b>Topic 0</b><br>Words: thigh, , , , ",
          "<b>Topic 0</b><br>Words: poisoning, , , , ",
          "<b>Topic 0</b><br>Words: drug poisoning, , , , ",
          "<b>Topic 0</b><br>Words: antepartum, , , , ",
          "<b>Topic 0</b><br>Words: antepartum, , , , ",
          "<b>Topic 0</b><br>Words: mumps, , , , ",
          "<b>Topic 0</b><br>Words: schizophrenia, , , , ",
          "<b>Topic 0</b><br>Words: antepartum, , , , ",
          "<b>Topic 0</b><br>Words: fetal sex, , , , ",
          "<b>Topic 0</b><br>Words: hallucinogens, , , , ",
          "<b>Topic 0</b><br>Words: kidney disease, , , , ",
          "<b>Topic 0</b><br>Words: chondrocalcinosis, , , , ",
          "<b>Topic 0</b><br>Words: boutonneuse, , , , ",
          "<b>Topic 0</b><br>Words: hemopericardium, , , , ",
          "<b>Topic 0</b><br>Words: cyst, , , , ",
          "<b>Topic 0</b><br>Words: fracture, , , , ",
          "<b>Topic 0</b><br>Words: ectropion, , , , ",
          "<b>Topic 0</b><br>Words: chondrocalcinosis, , , , ",
          "<b>Topic 0</b><br>Words: fetal poisoning, , , , ",
          "<b>Topic 0</b><br>Words: antacid, , , , ",
          "<b>Topic 0</b><br>Words: hypospadias, , , , ",
          "<b>Topic 0</b><br>Words: conjunctivitis, , , , ",
          "<b>Topic 0</b><br>Words: antepartum, , , , ",
          "<b>Topic 0</b><br>Words: antepartum, , , , ",
          "<b>Topic 0</b><br>Words: achromatopsia, , , , ",
          "<b>Topic 0</b><br>Words: influenza, , , , ",
          "<b>Topic 0</b><br>Words: gonococcal infection, , , , ",
          "<b>Topic 0</b><br>Words: sinusitis, , , , ",
          "<b>Topic 0</b><br>Words: antenatal screening, , , , ",
          "<b>Topic 0</b><br>Words: asthma, , , , ",
          "<b>Topic 0</b><br>Words: glaucoma, , , , ",
          "<b>Topic 0</b><br>Words: ovulation, , , , ",
          "<b>Topic 0</b><br>Words: hydrocele, , , , ",
          "<b>Topic 0</b><br>Words: jumping, , , , ",
          "<b>Topic 0</b><br>Words: antacids, , , , ",
          "<b>Topic 0</b><br>Words: antepartum, , , , ",
          "<b>Topic 0</b><br>Words: meningitis, , , , ",
          "<b>Topic 0</b><br>Words: malayan filariasis, , , , ",
          "<b>Topic 0</b><br>Words: skier falls in water, , , , ",
          "<b>Topic 0</b><br>Words: diphtheria, , , , ",
          "<b>Topic 0</b><br>Words: antepartum dislocation, , , , ",
          "<b>Topic 0</b><br>Words: foot, , , , ",
          "<b>Topic 0</b><br>Words: cervical fracture, , , , ",
          "<b>Topic 0</b><br>Words: psychiatric disorder, , , , ",
          "<b>Topic 0</b><br>Words: antepartum, , , , ",
          "<b>Topic 0</b><br>Words: frostbite, , , , ",
          "<b>Topic 0</b><br>Words: ear, , , , ",
          "<b>Topic 0</b><br>Words: iridocyclitis, , , , ",
          "<b>Topic 0</b><br>Words: toxoplasmosis, , , , ",
          "<b>Topic 0</b><br>Words: antacid, , , , ",
          "<b>Topic 0</b><br>Words: antepartum, , , , ",
          "<b>Topic 0</b><br>Words: malaria, , , , ",
          "<b>Topic 0</b><br>Words: tenosynovitis, , , , ",
          "<b>Topic 0</b><br>Words: cough, , , , ",
          "<b>Topic 0</b><br>Words: antepartum, , , , ",
          "<b>Topic 0</b><br>Words: dystrophy, , , , ",
          "<b>Topic 0</b><br>Words: sternum fracture, , , , ",
          "<b>Topic 0</b><br>Words: pyemie, , , , ",
          "<b>Topic 0</b><br>Words: sprain, , , , ",
          "<b>Topic 0</b><br>Words: cryptosporidiosis, , , , ",
          "<b>Topic 0</b><br>Words: antacids, , , , ",
          "<b>Topic 0</b><br>Words: calcified limb, , , , ",
          "<b>Topic 0</b><br>Words: antepartum, , , , ",
          "<b>Topic 0</b><br>Words: metacarpophalangeal dislocation, , , , ",
          "<b>Topic 0</b><br>Words: idiopathic neuropathy, , , , ",
          "<b>Topic 0</b><br>Words: alcoholism, , , , ",
          "<b>Topic 0</b><br>Words: coxa, , , , ",
          "<b>Topic 0</b><br>Words: antepartum, , , , ",
          "<b>Topic 0</b><br>Words: antepartum, , , , ",
          "<b>Topic 0</b><br>Words: otosclerosis, , , , ",
          "<b>Topic 0</b><br>Words: hemorrhage, , , , ",
          "<b>Topic 0</b><br>Words: wheezing, , , , ",
          "<b>Topic 0</b><br>Words: aortic stenosis, , , , ",
          "<b>Topic 0</b><br>Words: cyanide, , , , ",
          "<b>Topic 0</b><br>Words: antepartum syndrome, , , , ",
          "<b>Topic 0</b><br>Words: orgasmic disorder, , , , ",
          "<b>Topic 0</b><br>Words: antepartum, , , , ",
          "<b>Topic 0</b><br>Words: antepartum fracture, , , , ",
          "<b>Topic 0</b><br>Words: fracture of the tibia, , , , ",
          "<b>Topic 0</b><br>Words: poisoning, , , , ",
          "<b>Topic 0</b><br>Words: pinta, , , , ",
          "<b>Topic 0</b><br>Words: parasomnia, , , , ",
          "<b>Topic 0</b><br>Words: antacid, , , , ",
          "<b>Topic 0</b><br>Words: ophthalmocytic atrophy, , , , ",
          "<b>Topic 0</b><br>Words: endocarditis, , , , ",
          "<b>Topic 0</b><br>Words: enterocolitis, , , , ",
          "<b>Topic 0</b><br>Words: antepartum, , , , ",
          "<b>Topic 0</b><br>Words: iris, , , , ",
          "<b>Topic 0</b><br>Words: antepartum, , , , ",
          "<b>Topic 0</b><br>Words: echinococcus, , , , ",
          "<b>Topic 0</b><br>Words: rubella, , , , ",
          "<b>Topic 0</b><br>Words: hb, , , , ",
          "<b>Topic 0</b><br>Words: pregnancy, , , , ",
          "<b>Topic 0</b><br>Words: antepartum, , , , ",
          "<b>Topic 0</b><br>Words: femoral fracture, , , , ",
          "<b>Topic 0</b><br>Words: antepartum, , , , ",
          "<b>Topic 0</b><br>Words: glaucoma, , , , ",
          "<b>Topic 0</b><br>Words: ulcer, , , , ",
          "<b>Topic 0</b><br>Words: antepartum, , , , ",
          "<b>Topic 0</b><br>Words: cannabis, , , , ",
          "<b>Topic 0</b><br>Words: thyrotoxic, , , , ",
          "<b>Topic 0</b><br>Words: psychiatric examination, , , , ",
          "<b>Topic 0</b><br>Words: salmonella, , , , ",
          "<b>Topic 0</b><br>Words: antibiotics, , , , ",
          "<b>Topic 0</b><br>Words: pinta, , , , ",
          "<b>Topic 0</b><br>Words: thyrotoxicosis, , , , ",
          "<b>Topic 0</b><br>Words: yersinia, , , , ",
          "<b>Topic 0</b><br>Words: schizophreniform disorder, , , , ",
          "<b>Topic 0</b><br>Words: antepartum, , , , ",
          "<b>Topic 0</b><br>Words: antepartum, , , , ",
          "<b>Topic 0</b><br>Words: aeroplane, , , , ",
          "<b>Topic 0</b><br>Words: antepartum, , , , ",
          "<b>Topic 0</b><br>Words: shoulder, , , , ",
          "<b>Topic 0</b><br>Words: tuberculosis, , , , ",
          "<b>Topic 0</b><br>Words: heart complications, , , , ",
          "<b>Topic 0</b><br>Words: erythema, , , , ",
          "<b>Topic 0</b><br>Words: antepartum, , , , ",
          "<b>Topic 0</b><br>Words: omsk fever, , , , ",
          "<b>Topic 0</b><br>Words: vaginal septum, , , , ",
          "<b>Topic 0</b><br>Words: polycythemia, , , , ",
          "<b>Topic 0</b><br>Words: gastroenteritis, , , , ",
          "<b>Topic 0</b><br>Words: tuberculosis, , , , ",
          "<b>Topic 0</b><br>Words: clostridium, , , , ",
          "<b>Topic 0</b><br>Words: sprain, , , , ",
          "<b>Topic 0</b><br>Words: bungee jumping, , , , ",
          "<b>Topic 0</b><br>Words: ear, , , , ",
          "<b>Topic 0</b><br>Words: thoracotomy, , , , ",
          "<b>Topic 0</b><br>Words: antacid delivery, , , , ",
          "<b>Topic 0</b><br>Words: drowning, , , , ",
          "<b>Topic 0</b><br>Words: vulva, , , , ",
          "<b>Topic 0</b><br>Words: antepartum, , , , ",
          "<b>Topic 0</b><br>Words: urinary obstruction, , , , ",
          "<b>Topic 0</b><br>Words: iris, , , , ",
          "<b>Topic 0</b><br>Words: dialysis, , , , ",
          "<b>Topic 0</b><br>Words: gangrene, , , , ",
          "<b>Topic 0</b><br>Words: psoriatic arthritis, , , , ",
          "<b>Topic 0</b><br>Words: myelitis, , , , ",
          "<b>Topic 0</b><br>Words: chondrocalcinosis, , , , ",
          "<b>Topic 0</b><br>Words: bone, , , , ",
          "<b>Topic 0</b><br>Words: abrasion, , , , ",
          "<b>Topic 0</b><br>Words: antepartum, , , , ",
          "<b>Topic 0</b><br>Words: dietetics, , , , ",
          "<b>Topic 0</b><br>Words: antepartum, , , , ",
          "<b>Topic 0</b><br>Words: antepartum, , , , ",
          "<b>Topic 0</b><br>Words: eczema, , , , ",
          "<b>Topic 0</b><br>Words: drug abuse, , , , ",
          "<b>Topic 0</b><br>Words: antepartum, , , , ",
          "<b>Topic 0</b><br>Words: laceration of the vaginal tendons, , , , ",
          "<b>Topic 0</b><br>Words: hypertension, , , , ",
          "<b>Topic 0</b><br>Words: metagonimiasis, , , , ",
          "<b>Topic 0</b><br>Words: antepartum fracture, , , , ",
          "<b>Topic 0</b><br>Words: bronchitis, , , , ",
          "<b>Topic 0</b><br>Words: antepartum, , , , ",
          "<b>Topic 0</b><br>Words: endocrine disorders, , , , ",
          "<b>Topic 0</b><br>Words: angiodysplasia, , , , ",
          "<b>Topic 0</b><br>Words: foot, , , , ",
          "<b>Topic 0</b><br>Words: rib fracture, , , , ",
          "<b>Topic 0</b><br>Words: rsv, , , , ",
          "<b>Topic 0</b><br>Words: antacid, , , , ",
          "<b>Topic 0</b><br>Words: meningitis, , , , ",
          "<b>Topic 0</b><br>Words: mumps, , , , ",
          "<b>Topic 0</b><br>Words: eczema, , , , ",
          "<b>Topic 0</b><br>Words: dystrophy, , , , ",
          "<b>Topic 0</b><br>Words: colitis, , , , ",
          "<b>Topic 0</b><br>Words: burns on railway, , , , ",
          "<b>Topic 0</b><br>Words: tinnitus, , , , ",
          "<b>Topic 0</b><br>Words: candidiasis, , , , ",
          "<b>Topic 0</b><br>Words: catheterization, , , , ",
          "<b>Topic 0</b><br>Words: pneumonia, , , , ",
          "<b>Topic 0</b><br>Words: diabetes, , , , ",
          "<b>Topic 0</b><br>Words: reattached body, , , , ",
          "<b>Topic 0</b><br>Words: breast cancer, , , , ",
          "<b>Topic 0</b><br>Words: cleft lip, , , , ",
          "<b>Topic 0</b><br>Words: fetal radiation, , , , ",
          "<b>Topic 0</b><br>Words: arthropathy, , , , ",
          "<b>Topic 0</b><br>Words: astrovirus, , , , ",
          "<b>Topic 0</b><br>Words: senile, , , , ",
          "<b>Topic 0</b><br>Words: pneumonia, , , , ",
          "<b>Topic 0</b><br>Words: osteoarthrosis, , , , ",
          "<b>Topic 0</b><br>Words: gangrene, , , , ",
          "<b>Topic 0</b><br>Words: rhinovirus, , , , ",
          "<b>Topic 0</b><br>Words: syphilis, , , , ",
          "<b>Topic 0</b><br>Words: obstructed labor, , , , ",
          "<b>Topic 0</b><br>Words: scotoma, , , , ",
          "<b>Topic 0</b><br>Words: antacid, , , , ",
          "<b>Topic 0</b><br>Words: contraceptive, , , , ",
          "<b>Topic 0</b><br>Words: antepartum, , , , ",
          "<b>Topic 0</b><br>Words: glenoid, , , , ",
          "<b>Topic 0</b><br>Words: drug withdrawal, , , , ",
          "<b>Topic 0</b><br>Words: antepartum, , , , ",
          "<b>Topic 0</b><br>Words: recurvatum, , , , ",
          "<b>Topic 0</b><br>Words: antepartum complications, , , , ",
          "<b>Topic 0</b><br>Words: antepartum, , , , ",
          "<b>Topic 0</b><br>Words: fetus, , , , ",
          "<b>Topic 0</b><br>Words: hip fracture, , , , ",
          "<b>Topic 0</b><br>Words: pedal cycle, , , , ",
          "<b>Topic 0</b><br>Words: hypersomnia, , , , ",
          "<b>Topic 0</b><br>Words: chondrodystrophy, , , , ",
          "<b>Topic 0</b><br>Words: chorioretinitis, , , , ",
          "<b>Topic 0</b><br>Words: fetus, , , , ",
          "<b>Topic 0</b><br>Words: ossicles, , , , ",
          "<b>Topic 0</b><br>Words: breast cancer, , , , ",
          "<b>Topic 0</b><br>Words: atherosclerosis, , , , ",
          "<b>Topic 0</b><br>Words: antepartum, , , , ",
          "<b>Topic 0</b><br>Words: antepartum, , , , ",
          "<b>Topic 0</b><br>Words: atrioventricular block, , , , ",
          "<b>Topic 0</b><br>Words: phlebitis, , , , ",
          "<b>Topic 0</b><br>Words: acanthamoeba, , , , ",
          "<b>Topic 0</b><br>Words: renal failure, , , , ",
          "<b>Topic 0</b><br>Words: antepartum, , , , ",
          "<b>Topic 0</b><br>Words: ocular detachment, , , , ",
          "<b>Topic 0</b><br>Words: sprain, , , , ",
          "<b>Topic 0</b><br>Words: syphilis, , , , ",
          "<b>Topic 0</b><br>Words: neurohypophysis, , , , ",
          "<b>Topic 0</b><br>Words: dementia, , , , ",
          "<b>Topic 0</b><br>Words: edentulism, , , , ",
          "<b>Topic 0</b><br>Words: splenomegaly, , , , ",
          "<b>Topic 0</b><br>Words: antepartum, , , , ",
          "<b>Topic 0</b><br>Words: wrestling, , , , ",
          "<b>Topic 0</b><br>Words: mononeuritis, , , , ",
          "<b>Topic 0</b><br>Words: pylori, , , , ",
          "<b>Topic 0</b><br>Words: aldosterone, , , , ",
          "<b>Topic 0</b><br>Words: sjogren, , , , ",
          "<b>Topic 0</b><br>Words: cataract, , , , ",
          "<b>Topic 0</b><br>Words: monkeypox, , , , ",
          "<b>Topic 0</b><br>Words: antacid, , , , ",
          "<b>Topic 0</b><br>Words: hepatitis, , , , ",
          "<b>Topic 0</b><br>Words: sclerosis, , , , ",
          "<b>Topic 0</b><br>Words: myocardial degeneration, , , , ",
          "<b>Topic 0</b><br>Words: antepartum syndrome, , , , ",
          "<b>Topic 0</b><br>Words: hydromyelia, , , , ",
          "<b>Topic 0</b><br>Words: scleritis, , , , ",
          "<b>Topic 0</b><br>Words: uremic acid, , , , ",
          "<b>Topic 0</b><br>Words: hepatitis, , , , ",
          "<b>Topic 0</b><br>Words: periodontitis, , , , ",
          "<b>Topic 0</b><br>Words: pouchitis, , , , ",
          "<b>Topic 0</b><br>Words: antepartum, , , , ",
          "<b>Topic 0</b><br>Words: antacid, , , , ",
          "<b>Topic 0</b><br>Words: rat bite, , , , ",
          "<b>Topic 0</b><br>Words: hemorrhage, , , , ",
          "<b>Topic 0</b><br>Words: hemolytic anemia, , , , ",
          "<b>Topic 0</b><br>Words: ear stenosis, , , , ",
          "<b>Topic 0</b><br>Words: macular scar, , , , ",
          "<b>Topic 0</b><br>Words: prostate, , , , ",
          "<b>Topic 0</b><br>Words: otocyst, , , , ",
          "<b>Topic 0</b><br>Words: fracture of the femoral condyle, , , , ",
          "<b>Topic 0</b><br>Words: thigh, , , , ",
          "<b>Topic 0</b><br>Words: boarding, , , , ",
          "<b>Topic 0</b><br>Words: colitis, , , , ",
          "<b>Topic 0</b><br>Words: antepartum, , , , ",
          "<b>Topic 0</b><br>Words: macular degeneration, , , , ",
          "<b>Topic 0</b><br>Words: gram, , , , ",
          "<b>Topic 0</b><br>Words: hypnotic, , , , ",
          "<b>Topic 0</b><br>Words: antepartum, , , , ",
          "<b>Topic 0</b><br>Words: polyneuropathy, , , , ",
          "<b>Topic 0</b><br>Words: foot, , , , ",
          "<b>Topic 0</b><br>Words: tuberculosis, , , , ",
          "<b>Topic 0</b><br>Words: foot, , , , ",
          "<b>Topic 0</b><br>Words: antepartum fracture, , , , ",
          "<b>Topic 0</b><br>Words: antepartum, , , , ",
          "<b>Topic 0</b><br>Words: ectopic pregnancy, , , , ",
          "<b>Topic 0</b><br>Words: antianemic, , , , ",
          "<b>Topic 0</b><br>Words: cyclothymic disorder, , , , ",
          "<b>Topic 0</b><br>Words: ulna, , , , ",
          "<b>Topic 0</b><br>Words: foot, , , , ",
          "<b>Topic 0</b><br>Words: ovarian polyneuropathy, , , , ",
          "<b>Topic 0</b><br>Words: amputation, , , , ",
          "<b>Topic 0</b><br>Words: antepartum, , , , ",
          "<b>Topic 0</b><br>Words: gamma, , , , ",
          "<b>Topic 0</b><br>Words: percussion, , , , ",
          "<b>Topic 0</b><br>Words: antepartum, , , , ",
          "<b>Topic 0</b><br>Words: bowel, , , , ",
          "<b>Topic 0</b><br>Words: abortion, , , , ",
          "<b>Topic 0</b><br>Words: cervical dislocation, , , , ",
          "<b>Topic 0</b><br>Words: erythromycin, , , , ",
          "<b>Topic 0</b><br>Words: reiter, , , , ",
          "<b>Topic 0</b><br>Words: atypical robertson syndrome, , , , ",
          "<b>Topic 0</b><br>Words: tracheitis, , , , ",
          "<b>Topic 0</b><br>Words: ovarian disease, , , , ",
          "<b>Topic 0</b><br>Words: shoulder dislocation, , , , ",
          "<b>Topic 0</b><br>Words: choroid disorder, , , , ",
          "<b>Topic 0</b><br>Words: fetal abnormality, , , , ",
          "<b>Topic 0</b><br>Words: bomb, , , , ",
          "<b>Topic 0</b><br>Words: pregnancy, , , , ",
          "<b>Topic 0</b><br>Words: antepartum, , , , ",
          "<b>Topic 0</b><br>Words: hoffmann disease, , , , ",
          "<b>Topic 0</b><br>Words: fetus, , , , ",
          "<b>Topic 0</b><br>Words: alkalizing agent, , , , ",
          "<b>Topic 0</b><br>Words: rheumatic disorder, , , , ",
          "<b>Topic 0</b><br>Words: laryngitis, , , , ",
          "<b>Topic 0</b><br>Words: blister, , , , ",
          "<b>Topic 0</b><br>Words: hepatitis, , , , ",
          "<b>Topic 0</b><br>Words: osteogenesis, , , , ",
          "<b>Topic 0</b><br>Words: abortion, , , , ",
          "<b>Topic 0</b><br>Words: depression, , , , ",
          "<b>Topic 0</b><br>Words: antepartum, , , , ",
          "<b>Topic 0</b><br>Words: cervical dislocation, , , , ",
          "<b>Topic 0</b><br>Words: cholera, , , , ",
          "<b>Topic 0</b><br>Words: thiamine, , , , ",
          "<b>Topic 0</b><br>Words: fractured tooth, , , , ",
          "<b>Topic 0</b><br>Words: chondrocalcinosis, , , , ",
          "<b>Topic 0</b><br>Words: schizophrenia, , , , ",
          "<b>Topic 0</b><br>Words: erythematous, , , , ",
          "<b>Topic 0</b><br>Words: thorax, , , , ",
          "<b>Topic 0</b><br>Words: complication, , , , ",
          "<b>Topic 0</b><br>Words: tuberculosis, , , , ",
          "<b>Topic 0</b><br>Words: parachutist, , , , ",
          "<b>Topic 0</b><br>Words: keratitis, , , , ",
          "<b>Topic 0</b><br>Words: pinna, , , , ",
          "<b>Topic 0</b><br>Words: nasopharyngitis, , , , ",
          "<b>Topic 0</b><br>Words: ear, , , , ",
          "<b>Topic 0</b><br>Words: ear stenosis, , , , ",
          "<b>Topic 0</b><br>Words: prostate, , , , ",
          "<b>Topic 0</b><br>Words: fetal heart rate, , , , ",
          "<b>Topic 0</b><br>Words: choroid, , , , ",
          "<b>Topic 0</b><br>Words: abortion, , , , ",
          "<b>Topic 0</b><br>Words: phobia, , , , ",
          "<b>Topic 0</b><br>Words: bee sting, , , , ",
          "<b>Topic 0</b><br>Words: oral cyst, , , , ",
          "<b>Topic 0</b><br>Words: rubella, , , , ",
          "<b>Topic 0</b><br>Words: antacids, , , , ",
          "<b>Topic 0</b><br>Words: amphetamine, , , , ",
          "<b>Topic 0</b><br>Words: dermatitis, , , , ",
          "<b>Topic 0</b><br>Words: sprain, , , , ",
          "<b>Topic 0</b><br>Words: keratoconjunctivitis, , , , ",
          "<b>Topic 0</b><br>Words: antepartum burn, , , , ",
          "<b>Topic 0</b><br>Words: pedophilia, , , , ",
          "<b>Topic 0</b><br>Words: kidney, , , , ",
          "<b>Topic 0</b><br>Words: osteoarthrosis, , , , ",
          "<b>Topic 0</b><br>Words: gonorrhea, , , , ",
          "<b>Topic 0</b><br>Words: colostomy, , , , ",
          "<b>Topic 0</b><br>Words: antepartum, , , , ",
          "<b>Topic 0</b><br>Words: antepartum, , , , ",
          "<b>Topic 0</b><br>Words: anticoagulants, , , , ",
          "<b>Topic 0</b><br>Words: poisoning, , , , ",
          "<b>Topic 0</b><br>Words: fracture, , , , ",
          "<b>Topic 0</b><br>Words: genital xi, , , , ",
          "<b>Topic 0</b><br>Words: antepartum burn, , , , ",
          "<b>Topic 0</b><br>Words: iridocyclitis, , , , ",
          "<b>Topic 0</b><br>Words: ethyl alcohol, , , , ",
          "<b>Topic 0</b><br>Words: toothache, , , , ",
          "<b>Topic 0</b><br>Words: chlamydial infection, , , , ",
          "<b>Topic 0</b><br>Words: antepartum, , , , ",
          "<b>Topic 0</b><br>Words: filariasis, , , , ",
          "<b>Topic 0</b><br>Words: antepartum, , , , ",
          "<b>Topic 0</b><br>Words: antacid, , , , ",
          "<b>Topic 0</b><br>Words: aspergillosis, , , , ",
          "<b>Topic 0</b><br>Words: aspirin, , , , ",
          "<b>Topic 0</b><br>Words: embolism, , , , ",
          "<b>Topic 0</b><br>Words: vulvovaginitis, , , , ",
          "<b>Topic 0</b><br>Words: birth injuries, , , , ",
          "<b>Topic 0</b><br>Words: phlebitis, , , , ",
          "<b>Topic 0</b><br>Words: myocardial infarction, , , , ",
          "<b>Topic 0</b><br>Words: antepartum complications, , , , ",
          "<b>Topic 0</b><br>Words: syphilis, , , , ",
          "<b>Topic 0</b><br>Words: antepartum, , , , ",
          "<b>Topic 0</b><br>Words: osteoarthrosis, , , , ",
          "<b>Topic 0</b><br>Words: antepartum, , , , ",
          "<b>Topic 0</b><br>Words: antepartum, , , , ",
          "<b>Topic 0</b><br>Words: motorcycle, , , , ",
          "<b>Topic 0</b><br>Words: chin, , , , ",
          "<b>Topic 0</b><br>Words: antepartum, , , , ",
          "<b>Topic 0</b><br>Words: labyrinthitis, , , , ",
          "<b>Topic 0</b><br>Words: influenza, , , , ",
          "<b>Topic 0</b><br>Words: suicide, , , , ",
          "<b>Topic 0</b><br>Words: chondrocalcinosis, , , , ",
          "<b>Topic 0</b><br>Words: fracture, , , , ",
          "<b>Topic 0</b><br>Words: drug narcotic, , , , ",
          "<b>Topic 0</b><br>Words: hemolysis, , , , ",
          "<b>Topic 0</b><br>Words: cardiomyopathy, , , , ",
          "<b>Topic 0</b><br>Words: iron, , , , ",
          "<b>Topic 0</b><br>Words: amphetamine, , , , ",
          "<b>Topic 0</b><br>Words: antacid, , , , ",
          "<b>Topic 0</b><br>Words: Klebsiella pneumonia, , , , ",
          "<b>Topic 0</b><br>Words: ocular glaucoma, , , , ",
          "<b>Topic 0</b><br>Words: motorcycle, , , , ",
          "<b>Topic 0</b><br>Words: es, , , , ",
          "<b>Topic 0</b><br>Words: osteomyelitis, , , , ",
          "<b>Topic 0</b><br>Words: leukoplakia, , , , ",
          "<b>Topic 0</b><br>Words: antepartum, , , , ",
          "<b>Topic 0</b><br>Words: antepartum, , , , ",
          "<b>Topic 0</b><br>Words: antepartum, , , , ",
          "<b>Topic 0</b><br>Words: osteochondrosis, , , , ",
          "<b>Topic 0</b><br>Words: calcification, , , , ",
          "<b>Topic 0</b><br>Words: voyeurism, , , , ",
          "<b>Topic 0</b><br>Words: antepartum, , , , ",
          "<b>Topic 0</b><br>Words: tooth, , , , ",
          "<b>Topic 0</b><br>Words: pregnancy, , , , ",
          "<b>Topic 0</b><br>Words: contusion of elbow, , , , ",
          "<b>Topic 0</b><br>Words: contraception, , , , ",
          "<b>Topic 0</b><br>Words: cholecystitis, , , , ",
          "<b>Topic 0</b><br>Words: fetal placental dysfunction, , , , ",
          "<b>Topic 0</b><br>Words: limb deformity, , , , ",
          "<b>Topic 0</b><br>Words: kidney disease, , , , ",
          "<b>Topic 0</b><br>Words: antepartum burn, , , , ",
          "<b>Topic 0</b><br>Words: train, , , , ",
          "<b>Topic 0</b><br>Words: ocular vision, , , , ",
          "<b>Topic 0</b><br>Words: ovular synovitis, , , , ",
          "<b>Topic 0</b><br>Words: antepartum fracture, , , , ",
          "<b>Topic 0</b><br>Words: oophoritis, , , , ",
          "<b>Topic 0</b><br>Words: antepartum, , , , ",
          "<b>Topic 0</b><br>Words: tooth, , , , ",
          "<b>Topic 0</b><br>Words: ossicles, , , , ",
          "<b>Topic 0</b><br>Words: terrorism, , , , ",
          "<b>Topic 0</b><br>Words: antepartum, , , , ",
          "<b>Topic 0</b><br>Words: granuloma, , , , ",
          "<b>Topic 0</b><br>Words: peritoneal fibrosis, , , , ",
          "<b>Topic 0</b><br>Words: spasmolytics, , , , ",
          "<b>Topic 0</b><br>Words: dystrophy, , , , ",
          "<b>Topic 0</b><br>Words: ketoacidosis, , , , ",
          "<b>Topic 0</b><br>Words: swan, , , , ",
          "<b>Topic 0</b><br>Words: malaria, , , , ",
          "<b>Topic 0</b><br>Words: resorption, , , , ",
          "<b>Topic 0</b><br>Words: panophthalmitis, , , , ",
          "<b>Topic 0</b><br>Words: antepartum, , , , ",
          "<b>Topic 0</b><br>Words: hysterectomy, , , , ",
          "<b>Topic 0</b><br>Words: blister, , , , ",
          "<b>Topic 0</b><br>Words: transfusion, , , , ",
          "<b>Topic 0</b><br>Words: retinopathy, , , , ",
          "<b>Topic 0</b><br>Words: antepartum, , , , ",
          "<b>Topic 0</b><br>Words: varicose veins, , , , ",
          "<b>Topic 0</b><br>Words: ovum, , , , ",
          "<b>Topic 0</b><br>Words: opportunistic, , , , ",
          "<b>Topic 0</b><br>Words: antepartum, , , , ",
          "<b>Topic 0</b><br>Words: peritonitis, , , , ",
          "<b>Topic 0</b><br>Words: nephroptosis, , , , ",
          "<b>Topic 0</b><br>Words: anthrax, , , , ",
          "<b>Topic 0</b><br>Words: antapartum, , , , ",
          "<b>Topic 0</b><br>Words: poisoning, , , , ",
          "<b>Topic 0</b><br>Words: skidding, , , , ",
          "<b>Topic 0</b><br>Words: postlaminectomy, , , , ",
          "<b>Topic 0</b><br>Words: anthem, , , , ",
          "<b>Topic 0</b><br>Words: antepartum, , , , ",
          "<b>Topic 0</b><br>Words: embolism, , , , ",
          "<b>Topic 0</b><br>Words: piercing, , , , ",
          "<b>Topic 0</b><br>Words: cholera, , , , ",
          "<b>Topic 0</b><br>Words: antacids, , , , ",
          "<b>Topic 0</b><br>Words: hb, , , , ",
          "<b>Topic 0</b><br>Words: migrainosus, , , , ",
          "<b>Topic 0</b><br>Words: vitamin, , , , ",
          "<b>Topic 0</b><br>Words: diabetic macular disease, , , , ",
          "<b>Topic 0</b><br>Words: hemorrhage, , , , ",
          "<b>Topic 0</b><br>Words: necrolysis, , , , ",
          "<b>Topic 0</b><br>Words: limbs, , , , ",
          "<b>Topic 0</b><br>Words: antepartum, , , , ",
          "<b>Topic 0</b><br>Words: antepartum, , , , ",
          "<b>Topic 0</b><br>Words: bacterial infection, , , , ",
          "<b>Topic 0</b><br>Words: chagas, , , , ",
          "<b>Topic 0</b><br>Words: antrovirus, , , , ",
          "<b>Topic 0</b><br>Words: myelitis, , , , ",
          "<b>Topic 0</b><br>Words: lactic acid, , , , ",
          "<b>Topic 0</b><br>Words: antacids, , , , ",
          "<b>Topic 0</b><br>Words: mitral valve, , , , ",
          "<b>Topic 0</b><br>Words: antepartum fracture, , , , ",
          "<b>Topic 0</b><br>Words: antepartum, , , , ",
          "<b>Topic 0</b><br>Words: diphtheria, , , , ",
          "<b>Topic 0</b><br>Words: entopy, , , , ",
          "<b>Topic 0</b><br>Words: tularemia, , , , ",
          "<b>Topic 0</b><br>Words: oligohydramnios, , , , ",
          "<b>Topic 0</b><br>Words: appendicitis, , , , ",
          "<b>Topic 0</b><br>Words: hemarthrosis, , , , ",
          "<b>Topic 0</b><br>Words: echinococcus, , , , ",
          "<b>Topic 0</b><br>Words: tuberculosis, , , , ",
          "<b>Topic 0</b><br>Words: cholera, , , , ",
          "<b>Topic 0</b><br>Words: pyogenic arthritis, , , , ",
          "<b>Topic 0</b><br>Words: hepatitis, , , , ",
          "<b>Topic 0</b><br>Words: ocular conjunctivitis, , , , ",
          "<b>Topic 0</b><br>Words: hemophilia, , , , ",
          "<b>Topic 0</b><br>Words: gastroduodenitis, , , , ",
          "<b>Topic 0</b><br>Words: mydriasis, , , , ",
          "<b>Topic 0</b><br>Words: amebiasis, , , , ",
          "<b>Topic 0</b><br>Words: fibrosis, , , , ",
          "<b>Topic 0</b><br>Words: antepartum, , , , ",
          "<b>Topic 0</b><br>Words: hepatitis, , , , ",
          "<b>Topic 0</b><br>Words: rls, , , , ",
          "<b>Topic 0</b><br>Words: spasm, , , , ",
          "<b>Topic 0</b><br>Words: convulsions, , , , ",
          "<b>Topic 0</b><br>Words: foot dislocation, , , , ",
          "<b>Topic 0</b><br>Words: schizophrenia, , , , ",
          "<b>Topic 0</b><br>Words: tuberculosis, , , , ",
          "<b>Topic 0</b><br>Words: ulcer, , , , ",
          "<b>Topic 0</b><br>Words: fall from a ladder, , , , ",
          "<b>Topic 0</b><br>Words: erythema, , , , ",
          "<b>Topic 0</b><br>Words: prostatitis, , , , ",
          "<b>Topic 0</b><br>Words: tympanosclerosis, , , , ",
          "<b>Topic 0</b><br>Words: coma, , , , ",
          "<b>Topic 0</b><br>Words: antepartum, , , , ",
          "<b>Topic 0</b><br>Words: psychiatric disorder, , , , ",
          "<b>Topic 0</b><br>Words: antepartum, , , , ",
          "<b>Topic 0</b><br>Words: mycotic, , , , ",
          "<b>Topic 0</b><br>Words: paratyphoid, , , , ",
          "<b>Topic 0</b><br>Words: emetics, , , , ",
          "<b>Topic 0</b><br>Words: ovulation, , , , ",
          "<b>Topic 0</b><br>Words: poliomyelitis, , , , ",
          "<b>Topic 0</b><br>Words: aircraft, , , , ",
          "<b>Topic 0</b><br>Words: fallopian tube, , , , ",
          "<b>Topic 0</b><br>Words: antepartum, , , , ",
          "<b>Topic 0</b><br>Words: peptic ulcer, , , , ",
          "<b>Topic 0</b><br>Words: astigmatism, , , , ",
          "<b>Topic 0</b><br>Words: antapartum, , , , ",
          "<b>Topic 0</b><br>Words: rosacea, , , , ",
          "<b>Topic 0</b><br>Words: diabetes, , , , ",
          "<b>Topic 0</b><br>Words: myelitis, , , , ",
          "<b>Topic 0</b><br>Words: abscess, , , , ",
          "<b>Topic 0</b><br>Words: abscess, , , , ",
          "<b>Topic 0</b><br>Words: ovulation, , , , ",
          "<b>Topic 0</b><br>Words: leishmaniasis, , , , ",
          "<b>Topic 0</b><br>Words: conflagration, , , , ",
          "<b>Topic 0</b><br>Words: heroin poisoning, , , , ",
          "<b>Topic 0</b><br>Words: antepartum, , , , ",
          "<b>Topic 0</b><br>Words: antepartum, , , , ",
          "<b>Topic 0</b><br>Words: drug dependency, , , , ",
          "<b>Topic 0</b><br>Words: hemorrhage, , , , ",
          "<b>Topic 0</b><br>Words: atrioventricular block, , , , ",
          "<b>Topic 0</b><br>Words: antepartum, , , , ",
          "<b>Topic 0</b><br>Words: polypoid, , , , ",
          "<b>Topic 0</b><br>Words: antepartum, , , , ",
          "<b>Topic 0</b><br>Words: abortion, , , , ",
          "<b>Topic 0</b><br>Words: kennedy syndrome, , , , ",
          "<b>Topic 0</b><br>Words: antepartum, , , , ",
          "<b>Topic 0</b><br>Words: leishmaniasis, , , , ",
          "<b>Topic 0</b><br>Words: bone marrow transplant, , , , ",
          "<b>Topic 0</b><br>Words: aortic valve, , , , ",
          "<b>Topic 0</b><br>Words: antepartum dislocation, , , , ",
          "<b>Topic 0</b><br>Words: aortic stenosis, , , , ",
          "<b>Topic 0</b><br>Words: embolism, , , , ",
          "<b>Topic 0</b><br>Words: antepartum, , , , ",
          "<b>Topic 0</b><br>Words: breast cancer, , , , ",
          "<b>Topic 0</b><br>Words: pregnancy, , , , ",
          "<b>Topic 0</b><br>Words: abortion, , , , ",
          "<b>Topic 0</b><br>Words: gastroduodenitis, , , , ",
          "<b>Topic 0</b><br>Words: salivary gland, , , , ",
          "<b>Topic 0</b><br>Words: ureter, , , , ",
          "<b>Topic 0</b><br>Words: drug, , , , ",
          "<b>Topic 0</b><br>Words: diving, , , , ",
          "<b>Topic 0</b><br>Words: antepartum, , , , ",
          "<b>Topic 0</b><br>Words: aortocoronary bypass, , , , ",
          "<b>Topic 0</b><br>Words: coli, , , , ",
          "<b>Topic 0</b><br>Words: antacid, , , , ",
          "<b>Topic 0</b><br>Words: antepartum, , , , ",
          "<b>Topic 0</b><br>Words: osteochondrosis, , , , ",
          "<b>Topic 0</b><br>Words: ultrasound, , , , ",
          "<b>Topic 0</b><br>Words: nipple, , , , ",
          "<b>Topic 0</b><br>Words: antepartum burn, , , , ",
          "<b>Topic 0</b><br>Words: dystrophy, , , , ",
          "<b>Topic 0</b><br>Words: ecmo, , , , ",
          "<b>Topic 0</b><br>Words: antepartum, , , , ",
          "<b>Topic 0</b><br>Words: antepartum, , , , ",
          "<b>Topic 0</b><br>Words: fractured bone, , , , ",
          "<b>Topic 0</b><br>Words: cyst, , , , ",
          "<b>Topic 0</b><br>Words: occlusion, , , , ",
          "<b>Topic 0</b><br>Words: fracture, , , , ",
          "<b>Topic 0</b><br>Words: fetal anomalies, , , , ",
          "<b>Topic 0</b><br>Words: fracture, , , , ",
          "<b>Topic 0</b><br>Words: ocular detachment, , , , ",
          "<b>Topic 0</b><br>Words: dysreflexia, , , , ",
          "<b>Topic 0</b><br>Words: vascular lesions, , , , "
         ],
         "marker": {
          "color": "#E69F00"
         },
         "mode": "lines",
         "name": "0_antepartum___",
         "type": "scatter",
         "x": [
          "2021-01-01T00:00:00",
          "2021-01-02T00:00:00",
          "2021-01-03T00:00:00",
          "2021-01-07T00:00:00",
          "2021-01-08T00:00:00",
          "2021-01-11T00:00:00",
          "2021-01-16T00:00:00",
          "2021-01-17T00:00:00",
          "2021-01-18T00:00:00",
          "2021-01-19T00:00:00",
          "2021-01-25T00:00:00",
          "2021-01-27T00:00:00",
          "2021-01-28T00:00:00",
          "2021-01-29T00:00:00",
          "2021-02-01T00:00:00",
          "2021-02-02T00:00:00",
          "2021-02-10T00:00:00",
          "2021-02-11T00:00:00",
          "2021-02-13T00:00:00",
          "2021-02-18T00:00:00",
          "2021-02-19T00:00:00",
          "2021-02-20T00:00:00",
          "2021-02-21T00:00:00",
          "2021-02-22T00:00:00",
          "2021-02-24T00:00:00",
          "2021-02-25T00:00:00",
          "2021-03-01T00:00:00",
          "2021-03-02T00:00:00",
          "2021-03-03T00:00:00",
          "2021-03-04T00:00:00",
          "2021-03-05T00:00:00",
          "2021-03-06T00:00:00",
          "2021-03-07T00:00:00",
          "2021-03-12T00:00:00",
          "2021-03-14T00:00:00",
          "2021-03-15T00:00:00",
          "2021-03-17T00:00:00",
          "2021-03-18T00:00:00",
          "2021-03-21T00:00:00",
          "2021-03-23T00:00:00",
          "2021-03-24T00:00:00",
          "2021-03-26T00:00:00",
          "2021-03-27T00:00:00",
          "2021-03-28T00:00:00",
          "2021-03-29T00:00:00",
          "2021-03-30T00:00:00",
          "2021-03-31T00:00:00",
          "2021-04-03T00:00:00",
          "2021-04-06T00:00:00",
          "2021-04-07T00:00:00",
          "2021-04-09T00:00:00",
          "2021-04-11T00:00:00",
          "2021-04-12T00:00:00",
          "2021-04-13T00:00:00",
          "2021-04-17T00:00:00",
          "2021-04-18T00:00:00",
          "2021-04-19T00:00:00",
          "2021-04-20T00:00:00",
          "2021-04-22T00:00:00",
          "2021-04-23T00:00:00",
          "2021-04-24T00:00:00",
          "2021-04-25T00:00:00",
          "2021-04-26T00:00:00",
          "2021-04-28T00:00:00",
          "2021-04-30T00:00:00",
          "2021-05-03T00:00:00",
          "2021-05-06T00:00:00",
          "2021-05-07T00:00:00",
          "2021-05-08T00:00:00",
          "2021-05-10T00:00:00",
          "2021-05-12T00:00:00",
          "2021-05-13T00:00:00",
          "2021-05-16T00:00:00",
          "2021-05-17T00:00:00",
          "2021-05-19T00:00:00",
          "2021-05-20T00:00:00",
          "2021-05-21T00:00:00",
          "2021-05-22T00:00:00",
          "2021-05-29T00:00:00",
          "2021-05-30T00:00:00",
          "2021-06-01T00:00:00",
          "2021-06-04T00:00:00",
          "2021-06-06T00:00:00",
          "2021-06-07T00:00:00",
          "2021-06-09T00:00:00",
          "2021-06-11T00:00:00",
          "2021-06-12T00:00:00",
          "2021-06-13T00:00:00",
          "2021-06-14T00:00:00",
          "2021-06-15T00:00:00",
          "2021-06-16T00:00:00",
          "2021-06-17T00:00:00",
          "2021-06-19T00:00:00",
          "2021-06-23T00:00:00",
          "2021-06-26T00:00:00",
          "2021-07-03T00:00:00",
          "2021-07-06T00:00:00",
          "2021-07-07T00:00:00",
          "2021-07-08T00:00:00",
          "2021-07-09T00:00:00",
          "2021-07-12T00:00:00",
          "2021-07-14T00:00:00",
          "2021-07-15T00:00:00",
          "2021-07-18T00:00:00",
          "2021-07-19T00:00:00",
          "2021-07-20T00:00:00",
          "2021-07-21T00:00:00",
          "2021-07-23T00:00:00",
          "2021-07-25T00:00:00",
          "2021-07-26T00:00:00",
          "2021-07-29T00:00:00",
          "2021-07-30T00:00:00",
          "2021-08-01T00:00:00",
          "2021-08-02T00:00:00",
          "2021-08-03T00:00:00",
          "2021-08-04T00:00:00",
          "2021-08-07T00:00:00",
          "2021-08-08T00:00:00",
          "2021-08-10T00:00:00",
          "2021-08-11T00:00:00",
          "2021-08-12T00:00:00",
          "2021-08-13T00:00:00",
          "2021-08-16T00:00:00",
          "2021-08-18T00:00:00",
          "2021-08-19T00:00:00",
          "2021-08-22T00:00:00",
          "2021-08-28T00:00:00",
          "2021-08-31T00:00:00",
          "2021-09-01T00:00:00",
          "2021-09-02T00:00:00",
          "2021-09-05T00:00:00",
          "2021-09-09T00:00:00",
          "2021-09-11T00:00:00",
          "2021-09-13T00:00:00",
          "2021-09-15T00:00:00",
          "2021-09-19T00:00:00",
          "2021-09-20T00:00:00",
          "2021-09-21T00:00:00",
          "2021-09-22T00:00:00",
          "2021-09-23T00:00:00",
          "2021-09-25T00:00:00",
          "2021-09-27T00:00:00",
          "2021-09-28T00:00:00",
          "2021-09-29T00:00:00",
          "2021-09-30T00:00:00",
          "2021-10-01T00:00:00",
          "2021-10-03T00:00:00",
          "2021-10-05T00:00:00",
          "2021-10-06T00:00:00",
          "2021-10-07T00:00:00",
          "2021-10-08T00:00:00",
          "2021-10-09T00:00:00",
          "2021-10-12T00:00:00",
          "2021-10-13T00:00:00",
          "2021-10-20T00:00:00",
          "2021-10-21T00:00:00",
          "2021-10-22T00:00:00",
          "2021-10-23T00:00:00",
          "2021-10-24T00:00:00",
          "2021-10-26T00:00:00",
          "2021-10-27T00:00:00",
          "2021-10-28T00:00:00",
          "2021-10-29T00:00:00",
          "2021-10-30T00:00:00",
          "2021-10-31T00:00:00",
          "2021-11-02T00:00:00",
          "2021-11-04T00:00:00",
          "2021-11-06T00:00:00",
          "2021-11-07T00:00:00",
          "2021-11-10T00:00:00",
          "2021-11-11T00:00:00",
          "2021-11-13T00:00:00",
          "2021-11-15T00:00:00",
          "2021-11-16T00:00:00",
          "2021-11-17T00:00:00",
          "2021-11-18T00:00:00",
          "2021-11-19T00:00:00",
          "2021-11-22T00:00:00",
          "2021-11-23T00:00:00",
          "2021-11-24T00:00:00",
          "2021-11-29T00:00:00",
          "2021-11-30T00:00:00",
          "2021-12-01T00:00:00",
          "2021-12-03T00:00:00",
          "2021-12-05T00:00:00",
          "2021-12-06T00:00:00",
          "2021-12-09T00:00:00",
          "2021-12-10T00:00:00",
          "2021-12-11T00:00:00",
          "2021-12-14T00:00:00",
          "2021-12-17T00:00:00",
          "2021-12-18T00:00:00",
          "2021-12-20T00:00:00",
          "2021-12-22T00:00:00",
          "2021-12-24T00:00:00",
          "2021-12-25T00:00:00",
          "2021-12-27T00:00:00",
          "2022-01-02T00:00:00",
          "2022-01-03T00:00:00",
          "2022-01-06T00:00:00",
          "2022-01-07T00:00:00",
          "2022-01-08T00:00:00",
          "2022-01-10T00:00:00",
          "2022-01-11T00:00:00",
          "2022-01-12T00:00:00",
          "2022-01-14T00:00:00",
          "2022-01-16T00:00:00",
          "2022-01-17T00:00:00",
          "2022-01-19T00:00:00",
          "2022-01-20T00:00:00",
          "2022-01-24T00:00:00",
          "2022-01-25T00:00:00",
          "2022-01-26T00:00:00",
          "2022-01-27T00:00:00",
          "2022-01-28T00:00:00",
          "2022-01-29T00:00:00",
          "2022-01-31T00:00:00",
          "2022-02-02T00:00:00",
          "2022-02-03T00:00:00",
          "2022-02-05T00:00:00",
          "2022-02-06T00:00:00",
          "2022-02-08T00:00:00",
          "2022-02-09T00:00:00",
          "2022-02-10T00:00:00",
          "2022-02-14T00:00:00",
          "2022-02-15T00:00:00",
          "2022-02-17T00:00:00",
          "2022-02-19T00:00:00",
          "2022-02-20T00:00:00",
          "2022-02-24T00:00:00",
          "2022-02-25T00:00:00",
          "2022-03-01T00:00:00",
          "2022-03-04T00:00:00",
          "2022-03-06T00:00:00",
          "2022-03-07T00:00:00",
          "2022-03-09T00:00:00",
          "2022-03-10T00:00:00",
          "2022-03-11T00:00:00",
          "2022-03-16T00:00:00",
          "2022-03-17T00:00:00",
          "2022-03-19T00:00:00",
          "2022-03-20T00:00:00",
          "2022-03-22T00:00:00",
          "2022-03-23T00:00:00",
          "2022-03-25T00:00:00",
          "2022-03-27T00:00:00",
          "2022-03-28T00:00:00",
          "2022-03-29T00:00:00",
          "2022-03-30T00:00:00",
          "2022-04-03T00:00:00",
          "2022-04-05T00:00:00",
          "2022-04-07T00:00:00",
          "2022-04-09T00:00:00",
          "2022-04-10T00:00:00",
          "2022-04-12T00:00:00",
          "2022-04-17T00:00:00",
          "2022-04-21T00:00:00",
          "2022-04-22T00:00:00",
          "2022-04-23T00:00:00",
          "2022-04-24T00:00:00",
          "2022-04-25T00:00:00",
          "2022-04-26T00:00:00",
          "2022-04-27T00:00:00",
          "2022-04-29T00:00:00",
          "2022-05-02T00:00:00",
          "2022-05-03T00:00:00",
          "2022-05-04T00:00:00",
          "2022-05-05T00:00:00",
          "2022-05-10T00:00:00",
          "2022-05-11T00:00:00",
          "2022-05-13T00:00:00",
          "2022-05-15T00:00:00",
          "2022-05-16T00:00:00",
          "2022-05-20T00:00:00",
          "2022-05-24T00:00:00",
          "2022-05-26T00:00:00",
          "2022-05-27T00:00:00",
          "2022-05-30T00:00:00",
          "2022-05-31T00:00:00",
          "2022-06-01T00:00:00",
          "2022-06-02T00:00:00",
          "2022-06-05T00:00:00",
          "2022-06-08T00:00:00",
          "2022-06-11T00:00:00",
          "2022-06-13T00:00:00",
          "2022-06-14T00:00:00",
          "2022-06-15T00:00:00",
          "2022-06-18T00:00:00",
          "2022-06-19T00:00:00",
          "2022-06-22T00:00:00",
          "2022-06-24T00:00:00",
          "2022-06-26T00:00:00",
          "2022-06-27T00:00:00",
          "2022-06-29T00:00:00",
          "2022-06-30T00:00:00",
          "2022-07-03T00:00:00",
          "2022-07-04T00:00:00",
          "2022-07-05T00:00:00",
          "2022-07-06T00:00:00",
          "2022-07-07T00:00:00",
          "2022-07-12T00:00:00",
          "2022-07-14T00:00:00",
          "2022-07-16T00:00:00",
          "2022-07-21T00:00:00",
          "2022-07-23T00:00:00",
          "2022-07-25T00:00:00",
          "2022-07-26T00:00:00",
          "2022-07-27T00:00:00",
          "2022-07-28T00:00:00",
          "2022-07-31T00:00:00",
          "2022-08-01T00:00:00",
          "2022-08-03T00:00:00",
          "2022-08-04T00:00:00",
          "2022-08-06T00:00:00",
          "2022-08-08T00:00:00",
          "2022-08-10T00:00:00",
          "2022-08-11T00:00:00",
          "2022-08-13T00:00:00",
          "2022-08-15T00:00:00",
          "2022-08-18T00:00:00",
          "2022-08-20T00:00:00",
          "2022-08-23T00:00:00",
          "2022-08-24T00:00:00",
          "2022-08-25T00:00:00",
          "2022-08-31T00:00:00",
          "2022-09-03T00:00:00",
          "2022-09-04T00:00:00",
          "2022-09-07T00:00:00",
          "2022-09-08T00:00:00",
          "2022-09-10T00:00:00",
          "2022-09-11T00:00:00",
          "2022-09-15T00:00:00",
          "2022-09-16T00:00:00",
          "2022-09-17T00:00:00",
          "2022-09-20T00:00:00",
          "2022-09-22T00:00:00",
          "2022-09-23T00:00:00",
          "2022-09-24T00:00:00",
          "2022-09-25T00:00:00",
          "2022-09-28T00:00:00",
          "2022-09-29T00:00:00",
          "2022-09-30T00:00:00",
          "2022-10-01T00:00:00",
          "2022-10-02T00:00:00",
          "2022-10-04T00:00:00",
          "2022-10-06T00:00:00",
          "2022-10-09T00:00:00",
          "2022-10-11T00:00:00",
          "2022-10-13T00:00:00",
          "2022-10-15T00:00:00",
          "2022-10-18T00:00:00",
          "2022-10-19T00:00:00",
          "2022-10-20T00:00:00",
          "2022-10-23T00:00:00",
          "2022-10-25T00:00:00",
          "2022-10-26T00:00:00",
          "2022-10-27T00:00:00",
          "2022-11-01T00:00:00",
          "2022-11-02T00:00:00",
          "2022-11-03T00:00:00",
          "2022-11-05T00:00:00",
          "2022-11-06T00:00:00",
          "2022-11-07T00:00:00",
          "2022-11-09T00:00:00",
          "2022-11-11T00:00:00",
          "2022-11-14T00:00:00",
          "2022-11-15T00:00:00",
          "2022-11-16T00:00:00",
          "2022-11-18T00:00:00",
          "2022-11-20T00:00:00",
          "2022-11-22T00:00:00",
          "2022-11-23T00:00:00",
          "2022-11-25T00:00:00",
          "2022-11-27T00:00:00",
          "2022-11-28T00:00:00",
          "2022-11-29T00:00:00",
          "2022-12-01T00:00:00",
          "2022-12-03T00:00:00",
          "2022-12-04T00:00:00",
          "2022-12-06T00:00:00",
          "2022-12-07T00:00:00",
          "2022-12-09T00:00:00",
          "2022-12-10T00:00:00",
          "2022-12-12T00:00:00",
          "2022-12-13T00:00:00",
          "2022-12-14T00:00:00",
          "2022-12-17T00:00:00",
          "2022-12-19T00:00:00",
          "2022-12-21T00:00:00",
          "2022-12-22T00:00:00",
          "2022-12-24T00:00:00",
          "2022-12-29T00:00:00",
          "2022-12-30T00:00:00",
          "2023-01-09T00:00:00",
          "2023-01-10T00:00:00",
          "2023-01-12T00:00:00",
          "2023-01-14T00:00:00",
          "2023-01-16T00:00:00",
          "2023-01-18T00:00:00",
          "2023-01-19T00:00:00",
          "2023-01-20T00:00:00",
          "2023-01-22T00:00:00",
          "2023-01-24T00:00:00",
          "2023-01-25T00:00:00",
          "2023-01-28T00:00:00",
          "2023-01-30T00:00:00",
          "2023-01-31T00:00:00",
          "2023-02-01T00:00:00",
          "2023-02-02T00:00:00",
          "2023-02-04T00:00:00",
          "2023-02-07T00:00:00",
          "2023-02-08T00:00:00",
          "2023-02-10T00:00:00",
          "2023-02-12T00:00:00",
          "2023-02-13T00:00:00",
          "2023-02-16T00:00:00",
          "2023-02-18T00:00:00",
          "2023-02-20T00:00:00",
          "2023-02-23T00:00:00",
          "2023-02-25T00:00:00",
          "2023-02-26T00:00:00",
          "2023-03-02T00:00:00",
          "2023-03-03T00:00:00",
          "2023-03-05T00:00:00",
          "2023-03-07T00:00:00",
          "2023-03-08T00:00:00",
          "2023-03-10T00:00:00",
          "2023-03-11T00:00:00",
          "2023-03-13T00:00:00",
          "2023-03-14T00:00:00",
          "2023-03-17T00:00:00",
          "2023-03-18T00:00:00",
          "2023-03-19T00:00:00",
          "2023-03-20T00:00:00",
          "2023-03-22T00:00:00",
          "2023-03-25T00:00:00",
          "2023-03-29T00:00:00",
          "2023-03-30T00:00:00",
          "2023-03-31T00:00:00",
          "2023-04-02T00:00:00",
          "2023-04-03T00:00:00",
          "2023-04-04T00:00:00",
          "2023-04-07T00:00:00",
          "2023-04-08T00:00:00",
          "2023-04-09T00:00:00",
          "2023-04-10T00:00:00",
          "2023-04-12T00:00:00",
          "2023-04-16T00:00:00",
          "2023-04-18T00:00:00",
          "2023-04-19T00:00:00",
          "2023-04-22T00:00:00",
          "2023-04-25T00:00:00",
          "2023-04-26T00:00:00",
          "2023-04-28T00:00:00",
          "2023-04-30T00:00:00",
          "2023-05-01T00:00:00",
          "2023-05-02T00:00:00",
          "2023-05-03T00:00:00",
          "2023-05-04T00:00:00",
          "2023-05-05T00:00:00",
          "2023-05-08T00:00:00",
          "2023-05-09T00:00:00",
          "2023-05-10T00:00:00",
          "2023-05-12T00:00:00",
          "2023-05-13T00:00:00",
          "2023-05-14T00:00:00",
          "2023-05-17T00:00:00",
          "2023-05-18T00:00:00",
          "2023-05-19T00:00:00",
          "2023-05-20T00:00:00",
          "2023-05-22T00:00:00",
          "2023-05-25T00:00:00",
          "2023-05-27T00:00:00",
          "2023-05-28T00:00:00",
          "2023-05-29T00:00:00",
          "2023-05-30T00:00:00",
          "2023-06-05T00:00:00",
          "2023-06-08T00:00:00",
          "2023-06-11T00:00:00",
          "2023-06-17T00:00:00",
          "2023-06-18T00:00:00",
          "2023-06-19T00:00:00",
          "2023-06-20T00:00:00",
          "2023-06-22T00:00:00",
          "2023-06-25T00:00:00",
          "2023-06-28T00:00:00",
          "2023-06-29T00:00:00",
          "2023-07-02T00:00:00",
          "2023-07-05T00:00:00",
          "2023-07-06T00:00:00",
          "2023-07-07T00:00:00",
          "2023-07-08T00:00:00",
          "2023-07-10T00:00:00",
          "2023-07-12T00:00:00",
          "2023-07-13T00:00:00",
          "2023-07-14T00:00:00",
          "2023-07-15T00:00:00",
          "2023-07-18T00:00:00",
          "2023-07-19T00:00:00",
          "2023-07-20T00:00:00",
          "2023-07-21T00:00:00",
          "2023-07-22T00:00:00",
          "2023-07-24T00:00:00",
          "2023-07-25T00:00:00",
          "2023-07-27T00:00:00",
          "2023-07-29T00:00:00",
          "2023-07-30T00:00:00",
          "2023-07-31T00:00:00",
          "2023-08-02T00:00:00",
          "2023-08-03T00:00:00",
          "2023-08-06T00:00:00",
          "2023-08-08T00:00:00",
          "2023-08-09T00:00:00",
          "2023-08-10T00:00:00",
          "2023-08-11T00:00:00",
          "2023-08-12T00:00:00",
          "2023-08-15T00:00:00",
          "2023-08-16T00:00:00",
          "2023-08-18T00:00:00",
          "2023-08-21T00:00:00",
          "2023-08-22T00:00:00",
          "2023-08-26T00:00:00",
          "2023-08-31T00:00:00",
          "2023-09-01T00:00:00",
          "2023-09-04T00:00:00",
          "2023-09-05T00:00:00",
          "2023-09-06T00:00:00",
          "2023-09-08T00:00:00",
          "2023-09-09T00:00:00",
          "2023-09-10T00:00:00",
          "2023-09-11T00:00:00",
          "2023-09-12T00:00:00",
          "2023-09-13T00:00:00",
          "2023-09-16T00:00:00",
          "2023-09-18T00:00:00",
          "2023-09-20T00:00:00",
          "2023-09-21T00:00:00",
          "2023-09-22T00:00:00",
          "2023-09-23T00:00:00",
          "2023-10-01T00:00:00",
          "2023-10-02T00:00:00",
          "2023-10-03T00:00:00",
          "2023-10-04T00:00:00",
          "2023-10-05T00:00:00",
          "2023-10-07T00:00:00",
          "2023-10-09T00:00:00",
          "2023-10-11T00:00:00",
          "2023-10-12T00:00:00",
          "2023-10-13T00:00:00",
          "2023-10-15T00:00:00",
          "2023-10-16T00:00:00",
          "2023-10-18T00:00:00",
          "2023-10-19T00:00:00",
          "2023-10-28T00:00:00",
          "2023-10-29T00:00:00",
          "2023-10-31T00:00:00",
          "2023-11-01T00:00:00",
          "2023-11-06T00:00:00",
          "2023-11-07T00:00:00",
          "2023-11-08T00:00:00",
          "2023-11-09T00:00:00",
          "2023-11-10T00:00:00",
          "2023-11-11T00:00:00",
          "2023-11-12T00:00:00",
          "2023-11-13T00:00:00",
          "2023-11-14T00:00:00",
          "2023-11-20T00:00:00",
          "2023-11-21T00:00:00",
          "2023-11-22T00:00:00",
          "2023-11-23T00:00:00",
          "2023-11-25T00:00:00",
          "2023-11-27T00:00:00",
          "2023-11-28T00:00:00",
          "2023-11-29T00:00:00",
          "2023-11-30T00:00:00",
          "2023-12-03T00:00:00",
          "2023-12-04T00:00:00",
          "2023-12-05T00:00:00",
          "2023-12-06T00:00:00",
          "2023-12-07T00:00:00",
          "2023-12-08T00:00:00",
          "2023-12-10T00:00:00",
          "2023-12-12T00:00:00",
          "2023-12-15T00:00:00",
          "2023-12-17T00:00:00",
          "2023-12-18T00:00:00",
          "2023-12-20T00:00:00",
          "2023-12-21T00:00:00",
          "2023-12-22T00:00:00",
          "2023-12-23T00:00:00",
          "2023-12-25T00:00:00",
          "2023-12-27T00:00:00",
          "2023-12-29T00:00:00",
          "2023-12-31T00:00:00"
         ],
         "y": [
          3,
          1,
          1,
          1,
          1,
          1,
          1,
          2,
          2,
          2,
          1,
          1,
          1,
          1,
          3,
          2,
          1,
          1,
          1,
          1,
          1,
          1,
          2,
          1,
          2,
          2,
          3,
          2,
          1,
          1,
          1,
          3,
          2,
          1,
          1,
          2,
          1,
          3,
          1,
          1,
          1,
          1,
          1,
          1,
          2,
          1,
          1,
          1,
          2,
          3,
          1,
          1,
          1,
          2,
          2,
          1,
          1,
          1,
          1,
          1,
          2,
          2,
          3,
          1,
          2,
          1,
          3,
          1,
          1,
          1,
          1,
          5,
          2,
          1,
          2,
          1,
          1,
          3,
          2,
          1,
          1,
          1,
          1,
          1,
          2,
          1,
          1,
          1,
          1,
          1,
          1,
          1,
          2,
          1,
          2,
          2,
          1,
          1,
          2,
          1,
          1,
          3,
          1,
          1,
          1,
          4,
          2,
          1,
          1,
          1,
          2,
          1,
          1,
          1,
          2,
          1,
          1,
          2,
          2,
          1,
          1,
          1,
          1,
          1,
          1,
          1,
          1,
          2,
          1,
          1,
          1,
          1,
          1,
          1,
          2,
          1,
          3,
          1,
          1,
          2,
          1,
          2,
          2,
          2,
          1,
          2,
          1,
          5,
          1,
          1,
          2,
          1,
          2,
          1,
          1,
          1,
          2,
          1,
          1,
          1,
          1,
          3,
          1,
          1,
          1,
          3,
          1,
          1,
          1,
          1,
          1,
          1,
          1,
          1,
          2,
          1,
          1,
          1,
          1,
          2,
          4,
          2,
          1,
          1,
          2,
          1,
          1,
          2,
          1,
          1,
          1,
          1,
          1,
          1,
          3,
          1,
          1,
          1,
          2,
          1,
          2,
          2,
          1,
          1,
          1,
          1,
          1,
          1,
          1,
          1,
          1,
          1,
          2,
          1,
          1,
          1,
          1,
          1,
          1,
          1,
          1,
          2,
          2,
          1,
          2,
          2,
          1,
          1,
          1,
          3,
          3,
          1,
          2,
          1,
          1,
          2,
          1,
          1,
          1,
          2,
          1,
          1,
          2,
          1,
          3,
          1,
          1,
          1,
          2,
          2,
          1,
          1,
          3,
          2,
          2,
          1,
          1,
          2,
          2,
          2,
          1,
          1,
          1,
          3,
          1,
          1,
          1,
          1,
          1,
          1,
          1,
          2,
          1,
          2,
          1,
          2,
          2,
          1,
          2,
          1,
          1,
          1,
          1,
          3,
          2,
          1,
          1,
          1,
          2,
          1,
          1,
          2,
          1,
          1,
          1,
          2,
          2,
          1,
          2,
          2,
          1,
          3,
          3,
          1,
          1,
          1,
          1,
          1,
          1,
          1,
          1,
          2,
          1,
          3,
          2,
          1,
          1,
          1,
          1,
          2,
          2,
          3,
          1,
          1,
          1,
          2,
          2,
          1,
          1,
          1,
          1,
          1,
          2,
          1,
          3,
          2,
          1,
          1,
          2,
          1,
          2,
          1,
          2,
          1,
          1,
          1,
          3,
          1,
          2,
          1,
          2,
          2,
          1,
          1,
          1,
          1,
          4,
          1,
          2,
          1,
          2,
          1,
          1,
          1,
          1,
          1,
          1,
          1,
          1,
          1,
          1,
          1,
          1,
          3,
          1,
          2,
          2,
          1,
          2,
          1,
          1,
          2,
          1,
          1,
          1,
          2,
          1,
          1,
          1,
          1,
          2,
          2,
          1,
          1,
          1,
          1,
          3,
          3,
          2,
          1,
          2,
          1,
          2,
          1,
          1,
          2,
          1,
          3,
          1,
          1,
          2,
          2,
          1,
          2,
          2,
          1,
          3,
          1,
          2,
          1,
          2,
          1,
          1,
          1,
          1,
          1,
          1,
          1,
          1,
          1,
          1,
          1,
          3,
          1,
          3,
          1,
          2,
          2,
          1,
          2,
          1,
          1,
          1,
          1,
          1,
          1,
          2,
          1,
          1,
          2,
          2,
          1,
          2,
          2,
          1,
          1,
          1,
          1,
          1,
          1,
          1,
          2,
          2,
          1,
          1,
          1,
          1,
          2,
          1,
          1,
          1,
          2,
          2,
          2,
          4,
          2,
          1,
          1,
          1,
          2,
          2,
          2,
          1,
          1,
          1,
          1,
          1,
          2,
          3,
          3,
          1,
          1,
          1,
          1,
          1,
          1,
          2,
          2,
          2,
          2,
          1,
          1,
          1,
          3,
          2,
          2,
          1,
          1,
          1,
          1,
          3,
          2,
          1,
          1,
          1,
          1,
          1,
          1,
          1,
          1,
          1,
          1,
          2,
          2,
          1,
          1,
          1,
          1,
          1,
          2,
          2,
          1,
          1,
          1,
          2,
          1,
          2,
          1,
          2,
          2,
          1,
          1,
          2,
          1,
          1,
          1,
          1,
          1,
          1,
          2,
          1,
          1,
          1,
          1,
          1,
          2,
          1,
          1,
          1,
          1,
          1,
          1,
          1,
          1,
          2,
          2,
          1,
          1,
          1,
          1,
          1,
          1,
          1,
          1,
          1,
          1,
          2,
          1,
          1,
          1,
          2,
          1,
          1,
          1,
          1,
          1,
          1,
          2,
          1,
          1,
          1,
          1,
          1,
          1
         ]
        },
        {
         "hoverinfo": "text",
         "hovertext": [
          "<b>Topic 1</b><br>Words: leukemia, , , , ",
          "<b>Topic 1</b><br>Words: leukemia, , , , ",
          "<b>Topic 1</b><br>Words: leukemia, , , , ",
          "<b>Topic 1</b><br>Words: lymphoproliferative disorder, , , , ",
          "<b>Topic 1</b><br>Words: leukemia, , , , ",
          "<b>Topic 1</b><br>Words: leukemia, , , , ",
          "<b>Topic 1</b><br>Words: leukemia, , , , ",
          "<b>Topic 1</b><br>Words: leukemia, , , , ",
          "<b>Topic 1</b><br>Words: leukemia, , , , ",
          "<b>Topic 1</b><br>Words: leukemia, , , , ",
          "<b>Topic 1</b><br>Words: ear, , , , ",
          "<b>Topic 1</b><br>Words: sarcoma, , , , ",
          "<b>Topic 1</b><br>Words: leukemia, , , , ",
          "<b>Topic 1</b><br>Words: leukemia, , , , ",
          "<b>Topic 1</b><br>Words: carcinoma, , , , ",
          "<b>Topic 1</b><br>Words: neoplasm, , , , ",
          "<b>Topic 1</b><br>Words: leukemia, , , , ",
          "<b>Topic 1</b><br>Words: leukemia, , , , ",
          "<b>Topic 1</b><br>Words: leukemia, , , , ",
          "<b>Topic 1</b><br>Words: leukemia, , , , ",
          "<b>Topic 1</b><br>Words: leukemia, , , , ",
          "<b>Topic 1</b><br>Words: leukemia, , , , ",
          "<b>Topic 1</b><br>Words: leukemia, , , , ",
          "<b>Topic 1</b><br>Words: leukemia, , , , ",
          "<b>Topic 1</b><br>Words: leukemia, , , , ",
          "<b>Topic 1</b><br>Words: tuberculosis, , , , ",
          "<b>Topic 1</b><br>Words: leukemia, , , , ",
          "<b>Topic 1</b><br>Words: leukemia, , , , ",
          "<b>Topic 1</b><br>Words: leukemia, , , , ",
          "<b>Topic 1</b><br>Words: leukemia, , , , ",
          "<b>Topic 1</b><br>Words: leukemia, , , , ",
          "<b>Topic 1</b><br>Words: leukemia, , , , ",
          "<b>Topic 1</b><br>Words: lymphoma, , , , ",
          "<b>Topic 1</b><br>Words: lymphosarcoma, , , , ",
          "<b>Topic 1</b><br>Words: reticuloendotheliosis, , , , ",
          "<b>Topic 1</b><br>Words: carcinoma, , , , ",
          "<b>Topic 1</b><br>Words: biliary carcinoma, , , , ",
          "<b>Topic 1</b><br>Words: leukemia, , , , ",
          "<b>Topic 1</b><br>Words: leukemia, , , , ",
          "<b>Topic 1</b><br>Words: leukemia, , , , ",
          "<b>Topic 1</b><br>Words: lymphoma, , , , ",
          "<b>Topic 1</b><br>Words: leukemia, , , , ",
          "<b>Topic 1</b><br>Words: leukemia, , , , ",
          "<b>Topic 1</b><br>Words: leukemia, , , , ",
          "<b>Topic 1</b><br>Words: leukemia, , , , ",
          "<b>Topic 1</b><br>Words: leukemia, , , , ",
          "<b>Topic 1</b><br>Words: coccyx, , , , ",
          "<b>Topic 1</b><br>Words: leukemia, , , , ",
          "<b>Topic 1</b><br>Words: leukemia, , , , ",
          "<b>Topic 1</b><br>Words: lymphoid, , , , ",
          "<b>Topic 1</b><br>Words: neoplasm, , , , ",
          "<b>Topic 1</b><br>Words: leukemia, , , , ",
          "<b>Topic 1</b><br>Words: carcinoma, , , , ",
          "<b>Topic 1</b><br>Words: leukemia, , , , ",
          "<b>Topic 1</b><br>Words: leukemia, , , , ",
          "<b>Topic 1</b><br>Words: bladder cancer, , , , ",
          "<b>Topic 1</b><br>Words: carcinoma, , , , ",
          "<b>Topic 1</b><br>Words: leukemia, , , , ",
          "<b>Topic 1</b><br>Words: tuberculosis, , , , ",
          "<b>Topic 1</b><br>Words: leukemia, , , , ",
          "<b>Topic 1</b><br>Words: leukemia, , , , ",
          "<b>Topic 1</b><br>Words: tuberculosis, , , , ",
          "<b>Topic 1</b><br>Words: lymphosarcoma, , , , ",
          "<b>Topic 1</b><br>Words: papnicolaou, , , , ",
          "<b>Topic 1</b><br>Words: leukemia, , , , ",
          "<b>Topic 1</b><br>Words: leukemia, , , , ",
          "<b>Topic 1</b><br>Words: leukemia, , , , ",
          "<b>Topic 1</b><br>Words: leukemia, , , , ",
          "<b>Topic 1</b><br>Words: lymphoid, , , , ",
          "<b>Topic 1</b><br>Words: leukemia, , , , ",
          "<b>Topic 1</b><br>Words: leukemia, , , , ",
          "<b>Topic 1</b><br>Words: ear, , , , ",
          "<b>Topic 1</b><br>Words: leukemia, , , , ",
          "<b>Topic 1</b><br>Words: leukemia, , , , ",
          "<b>Topic 1</b><br>Words: tuberculosis, , , , ",
          "<b>Topic 1</b><br>Words: tumor, , , , ",
          "<b>Topic 1</b><br>Words: leukemia, , , , ",
          "<b>Topic 1</b><br>Words: leukemia, , , , ",
          "<b>Topic 1</b><br>Words: pulmonary fibrosis, , , , ",
          "<b>Topic 1</b><br>Words: leukemia, , , , ",
          "<b>Topic 1</b><br>Words: asc, , , , ",
          "<b>Topic 1</b><br>Words: leukemia, , , , ",
          "<b>Topic 1</b><br>Words: leukemia, , , , ",
          "<b>Topic 1</b><br>Words: leukemia, , , , ",
          "<b>Topic 1</b><br>Words: leukemia, , , , ",
          "<b>Topic 1</b><br>Words: leukemia, , , , ",
          "<b>Topic 1</b><br>Words: lymphoma, , , , ",
          "<b>Topic 1</b><br>Words: neoplasm, , , , ",
          "<b>Topic 1</b><br>Words: leukemia, , , , ",
          "<b>Topic 1</b><br>Words: leukemia, , , , ",
          "<b>Topic 1</b><br>Words: neoplasm, , , , ",
          "<b>Topic 1</b><br>Words: tuberculosis, , , , ",
          "<b>Topic 1</b><br>Words: thoracic lobe, , , , "
         ],
         "marker": {
          "color": "#56B4E9"
         },
         "mode": "lines",
         "name": "1_leukemia___",
         "type": "scatter",
         "x": [
          "2021-01-01T00:00:00",
          "2021-01-03T00:00:00",
          "2021-01-07T00:00:00",
          "2021-01-10T00:00:00",
          "2021-01-28T00:00:00",
          "2021-02-10T00:00:00",
          "2021-03-18T00:00:00",
          "2021-04-10T00:00:00",
          "2021-04-25T00:00:00",
          "2021-04-29T00:00:00",
          "2021-05-15T00:00:00",
          "2021-05-30T00:00:00",
          "2021-06-05T00:00:00",
          "2021-06-16T00:00:00",
          "2021-06-26T00:00:00",
          "2021-06-28T00:00:00",
          "2021-07-07T00:00:00",
          "2021-08-04T00:00:00",
          "2021-08-15T00:00:00",
          "2021-08-21T00:00:00",
          "2021-08-22T00:00:00",
          "2021-10-27T00:00:00",
          "2021-10-31T00:00:00",
          "2021-11-05T00:00:00",
          "2021-11-08T00:00:00",
          "2021-12-07T00:00:00",
          "2021-12-09T00:00:00",
          "2021-12-20T00:00:00",
          "2022-01-02T00:00:00",
          "2022-01-11T00:00:00",
          "2022-01-16T00:00:00",
          "2022-01-18T00:00:00",
          "2022-01-20T00:00:00",
          "2022-01-26T00:00:00",
          "2022-01-27T00:00:00",
          "2022-02-01T00:00:00",
          "2022-02-03T00:00:00",
          "2022-02-20T00:00:00",
          "2022-02-21T00:00:00",
          "2022-04-26T00:00:00",
          "2022-04-29T00:00:00",
          "2022-05-04T00:00:00",
          "2022-05-29T00:00:00",
          "2022-06-15T00:00:00",
          "2022-07-03T00:00:00",
          "2022-07-15T00:00:00",
          "2022-07-16T00:00:00",
          "2022-08-02T00:00:00",
          "2022-08-04T00:00:00",
          "2022-08-08T00:00:00",
          "2022-08-13T00:00:00",
          "2022-08-27T00:00:00",
          "2022-09-05T00:00:00",
          "2022-09-22T00:00:00",
          "2022-09-30T00:00:00",
          "2022-10-08T00:00:00",
          "2022-10-10T00:00:00",
          "2022-10-11T00:00:00",
          "2022-10-13T00:00:00",
          "2022-10-14T00:00:00",
          "2022-10-16T00:00:00",
          "2022-10-17T00:00:00",
          "2022-10-28T00:00:00",
          "2022-11-22T00:00:00",
          "2022-11-26T00:00:00",
          "2022-12-01T00:00:00",
          "2022-12-08T00:00:00",
          "2022-12-13T00:00:00",
          "2022-12-19T00:00:00",
          "2022-12-21T00:00:00",
          "2022-12-26T00:00:00",
          "2022-12-27T00:00:00",
          "2023-01-01T00:00:00",
          "2023-02-06T00:00:00",
          "2023-02-13T00:00:00",
          "2023-02-18T00:00:00",
          "2023-03-03T00:00:00",
          "2023-03-09T00:00:00",
          "2023-03-26T00:00:00",
          "2023-04-01T00:00:00",
          "2023-05-28T00:00:00",
          "2023-06-02T00:00:00",
          "2023-06-15T00:00:00",
          "2023-07-11T00:00:00",
          "2023-07-23T00:00:00",
          "2023-08-20T00:00:00",
          "2023-09-04T00:00:00",
          "2023-09-12T00:00:00",
          "2023-10-19T00:00:00",
          "2023-10-25T00:00:00",
          "2023-12-06T00:00:00",
          "2023-12-07T00:00:00",
          "2023-12-22T00:00:00"
         ],
         "y": [
          1,
          1,
          1,
          1,
          1,
          1,
          1,
          1,
          1,
          1,
          1,
          2,
          1,
          1,
          1,
          1,
          1,
          1,
          1,
          1,
          1,
          1,
          1,
          1,
          1,
          1,
          1,
          1,
          1,
          1,
          1,
          1,
          1,
          1,
          1,
          1,
          1,
          1,
          1,
          1,
          1,
          1,
          1,
          1,
          1,
          1,
          1,
          1,
          1,
          1,
          1,
          1,
          2,
          1,
          1,
          1,
          1,
          1,
          1,
          1,
          1,
          1,
          1,
          1,
          1,
          1,
          1,
          1,
          1,
          1,
          1,
          1,
          1,
          1,
          1,
          1,
          1,
          1,
          1,
          1,
          1,
          1,
          1,
          1,
          1,
          1,
          1,
          1,
          1,
          1,
          1,
          1,
          1
         ]
        },
        {
         "hoverinfo": "text",
         "hovertext": [
          "<b>Topic 2</b><br>Words: fractured skull, , , , ",
          "<b>Topic 2</b><br>Words: concussion, , , , ",
          "<b>Topic 2</b><br>Words: concussion, , , , ",
          "<b>Topic 2</b><br>Words: face fracture, , , , ",
          "<b>Topic 2</b><br>Words: hemorrhage, , , , ",
          "<b>Topic 2</b><br>Words: face, , , , ",
          "<b>Topic 2</b><br>Words: concussion, , , , ",
          "<b>Topic 2</b><br>Words: hemorrhage, , , , ",
          "<b>Topic 2</b><br>Words: traumatic brain injury, , , , ",
          "<b>Topic 2</b><br>Words: fracture, , , , ",
          "<b>Topic 2</b><br>Words: face fracture, , , , ",
          "<b>Topic 2</b><br>Words: hemorrhage, , , , ",
          "<b>Topic 2</b><br>Words: fractured skull, , , , ",
          "<b>Topic 2</b><br>Words: a skull fracture, , , , ",
          "<b>Topic 2</b><br>Words: amputation, , , , ",
          "<b>Topic 2</b><br>Words: laceration, , , , ",
          "<b>Topic 2</b><br>Words: fracture, , , , ",
          "<b>Topic 2</b><br>Words: hemorrhage, , , , ",
          "<b>Topic 2</b><br>Words: concussion, , , , ",
          "<b>Topic 2</b><br>Words: laceration, , , , ",
          "<b>Topic 2</b><br>Words: concussion, , , , ",
          "<b>Topic 2</b><br>Words: concussion, , , , ",
          "<b>Topic 2</b><br>Words: concussion, , , , ",
          "<b>Topic 2</b><br>Words: face, , , , ",
          "<b>Topic 2</b><br>Words: a skull fracture, , , , ",
          "<b>Topic 2</b><br>Words: skull, , , , ",
          "<b>Topic 2</b><br>Words: fractured skull, , , , ",
          "<b>Topic 2</b><br>Words: concussion, , , , ",
          "<b>Topic 2</b><br>Words: fractures, , , , ",
          "<b>Topic 2</b><br>Words: concussion, , , , ",
          "<b>Topic 2</b><br>Words: fractured skull, , , , ",
          "<b>Topic 2</b><br>Words: concussion, , , , ",
          "<b>Topic 2</b><br>Words: skull, , , , ",
          "<b>Topic 2</b><br>Words: hemorrhage, , , , ",
          "<b>Topic 2</b><br>Words: concussion, , , , ",
          "<b>Topic 2</b><br>Words: concussion, , , , ",
          "<b>Topic 2</b><br>Words: concussion, , , , ",
          "<b>Topic 2</b><br>Words: fractured skull, , , , "
         ],
         "marker": {
          "color": "#009E73"
         },
         "mode": "lines",
         "name": "2_concussion___",
         "type": "scatter",
         "x": [
          "2021-01-28T00:00:00",
          "2021-03-10T00:00:00",
          "2021-03-30T00:00:00",
          "2021-07-29T00:00:00",
          "2021-08-17T00:00:00",
          "2021-08-26T00:00:00",
          "2021-08-30T00:00:00",
          "2021-10-20T00:00:00",
          "2021-10-28T00:00:00",
          "2021-11-18T00:00:00",
          "2021-12-02T00:00:00",
          "2022-02-27T00:00:00",
          "2022-03-01T00:00:00",
          "2022-03-11T00:00:00",
          "2022-04-19T00:00:00",
          "2022-05-15T00:00:00",
          "2022-07-22T00:00:00",
          "2022-07-28T00:00:00",
          "2022-08-10T00:00:00",
          "2022-08-15T00:00:00",
          "2022-08-29T00:00:00",
          "2022-09-11T00:00:00",
          "2022-09-26T00:00:00",
          "2022-10-17T00:00:00",
          "2022-10-27T00:00:00",
          "2022-11-19T00:00:00",
          "2022-12-17T00:00:00",
          "2022-12-21T00:00:00",
          "2022-12-24T00:00:00",
          "2023-01-17T00:00:00",
          "2023-01-24T00:00:00",
          "2023-03-02T00:00:00",
          "2023-03-17T00:00:00",
          "2023-06-07T00:00:00",
          "2023-08-07T00:00:00",
          "2023-09-05T00:00:00",
          "2023-12-03T00:00:00",
          "2023-12-11T00:00:00"
         ],
         "y": [
          1,
          1,
          1,
          1,
          1,
          1,
          1,
          1,
          1,
          1,
          2,
          1,
          1,
          1,
          1,
          1,
          1,
          1,
          1,
          2,
          1,
          1,
          1,
          1,
          1,
          2,
          1,
          1,
          1,
          2,
          1,
          1,
          1,
          1,
          1,
          1,
          1,
          1
         ]
        },
        {
         "hoverinfo": "text",
         "hovertext": [
          "<b>Topic 3</b><br>Words: tuberculosis, , , , ",
          "<b>Topic 3</b><br>Words: tuberculosis, , , , ",
          "<b>Topic 3</b><br>Words: tuberculosis, , , , ",
          "<b>Topic 3</b><br>Words: tuberculosis, , , , ",
          "<b>Topic 3</b><br>Words: tuberculosis, , , , ",
          "<b>Topic 3</b><br>Words: tuberculosis, , , , ",
          "<b>Topic 3</b><br>Words: tuberculosis, , , , ",
          "<b>Topic 3</b><br>Words: tuberculosis, , , , ",
          "<b>Topic 3</b><br>Words: tuberculosis, , , , ",
          "<b>Topic 3</b><br>Words: tuberculosis, , , , ",
          "<b>Topic 3</b><br>Words: tuberculosis, , , , ",
          "<b>Topic 3</b><br>Words: tuberculosis, , , , ",
          "<b>Topic 3</b><br>Words: tuberculosis, , , , ",
          "<b>Topic 3</b><br>Words: tuberculosis, , , , ",
          "<b>Topic 3</b><br>Words: tuberculosis, , , , ",
          "<b>Topic 3</b><br>Words: tuberculosis, , , , ",
          "<b>Topic 3</b><br>Words: tuberculosis, , , , ",
          "<b>Topic 3</b><br>Words: tuberculosis, , , , ",
          "<b>Topic 3</b><br>Words: tuberculosis, , , , ",
          "<b>Topic 3</b><br>Words: tuberculosis, , , , ",
          "<b>Topic 3</b><br>Words: tuberculosis, , , , ",
          "<b>Topic 3</b><br>Words: tuberculosis, , , , "
         ],
         "marker": {
          "color": "#F0E442"
         },
         "mode": "lines",
         "name": "3_tuberculosis___",
         "type": "scatter",
         "x": [
          "2021-01-31T00:00:00",
          "2021-02-13T00:00:00",
          "2021-03-08T00:00:00",
          "2021-03-10T00:00:00",
          "2021-05-07T00:00:00",
          "2021-06-25T00:00:00",
          "2021-06-30T00:00:00",
          "2022-01-09T00:00:00",
          "2022-07-26T00:00:00",
          "2022-08-12T00:00:00",
          "2022-09-20T00:00:00",
          "2022-09-24T00:00:00",
          "2022-12-12T00:00:00",
          "2023-01-03T00:00:00",
          "2023-02-03T00:00:00",
          "2023-02-26T00:00:00",
          "2023-04-06T00:00:00",
          "2023-04-07T00:00:00",
          "2023-06-02T00:00:00",
          "2023-08-19T00:00:00",
          "2023-12-18T00:00:00",
          "2023-12-22T00:00:00"
         ],
         "y": [
          1,
          1,
          1,
          1,
          1,
          1,
          1,
          1,
          1,
          1,
          1,
          1,
          1,
          1,
          1,
          1,
          1,
          1,
          1,
          1,
          1,
          1
         ]
        }
       ],
       "layout": {
        "height": 450,
        "hoverlabel": {
         "bgcolor": "white",
         "font": {
          "family": "Rockwell",
          "size": 16
         }
        },
        "legend": {
         "title": {
          "text": "<b>Global Topic Representation"
         }
        },
        "template": {
         "data": {
          "bar": [
           {
            "error_x": {
             "color": "rgb(36,36,36)"
            },
            "error_y": {
             "color": "rgb(36,36,36)"
            },
            "marker": {
             "line": {
              "color": "white",
              "width": 0.5
             },
             "pattern": {
              "fillmode": "overlay",
              "size": 10,
              "solidity": 0.2
             }
            },
            "type": "bar"
           }
          ],
          "barpolar": [
           {
            "marker": {
             "line": {
              "color": "white",
              "width": 0.5
             },
             "pattern": {
              "fillmode": "overlay",
              "size": 10,
              "solidity": 0.2
             }
            },
            "type": "barpolar"
           }
          ],
          "carpet": [
           {
            "aaxis": {
             "endlinecolor": "rgb(36,36,36)",
             "gridcolor": "white",
             "linecolor": "white",
             "minorgridcolor": "white",
             "startlinecolor": "rgb(36,36,36)"
            },
            "baxis": {
             "endlinecolor": "rgb(36,36,36)",
             "gridcolor": "white",
             "linecolor": "white",
             "minorgridcolor": "white",
             "startlinecolor": "rgb(36,36,36)"
            },
            "type": "carpet"
           }
          ],
          "choropleth": [
           {
            "colorbar": {
             "outlinewidth": 1,
             "tickcolor": "rgb(36,36,36)",
             "ticks": "outside"
            },
            "type": "choropleth"
           }
          ],
          "contour": [
           {
            "colorbar": {
             "outlinewidth": 1,
             "tickcolor": "rgb(36,36,36)",
             "ticks": "outside"
            },
            "colorscale": [
             [
              0,
              "#440154"
             ],
             [
              0.1111111111111111,
              "#482878"
             ],
             [
              0.2222222222222222,
              "#3e4989"
             ],
             [
              0.3333333333333333,
              "#31688e"
             ],
             [
              0.4444444444444444,
              "#26828e"
             ],
             [
              0.5555555555555556,
              "#1f9e89"
             ],
             [
              0.6666666666666666,
              "#35b779"
             ],
             [
              0.7777777777777778,
              "#6ece58"
             ],
             [
              0.8888888888888888,
              "#b5de2b"
             ],
             [
              1,
              "#fde725"
             ]
            ],
            "type": "contour"
           }
          ],
          "contourcarpet": [
           {
            "colorbar": {
             "outlinewidth": 1,
             "tickcolor": "rgb(36,36,36)",
             "ticks": "outside"
            },
            "type": "contourcarpet"
           }
          ],
          "heatmap": [
           {
            "colorbar": {
             "outlinewidth": 1,
             "tickcolor": "rgb(36,36,36)",
             "ticks": "outside"
            },
            "colorscale": [
             [
              0,
              "#440154"
             ],
             [
              0.1111111111111111,
              "#482878"
             ],
             [
              0.2222222222222222,
              "#3e4989"
             ],
             [
              0.3333333333333333,
              "#31688e"
             ],
             [
              0.4444444444444444,
              "#26828e"
             ],
             [
              0.5555555555555556,
              "#1f9e89"
             ],
             [
              0.6666666666666666,
              "#35b779"
             ],
             [
              0.7777777777777778,
              "#6ece58"
             ],
             [
              0.8888888888888888,
              "#b5de2b"
             ],
             [
              1,
              "#fde725"
             ]
            ],
            "type": "heatmap"
           }
          ],
          "heatmapgl": [
           {
            "colorbar": {
             "outlinewidth": 1,
             "tickcolor": "rgb(36,36,36)",
             "ticks": "outside"
            },
            "colorscale": [
             [
              0,
              "#440154"
             ],
             [
              0.1111111111111111,
              "#482878"
             ],
             [
              0.2222222222222222,
              "#3e4989"
             ],
             [
              0.3333333333333333,
              "#31688e"
             ],
             [
              0.4444444444444444,
              "#26828e"
             ],
             [
              0.5555555555555556,
              "#1f9e89"
             ],
             [
              0.6666666666666666,
              "#35b779"
             ],
             [
              0.7777777777777778,
              "#6ece58"
             ],
             [
              0.8888888888888888,
              "#b5de2b"
             ],
             [
              1,
              "#fde725"
             ]
            ],
            "type": "heatmapgl"
           }
          ],
          "histogram": [
           {
            "marker": {
             "line": {
              "color": "white",
              "width": 0.6
             }
            },
            "type": "histogram"
           }
          ],
          "histogram2d": [
           {
            "colorbar": {
             "outlinewidth": 1,
             "tickcolor": "rgb(36,36,36)",
             "ticks": "outside"
            },
            "colorscale": [
             [
              0,
              "#440154"
             ],
             [
              0.1111111111111111,
              "#482878"
             ],
             [
              0.2222222222222222,
              "#3e4989"
             ],
             [
              0.3333333333333333,
              "#31688e"
             ],
             [
              0.4444444444444444,
              "#26828e"
             ],
             [
              0.5555555555555556,
              "#1f9e89"
             ],
             [
              0.6666666666666666,
              "#35b779"
             ],
             [
              0.7777777777777778,
              "#6ece58"
             ],
             [
              0.8888888888888888,
              "#b5de2b"
             ],
             [
              1,
              "#fde725"
             ]
            ],
            "type": "histogram2d"
           }
          ],
          "histogram2dcontour": [
           {
            "colorbar": {
             "outlinewidth": 1,
             "tickcolor": "rgb(36,36,36)",
             "ticks": "outside"
            },
            "colorscale": [
             [
              0,
              "#440154"
             ],
             [
              0.1111111111111111,
              "#482878"
             ],
             [
              0.2222222222222222,
              "#3e4989"
             ],
             [
              0.3333333333333333,
              "#31688e"
             ],
             [
              0.4444444444444444,
              "#26828e"
             ],
             [
              0.5555555555555556,
              "#1f9e89"
             ],
             [
              0.6666666666666666,
              "#35b779"
             ],
             [
              0.7777777777777778,
              "#6ece58"
             ],
             [
              0.8888888888888888,
              "#b5de2b"
             ],
             [
              1,
              "#fde725"
             ]
            ],
            "type": "histogram2dcontour"
           }
          ],
          "mesh3d": [
           {
            "colorbar": {
             "outlinewidth": 1,
             "tickcolor": "rgb(36,36,36)",
             "ticks": "outside"
            },
            "type": "mesh3d"
           }
          ],
          "parcoords": [
           {
            "line": {
             "colorbar": {
              "outlinewidth": 1,
              "tickcolor": "rgb(36,36,36)",
              "ticks": "outside"
             }
            },
            "type": "parcoords"
           }
          ],
          "pie": [
           {
            "automargin": true,
            "type": "pie"
           }
          ],
          "scatter": [
           {
            "fillpattern": {
             "fillmode": "overlay",
             "size": 10,
             "solidity": 0.2
            },
            "type": "scatter"
           }
          ],
          "scatter3d": [
           {
            "line": {
             "colorbar": {
              "outlinewidth": 1,
              "tickcolor": "rgb(36,36,36)",
              "ticks": "outside"
             }
            },
            "marker": {
             "colorbar": {
              "outlinewidth": 1,
              "tickcolor": "rgb(36,36,36)",
              "ticks": "outside"
             }
            },
            "type": "scatter3d"
           }
          ],
          "scattercarpet": [
           {
            "marker": {
             "colorbar": {
              "outlinewidth": 1,
              "tickcolor": "rgb(36,36,36)",
              "ticks": "outside"
             }
            },
            "type": "scattercarpet"
           }
          ],
          "scattergeo": [
           {
            "marker": {
             "colorbar": {
              "outlinewidth": 1,
              "tickcolor": "rgb(36,36,36)",
              "ticks": "outside"
             }
            },
            "type": "scattergeo"
           }
          ],
          "scattergl": [
           {
            "marker": {
             "colorbar": {
              "outlinewidth": 1,
              "tickcolor": "rgb(36,36,36)",
              "ticks": "outside"
             }
            },
            "type": "scattergl"
           }
          ],
          "scattermapbox": [
           {
            "marker": {
             "colorbar": {
              "outlinewidth": 1,
              "tickcolor": "rgb(36,36,36)",
              "ticks": "outside"
             }
            },
            "type": "scattermapbox"
           }
          ],
          "scatterpolar": [
           {
            "marker": {
             "colorbar": {
              "outlinewidth": 1,
              "tickcolor": "rgb(36,36,36)",
              "ticks": "outside"
             }
            },
            "type": "scatterpolar"
           }
          ],
          "scatterpolargl": [
           {
            "marker": {
             "colorbar": {
              "outlinewidth": 1,
              "tickcolor": "rgb(36,36,36)",
              "ticks": "outside"
             }
            },
            "type": "scatterpolargl"
           }
          ],
          "scatterternary": [
           {
            "marker": {
             "colorbar": {
              "outlinewidth": 1,
              "tickcolor": "rgb(36,36,36)",
              "ticks": "outside"
             }
            },
            "type": "scatterternary"
           }
          ],
          "surface": [
           {
            "colorbar": {
             "outlinewidth": 1,
             "tickcolor": "rgb(36,36,36)",
             "ticks": "outside"
            },
            "colorscale": [
             [
              0,
              "#440154"
             ],
             [
              0.1111111111111111,
              "#482878"
             ],
             [
              0.2222222222222222,
              "#3e4989"
             ],
             [
              0.3333333333333333,
              "#31688e"
             ],
             [
              0.4444444444444444,
              "#26828e"
             ],
             [
              0.5555555555555556,
              "#1f9e89"
             ],
             [
              0.6666666666666666,
              "#35b779"
             ],
             [
              0.7777777777777778,
              "#6ece58"
             ],
             [
              0.8888888888888888,
              "#b5de2b"
             ],
             [
              1,
              "#fde725"
             ]
            ],
            "type": "surface"
           }
          ],
          "table": [
           {
            "cells": {
             "fill": {
              "color": "rgb(237,237,237)"
             },
             "line": {
              "color": "white"
             }
            },
            "header": {
             "fill": {
              "color": "rgb(217,217,217)"
             },
             "line": {
              "color": "white"
             }
            },
            "type": "table"
           }
          ]
         },
         "layout": {
          "annotationdefaults": {
           "arrowhead": 0,
           "arrowwidth": 1
          },
          "autotypenumbers": "strict",
          "coloraxis": {
           "colorbar": {
            "outlinewidth": 1,
            "tickcolor": "rgb(36,36,36)",
            "ticks": "outside"
           }
          },
          "colorscale": {
           "diverging": [
            [
             0,
             "rgb(103,0,31)"
            ],
            [
             0.1,
             "rgb(178,24,43)"
            ],
            [
             0.2,
             "rgb(214,96,77)"
            ],
            [
             0.3,
             "rgb(244,165,130)"
            ],
            [
             0.4,
             "rgb(253,219,199)"
            ],
            [
             0.5,
             "rgb(247,247,247)"
            ],
            [
             0.6,
             "rgb(209,229,240)"
            ],
            [
             0.7,
             "rgb(146,197,222)"
            ],
            [
             0.8,
             "rgb(67,147,195)"
            ],
            [
             0.9,
             "rgb(33,102,172)"
            ],
            [
             1,
             "rgb(5,48,97)"
            ]
           ],
           "sequential": [
            [
             0,
             "#440154"
            ],
            [
             0.1111111111111111,
             "#482878"
            ],
            [
             0.2222222222222222,
             "#3e4989"
            ],
            [
             0.3333333333333333,
             "#31688e"
            ],
            [
             0.4444444444444444,
             "#26828e"
            ],
            [
             0.5555555555555556,
             "#1f9e89"
            ],
            [
             0.6666666666666666,
             "#35b779"
            ],
            [
             0.7777777777777778,
             "#6ece58"
            ],
            [
             0.8888888888888888,
             "#b5de2b"
            ],
            [
             1,
             "#fde725"
            ]
           ],
           "sequentialminus": [
            [
             0,
             "#440154"
            ],
            [
             0.1111111111111111,
             "#482878"
            ],
            [
             0.2222222222222222,
             "#3e4989"
            ],
            [
             0.3333333333333333,
             "#31688e"
            ],
            [
             0.4444444444444444,
             "#26828e"
            ],
            [
             0.5555555555555556,
             "#1f9e89"
            ],
            [
             0.6666666666666666,
             "#35b779"
            ],
            [
             0.7777777777777778,
             "#6ece58"
            ],
            [
             0.8888888888888888,
             "#b5de2b"
            ],
            [
             1,
             "#fde725"
            ]
           ]
          },
          "colorway": [
           "#1F77B4",
           "#FF7F0E",
           "#2CA02C",
           "#D62728",
           "#9467BD",
           "#8C564B",
           "#E377C2",
           "#7F7F7F",
           "#BCBD22",
           "#17BECF"
          ],
          "font": {
           "color": "rgb(36,36,36)"
          },
          "geo": {
           "bgcolor": "white",
           "lakecolor": "white",
           "landcolor": "white",
           "showlakes": true,
           "showland": true,
           "subunitcolor": "white"
          },
          "hoverlabel": {
           "align": "left"
          },
          "hovermode": "closest",
          "mapbox": {
           "style": "light"
          },
          "paper_bgcolor": "white",
          "plot_bgcolor": "white",
          "polar": {
           "angularaxis": {
            "gridcolor": "rgb(232,232,232)",
            "linecolor": "rgb(36,36,36)",
            "showgrid": false,
            "showline": true,
            "ticks": "outside"
           },
           "bgcolor": "white",
           "radialaxis": {
            "gridcolor": "rgb(232,232,232)",
            "linecolor": "rgb(36,36,36)",
            "showgrid": false,
            "showline": true,
            "ticks": "outside"
           }
          },
          "scene": {
           "xaxis": {
            "backgroundcolor": "white",
            "gridcolor": "rgb(232,232,232)",
            "gridwidth": 2,
            "linecolor": "rgb(36,36,36)",
            "showbackground": true,
            "showgrid": false,
            "showline": true,
            "ticks": "outside",
            "zeroline": false,
            "zerolinecolor": "rgb(36,36,36)"
           },
           "yaxis": {
            "backgroundcolor": "white",
            "gridcolor": "rgb(232,232,232)",
            "gridwidth": 2,
            "linecolor": "rgb(36,36,36)",
            "showbackground": true,
            "showgrid": false,
            "showline": true,
            "ticks": "outside",
            "zeroline": false,
            "zerolinecolor": "rgb(36,36,36)"
           },
           "zaxis": {
            "backgroundcolor": "white",
            "gridcolor": "rgb(232,232,232)",
            "gridwidth": 2,
            "linecolor": "rgb(36,36,36)",
            "showbackground": true,
            "showgrid": false,
            "showline": true,
            "ticks": "outside",
            "zeroline": false,
            "zerolinecolor": "rgb(36,36,36)"
           }
          },
          "shapedefaults": {
           "fillcolor": "black",
           "line": {
            "width": 0
           },
           "opacity": 0.3
          },
          "ternary": {
           "aaxis": {
            "gridcolor": "rgb(232,232,232)",
            "linecolor": "rgb(36,36,36)",
            "showgrid": false,
            "showline": true,
            "ticks": "outside"
           },
           "baxis": {
            "gridcolor": "rgb(232,232,232)",
            "linecolor": "rgb(36,36,36)",
            "showgrid": false,
            "showline": true,
            "ticks": "outside"
           },
           "bgcolor": "white",
           "caxis": {
            "gridcolor": "rgb(232,232,232)",
            "linecolor": "rgb(36,36,36)",
            "showgrid": false,
            "showline": true,
            "ticks": "outside"
           }
          },
          "title": {
           "x": 0.05
          },
          "xaxis": {
           "automargin": true,
           "gridcolor": "rgb(232,232,232)",
           "linecolor": "rgb(36,36,36)",
           "showgrid": false,
           "showline": true,
           "ticks": "outside",
           "title": {
            "standoff": 15
           },
           "zeroline": false,
           "zerolinecolor": "rgb(36,36,36)"
          },
          "yaxis": {
           "automargin": true,
           "gridcolor": "rgb(232,232,232)",
           "linecolor": "rgb(36,36,36)",
           "showgrid": false,
           "showline": true,
           "ticks": "outside",
           "title": {
            "standoff": 15
           },
           "zeroline": false,
           "zerolinecolor": "rgb(36,36,36)"
          }
         }
        },
        "title": {
         "font": {
          "color": "Black",
          "size": 22
         },
         "text": "<b>Topics over Time</b>",
         "x": 0.4,
         "xanchor": "center",
         "y": 0.95,
         "yanchor": "top"
        },
        "width": 1250,
        "xaxis": {
         "showgrid": true
        },
        "yaxis": {
         "showgrid": true,
         "title": {
          "text": "Frequency"
         }
        }
       }
      }
     },
     "metadata": {},
     "output_type": "display_data"
    }
   ],
   "source": [
    "# visualize\n",
    "topic_model.visualize_topics_over_time(topics_over_time)"
   ]
  },
  {
   "cell_type": "code",
   "execution_count": null,
   "metadata": {},
   "outputs": [],
   "source": []
  }
 ],
 "metadata": {
  "kernelspec": {
   "display_name": ".venv",
   "language": "python",
   "name": "python3"
  },
  "language_info": {
   "codemirror_mode": {
    "name": "ipython",
    "version": 3
   },
   "file_extension": ".py",
   "mimetype": "text/x-python",
   "name": "python",
   "nbconvert_exporter": "python",
   "pygments_lexer": "ipython3",
   "version": "3.10.15"
  }
 },
 "nbformat": 4,
 "nbformat_minor": 2
}
